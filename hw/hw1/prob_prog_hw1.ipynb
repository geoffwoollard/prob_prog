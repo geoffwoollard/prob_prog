{
  "nbformat": 4,
  "nbformat_minor": 0,
  "metadata": {
    "colab": {
      "name": "prob_prog_hw1.ipynb",
      "provenance": [],
      "collapsed_sections": [],
      "toc_visible": true,
      "authorship_tag": "ABX9TyPU1K8bDQzsnUZqLKVuV2zP",
      "include_colab_link": true
    },
    "kernelspec": {
      "display_name": "Python 3",
      "name": "python3"
    },
    "language_info": {
      "name": "python"
    }
  },
  "cells": [
    {
      "cell_type": "markdown",
      "metadata": {
        "id": "view-in-github",
        "colab_type": "text"
      },
      "source": [
        "<a href=\"https://colab.research.google.com/github/geoffwoollard/prob_prog/blob/main/hw/hw1/prob_prog_hw1.ipynb\" target=\"_parent\"><img src=\"https://colab.research.google.com/assets/colab-badge.svg\" alt=\"Open In Colab\"/></a>"
      ]
    },
    {
      "cell_type": "markdown",
      "metadata": {
        "id": "kHvLzFS64kvr"
      },
      "source": [
        "# Probabilistic Programming\n",
        "\n",
        "# Homework 1\n",
        "* https://www.cs.ubc.ca/~fwood/CS532W-539W/homework/1.html"
      ]
    },
    {
      "cell_type": "markdown",
      "metadata": {
        "id": "HoHdLW7h4xTj"
      },
      "source": [
        "# Question 1"
      ]
    },
    {
      "cell_type": "markdown",
      "metadata": {
        "id": "ELvOXmFw43lO"
      },
      "source": [
        "**Show that the Gamma distribution is conjugate to the Poisson distribution.**"
      ]
    },
    {
      "cell_type": "markdown",
      "metadata": {
        "id": "TjKy4u_i49j1"
      },
      "source": [
        "The Gamma distribution is over parameter $x \\in (0, \\infty)$ and the Poisson distribution is over $k \\in [0,1,2,...]$ with parameter $\\lambda \\in (0, \\infty)$. Thus it makes sense to treat Gamma as a prior $p(\\lambda)$ over $\\lambda=x$ and Poisson as the likelihood $p(k|\\lambda)$. In this case the questions is asking for us to show that the posterior $p(k|\\lambda)$.\n",
        "\n",
        "$$\n",
        "\\lambda \\sim Gamma[\\alpha,\\beta] \\\\\n",
        "p(\\lambda ) = \\frac{\\beta^\\alpha}{\\Gamma(\\alpha)}\\lambda^{\\alpha-1}\\exp[-\\beta\\lambda]\n",
        "$$\n",
        "\n",
        "$$\n",
        "k|\\lambda \\sim Poisson[\\lambda] \\\\\n",
        "p(k|\\lambda) = \\frac{\\lambda^k\\exp^{-\\lambda}}{k!}\n",
        "$$\n",
        "\n",
        "We can already see a hint of the conjugacy through the $\\lambda$ to some power, and $\\lambda$ in $\\exp$.\n",
        "\n",
        "Let's apply Bayes rule.\n",
        "\n",
        "$$\n",
        "p(\\lambda|k) = \\frac{p(k|\\lambda)p(\\lambda )}{p(k)}\n",
        "$$\n",
        "\n",
        "Conjugacy is shown by the posterior being Gamma distributed: $\\lambda \\sim Gamma[\\alpha^\\prime,\\beta^\\prime]$. \n",
        "\n",
        "Gamma and Poisson have normalization constants, and the evidence $p(k)$ is unknown (but doesn't depend on $\\lambda$ because it's been marginzlized out). However, because the posterior is a distribution over $\\lambda$, we can drop all multilicative constants over $k,\\alpha,\\beta$. If we can show that the posterior has the unnormalized form of the Gamma distribution with some new parameters $\\alpha^\\prime$ and $\\beta^\\prime$, which are constant in \\lambda, but can contain $k,\\alpha,\\beta$, then we can use the known form for the normalization constant.\n",
        "\n",
        "$$\n",
        "p(\\lambda|k) \\propto \n",
        "\\big[ \\lambda^{\\alpha-1}\\exp[-\\beta\\lambda] \\big]\n",
        "\\big[ \\lambda^k\\exp^{-\\lambda} \\big]\n",
        "= \\lambda^{(\\alpha+k)-1}\\exp[-(\\beta+1)\\lambda]\n",
        "$$\n",
        "\n",
        "Thus we see that the Poisson likelihood of $k|\\lambda)$ has Gamma as a conjugate prior for $\\lambda|\\alpha,\\beta$, because the Posterior is Gamma distributed with the new parameters $\\alpha^\\prime = k + \\alpha$ and $\\beta^\\prime = \\beta + 1$.\n",
        "\n",
        "$$\n",
        "\\lambda \\sim Gamma[\\alpha^\\prime,\\beta^\\prime] \\\\\n",
        "p(\\lambda ) = \\frac{{\\beta^\\prime}^\\alpha}{\\Gamma(\\alpha^\\prime)}\\lambda^{\\alpha^\\prime-1}\\exp[-\\beta^\\prime\\lambda]\n",
        "$$"
      ]
    },
    {
      "cell_type": "markdown",
      "metadata": {
        "id": "XI1A2EoW0n85"
      },
      "source": [
        "# Question 2\n",
        "**Show that the Gibbs transition operator satisfies the detailed balance equation and as such can be interpreted as an MH transition operator that always accepts.**"
      ]
    },
    {
      "cell_type": "markdown",
      "metadata": {
        "id": "b51Q5dQ_0wdg"
      },
      "source": [
        "Let's first clarify what the questions is asking for. In Gibbs there is \n",
        "  * the individual update of a component, based on the conditional for that component with the others frozen at what they are\n",
        "  * the update of all the components after all the components have been updated.\n",
        "\n",
        "So this questions can be taken in a two senses, and I will answer it as follows.\n",
        "\n",
        "I will first show that each Gibbs updtae of the one component \"satisfies details balance and as such can be interpreted as an MH transition operator that always accepts\". Then I will consider what statements we can make on the update of the whole vector (all the components). There's an important subelty there, but the nuances can get quite academic, and I leave off with some important links that further clarify the issue (which I did read and can proudly say I understand).\n",
        "\n",
        "First, let's consider updating one component of a vector, as we do in Gibbs, and define some notation (following Detailed balance for Gibbs sampling in http://www.gatsby.ucl.ac.uk/teaching/courses/ml1-2015/lect12-handout.pdf). \n",
        "  * $T[x,x^*]$ is the transition from vector $x = (x_1,...,x_i,...x_n)$ to $x^* = (x_1,...,x_i^*,...x_n)$, where the ith component of x has been chosen.\n",
        "  * $\\pi_i$ refers to the probability of choosing to update component i. If we randomly chose a components, this would be constant. I'm not sure how to write this down for if we cycled throgh in some fixed order.\n",
        "  * $p(x_i^*|x_{-i})$ is the conditional probability of updating the component $x_i$ to $x_i^*$ given $x_{-i})$, which is the states of all the components of $x$, but without the ith component.\n",
        "\n",
        "$$\n",
        "T[x,x^*] = \\pi_ip(x_i^*|x_{-i})\n",
        "$$\n",
        "\n",
        "Detailed balance for a step in Gibbs is defined as, where $p(x)$ is the probability of being in state $x$.\n",
        "$$\n",
        "T[x^*,x]p(x^*) = T[x,x^*]p(x)\n",
        "$$\n",
        "\n",
        "The key step to show detailed balance (in one Gibbs step) is to note that only the ith component changes, and so $x_{-i} = x^*_{-i}$. Then we can just condition write $p(x)$ and $p(x^*)$ to condition on this, respectively, and note they are equal.\n",
        "$$\n",
        "T[x,x^*]p(x) \\\\\n",
        "= \n",
        "\\big[\\pi_ip(x_i^*|x_{-i})\\big]\n",
        "\\big[p(x_i|x_{-i})p(x_{-i}) \\big]\n",
        "\\\\\n",
        "= \n",
        "\\big[\\pi_ip(x_i|x{^*}_{-i})\\big]\n",
        "\\big[p(x_i|x^*_{-i})p(x^*_{-i}) \\big] \\ \\ \\text{swapping} x^*_{-i} \\rightarrow x_{-i} \n",
        "\\\\\n",
        "= \\big[\\pi_ip(x_i|x^*_{-i})\\big]\n",
        "\\big[p(x_i|x{^*}_{-i})p(x^*_{-i}) \\big]\n",
        "\\ \\ \\text{rearanging conditional terms}\n",
        "\\\\\n",
        "= T[x^*,x]p(x^*)\n",
        "$$\n",
        "\n",
        "Note that nothing has been assumed about $\\pi_i$ here, and thus no matter how we choose to update the ith component (randomly, cycle through), details balane will hold for one Gibbs step.\n",
        "\n"
      ]
    },
    {
      "cell_type": "markdown",
      "metadata": {
        "id": "azLuhjF0lrtZ"
      },
      "source": [
        "Showing that details balance hold for a whole Gibbs sweep (where we update all the components) is a different matter. Actually it can be shown for the case when the choice is random, and the Gibbs sampler for one update from $x_t=(x^t_1,...,x^t_n)$ to $x_{t+1} = (x_1^{t+1},...,x_n^{t+1})$ is the average of the Gibbs updates, instead of their product sum. In the latter case, there can be simple counter examples provided that show detail balance does not hold.\n",
        "\n",
        "See \n",
        "  * section 12.4 in https://statweb.stanford.edu/~owen/mc/Ch-MCMC.pdf\n",
        "  * slide 3 of http://galton.uchicago.edu/~eichler/stat24600/Handouts/s09.pdf\n"
      ]
    },
    {
      "cell_type": "markdown",
      "metadata": {
        "id": "DiiFtliglGWf"
      },
      "source": [
        "\n",
        "Now that we've established detailed balance, the next aspect of the questions is to show that the MH acceptance operator is always one\n",
        "$$\n",
        "A = \\min\\bigg(1,\\frac{p(x^*)g(x|x^*)}{p(x)g(x^*|x)}\\bigg)\n",
        "$$\n",
        "\n",
        "$p$ is the stationary distribution. We can show that this transition operator satisfies detailed balance:\n",
        "$$\n",
        "p(x^*)T[x^*,x] = p(x)T[x,x^*]  \\ \\ \\text{(detailed balance)}\n",
        "\\\\\n",
        "p(x^*)p(x_t|x^*) = p(x_t)p(x^*|x_t)\\ \\ \\text{(T is cond. prob in Gibbs)}\n",
        "\\\\\n",
        "p(x^*,x_t) = p(x_t,x^*)\n",
        "$$\n",
        "\n",
        "$q$ is the proposal distribution. In Gibbs, the proposal distribution *is* the stationary distribution, i.e. $p(a|b)=\\pi_iq(a|b)$, because the transition operator is the conditional of the stationary distribution (and the probability of choosing to update the ith component).\n",
        "\n",
        "From detailed balance we have \n",
        "$$\n",
        "\\pi_ip(x|x^*) p(x^*) = \\pi_ip(x)p(x^*|x)\n",
        "\\\\\n",
        "\\implies \\frac{p(x^*)g(x|x^*)}{p(x)g(x^*|x)} = 1\n",
        "$$\n",
        "\n",
        "And since $p=q$ in Gibbs we have \n",
        "$$\n",
        "A = \\min(1,1) = 1\n",
        "$$\n",
        "\n",
        "Which means that the MH transition operator in this case always accepts."
      ]
    },
    {
      "cell_type": "markdown",
      "metadata": {
        "id": "as-Gzp-g4rc6"
      },
      "source": [
        "# Question 3\n",
        "**Write code to compute the probability three ways that it is cloudy given that we observe that the grass is wet using this Bayes net model.**"
      ]
    },
    {
      "cell_type": "code",
      "metadata": {
        "id": "5wG00S-_4g04"
      },
      "source": [
        "import numpy as np"
      ],
      "execution_count": null,
      "outputs": []
    },
    {
      "cell_type": "code",
      "metadata": {
        "id": "y2eIQtyh4_NK"
      },
      "source": [
        "##first define the probability distributions as defined in the excercise:\n",
        "\n",
        "#define 0 as false, 1 as true\n",
        "def p_C(c):\n",
        "    p = np.array([0.5,0.5])\n",
        "    return p[c]\n",
        "\n",
        "def p_S_given_C(s,c):\n",
        "    p = np.array([[0.5,0.9],[0.5,0.1]])\n",
        "    return p[s,c]\n",
        "    \n",
        "def p_R_given_C(r,c):\n",
        "    p = np.array([[0.8,0.2],[0.2,0.8]])\n",
        "    return p[r,c]\n",
        "\n",
        "def p_W_given_S_R(w,s,r):\n",
        "    p = np.array([\n",
        "            [[1.0,0.1],[0.1,0.01]],   #w = False\n",
        "            [[0.0,0.9],[0.9,0.99]],   #w = True\n",
        "            ])\n",
        "    return p[w,s,r]"
      ],
      "execution_count": null,
      "outputs": []
    },
    {
      "cell_type": "markdown",
      "metadata": {
        "id": "L6Ssri_n47zp"
      },
      "source": [
        "**By enumerating all possible world states and conditioning by counting which proportion are cloudy given the observed world characteristic, namely, that the grass is wet.**"
      ]
    },
    {
      "cell_type": "markdown",
      "metadata": {
        "id": "i9BH_vrw9JgW"
      },
      "source": [
        "The joint is the enumeration of all possible world states, and the proportion. It is possible to enumerate all these world states because the we can loop through the small number of discrete states (binary in this example) in this small graphical model (just four nodes in this case).\n",
        "\n",
        "The complexity of enumerating a grapihcal model with $n_{nodes}$ with node i having $n_{states}^i$ number of discrete states is $o(\\prod_i n_{states}^i)$. This is how many multiplications there are. Note that we can precompute these states and don't have to keep calling the functions to compute them.\n",
        "\n",
        "We just need to \n",
        "* condition by fixing cloudy as True\n",
        "* count by taking the ratio of probabilities of the marginals $\\frac{p(w=1,c=1)}{p(w=1)} = \\frac{\\sum_{s,r}p(c=1,s,r,w=1)}{\\sum_{c,s,r}p(c,s,r,w=1)}$ from Bayes rule.\n",
        "\n",
        "Once we have the joint, it is easy to get the marginal by just summing over specific axes.\n",
        "\n",
        "This gives us an \"exact\" probability, since it uses the joint, which comes from the conditional probability tables. Other sampling proceduces (MCMC/Gibbs) that use the conditionals will reach in the limit of many random iterations. This is a siple example, and many times the graph has too many nodes, or the nodes have too many states, the the joint is not directly available."
      ]
    },
    {
      "cell_type": "code",
      "metadata": {
        "colab": {
          "base_uri": "https://localhost:8080/"
        },
        "id": "_1igXngg5Eh1",
        "outputId": "467a3b2f-521e-4164-8613-98f02cabac8b"
      },
      "source": [
        "##1. enumeration and conditioning:\n",
        "    \n",
        "## compute joint:\n",
        "p = np.zeros((2,2,2,2)) #c,s,r,w\n",
        "for c in range(2):\n",
        "    p_C_precompouted = p_C(c)\n",
        "    for s in range(2):\n",
        "        p_S_given_C_precompouted = p_S_given_C(s,c)\n",
        "        for r in range(2):\n",
        "            p_R_given_C_precompouted = p_R_given_C(r,c)\n",
        "            for w in range(2):\n",
        "                p[c,s,r,w] = p_C_precompouted*p_S_given_C_precompouted*p_R_given_C_precompouted*p_W_given_S_R(w,s,r)\n",
        "                \n",
        "## condition and marginalize:\n",
        "\n",
        "w=1 # given the grass is wet\n",
        "c=1 # query 'is it cloudy?'\n",
        "p_C_given_W = p[c,:,:,w].sum() / p[:,:,:,w].sum() # p(c=1,w=1)/p(w=1)\n",
        "\n",
        "print('There is a {:.2f}% chance it is cloudy given the grass is wet'.format(p_C_given_W*100))"
      ],
      "execution_count": null,
      "outputs": [
        {
          "name": "stdout",
          "output_type": "stream",
          "text": [
            "There is a 57.58% chance it is cloudy given the grass is wet\n"
          ]
        }
      ]
    },
    {
      "cell_type": "markdown",
      "metadata": {
        "id": "BWwldYKO-LTU"
      },
      "source": [
        "**Using ancestral sampling and rejection**"
      ]
    },
    {
      "cell_type": "markdown",
      "metadata": {
        "id": "-Bm4faix-VTs"
      },
      "source": [
        "We can do ancestral sampling with rejection as follows\n",
        "1. Start at the root of the graph (node with no parents). \n",
        "2. Count the number of cloudy days (prob is proportion of cloudy vs all), while also \n",
        "3. rejecting if grass not wet (if the graph continued on we would stop).\n",
        "\n",
        "We sample both the the R and S nodes inside the loop with C, because they depend on C, but in parallel with each other.\n",
        "\n",
        "We sample c by setting it to Uni[0,1] > \n",
        "equivalent to `np.random.choice([0,1],p=[p_C[0],p_C[1]])`\n",
        "\n",
        "Here we don't fix wet, so there is a loss of efficiency in so far as the probability of being wet is rare. Quantitatively we reject ~35% of the samples. If it's very rare, then we reject a lot and we have to sample a lot.\n",
        "\n",
        "We get the probability of cloudy given wet by accumulating the number of wet days and the number of cloudy given wet days. The probability of cloudy given wet, is the number of days that are cloudy given wet (`num_cloudy_given_grass_wet`) divided by the number of wet days (`num_wet`)"
      ]
    },
    {
      "cell_type": "code",
      "metadata": {
        "colab": {
          "base_uri": "https://localhost:8080/"
        },
        "id": "i40CBcy3-Lw9",
        "outputId": "c5841774-f70d-4eef-9be5-386dfe5fe95e"
      },
      "source": [
        "num_rv_to_sample = 4 # C,S,R\n",
        "num_total_days = 1000000\n",
        "c_idx, s_idx, r_idx, w_idx = range(num_rv_to_sample)\n",
        "uni_rv = np.random.uniform(low=0,high=1,size=num_total_days*num_rv_to_sample).reshape(num_total_days,num_rv_to_sample)\n",
        "\n",
        "num_cloudy_given_grass_wet=0\n",
        "rejections=0\n",
        "num_wet = 0\n",
        "for day in range(num_total_days):\n",
        "  c = int(uni_rv[day,c_idx] > p_C(0))\n",
        "  s = int(uni_rv[day,s_idx] > p_S_given_C(0,c))\n",
        "  r = int(uni_rv[day,r_idx] > p_R_given_C(0,c))\n",
        "  w = int(uni_rv[day,w_idx] > p_W_given_S_R(0,s,r))\n",
        "  if w:\n",
        "    num_wet += 1\n",
        "    if c: \n",
        "      num_cloudy_given_grass_wet += 1\n",
        "  else:\n",
        "    rejections += 1\n",
        "#print('It is cloudy %.1f%% of the time, given it is wet' % ()\n",
        "\n",
        "print('The chance of it being cloudy given the grass is wet is {:.2f}%'.format(100*num_cloudy_given_grass_wet / num_wet))\n",
        "print('{:.2f}% of the total samples were rejected'.format(100*rejections/num_total_days))"
      ],
      "execution_count": null,
      "outputs": [
        {
          "name": "stdout",
          "output_type": "stream",
          "text": [
            "The chance of it being cloudy given the grass is wet is 57.64%\n",
            "35.24% of the total samples were rejected\n"
          ]
        }
      ]
    },
    {
      "cell_type": "markdown",
      "metadata": {
        "id": "ZTkVrtgPS5eK"
      },
      "source": [
        "**Using Gibbs sampling**\n",
        "\n",
        "Since we have the full joint, we can easily get any conditional we want by dividing the joint by the joint marginalized by variable we are conditioning on.\n",
        "\n",
        "Although the starter code mentions some things about the zero in the conditional probability of p(w|s=0,w=0), this is not an issue in the conditional $p(c|s,r)$ since we marginalize out w:\n",
        "$$\n",
        "p(c|s,r) = \\frac{p(c,s,r)}{p(s,r)} = \\frac{\\sum_{w} p(c,s,r,w)}{\\sum_{c,w}p(c,s,r,w)}\n",
        "$$\n",
        "\n",
        "Doing Gibbs with w=1 means that we always leave it fixed, and thus only spend time doing useful sampling that we won't throw away."
      ]
    },
    {
      "cell_type": "code",
      "metadata": {
        "id": "DjDpmlBuS2dM"
      },
      "source": [
        "#3: Gibbs\n",
        "# we can use the joint above to condition on the variables, to create the needed\n",
        "# conditional distributions:\n",
        "\n",
        "\n",
        "#we can calculate p(R|C,S,W) and p(S|C,R,W) from the joint, dividing by the right marginal distribution\n",
        "#indexing is [c,s,r,w]\n",
        "p_R_given_C_S_W = p/p.sum(axis=2, keepdims=True) # sum over r to get p(c,s,w)\n",
        "p_S_given_C_R_W = p/p.sum(axis=1, keepdims=True) # note that the order of indexing remains the same p_S_given_C_R_W[c,s,r,w]\n",
        "\n",
        "\n",
        "# but for C given R,S,W, there is a 0 in the joint (0/0), arising from p(W|S,R)\n",
        "# but since p(W|S,R) does not depend on C, we can factor it out:\n",
        "#p(C | R, S) = p(R,S,C)/(int_C (p(R,S,C)))\n",
        "\n",
        "#first create p(R,S,C):\n",
        "p_C_S_R = np.zeros((2,2,2)) #c,s,r\n",
        "for c in range(2):\n",
        "    for s in range(2):\n",
        "        for r in range(2):\n",
        "            p_C_S_R[c,s,r] = p_C(c)*p_S_given_C(s,c)*p_R_given_C(r,c)\n",
        "        \n",
        "#then create the conditional distribution:\n",
        "p_C_given_S_R_starter_code = p_C_S_R[:,:,:]/p_C_S_R[:,:,:].sum(axis=(0),keepdims=True)\n",
        "p_C_given_S_R = p.sum(axis=(-1), keepdims=True) / p.sum(axis=(0,-1), keepdims=True)\n",
        "\n",
        "assert np.allclose(p_C_given_S_R_starter_code,p_C_given_S_R[:,:,:,0])"
      ],
      "execution_count": null,
      "outputs": []
    },
    {
      "cell_type": "code",
      "metadata": {
        "colab": {
          "base_uri": "https://localhost:8080/"
        },
        "id": "r_Ve3JYP51LE",
        "outputId": "7d84ff0b-ae2a-419f-d851-86e83e6a30bd"
      },
      "source": [
        "p_C_given_S_R.shape"
      ],
      "execution_count": null,
      "outputs": [
        {
          "data": {
            "text/plain": [
              "(2, 2, 2, 1)"
            ]
          },
          "execution_count": 12,
          "metadata": {},
          "output_type": "execute_result"
        }
      ]
    },
    {
      "cell_type": "markdown",
      "metadata": {
        "id": "PyhtAOVVBBDz"
      },
      "source": [
        "We run Gibbs for 100 000 samples, and use a burn in of 500, and only take every 10th sample.\n",
        "\n",
        "At this point I don't know how reasonable these values are, except to compare the final answer with the 57.6% obtained previously."
      ]
    },
    {
      "cell_type": "code",
      "metadata": {
        "colab": {
          "base_uri": "https://localhost:8080/"
        },
        "id": "twLKF7K8WWdX",
        "outputId": "d4c32af1-4fbd-4d00-82c4-54bda19844e2"
      },
      "source": [
        "\n",
        "##gibbs sampling\n",
        "num_samples = 1000000\n",
        "samples = np.zeros(num_samples)\n",
        "state = np.zeros(4,dtype='int')\n",
        "\n",
        "num_rv_to_sample=4\n",
        "uni_rv = np.random.uniform(low=0,high=1,size=num_samples*num_rv_to_sample).reshape(num_samples,num_rv_to_sample)\n",
        "c_idx, s_idx, r_idx, w_idx = range(num_rv_to_sample)\n",
        "\n",
        "c,s,r = np.random.choice([0,1],p=[0.5,0.5],size=3)\n",
        "w=1\n",
        "\n",
        "for sample in range(num_samples):\n",
        "  c = int(uni_rv[sample,c_idx] > p_C_given_S_R[0,s,r])\n",
        "  s = int(uni_rv[sample,s_idx] > p_S_given_C_R_W[c,0,r,w])\n",
        "  r = int(uni_rv[sample,r_idx] > p_R_given_C_S_W[c,s,0,w])\n",
        "  samples[sample] = c\n"
      ],
      "execution_count": null,
      "outputs": [
        {
          "name": "stdout",
          "output_type": "stream",
          "text": [
            "The chance of it being cloudy given the grass is wet is 58.26%\n"
          ]
        }
      ]
    },
    {
      "cell_type": "code",
      "metadata": {
        "colab": {
          "base_uri": "https://localhost:8080/"
        },
        "id": "-FM0o864Bzw4",
        "outputId": "f116ee19-4049-48d3-b512-43c38639773c"
      },
      "source": [
        "burn_in = 10000\n",
        "stride = 10\n",
        "print('The chance of it being cloudy given the grass is wet is {:.2f}%'.format(samples[burn_in::stride].mean()*100))"
      ],
      "execution_count": null,
      "outputs": [
        {
          "name": "stdout",
          "output_type": "stream",
          "text": [
            "The chance of it being cloudy given the grass is wet is 57.74%\n"
          ]
        }
      ]
    },
    {
      "cell_type": "markdown",
      "metadata": {
        "id": "lvCWo5FIMkJl"
      },
      "source": [
        "# Question 4\n",
        "**Consider the Bayesian linear regression model discussed in the lecture on graphical models**\n",
        "\n",
        "I will answer the question \"backwards\" since the results of part c are used in b and b in a."
      ]
    },
    {
      "cell_type": "markdown",
      "metadata": {
        "id": "MuTaSd6KMrKD"
      },
      "source": [
        "## c) **produce the analytic form of the posterior predictive.**"
      ]
    },
    {
      "cell_type": "markdown",
      "metadata": {
        "id": "Jwh8_ZM8MxHM"
      },
      "source": [
        "The posterior predictive is the probability of $\\hat t$ given all the data we know $(\\{x_n,t_n\\},\\sigma^2,\\alpha,\\hat  x)$. Notice that $w$ is not in there. That is becuase it is unobserved and we only have a distribution for what it is. Compared with typical least squares regression, in this question we don't use a point estimate for it, but the whole probability distribution. This takes some care, because we have a multivariate Gaussian prior on $w$, and we have an updated posterior on $w$ based on our observed data. Integrating over this will involve a multidimensional integral. Let's see how this works.\n",
        "\n",
        "In the notation below, we drop $\\alpha$ and $\\sigma$, because they are always given\n",
        "$$\n",
        "p(\\hat t | \\{x_n,t_n\\},\\hat  x) = \\int dw \\ p(\\hat t | w, \\hat x) p(w|\\{x_n,t_n\\})\n",
        "$$\n",
        "\n",
        "The posterior of w is proportional to the posterior of all the $\\{t_n\\}$ and the prior of $w$ by Bayes rule. The evidence $p(t_n)$ is a constant in $w$ and doesn't affect how we compute the integral over $w$.\n",
        "\n",
        "$$\n",
        "p(w|\\{x_n,t_n\\}) \\propto  \\Bigg[\\prod_n N[t_n|w^Tx_n,\\sigma^2]\\Bigg] N[w|0,\\alpha]\n",
        "$$\n",
        "\n",
        "We can furthermore show that the posterior of w is a multivariate Gaussian with mean $w_N = \\frac{1}{\\sigma^2}V_NX^Tt$ and covariance matrix $V_N = (\\frac{X^TX}{\\sigma^2} + \\frac{I}{\\alpha})^{-1}$, where $t \\in \\mathbb{R}^N$ is the vector of all $t_n \\in \\mathbb{R}$ and $X \\in \\mathbb{R}^{n \\ x \\ d}$ is the data matrix of all $x_n \\in \\mathbb{R}^d$. To show that this is the case, it suffices to show that argument in the exponent of the posterior of $w$ can be written of the form \n",
        "$$\n",
        "-\\frac{1}{2}(w - w_N)^T V_N^{-1} (w - w_N)\\\\\n",
        "= -\\frac{1}{2}w^TV_N^{-1}w + w_N V_N^{-1}w -\\frac{1}{2}w_N^TV_N^{-1}w_N\n",
        "$$\n",
        "\n",
        "Neglecting terms that won't affect the integral, and noting that $\\sum_n x_nx_n^T = X^TX$ and $\\sum_n t_nx_n = X^Tt$, we have \n",
        "$$\n",
        "\\log p(w|\\{x_n,t_n\\}) = -\\frac{1}{2\\sigma^2} \\Sigma_n(t_n-w^Tx_n)^2  -\\frac{1}{2}w^T\\frac{I}{\\alpha}w + ... \\\\\n",
        "= -\\frac{1}{2}w^T(\\frac{X^TX}{\\sigma^2} + \\frac{I}{\\alpha})w + \\frac{t^TXw}{\\sigma^2} + ...\n",
        "$$\n",
        "\n",
        "Completing the square by matching the coefficients in the multidimensional case, we have $V_N^{-1} = \\frac{X^TX}{\\sigma^2} + \\frac{I}{\\alpha}$ as desired, and $w_N^TV_N^{-1} = \\frac{t^TX}{\\sigma^2} \\implies w_N = \\frac{1}{\\sigma^2}V_NX^Tt$ as desired (using the symmetry of $V_N$ and its inverse).\n",
        "\n",
        "Thus $p(w|\\{x_n,t_n\\}) = N[w|w_N,V_N]$\n",
        "\n",
        "To get the posterior in $\\hat t$, we have to integrate over w. \n",
        "$$\n",
        "\\int \\ dw N[\\hat t|w^Tx,\\sigma^2]N[w|w_N,V_N]\n",
        "$$\n",
        "\n",
        "This is of the form of Eq 7.60 in Murphy, 2012, and the integral is another Gaussian in $\\hat t$. Doing this integral by completing the square involves resolving the inverse of a matrix. Exact details of this are given in Morphy, 2012 (4.3.4.1 Inverse of a partitioned matrix using Schur complements; 4.3.4.2 The matrix inversion lemma) By Eq. 7.61 in Murphy, 2012, we have\n",
        "\n",
        "$$\n",
        "p(\\hat t|w,\\hat x, \\sigma,\\{t_n,x_n\\}) = N[\\hat t|w_N \\hat x,\\sigma_N^2(\\hat x) = \\sigma^2+\\hat x^TV_N \\hat x] \n",
        "\\\\\n",
        "= \\frac{1}{\\sqrt{(2\\pi\\sigma_N^2)}}\\exp[\\frac{-(\\hat t - w_N^T\\hat x)^2}{2\\sigma_N^2}]\n",
        "$$\n",
        "\n",
        "Note that $\\hat t$ is centred around the Ridge regression least squares estimate for the weights, but its uncertainty is dependent on its own data point $\\hat x$.\n",
        "\n",
        "\n"
      ]
    },
    {
      "cell_type": "markdown",
      "metadata": {
        "id": "VtqAdxNQssb5"
      },
      "source": [
        "## b) **perform pure Gibbs on both w and t̂**\n",
        "\n",
        "NB: instead of using $w_t$, $w_{t+1}$ (and likewise for $\\hat t$), I just use $w$ and $w^*$ with the understanding that $\\hat x, x, t, \\sigma^2,\\alpha$ do not change for MCMC steps.\n",
        "\n",
        "To answer this question, we need to derive conditional probabilites for $w$ and $\\hat t$. This will allow us to update them in Gibbs. For the remaining variables in the graphical model, we have observed them and can use these values.\n",
        "\n",
        "$$\n",
        "p(\\hat t^* | w,\\hat x, x, t, \\sigma^2,\\alpha)\n",
        "\\\\\n",
        "p(w | \\hat t^*,\\hat x, x, t, \\sigma^2,\\alpha) \\ \n",
        "$$\n",
        "\n",
        "note the use of the new update for $\\hat t$, denoted  $\\hat t^*$ in the conditional for $w$\n",
        "\n",
        "For the conditional of $\\hat t$ we can drop $x,t,\\alpha$ since $w$ and $\\sigma^2$ are given. Then we just have the equation given for $p(t_n|w,x_n,\\sigma^2)$ with $t_n \\rightarrow \\hat t$, and $x_n \\rightarrow \\hat x$, and $w$ from the latest MCMC step.\n",
        "\n",
        "$p(\\hat t | w,\\hat x, x, t, \\sigma^2,\\alpha) = N[w^T\\hat x,\\sigma^2]$\n",
        "\n"
      ]
    },
    {
      "cell_type": "markdown",
      "metadata": {
        "id": "UTDEuEopwxMw"
      },
      "source": [
        "For the conditional of w, $\\hat t$ does supply some information about it, and it will change depending on that MCMC step we are at. As we cycle through Gibbs, we will use our estimate of it at the appropriate time step, and so we want to know how to use it in the conditinoal of $w$.\n",
        "\n",
        "We can use the result derived in part c), with the caveat that the $\\{t_n,x_n\\}_{n=1}^{N+1}$ data now contains the $\\{\\hat t^*, \\hat x\\}$ pair, indexed $N+1$, making sure to use the most recent samle of $\\hat t^*$ from the last MCMC step.\n",
        "\n",
        "Thus \n",
        "  * $p(w|\\{x_n,t_n\\},\\hat t^*,\\hat x,\\sigma^2,\\alpha) = N[w|w_{N+1},V_{N+1}]$\n",
        "  * with  $w_{N+1}$ and $V_{N+1}$ as defined in c), but with $X$ and $t$ including $\\{\\hat t^*, \\hat x \\}$, and thus changing every MCMC iteration."
      ]
    },
    {
      "cell_type": "markdown",
      "metadata": {
        "id": "YuGkRNgG3Z2G"
      },
      "source": [
        "## a) **perform MH within Gibbs on the blocks w and t̂**\n",
        "\n",
        "Doing Metropolis-Hastings within Gibbs means that we use MH to sample from the conditionals. In b, we derived the analysticlal forms, and thus we could use them to sample from. However, if we don't have a nice form, we can use MH. If we further more assume that the proposal q is symmetric, ie $q(x|x^*)=q(x^*|x)$, then the MH acceptance probability is even simpler, but we don't have to assume this to do MH in Gibbs.\n",
        "\n",
        "$$\n",
        "A(x^*,x) = \\min\\big(1, \\frac{p(x^*)q(x|x^*)}{p(x)q(x^*|x)}\\big)\n",
        "$$\n",
        "\n",
        "The probability we are interested in estimating here, p(x) is actually the conditional of $\\hat t$ or $w$, so we have two acceptance probabilities with\n",
        "  * $x = \\hat t| w,\\hat x, x, t, \\sigma^2,\\alpha$ \n",
        "  * and $x^* = \\hat t^*| w,\\hat x, x, t, \\sigma^2,\\alpha$\n",
        "\n",
        "for estimating $p(\\hat t| w,\\hat x, x, t, \\sigma^2,\\alpha)$\n",
        "\n",
        "and\n",
        "  * $x = w|\\hat t^* ,\\hat x, x, t, \\sigma^2,\\alpha$ \n",
        "  * and $x^* = w^*| \\hat t^*,\\hat x, x, t, \\sigma^2,\\alpha$\n",
        "\n",
        "for estimating $p(w| \\hat t^*,\\hat x, x, t, \\sigma^2,\\alpha)$\n",
        "\n",
        "Note that since the conditional is proportional to the joint, up to a normalization constant (the evidence, that cancels out), we can use it in place of the conditional. This is very convenient when getting the evidence is difficult.\n",
        "\n",
        "$$\n",
        "\\frac{p(x^*)}{p(x)} = \\frac{p(\\hat t^*| w,\\hat x, x, t, \\sigma^2,\\alpha)}{p(\\hat t| w,\\hat x, x, t, \\sigma^2,\\alpha)} = \\frac{p(\\hat t^*, w,\\hat x, x, t, \\sigma^2,\\alpha)/p(w,\\hat x, x, t, \\sigma^2,\\alpha)}{p(\\hat t, w,\\hat x, x, t, \\sigma^2,\\alpha)/p(w,\\hat x, x, t, \\sigma^2,\\alpha)} \n",
        "\\\\\n",
        "=\\frac{p(\\hat t^*, w,\\hat x, x, t, \\sigma^2,\\alpha)}{p(\\hat t, w,\\hat x, x, t, \\sigma^2,\\alpha)}\n",
        "$$\n",
        "\n",
        "The joints facrize nicely, and everything cancels except for the 1D Gaussian of the new data point - even the Gaussian normalization constant cancels\n",
        "\n",
        "$$\n",
        "\\frac{p(x^*)}{p(x)} = \n",
        "\\frac\n",
        "{\\exp\\frac{-(\\hat t^*-w^T\\hat x)^2}{2\\sigma^2}}\n",
        "{\\exp\\frac{-(\\hat t-w^T\\hat x)^2}{2\\sigma^2}}\n",
        "$$"
      ]
    },
    {
      "cell_type": "markdown",
      "metadata": {
        "id": "YceAemitBCxI"
      },
      "source": [
        "Likewise, for updating w (taking care to use the new $\\hat t^*$ we get\n",
        "\n",
        "$$\n",
        "\\frac{p(x^*)}{p(x)} \n",
        "= \\frac{p(\\hat t^*, w^*,\\hat x, x, t, \\sigma^2,\\alpha)}{p(\\hat t^*, w,\\hat x, x, t, \\sigma^2,\\alpha)}\n",
        "= \\frac{p(\\hat t^*| w^*,\\hat x, \\sigma^2)p(w^*|\\alpha)}{p(\\hat t^*| w,\\hat x, \\sigma^2)p(w^*|\\alpha)}\n",
        "\\\\\n",
        "\\frac\n",
        "{\\exp\\frac{-(\\hat t^*-{w^{*}}^T\\hat x)^2}{2\\sigma^2} - \\frac{{w^{*}}^Tw^{*}}{2\\alpha}}\n",
        "{\\exp\\frac{-(\\hat t^*-w^T\\hat x)^2}{2\\sigma^2} - \\frac{w^Tw}{2\\alpha}}\n",
        "$$"
      ]
    },
    {
      "cell_type": "markdown",
      "metadata": {
        "id": "DN9Xy9lN8P1u"
      },
      "source": [
        "# Question 5\n",
        "**Implement a sampler for the LDA model on a corpus consisting of abstracts from NeurIPS in years past. You may wish to start from support code that will be provided on the course website. Use the output to answer questions about the NIPS abstract corpus. The data for this model are in bagofwords_nips.mat, words_nips.mat, and title_nips.mat. When you load these files in the variables DS, WS, WO, and titles will appear in your workspace. The variable WS is the entire corpus vectorized into a long row of words encoded as a row vector of integers. Each integer represents a word, WO is the dictionary; to look up the word corresponding to an integer use WOi. The variable DS is a row vector of the same length as WS that indicates from which document each word comes. If the document number is j then the title of that document can be found using titles[j]. Train LDA with 20 topics using an MCMC sampler in the collapsed representation (i.e. with all βk’s and θd’s integrated out analytically) and use the single sample with the highest joint log likelihood to answer the following questions**"
      ]
    },
    {
      "cell_type": "markdown",
      "metadata": {
        "id": "x1sBToPiadxV"
      },
      "source": [
        "To answer this problem, we need to code up the function for the joint probability, and for sampling.\n",
        "\n",
        "We use the notation of https://en.wikipedia.org/wiki/Latent_Dirichlet_allocation#Aspects_of_computational_details, except that $\\beta$ is written as $\\gamma$, following the starter code.\n",
        "\n",
        "The joint probability p(Z,W) assigns a number to each instantiation of all the words having some assigned topic (Z), and also the identity of each word being what it is (W). Note that in our example, W is fixed and doesn't change, since each word is what it is. However, we can still discuss its probability because of assumptions we make in the model. For instance, having a corpus that is all the same word is less likely that having one with words that are more evenly distributed, because in we are going to use a the same prior parameter $\\gamma$ for every word.\n",
        "\n",
        "Based on the probabilistic graphical model we can write down the joint as factorizing as factorizing into \n",
        "* priors over $\\alpha$ and $\\gamma$ \n",
        "* and the conditional probabilities of\n",
        "  * $Z_{jt}|\\theta_j$: (the topic of) word $t$ in document $j$ being a certain topic, given a certain topic distribution vector in document j\n",
        "  *  $W_{jt}|\\phi_{Z_{jt}}$: word $t$ in document $j$ being a certain word, given a certain word distribution vector for topic $Z_{jt}$, i.e. $\\phi_{Z_{jt}}$ is a distribution over the whole corpus, for topic $Z_{jt}$, over words\n",
        "\n",
        "Since the we commit to a Dirichlet distribution for $\\theta,\\phi$ in the model, we can integrate them out of the joint, and this is tractable analytically.\n",
        "\n",
        "Because of the graph (conditional probability of $Z_{jt}$ are dependent on $\\theta_j$ and not $\\phi_{Z_{jt}}$; and likewise $W_{jt}$ not dependent on $\\theta_j$), these integrals split up nicely into a piece over $\\theta$ and another over $\\phi$. \n",
        "\n",
        "Considering the sub-piece of $\\theta_j$ for document $j$ we have\n",
        "$$\n",
        "\\int_{\\theta_j} d\\theta_j \\ p(\\theta_j ; \\alpha) \\prod_{t=1}^{N_j} p(Z_{jt}|\\theta_j) \n",
        "\\\\\n",
        "= \\int_{\\theta_j} \\frac{\\Gamma(\\sum_i^K \\alpha_i)}{\\prod_i^K\\Gamma(\\alpha_i)}\\prod\\theta_{ji}^{\\alpha_i-1}\\prod_t^{N_j}p(Z_{jt}|\\theta_j)\n",
        "$$\n",
        "\n",
        "A key step in occurs here, where we relate this probability to the counts of words and topics, which we have on hand and can conveniently store and update. The key step is to swap the product sum over the words $t$ in document $j$ with a product sum over topics $i$ of the counts of all words belonging top topic i in document j, denoted by $n_{j*}^i$. The counts in the exponents of $\\theta_j$ of the categorical distribution of $Z$ sum up, and can now be combined with the $\\alpha_i-1$ in the exponent from the prior. The functional form is Dirichlet, with parameter $n_{j*}^i + \\alpha_i$ with no mixing between $\\theta_j$s, and we know what the integral evaluates to because we know the normalization constant for the Dirichlet distribution. The outer product sum over all the documents gives us the whole theta piece as\n",
        "\n",
        "$$\n",
        "\\prod_j^M \n",
        "\\frac{\\Gamma(\\sum_i^K \\alpha_i)}{\\prod_i^K\\Gamma(\\alpha_i)} \n",
        "\\frac{\\prod_i^K\\Gamma(n_{j*}^i + \\alpha_i)}{\\Gamma(\\sum_i^K n_{j*}^i + \\alpha_i)}\n",
        "$$\n",
        "\n",
        "A similar argument holds for $\\phi,\\gamma$ piece, the sum happening over the same words in all documents, $n_{*r}^i$\n",
        "  * $\\theta_j \\rightarrow \\phi_i$\n",
        "  * $\\alpha_i \\rightarrow \\gamma_r$\n",
        "  * $n_{j*}^i \\rightarrow n_{*r}^i$\n",
        "  * $\\prod_j^M \\rightarrow \\prod_i^K$\n",
        "  * $\\sum_i^K / \\prod_i^K \\rightarrow \\sum_r^V  / \\prod_r^V$\n",
        "\n",
        "And thus the joint with $\\theta,\\phi$ analytically integrated out is\n",
        "\n",
        "$$\n",
        "p(Z,W;\\alpha,\\gamma) = \n",
        "\\prod_j^M \n",
        "\\frac{\\Gamma(\\sum_i^K \\alpha_i)}{\\prod_i^K\\Gamma(\\alpha_i)} \n",
        "\\frac{\\prod_i^K\\Gamma(n_{j*}^i + \\alpha_i)}{\\Gamma(\\sum_i^K n_{j*}^i + \\alpha_i)}\n",
        "\\prod_i^K\n",
        "\\frac{\\Gamma(\\sum_r^V \\gamma_r)}{\\prod_r^V\\Gamma(\\gamma_r)} \n",
        "\\frac{\\prod_r^V\\Gamma(n_{*r}^i + \\gamma_r)}{\\Gamma(\\sum_r^V n_{*r}^i + \\beta_r)}\n",
        "$$\n",
        "\n",
        "Furthermore, if we assume the $\\alpha$s and $\\gamma$s are the same for all topics and words, respectively, then we can factor them out of the sums. When we take the log of this, the product sums become products. These are very large numbers and we get overlow at $\\Gamma(\\geq 173)$. However the $\\log$ of this would be much smaller, and a $log \\Gamma$ function is implemented in `scipy.special.loggamma` that allows us to avoid numerical overflow."
      ]
    },
    {
      "cell_type": "code",
      "metadata": {
        "id": "e5rtCzTccJs4"
      },
      "source": [
        "import numpy as np\n",
        "import scipy.io\n",
        "import scipy.special\n",
        "import pandas as pd\n"
      ],
      "execution_count": null,
      "outputs": []
    },
    {
      "cell_type": "code",
      "metadata": {
        "id": "knotQHBy3vdH"
      },
      "source": [
        "!wget https://www.cs.ubc.ca/~fwood/CS532W-539W/homeworks/data/bagofwords_nips.mat\n",
        "!wget https://www.cs.ubc.ca/~fwood/CS532W-539W/homeworks/data/words_nips.mat\n",
        "!wget https://www.cs.ubc.ca/~fwood/CS532W-539W/homeworks/data/titles_nips.mat"
      ],
      "execution_count": null,
      "outputs": []
    },
    {
      "cell_type": "code",
      "metadata": {
        "id": "PiOfztx55ZGP"
      },
      "source": [
        "bagofwords = scipy.io.loadmat('bagofwords_nips.mat')\n",
        "words_d = scipy.io.loadmat('words_nips.mat')\n",
        "titles = scipy.io.loadmat('titles_nips.mat')"
      ],
      "execution_count": null,
      "outputs": []
    },
    {
      "cell_type": "code",
      "metadata": {
        "id": "Z2hbpnOeqEuy"
      },
      "source": [
        "titles['titles'].shape"
      ],
      "execution_count": null,
      "outputs": []
    },
    {
      "cell_type": "code",
      "metadata": {
        "id": "DIOAQfnK8DG7"
      },
      "source": [
        "bagofwords['WS'].shape # The variable WS is the entire corpus vectorized into a long row of words encoded as a row vector of integers."
      ],
      "execution_count": null,
      "outputs": []
    },
    {
      "cell_type": "code",
      "metadata": {
        "id": "iJoCGjmAAfl-"
      },
      "source": [
        "t = 2301375-1 # there are N=2301375 number of total words in all documents \n",
        "bagofwords['WS'][0,t] # these are the integer keys of each word, that can be used to look up the string word in words['WO']"
      ],
      "execution_count": null,
      "outputs": []
    },
    {
      "cell_type": "code",
      "metadata": {
        "id": "idf3Q1QQDZiv"
      },
      "source": [
        "np.max(bagofwords['DS']), bagofwords['DS'].shape # The variable DS is a row vector of the same length as WS that indicates from which document each word comes. \n"
      ],
      "execution_count": null,
      "outputs": []
    },
    {
      "cell_type": "code",
      "metadata": {
        "id": "Ohoe9oKf8YbN"
      },
      "source": [
        "i=13649-1 # there are 13649 different words\n",
        "len(words_d['WO']), words_d['WO'][i] # Each integer represents a word, WO is the dictionary; to look up the word corresponding to an integer use WOi."
      ],
      "execution_count": null,
      "outputs": []
    },
    {
      "cell_type": "code",
      "metadata": {
        "id": "uMhGcHr4aRc6"
      },
      "source": [
        "words_d['WO']"
      ],
      "execution_count": null,
      "outputs": []
    },
    {
      "cell_type": "code",
      "metadata": {
        "id": "vhqx2aXt8qqs"
      },
      "source": [
        "j=1740-1 # there are M=1740 documents\n",
        "titles['titles'].shape,titles['titles'][j] # If the document number is j then the title of that document can be found using titles[j]"
      ],
      "execution_count": null,
      "outputs": []
    },
    {
      "cell_type": "markdown",
      "metadata": {
        "id": "Cu18eQKh871y"
      },
      "source": [
        "Train LDA with 20 topics using an MCMC sampler in the collapsed representation (i.e. with all βk’s and θd’s integrated out analytically) and use the single sample with the highest joint log likelihood to answer the following questions :\n",
        "\n",
        "  * What are the top ten most probable words for each of the 20 topics?\n",
        "  * One can consider the distribution over topics as a low dimensional representation of a document. We can use the dot product between topic distributions for two documents as a similarity metric. What are the ten most similar documents to the first document, “Connectivity Versus Entropy”?\n"
      ]
    },
    {
      "cell_type": "code",
      "metadata": {
        "id": "rUyawr7CCjzh"
      },
      "source": [
        "from scipy.io import loadmat\n",
        "import numpy as np\n",
        "import matplotlib.pyplot as plt\n",
        "\n",
        "# from joint_log_lik import joint_log_lik\n",
        "# from sample_topic_assignment import sample_topic_assignment\n",
        "\n",
        "bagofwords = loadmat('bagofwords_nips.mat')\n",
        "WS = bagofwords['WS'][0] - 1  #go to 0 indexed\n",
        "DS = bagofwords['DS'][0] - 1\n",
        "\n",
        "WO = loadmat('words_nips.mat')['WO'][:,0]\n",
        "titles = loadmat('titles_nips.mat')['titles'][:,0]\n",
        "\n",
        "#This script outlines how you might create a MCMC sampler for the LDA model\n",
        "\n",
        "alphabet_size = WO.size\n",
        "\n",
        "document_assignment = DS\n",
        "words = WS"
      ],
      "execution_count": null,
      "outputs": []
    },
    {
      "cell_type": "code",
      "metadata": {
        "colab": {
          "base_uri": "https://localhost:8080/"
        },
        "id": "UdvnWmmycf0E",
        "outputId": "0fe53f9a-51a5-42f9-d6ea-0ac28af7f964"
      },
      "source": [
        "document_assignment.shape"
      ],
      "execution_count": null,
      "outputs": [
        {
          "data": {
            "text/plain": [
              "(2301375,)"
            ]
          },
          "execution_count": 12,
          "metadata": {},
          "output_type": "execute_result"
        }
      ]
    },
    {
      "cell_type": "code",
      "metadata": {
        "id": "QGJH7Fo-CmZX"
      },
      "source": [
        "#subset data, EDIT THIS PART ONCE YOU ARE CONFIDENT THE MODEL IS WORKING\n",
        "#PROPERLY IN ORDER TO USE THE ENTIRE DATA SET\n",
        "n_docs = np.unique(document_assignment).size\n",
        "idx_subset = document_assignment < n_docs # subste of 100 documents\n",
        "words = words[idx_subset]\n",
        "document_assignment  = document_assignment[idx_subset]\n",
        "\n",
        "assert np.isclose(n_docs, document_assignment.max() + 1)\n",
        "\n",
        "#number of topics\n",
        "n_topics = 20\n",
        "\n",
        "#initial topic assigments\n",
        "np.random.seed(10)\n",
        "topic_assignment = np.random.randint(n_topics, size=document_assignment.size) # integer topic assignment of 149771 words\n",
        "\n",
        "#within document count of topics\n",
        "doc_counts = np.zeros((n_docs,n_topics))"
      ],
      "execution_count": null,
      "outputs": []
    },
    {
      "cell_type": "code",
      "metadata": {
        "id": "8BP8hoHjCtBL"
      },
      "source": [
        "for d in range(n_docs):\n",
        "    #histogram counts the number of occurences in a certain defined bin\n",
        "    # documents x topics. un-normalized theta\n",
        "    doc_counts[d] = np.histogram(topic_assignment[document_assignment == d], bins=n_topics, range=(-0.5,n_topics-0.5))[0]"
      ],
      "execution_count": null,
      "outputs": []
    },
    {
      "cell_type": "code",
      "metadata": {
        "id": "dnk048hMEPQb"
      },
      "source": [
        "#doc_N: array of size n_docs count of total words in each document, minus 1\n",
        "doc_N = doc_counts.sum(axis=1) - 1\n",
        "\n",
        "#within topic count of words\n",
        "# topics x words\n",
        "topic_counts = np.zeros((n_topics,alphabet_size))\n",
        "for k in range(n_topics):\n",
        "    w_k = words[topic_assignment == k]\n",
        "    topic_counts[k] = np.histogram(w_k, bins=alphabet_size, range=(-0.5,alphabet_size-0.5))[0]\n",
        "\n",
        "#topic_N: array of size n_topics count of total words assigned to each topic\n",
        "topic_N = topic_counts.sum(axis=1)"
      ],
      "execution_count": null,
      "outputs": []
    },
    {
      "cell_type": "markdown",
      "metadata": {
        "id": "qkXCRROLC78X"
      },
      "source": [
        "See comments in `joint_log_lik` function"
      ]
    },
    {
      "cell_type": "code",
      "metadata": {
        "colab": {
          "base_uri": "https://localhost:8080/"
        },
        "id": "NFBJzWlS9B7Z",
        "outputId": "2b89f5aa-90e5-460a-9217-55fb72f2fde1"
      },
      "source": [
        "def joint_log_lik(doc_counts, topic_counts, alpha, gamma):\n",
        "    \"\"\"\n",
        "    Calculate the joint log likelihood of the model\n",
        "    \n",
        "    Args:\n",
        "        doc_counts: n_docs x n_topics array of counts per document of unique topics\n",
        "        topic_counts: n_topics x alphabet_size array of counts per topic of unique words\n",
        "        alpha: prior dirichlet parameter on document specific distributions over topics\n",
        "        gamma: prior dirichlet parameter on topic specific distribuitons over words.\n",
        "    Returns:\n",
        "        ll: the joint log likelihood of the model\n",
        "    \"\"\"\n",
        "\n",
        "    # note that scipy.special.gamma goes until 171, 172 is infinity, so use loggamma instead\n",
        "    # see https://en.wikipedia.org/wiki/Latent_Dirichlet_allocation#Aspects_of_computational_details\n",
        "      # in particular, the joint p(zw) with theta, phi marginalized out\n",
        "      # https://wikimedia.org/api/rest_v1/media/math/render/svg/fddec8ee49ae29b995974494e5cf11fe5709bafb\n",
        "    theta = doc_counts # (100, 20) (M,K) doc_counts[m,k] is number of times document m uses topic k\n",
        "    phi = topic_counts # (20, 13649) (K,V) topic_counts[k,v] is number of times topic k uses word v\n",
        "    \n",
        "    K = n_topics\n",
        "    M = n_docs\n",
        "    K,V = phi.shape\n",
        "    M,K_ = theta.shape\n",
        "    assert K == K_\n",
        "\n",
        "    # numerator theta / alpha\n",
        "    #loggamma_sum_alpha = M*scipy.special.loggamma(K*alpha) # constant can drop\n",
        "    n_alpha = doc_counts + alpha # n^{i}_{j,(\\cdot)}\n",
        "    loggamma_n_alpha = (scipy.special.loggamma(n_alpha)).sum()\n",
        "    # denomenator theta / alpha\n",
        "    #loggamma_alpha = M*K*scipy.special.loggamma(alpha)\n",
        "    loggamma_sum_n_alpha = scipy.special.loggamma(n_alpha.sum(1)).sum()\n",
        "\n",
        "    # numerator phi / gamma\n",
        "    #loggamma_sum_gamma = K*scipy.special.loggamma(V*gamma)\n",
        "    n_gamma = topic_counts + gamma # n^{i}_{(\\cdot),r}\n",
        "    loggamma_n_gamma = (scipy.special.loggamma(n_gamma)).sum()\n",
        "    # denomenator phi / gamma\n",
        "    #loggamma_gamma = K*V*scipy.special.loggamma(gamma)\n",
        "    loggamma_sum_n_gamma = scipy.special.loggamma(n_gamma.sum(1)).sum()\n",
        "\n",
        "    ll =  + loggamma_n_alpha - loggamma_sum_n_alpha \\\n",
        "    + loggamma_n_gamma  - loggamma_sum_n_gamma\n",
        "\n",
        "    return ll\n",
        "\n",
        "%time joint_log_lik(doc_counts, topic_counts, alpha=0.1, gamma=0.001)\n"
      ],
      "execution_count": null,
      "outputs": [
        {
          "name": "stdout",
          "output_type": "stream",
          "text": [
            "CPU times: user 15.9 ms, sys: 0 ns, total: 15.9 ms\n",
            "Wall time: 18.6 ms\n"
          ]
        },
        {
          "data": {
            "text/plain": [
              "-24586180.790821318"
            ]
          },
          "execution_count": 8,
          "metadata": {},
          "output_type": "execute_result"
        }
      ]
    },
    {
      "cell_type": "code",
      "metadata": {
        "id": "nlLMErHo9KhX"
      },
      "source": [
        "def sample_topic_assignment(topic_assignment,\n",
        "                            topic_counts,\n",
        "                            doc_counts,\n",
        "                            topic_N,\n",
        "                            doc_N,\n",
        "                            alpha,\n",
        "                            gamma,\n",
        "                            words,\n",
        "                            document_assignment,\n",
        "                            sampled_word_idx,\n",
        "                            topic_integers,\n",
        "                            n_topics,\n",
        "                            alphabet_size):\n",
        "    \"\"\"\n",
        "    Sample the topic assignment for each word in the corpus, one at a time.\n",
        "    \n",
        "    Args:\n",
        "        topic_assignment: size n array of topic assignments\n",
        "        topic_counts: n_topics x alphabet_size array of counts per topic of unique words        \n",
        "        doc_counts: n_docs x n_topics array of counts per document of unique topics\n",
        "\n",
        "        topic_N: array of size n_topics count of total words assigned to each topic\n",
        "        doc_N: array of size n_docs count of total words in each document, minus 1\n",
        "        \n",
        "        alpha: prior dirichlet parameter on document specific distributions over topics\n",
        "        gamma: prior dirichlet parameter on topic specific distribuitons over words.\n",
        "\n",
        "        words: size n array of wors\n",
        "        document_assignment: size n array of assignments of words to documents\n",
        "    Returns:\n",
        "        topic_assignment: updated topic_assignment array\n",
        "        topic_counts: updated topic counts array\n",
        "        doc_counts: updated doc_counts array\n",
        "        topic_N: updated count of words assigned to each topic\n",
        "    \"\"\"\n",
        "    # sampled_word_idx = 0\n",
        "    document_idx = document_assignment[sampled_word_idx]\n",
        "    word_idx = words[sampled_word_idx]\n",
        "    old_topic_idx = topic_assignment[sampled_word_idx]\n",
        "    \n",
        "    # remove sampled from counts\n",
        "    # TODO check how sparse and if sparse encoding helps\n",
        "    topic_counts[old_topic_idx,word_idx] -= 1\n",
        "    doc_counts[document_idx,old_topic_idx] -= 1\n",
        "    topic_N[old_topic_idx] -= 1\n",
        "\n",
        "    # using notation from\n",
        "    # https://medium.com/analytics-vidhya/topic-modeling-using-lda-and-gibbs-sampling-explained-49d49b3d1045\n",
        "    # n = doc_counts\n",
        "    # v = topic_counts\n",
        "    # lam = gamma\n",
        "    # z = topic_assignment\n",
        "    # n_alpha = n+alpha\n",
        "    # v_lam = v+lam\n",
        "\n",
        "    # unvectorized\n",
        "    # p = (n_alpha[document_idx,k])*(v_lam[k,w]) / (n_alpha[document_idx].sum()*v_lam[k].sum()) \n",
        "    # vectorize over k\n",
        "    # p = n_alpha[document_idx]*v_lam[:,word_idx] / (n_alpha[document_idx].sum()*v_lam.sum(1))\n",
        "\n",
        "    # Eq 27.37 in p. 956 of Murphy, 2012\n",
        "    K = n_topics\n",
        "    V = alphabet_size\n",
        "    c_vk = topic_counts\n",
        "    c_ik = doc_counts\n",
        "    c_k = topic_N\n",
        "    L_i = doc_N\n",
        "\n",
        "    p = (c_ik[document_idx] + alpha)*(c_vk[:,word_idx] + gamma) / ((c_k + V*gamma)*(L_i[document_idx]+K*alpha))\n",
        "    \n",
        "    z_sampled = np.random.choice(topic_integers,size=1,p=p/p.sum())\n",
        "    new_topic_idx = z_sampled\n",
        "\n",
        "    # update\n",
        "    topic_counts[new_topic_idx,word_idx] += 1\n",
        "    doc_counts[document_idx,new_topic_idx] += 1\n",
        "    topic_assignment[sampled_word_idx] = new_topic_idx\n",
        "    #topic_N = topic_counts.sum(axis=1) \n",
        "    topic_N[new_topic_idx] += 1\n",
        "    \n",
        "\n",
        "    return topic_assignment, topic_counts, doc_counts, topic_N"
      ],
      "execution_count": null,
      "outputs": []
    },
    {
      "cell_type": "code",
      "metadata": {
        "id": "8_A1Zip4h382"
      },
      "source": [
        "#prior parameters, alpha parameterizes the dirichlet to regularize the\n",
        "#document specific distributions over topics and gamma parameterizes the \n",
        "#dirichlet to regularize the topic specific distributions over words.\n",
        "#These parameters are both scalars and really we use alpha * ones() to\n",
        "#parameterize each dirichlet distribution. Iters will set the number of\n",
        "#times your sampler will iterate.\n",
        "alpha = 0.1\n",
        "gamma = 0.001 \n",
        "iters = 150\n",
        "\n",
        "jll = []\n",
        "\n",
        "ll_max = joint_log_lik(doc_counts,topic_counts,alpha,gamma)\n",
        "jll.append(ll_max)\n",
        "\n",
        "n_words = words.size\n",
        "topic_integers = np.arange(20)\n",
        "iter_li = []\n",
        "    \n",
        "K = n_topics\n",
        "M = n_docs\n",
        "K,V = topic_counts.shape # (20, 13649) (K,V) topic_counts[k,v] is number of times topic k uses word v\n",
        "M,K_ = doc_counts.shape # (100, 20) (M,K) doc_counts[m,k] is number of times document m uses topic k\n",
        "assert K == K_"
      ],
      "execution_count": null,
      "outputs": []
    },
    {
      "cell_type": "code",
      "metadata": {
        "colab": {
          "base_uri": "https://localhost:8080/"
        },
        "id": "fYVqwlDrcZVD",
        "outputId": "3b0ae809-b5f9-4217-c26d-4063896d22e4"
      },
      "source": [
        "%%timeit \n",
        "sampled_word_idx=0\n",
        "sample_topic_assignment(\n",
        "                        topic_assignment,\n",
        "                        topic_counts,\n",
        "                        doc_counts,\n",
        "                        topic_N,\n",
        "                        doc_N,\n",
        "                        alpha,\n",
        "                        gamma,\n",
        "                        words,\n",
        "                        document_assignment,\n",
        "                        sampled_word_idx,\n",
        "                        topic_integers,\n",
        "                        K,\n",
        "                        V)"
      ],
      "execution_count": null,
      "outputs": [
        {
          "name": "stdout",
          "output_type": "stream",
          "text": [
            "The slowest run took 10.13 times longer than the fastest. This could mean that an intermediate result is being cached.\n",
            "10000 loops, best of 5: 72.4 µs per loop\n"
          ]
        }
      ]
    },
    {
      "cell_type": "code",
      "metadata": {
        "colab": {
          "background_save": true
        },
        "id": "-MVgu_SZ9Nde"
      },
      "source": [
        "for iter in range(iters):\n",
        "  #print('iteration',iter)\n",
        "  sampled_word_idxs = np.random.permutation(words.size)\n",
        "  for i,sampled_word_idx in enumerate(sampled_word_idxs):\n",
        "    if (i % (n_words//10)) == 0: print(i)\n",
        "    # prm = np.random.permutation(words.shape[0])\n",
        "    # words = words[prm]   \n",
        "    # document_assignment = document_assignment[prm]\n",
        "    # topic_assignment = topic_assignment[prm]\n",
        "\n",
        "    #sampled_word_idx = np.random.choice(n_words)\n",
        "    \n",
        "    topic_assignment, topic_counts, doc_counts, topic_N = sample_topic_assignment(\n",
        "                                topic_assignment,\n",
        "                                topic_counts,\n",
        "                                doc_counts,\n",
        "                                topic_N,\n",
        "                                doc_N,\n",
        "                                alpha,\n",
        "                                gamma,\n",
        "                                words,\n",
        "                                document_assignment,\n",
        "                                sampled_word_idx,\n",
        "                                topic_integers,\n",
        "                                K,\n",
        "                                V)\n",
        "    if (i % (n_words//1000)) == 0:\n",
        "      #print(i,end=' ')\n",
        "      ll = joint_log_lik(doc_counts,topic_counts,alpha,gamma)\n",
        "      jll.append(ll)\n",
        "      iter_li.append(iter)\n",
        "  ll = joint_log_lik(doc_counts,topic_counts,alpha,gamma)\n",
        "  jll.append(ll)\n",
        "  iter_li.append(iter)\n",
        "  if ll > ll_max:\n",
        "    ll_max = ll\n",
        "    topic_counts_max = topic_counts\n",
        "plt.plot(jll)"
      ],
      "execution_count": null,
      "outputs": []
    },
    {
      "cell_type": "code",
      "metadata": {
        "id": "jOgZekCD-UfP",
        "colab": {
          "base_uri": "https://localhost:8080/",
          "height": 312
        },
        "outputId": "970b9706-69ac-4fdd-8507-3031afa0d1aa"
      },
      "source": [
        "sr = pd.Series(jll)\n",
        "sr.index = np.linspace(0,np.max(iter_li),len(jll))\n",
        "sr.plot()\n",
        "plt.ylabel('Log p(Z,W)')\n",
        "plt.xlabel('Iteration (loop through corpus)')\n",
        "plt.title('Joint distribution')"
      ],
      "execution_count": 60,
      "outputs": [
        {
          "output_type": "execute_result",
          "data": {
            "text/plain": [
              "Text(0.5, 1.0, 'Joint distribution')"
            ]
          },
          "metadata": {},
          "execution_count": 60
        },
        {
          "output_type": "display_data",
          "data": {
            "image/png": "[encoded data removed]",
            "text/plain": [
              "<Figure size 432x288 with 1 Axes>"
            ]
          },
          "metadata": {
            "needs_background": "light"
          }
        }
      ]
    },
    {
      "cell_type": "code",
      "metadata": {
        "id": "OhGBM_gi_Fo6",
        "colab": {
          "base_uri": "https://localhost:8080/",
          "height": 328
        },
        "outputId": "37e53d60-1920-451a-e8b1-f7d48b47e915"
      },
      "source": [
        "sr = pd.Series(jll)\n",
        "sr.index = np.linspace(0,np.max(iter_li),len(jll))\n",
        "sr.iloc[-4000:].plot()\n",
        "plt.ylabel('Log p(Z,W)')\n",
        "plt.xlabel('Iteration (loop through corpus)')\n",
        "plt.title('Joint distribution (at end of run showing equilibrium)\\n')"
      ],
      "execution_count": 69,
      "outputs": [
        {
          "output_type": "execute_result",
          "data": {
            "text/plain": [
              "Text(0.5, 1.0, 'Joint distribution (at end of run showing equilibrium)\\n')"
            ]
          },
          "metadata": {},
          "execution_count": 69
        },
        {
          "output_type": "display_data",
          "data": {
            "image/png": "[encoded data removed]",
            "text/plain": [
              "<Figure size 432x288 with 1 Axes>"
            ]
          },
          "metadata": {
            "needs_background": "light"
          }
        }
      ]
    },
    {
      "cell_type": "code",
      "metadata": {
        "id": "HN9X6O8TUA2e"
      },
      "source": [
        "import pickle\n",
        "wdir = '/content/drive/MyDrive/ubc_cs/2021w/cpsc532w'"
      ],
      "execution_count": null,
      "outputs": []
    },
    {
      "cell_type": "code",
      "metadata": {
        "colab": {
          "base_uri": "https://localhost:8080/"
        },
        "id": "qh3WszarUxl0",
        "outputId": "0366f364-8911-4c7b-eba4-56cced5ecb30"
      },
      "source": [
        "from google.colab import drive\n",
        "drive.mount('/content/drive')"
      ],
      "execution_count": null,
      "outputs": [
        {
          "name": "stdout",
          "output_type": "stream",
          "text": [
            "Drive already mounted at /content/drive; to attempt to forcibly remount, call drive.mount(\"/content/drive\", force_remount=True).\n"
          ]
        }
      ]
    },
    {
      "cell_type": "code",
      "metadata": {
        "id": "btDusOgiRwlS"
      },
      "source": [
        "import time\n",
        "fname = ('').join([wdir,'/hw1-q5-',time.strftime('%Y%m%d-%H%M'),'.p'])\n",
        "\n",
        "data_d = {'topic_assignment':topic_assignment,\n",
        "          'topic_counts':topic_counts, \n",
        "          'doc_counts':doc_counts,\n",
        "          'topic_N':topic_N,\n",
        "          'alpha':alpha,\n",
        "          'gamma':gamma,\n",
        "          'n_topics':n_topics,\n",
        "          'alphabet_size':alphabet_size,\n",
        "          'n_words':n_words,\n",
        "          'll_max':ll_max,\n",
        "          'n_docs':n_docs,\n",
        "          'jll':jll,\n",
        "          'iter':iter_li,\n",
        "}\n",
        "\n",
        "pickle.dump( data_d, open( fname, \"wb\" ) )"
      ],
      "execution_count": 50,
      "outputs": []
    },
    {
      "cell_type": "code",
      "metadata": {
        "colab": {
          "base_uri": "https://localhost:8080/"
        },
        "id": "8AJiCngLYNzq",
        "outputId": "44f8c9f5-12e4-4d6c-c4bd-33d78a10a99c"
      },
      "source": [
        "!ls /content/drive/MyDrive/ubc_cs/2021w/cpsc532w"
      ],
      "execution_count": 75,
      "outputs": [
        {
          "output_type": "stream",
          "name": "stdout",
          "text": [
            "hw1-q5-20210928-1708.p\thw1-q5-20210930-1940.p\thw1-q5-20211001-0233.p\n",
            "hw1-q5-20210929-0530.p\thw1-q5-20210930-2348.p\thw1-q5-20211001-0525.p\n"
          ]
        }
      ]
    },
    {
      "cell_type": "code",
      "metadata": {
        "id": "bCatMzHBSPdx"
      },
      "source": [
        "# fname_load = '/content/drive/MyDrive/ubc_cs/2021w/cpsc532w/hw1-q5-20210929-0530.p'\n",
        "# load_d = pickle.load( open( fname_load, \"rb\" ) )\n",
        "\n",
        "# alpha = load_d['alpha']\n",
        "# topic_assignment=load_d['topic_assignment']\n",
        "# topic_counts=load_d['topic_counts']\n",
        "# doc_counts=load_d['doc_counts']\n",
        "# topic_N=load_d['topic_N']\n",
        "# alpha=load_d['alpha']\n",
        "# gamma=load_d['gamma']\n",
        "# n_topics=load_d['n_topics']\n",
        "# alphabet_size=load_d['alphabet_size']\n",
        "# n_words=load_d['n_words']\n",
        "# ll_max=load_d['ll_max']\n",
        "# n_docs =load_d['n_docs']\n",
        "# jll=load_d['jll']"
      ],
      "execution_count": null,
      "outputs": []
    },
    {
      "cell_type": "markdown",
      "metadata": {
        "id": "LM4Z-IPrDXDY"
      },
      "source": [
        "## **What are the top ten most probable words for each of the 20 topics?**"
      ]
    },
    {
      "cell_type": "code",
      "metadata": {
        "id": "0md0NWEWEhh_"
      },
      "source": [
        "### find the 10 most probable words of the 20 topics:\n",
        "ind = np.argsort(topic_counts_max, axis=1) # note that this is from lest to most probable, and we should look at the end of the array for the popular"
      ],
      "execution_count": 70,
      "outputs": []
    },
    {
      "cell_type": "code",
      "metadata": {
        "colab": {
          "base_uri": "https://localhost:8080/"
        },
        "id": "6SWjZrjLEpXy",
        "outputId": "6224b96e-d6d8-45f8-feca-af8b4b109a56"
      },
      "source": [
        "n_prob_words = 10\n",
        "most_popular_words = words_d['WO'][ind[:,-n_prob_words:].flatten()].reshape(n_topics,n_prob_words)\n",
        "print('most popular words')\n",
        "for row in range(most_popular_words.shape[0]):\n",
        "  print('topic %i'%row,end=\" \")\n",
        "  for col in range(most_popular_words.shape[1]):\n",
        "    print(most_popular_words[row,col][0],end=\" \")\n",
        "  print()"
      ],
      "execution_count": 71,
      "outputs": [
        {
          "output_type": "stream",
          "name": "stdout",
          "text": [
            "most popular words\n",
            "topic 0 face pixel objects figure feature features recognition object images image \n",
            "topic 1 linear distribution mixture space matrix models algorithm gaussian model data \n",
            "topic 2 fixed model recurrent states neural phase dynamics system state time \n",
            "topic 3 function functions probability class bound error size examples set number \n",
            "topic 4 analysis order frequency filter processing signals time noise information signal \n",
            "topic 5 connectionist graph level representations rule representation set tree rules structure \n",
            "topic 6 vector classifier error class test performance classification data set training \n",
            "topic 7 direction eye cells orientation cortex response stimulus motion model visual \n",
            "topic 8 approximation matrix gradient case problem functions algorithm vector linear function \n",
            "topic 9 vlsi input neuron voltage output current figure chip circuit analog \n",
            "topic 10 number output net nodes layer memory input networks neural network \n",
            "topic 11 neural log variables prior bayesian parameters models distribution probability model \n",
            "topic 12 rate model input spike firing cells synaptic neuron cell neurons \n",
            "topic 13 unit weights networks output error hidden input training units network \n",
            "topic 14 regions target location space region fig position fields map field \n",
            "topic 15 control time actions function optimal states policy reinforcement action state \n",
            "topic 16 words time hmm training context sequence system word recognition speech \n",
            "topic 17 search learned number learn problem task algorithms time algorithm learning \n",
            "topic 18 figure systems controller feedback forward neural motor control system model \n",
            "topic 19 kernel prediction results regression estimate approach based methods method data \n"
          ]
        }
      ]
    },
    {
      "cell_type": "markdown",
      "metadata": {
        "id": "-T15-uCGj1ua"
      },
      "source": [
        "**One can consider the distribution over topics as a low dimensional representation of a document. We can use the dot product between topic distributions for two documents as a similarity metric. \n",
        "\n",
        "## **What are the ten most similar documents to the first document, “Connectivity Versus Entropy”?**\n",
        "\n",
        "* Normalize counts to distribution (sum to 1). Use cosine similarity to handle confounding length/size."
      ]
    },
    {
      "cell_type": "code",
      "metadata": {
        "id": "oNhEWDB2jyGd"
      },
      "source": [
        "query_idx = 0\n",
        "topics_dist = doc_counts/doc_counts.sum(1).reshape(-1,1)\n",
        "def norm(arr,axis=None): \n",
        "  if axis is None:\n",
        "    return np.sqrt((arr*arr).sum())\n",
        "  else:\n",
        "    return np.sqrt((arr*arr).sum(axis))\n",
        "similarity = topics_dist.dot(topics_dist[query_idx,:]) / (norm(topics_dist,1) * norm(topics_dist[query_idx,:]))"
      ],
      "execution_count": 72,
      "outputs": []
    },
    {
      "cell_type": "code",
      "metadata": {
        "colab": {
          "base_uri": "https://localhost:8080/"
        },
        "id": "_f5gGlknZpxF",
        "outputId": "9961e930-9b46-4201-de4b-2482defe2270"
      },
      "source": [
        "n_sim=10\n",
        "similar_idx = np.argsort(similarity)[-n_sim:][::-1]\n",
        "for idx, close_topic in enumerate([x[0] for x in titles[similar_idx]]):\n",
        "  print(idx,close_topic)"
      ],
      "execution_count": 73,
      "outputs": [
        {
          "output_type": "stream",
          "name": "stdout",
          "text": [
            "0 Connectivity Versus Entropy \n",
            "1 LEARNING STOCHASTIC PERCEPTRONS UNDER K-BLOCKING DISTRIBUTIONS \n",
            "2 A Method for Learning from Hints \n",
            "3 The Devil and the Network . \n",
            "4 Strong Unimodality and Exact Learning of Constant Depth g-Perceptron Networks \n",
            "5 On Neural Networks with Minimal Weights \n",
            "6 Estimating Average-Case Learning Curves Using Bayesian, Statistical Physics and VC Dimension Methods \n",
            "7 The VC-Dimension versus the Statistical Capacity of Multilayer Networks \n",
            "8 The Perceptron Algorithm Is Fast for Non-Malicious Distributions \n",
            "9 Neural Computing with Small Weights \n"
          ]
        }
      ]
    }
  ]
}