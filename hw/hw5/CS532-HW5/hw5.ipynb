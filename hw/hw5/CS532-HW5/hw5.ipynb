{
 "cells": [
  {
   "cell_type": "code",
   "execution_count": null,
   "id": "5cc35d5b",
   "metadata": {},
   "outputs": [],
   "source": [
    "from daphne import daphne\n",
    "import os"
   ]
  },
  {
   "cell_type": "code",
   "execution_count": null,
   "id": "0b231c4f",
   "metadata": {},
   "outputs": [],
   "source": [
    "directory = 'programs/tests/hoppl-deterministic'\n",
    "os.chdir('/Users/gw/repos/prob_prog/hw/hw5/CS532-HW5/{}/'.format(directory))"
   ]
  },
  {
   "cell_type": "code",
   "execution_count": null,
   "id": "f0227601",
   "metadata": {},
   "outputs": [],
   "source": [
    "i=3\n",
    "cwd='/Users/gw/repos/daphne'\n",
    "exp = daphne(['desugar-hoppl', '-i', '../prob_prog/hw/hw5/CS532-HW5/programs/tests/hoppl-deterministic/test_{}.daphne'.format(i)])\n",
    "exp\n",
    "\n"
   ]
  },
  {
   "cell_type": "code",
   "execution_count": null,
   "id": "ee8e3a24",
   "metadata": {},
   "outputs": [],
   "source": [
    "desugared_ast_json_fname = '/Users/gw/repos/prob_prog/hw/hw5/CS532-HW5/programs/tests/hoppl-deterministic/test_{}.daphne.json'.format(i)\n",
    "with open(desugared_ast_json_fname, 'w') as f:\n",
    "    json.dump(exp, f)"
   ]
  },
  {
   "cell_type": "code",
   "execution_count": null,
   "id": "12cf3f52",
   "metadata": {},
   "outputs": [],
   "source": [
    "%ls /Users/gw/repos/daphne/../prob_prog/hw/hw5/CS532-HW5/programs/tests/hoppl-deterministic"
   ]
  },
  {
   "cell_type": "code",
   "execution_count": null,
   "id": "e0245c44",
   "metadata": {},
   "outputs": [],
   "source": [
    "class Env():\n",
    "    \"An environment: a dict of {'var': val} pairs, with an outer Env.\"\n",
    "    def __init__(self, parms=(), args=(), outer=None):\n",
    "        self.data = pmap(zip(parms, args))\n",
    "        self.outer = outer\n",
    "        if outer is None:\n",
    "            self.level = 0\n",
    "        else:\n",
    "            self.level = outer.level+1\n",
    "    def __getitem__(self, item):\n",
    "        return self.data[item]\n",
    "    def find(self, var):\n",
    "        \"Find the innermost Env where var appears.\"\n",
    "        if (var in self.data):\n",
    "            return self\n",
    "        else:\n",
    "            if self.outer is not None:\n",
    "                return self.outer.find(var)\n",
    "            else:\n",
    "                raise RuntimeError('var \"{}\" not found in outermost scope'.format(var))\n",
    "    \n",
    "    def print_env(self, print_lowest=False):\n",
    "        print_limit = 1 if print_lowest == False else 0\n",
    "        outer = self\n",
    "        while outer is not None:\n",
    "            if outer.level >= print_limit:\n",
    "                print('Scope on level ', outer.level)\n",
    "                if 'f' in outer:\n",
    "                    print('Found f, ')\n",
    "                    print(outer['f'].body)\n",
    "                    print(outer['f'].parms)\n",
    "                    print(outer['f'].env)\n",
    "                print(outer,'\\n')\n",
    "            outer = outer.outer"
   ]
  },
  {
   "cell_type": "code",
   "execution_count": null,
   "id": "f276ba46",
   "metadata": {},
   "outputs": [],
   "source": [
    "import copy\n",
    "\n",
    "class Procedure(object):\n",
    "    \"A user-defined Scheme procedure.\"\n",
    "    def __init__(self, parms, body, env):\n",
    "        self.parms, self.body, self.env = parms, body, env\n",
    "    def __call__(self, *args): \n",
    "        new_env = copy.deepcopy(self.env)\n",
    "        return eval(self.body, Env(self.parms, args, new_env)) # [0]"
   ]
  },
  {
   "cell_type": "code",
   "execution_count": null,
   "id": "cc7d3719",
   "metadata": {},
   "outputs": [],
   "source": [
    "from pyrsistent import pmap\n",
    "\n",
    "import torch\n",
    "import torch.distributions as dist"
   ]
  },
  {
   "cell_type": "code",
   "execution_count": null,
   "id": "f720c3de",
   "metadata": {},
   "outputs": [],
   "source": [
    "def push_addr(alpha, value):\n",
    "    return alpha + value\n",
    "\n",
    "penv = {\n",
    "    '+': torch.add,\n",
    "    '*':torch.mul,\n",
    "#     'push-address':push_addr\n",
    "}"
   ]
  },
  {
   "cell_type": "code",
   "execution_count": null,
   "id": "51f0f374",
   "metadata": {},
   "outputs": [],
   "source": [
    "def standard_env():\n",
    "    \"An environment with some Scheme standard procedures.\"\n",
    "    env = Env(penv.keys(), penv.values())\n",
    "    return env\n",
    "\n",
    "env = standard_env()\n",
    "env.find('+')\n",
    "#['+'](torch.tensor(0.),torch.tensor(1.))"
   ]
  },
  {
   "cell_type": "code",
   "execution_count": null,
   "id": "83284aa4",
   "metadata": {},
   "outputs": [],
   "source": [
    "def eval(x,env=standard_env(),sigma=None):\n",
    "\n",
    "    print('x',x)\n",
    "    if isinstance(x,str):\n",
    "        return env.find(x)[x], sigma\n",
    "    elif not isinstance(x,list):\n",
    "        return torch.tensor(x),sigma\n",
    "    \n",
    "    op, param, *args = x\n",
    "    \n",
    "    if False:\n",
    "        pass\n",
    "    \n",
    "    elif op == 'push-address':\n",
    "        return '', sigma\n",
    "    elif op == 'fn':\n",
    "        print('args',args)\n",
    "#         param, body = args\n",
    "        body = args[0]\n",
    "        return Procedure(param, body, env), sigma # has eval in it\n",
    "        # param ['alpha', 'x']\n",
    "        # body ['*', ['push-address', 'alpha', 'addr2'], 'x', 'x']\n",
    "        # env\n",
    "    \n",
    "    else:\n",
    "        print('in else. x',x)\n",
    "        proc, _ = eval(op,env,sigma)\n",
    "        vals = [''] # TODO: address for fn???\n",
    "        vals.extend([eval(arg, env, sigma)[0] for arg in args])\n",
    "        print('vals',vals)\n",
    "\n",
    "        if isinstance(proc, Procedure): # lambdas, not primitives\n",
    "            print('in Procedure',proc, vals)\n",
    "            r, _ = proc(*vals)\n",
    "        else:\n",
    "            r = proc(*vals[1:]) # primitives\n",
    "            print('in primitives',proc, vals)\n",
    "            \n",
    "        return r, sigma\n",
    "    \n",
    "\n",
    "# eval(['*','a0',3,3])  \n",
    "\n",
    "# why vals only tensor(8.), where did push add go?"
   ]
  },
  {
   "cell_type": "code",
   "execution_count": null,
   "id": "e0f60e5f",
   "metadata": {},
   "outputs": [],
   "source": [
    "exp"
   ]
  },
  {
   "cell_type": "code",
   "execution_count": null,
   "id": "39fd08fd",
   "metadata": {},
   "outputs": [],
   "source": [
    "proc, sigma = eval(exp)\n",
    "proc('')"
   ]
  },
  {
   "cell_type": "code",
   "execution_count": null,
   "id": "13361cd5",
   "metadata": {},
   "outputs": [],
   "source": [
    "exp_sq_8 = [['fn', ['alpha', 'x'], ['*', ['push-address', 'alpha', 'addr2'], 'x', 'x']],\n",
    "   ['push-address', 'alpha', 'addr1'],\n",
    "   9]\n",
    "\n",
    "eval(exp_sq_8)#(torch.tensor(8.))"
   ]
  },
  {
   "cell_type": "code",
   "execution_count": null,
   "id": "fc803c4b",
   "metadata": {},
   "outputs": [],
   "source": [
    "exp_inner = ['fn', ['alpha', 'x'], ['*', ['push-address', 'alpha', 'addr2'], 'x', 'x']]\n",
    "eval(exp_inner)#(torch.tensor(8.))"
   ]
  },
  {
   "cell_type": "markdown",
   "id": "27fadc15",
   "metadata": {},
   "source": [
    "# test driven development"
   ]
  },
  {
   "cell_type": "code",
   "execution_count": null,
   "id": "59980cb4",
   "metadata": {},
   "outputs": [],
   "source": [
    "import sys\n",
    "sys.setrecursionlimit(10000)"
   ]
  },
  {
   "cell_type": "markdown",
   "id": "1a50c692",
   "metadata": {},
   "source": [
    "## cons"
   ]
  },
  {
   "cell_type": "code",
   "execution_count": null,
   "id": "2caaab7f",
   "metadata": {},
   "outputs": [],
   "source": [
    "exp = [tensor(0.), tensor([1,2,3])]\n",
    "\n",
    "torch.cat((torch.tensor([exp[0]]), exp[1]), dim=0)"
   ]
  },
  {
   "cell_type": "code",
   "execution_count": null,
   "id": "56c11f34",
   "metadata": {},
   "outputs": [],
   "source": [
    "def cons(*exp):\n",
    "    try:\n",
    "        return torch.cat((torch.tensor([exp[1]]), exp[0]), dim=0)\n",
    "    except:\n",
    "        return torch.cat((torch.tensor([exp[1]]), torch.tensor(exp[0])), dim = 0)"
   ]
  },
  {
   "cell_type": "markdown",
   "id": "1a871f4d",
   "metadata": {},
   "source": [
    "## hash-map"
   ]
  },
  {
   "cell_type": "code",
   "execution_count": null,
   "id": "08eca29f",
   "metadata": {},
   "outputs": [],
   "source": [
    "# eval_hoppl(['hash-map','','a',1,'b',2])"
   ]
  },
  {
   "cell_type": "code",
   "execution_count": null,
   "id": "e0b05030",
   "metadata": {},
   "outputs": [],
   "source": [
    "# from old_primitives import penv\n",
    "# from torch import tensor\n",
    "\n",
    "# vals = ['',tensor(1.),tensor(2.)]\n",
    "# penv['+'](vals[1:])"
   ]
  },
  {
   "cell_type": "code",
   "execution_count": null,
   "id": "b0118dfe",
   "metadata": {},
   "outputs": [],
   "source": [
    "# fname = 'programs/tests/hoppl-deterministic/test_{}.daphne.json'.format(i)\n",
    "\n",
    "# with open(fname) as f:\n",
    "#      exp = json.load(f)\n",
    "# exp\n",
    "# # "
   ]
  },
  {
   "cell_type": "markdown",
   "id": "3ec582ca",
   "metadata": {},
   "source": [
    "## empty"
   ]
  },
  {
   "cell_type": "code",
   "execution_count": null,
   "id": "7471e7f2",
   "metadata": {},
   "outputs": [],
   "source": [
    "from primitives import penv\n",
    "penv['empty?']([tensor([1])])"
   ]
  },
  {
   "cell_type": "code",
   "execution_count": null,
   "id": "715d8d52",
   "metadata": {},
   "outputs": [],
   "source": [
    "['', tensor([])][1:]"
   ]
  },
  {
   "cell_type": "code",
   "execution_count": null,
   "id": "80d956ab",
   "metadata": {},
   "outputs": [],
   "source": [
    "eval_hoppl(['empty?','',['vector','']],do_log=True)"
   ]
  },
  {
   "cell_type": "code",
   "execution_count": null,
   "id": "ca379908",
   "metadata": {},
   "outputs": [],
   "source": [
    "args=[[tensor(0.), tensor(1.)]]\n",
    "\n",
    "[eval_hoppl(arg)[0] for arg in args]"
   ]
  },
  {
   "cell_type": "code",
   "execution_count": null,
   "id": "11fa5872",
   "metadata": {},
   "outputs": [],
   "source": [
    "eval_hoppl(['empty?','',[tensor(0.),tensor(1.)]],do_log=True)"
   ]
  },
  {
   "cell_type": "code",
   "execution_count": null,
   "id": "6cb9d3b5",
   "metadata": {},
   "outputs": [],
   "source": [
    "eval_hoppl(['vector','',tensor(1),tensor(2)])"
   ]
  },
  {
   "cell_type": "markdown",
   "id": "1ddf6167",
   "metadata": {},
   "source": [
    "## cons/conj\n",
    "* 12 cons and map. cons primitive can't handle  \n",
    "  * vals[1:] [tensor([]), tensor([4])] \n",
    "  * because can't do "
   ]
  },
  {
   "cell_type": "code",
   "execution_count": null,
   "id": "9a1b4a59",
   "metadata": {},
   "outputs": [],
   "source": [
    "tensor(tensor([]))"
   ]
  },
  {
   "cell_type": "code",
   "execution_count": null,
   "id": "6e97120d",
   "metadata": {},
   "outputs": [],
   "source": [
    "item, vector = [tensor([]), tensor([4])]\n",
    "penv['cons']([tensor([]), tensor([4])])"
   ]
  },
  {
   "cell_type": "code",
   "execution_count": null,
   "id": "465f3ddd",
   "metadata": {},
   "outputs": [],
   "source": [
    "item = tensor([1])\n",
    "vector = tensor([4,5])\n",
    "torch.cat((torch.tensor(item), vector), dim=0)"
   ]
  },
  {
   "cell_type": "code",
   "execution_count": null,
   "id": "99c3a5b0",
   "metadata": {},
   "outputs": [],
   "source": [
    "torch.tensor(item)"
   ]
  },
  {
   "cell_type": "markdown",
   "id": "b6dc2bbf",
   "metadata": {},
   "source": [
    "## deterministic-hoppl tests"
   ]
  },
  {
   "cell_type": "code",
   "execution_count": null,
   "id": "92bcce1e",
   "metadata": {},
   "outputs": [],
   "source": [
    "from tests import load_truth, is_tol\n",
    "import os, json\n",
    "from daphne import daphne\n",
    "import torch\n",
    "from torch import tensor\n",
    "\n",
    "import importlib\n",
    "import evaluator\n",
    "importlib.reload(evaluator)\n",
    "from evaluator import evaluate, run_deterministic_tests, ast_helper, eval_hoppl\n",
    "\n",
    "import primitives\n",
    "importlib.reload(primitives)"
   ]
  },
  {
   "cell_type": "code",
   "execution_count": null,
   "id": "8b584265",
   "metadata": {},
   "outputs": [],
   "source": [
    "i=6\n",
    "fname='test_{}.daphne'.format(i)\n",
    "exp = ast_helper(fname,directory='programs/tests/probabilistic/')\n",
    "exp"
   ]
  },
  {
   "cell_type": "code",
   "execution_count": null,
   "id": "f072b82a",
   "metadata": {},
   "outputs": [],
   "source": [
    "os.chdir('/Users/gw/repos/prob_prog/hw/hw5/CS532-HW5/')\n",
    "truth = load_truth('programs/tests/hoppl-deterministic/test_{}.truth'.format(i))\n",
    "truth"
   ]
  },
  {
   "cell_type": "code",
   "execution_count": null,
   "id": "5da1e261",
   "metadata": {},
   "outputs": [],
   "source": [
    "ret = evaluate(exp, do_log=False)\n",
    "ret\n",
    "# assert(is_tol(ret, truth))\n",
    "# 4,6,8 quote a and b. daphne output good?"
   ]
  },
  {
   "cell_type": "markdown",
   "id": "207920b8",
   "metadata": {},
   "source": [
    "## all tests"
   ]
  },
  {
   "cell_type": "code",
   "execution_count": null,
   "id": "a7588be4",
   "metadata": {},
   "outputs": [],
   "source": [
    "%cd /Users/gw/repos/prob_prog/hw/hw5/CS532-HW5\n",
    "run_deterministic_tests()"
   ]
  },
  {
   "cell_type": "code",
   "execution_count": null,
   "id": "3a442741",
   "metadata": {},
   "outputs": [],
   "source": [
    "%cd /Users/gw/repos/prob_prog/hw/hw5/CS532-HW5\n",
    "import evaluator\n",
    "importlib.reload(evaluator)\n",
    "evaluator.run_probabilistic_tests()"
   ]
  },
  {
   "cell_type": "markdown",
   "id": "33cca73c",
   "metadata": {},
   "source": [
    "# programs"
   ]
  },
  {
   "cell_type": "code",
   "execution_count": 1,
   "id": "d1de34f0",
   "metadata": {},
   "outputs": [],
   "source": [
    "import evaluator\n",
    "import importlib\n",
    "import torch\n",
    "from torch import tensor\n",
    "importlib.reload(evaluator)\n",
    "from evaluator import evaluate, run_deterministic_tests, ast_helper, eval_hoppl\n"
   ]
  },
  {
   "cell_type": "markdown",
   "id": "29d6ac58",
   "metadata": {},
   "source": [
    "## program 2\n",
    "* log\n",
    "* observe"
   ]
  },
  {
   "cell_type": "code",
   "execution_count": 2,
   "id": "39b77529",
   "metadata": {},
   "outputs": [
    {
     "data": {
      "text/plain": [
       "['fn',\n",
       " ['alpha'],\n",
       " [['fn',\n",
       "   ['alpha', 'marsaglia-normal'],\n",
       "   [['fn',\n",
       "     ['alpha', 'mu'],\n",
       "     [['fn',\n",
       "       ['alpha', 'sigma'],\n",
       "       [['fn',\n",
       "         ['alpha', 'lik'],\n",
       "         [['fn',\n",
       "           ['alpha', 'dontcare0'],\n",
       "           [['fn', ['alpha', 'dontcare1'], 'mu'],\n",
       "            ['push-address', 'alpha', 'addr7'],\n",
       "            ['observe', ['push-address', 'alpha', 'addr8'], 'lik', 9]]],\n",
       "          ['push-address', 'alpha', 'addr6'],\n",
       "          ['observe', ['push-address', 'alpha', 'addr9'], 'lik', 8]]],\n",
       "        ['push-address', 'alpha', 'addr5'],\n",
       "        ['normal', ['push-address', 'alpha', 'addr10'], 'mu', 'sigma']]],\n",
       "      ['push-address', 'alpha', 'addr4'],\n",
       "      ['sqrt', ['push-address', 'alpha', 'addr11'], 2]]],\n",
       "    ['push-address', 'alpha', 'addr3'],\n",
       "    ['marsaglia-normal', ['push-address', 'alpha', 'addr12'], 1, 5]]],\n",
       "  ['push-address', 'alpha', 'addr2'],\n",
       "  ['fn',\n",
       "   ['alpha', 'mean', 'var'],\n",
       "   [['fn',\n",
       "     ['alpha', 'mean', 'var', 'marsaglia-normal'],\n",
       "     [['fn',\n",
       "       ['alpha', 'd'],\n",
       "       [['fn',\n",
       "         ['alpha', 'x'],\n",
       "         [['fn',\n",
       "           ['alpha', 'y'],\n",
       "           [['fn',\n",
       "             ['alpha', 's'],\n",
       "             ['if',\n",
       "              ['<', ['push-address', 'alpha', 'addr18'], 's', 1],\n",
       "              ['+',\n",
       "               ['push-address', 'alpha', 'addr19'],\n",
       "               'mean',\n",
       "               ['*',\n",
       "                ['push-address', 'alpha', 'addr20'],\n",
       "                ['sqrt', ['push-address', 'alpha', 'addr21'], 'var'],\n",
       "                ['*',\n",
       "                 ['push-address', 'alpha', 'addr22'],\n",
       "                 'x',\n",
       "                 ['sqrt',\n",
       "                  ['push-address', 'alpha', 'addr23'],\n",
       "                  ['*',\n",
       "                   ['push-address', 'alpha', 'addr24'],\n",
       "                   -2,\n",
       "                   ['/',\n",
       "                    ['push-address', 'alpha', 'addr25'],\n",
       "                    ['log', ['push-address', 'alpha', 'addr26'], 's'],\n",
       "                    's']]]]]],\n",
       "              ['marsaglia-normal',\n",
       "               ['push-address', 'alpha', 'addr27'],\n",
       "               'mean',\n",
       "               'var',\n",
       "               'marsaglia-normal']]],\n",
       "            ['push-address', 'alpha', 'addr17'],\n",
       "            ['+',\n",
       "             ['push-address', 'alpha', 'addr28'],\n",
       "             ['*', ['push-address', 'alpha', 'addr29'], 'x', 'x'],\n",
       "             ['*', ['push-address', 'alpha', 'addr30'], 'y', 'y']]]],\n",
       "          ['push-address', 'alpha', 'addr16'],\n",
       "          ['sample', ['push-address', 'alpha', 'addr31'], 'd']]],\n",
       "        ['push-address', 'alpha', 'addr15'],\n",
       "        ['sample', ['push-address', 'alpha', 'addr32'], 'd']]],\n",
       "      ['push-address', 'alpha', 'addr14'],\n",
       "      ['uniform-continuous', ['push-address', 'alpha', 'addr33'], -1.0, 1.0]]],\n",
       "    ['push-address', 'alpha', 'addr13'],\n",
       "    'mean',\n",
       "    'var',\n",
       "    ['fn',\n",
       "     ['alpha', 'mean', 'var', 'marsaglia-normal'],\n",
       "     [['fn',\n",
       "       ['alpha', 'd'],\n",
       "       [['fn',\n",
       "         ['alpha', 'x'],\n",
       "         [['fn',\n",
       "           ['alpha', 'y'],\n",
       "           [['fn',\n",
       "             ['alpha', 's'],\n",
       "             ['if',\n",
       "              ['<', ['push-address', 'alpha', 'addr38'], 's', 1],\n",
       "              ['+',\n",
       "               ['push-address', 'alpha', 'addr39'],\n",
       "               'mean',\n",
       "               ['*',\n",
       "                ['push-address', 'alpha', 'addr40'],\n",
       "                ['sqrt', ['push-address', 'alpha', 'addr41'], 'var'],\n",
       "                ['*',\n",
       "                 ['push-address', 'alpha', 'addr42'],\n",
       "                 'x',\n",
       "                 ['sqrt',\n",
       "                  ['push-address', 'alpha', 'addr43'],\n",
       "                  ['*',\n",
       "                   ['push-address', 'alpha', 'addr44'],\n",
       "                   -2,\n",
       "                   ['/',\n",
       "                    ['push-address', 'alpha', 'addr45'],\n",
       "                    ['log', ['push-address', 'alpha', 'addr46'], 's'],\n",
       "                    's']]]]]],\n",
       "              ['marsaglia-normal',\n",
       "               ['push-address', 'alpha', 'addr47'],\n",
       "               'mean',\n",
       "               'var',\n",
       "               'marsaglia-normal']]],\n",
       "            ['push-address', 'alpha', 'addr37'],\n",
       "            ['+',\n",
       "             ['push-address', 'alpha', 'addr48'],\n",
       "             ['*', ['push-address', 'alpha', 'addr49'], 'x', 'x'],\n",
       "             ['*', ['push-address', 'alpha', 'addr50'], 'y', 'y']]]],\n",
       "          ['push-address', 'alpha', 'addr36'],\n",
       "          ['sample', ['push-address', 'alpha', 'addr51'], 'd']]],\n",
       "        ['push-address', 'alpha', 'addr35'],\n",
       "        ['sample', ['push-address', 'alpha', 'addr52'], 'd']]],\n",
       "      ['push-address', 'alpha', 'addr34'],\n",
       "      ['uniform-continuous',\n",
       "       ['push-address', 'alpha', 'addr53'],\n",
       "       -1.0,\n",
       "       1.0]]]]]]]"
      ]
     },
     "execution_count": 2,
     "metadata": {},
     "output_type": "execute_result"
    }
   ],
   "source": [
    "i=2\n",
    "fname='{}.daphne'.format(i)\n",
    "exp = ast_helper(fname,directory='programs/')\n",
    "exp"
   ]
  },
  {
   "cell_type": "code",
   "execution_count": 13,
   "id": "677d1288",
   "metadata": {},
   "outputs": [
    {
     "data": {
      "text/plain": [
       "tensor(-1.1305)"
      ]
     },
     "execution_count": 13,
     "metadata": {},
     "output_type": "execute_result"
    }
   ],
   "source": [
    "ret = evaluate(exp, do_log=False)\n",
    "ret"
   ]
  },
  {
   "cell_type": "code",
   "execution_count": 4,
   "id": "71f5ac20",
   "metadata": {},
   "outputs": [
    {
     "data": {
      "text/plain": [
       "tensor(1.0000)"
      ]
     },
     "execution_count": 4,
     "metadata": {},
     "output_type": "execute_result"
    }
   ],
   "source": [
    "torch.log(torch.exp(tensor(1.)))"
   ]
  }
 ],
 "metadata": {
  "kernelspec": {
   "display_name": "Python 3 (ipykernel)",
   "language": "python",
   "name": "python3"
  },
  "language_info": {
   "codemirror_mode": {
    "name": "ipython",
    "version": 3
   },
   "file_extension": ".py",
   "mimetype": "text/x-python",
   "name": "python",
   "nbconvert_exporter": "python",
   "pygments_lexer": "ipython3",
   "version": "3.9.0"
  }
 },
 "nbformat": 4,
 "nbformat_minor": 5
}
