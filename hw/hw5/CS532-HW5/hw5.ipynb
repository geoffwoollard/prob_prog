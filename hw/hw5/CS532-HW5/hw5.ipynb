{
 "cells": [
  {
   "cell_type": "code",
   "execution_count": null,
   "id": "180b3fe8",
   "metadata": {},
   "outputs": [],
   "source": [
    "from daphne import daphne\n",
    "import os"
   ]
  },
  {
   "cell_type": "code",
   "execution_count": null,
   "id": "d79b9771",
   "metadata": {},
   "outputs": [],
   "source": [
    "directory = 'programs/tests/hoppl-deterministic'\n",
    "os.chdir('/Users/gw/repos/prob_prog/hw/hw5/CS532-HW5/{}/'.format(directory))"
   ]
  },
  {
   "cell_type": "code",
   "execution_count": null,
   "id": "d5b0cb6e",
   "metadata": {},
   "outputs": [],
   "source": [
    "i=3\n",
    "cwd='/Users/gw/repos/daphne'\n",
    "exp = daphne(['desugar-hoppl', '-i', '../prob_prog/hw/hw5/CS532-HW5/programs/tests/hoppl-deterministic/test_{}.daphne'.format(i)])\n",
    "exp\n",
    "\n"
   ]
  },
  {
   "cell_type": "code",
   "execution_count": null,
   "id": "2ab016ba",
   "metadata": {},
   "outputs": [],
   "source": [
    "desugared_ast_json_fname = '/Users/gw/repos/prob_prog/hw/hw5/CS532-HW5/programs/tests/hoppl-deterministic/test_{}.daphne.json'.format(i)\n",
    "with open(desugared_ast_json_fname, 'w') as f:\n",
    "    json.dump(exp, f)"
   ]
  },
  {
   "cell_type": "code",
   "execution_count": null,
   "id": "25794a10",
   "metadata": {},
   "outputs": [],
   "source": [
    "%ls /Users/gw/repos/daphne/../prob_prog/hw/hw5/CS532-HW5/programs/tests/hoppl-deterministic"
   ]
  },
  {
   "cell_type": "code",
   "execution_count": null,
   "id": "077b0cb3",
   "metadata": {},
   "outputs": [],
   "source": [
    "class Env():\n",
    "    \"An environment: a dict of {'var': val} pairs, with an outer Env.\"\n",
    "    def __init__(self, parms=(), args=(), outer=None):\n",
    "        self.data = pmap(zip(parms, args))\n",
    "        self.outer = outer\n",
    "        if outer is None:\n",
    "            self.level = 0\n",
    "        else:\n",
    "            self.level = outer.level+1\n",
    "    def __getitem__(self, item):\n",
    "        return self.data[item]\n",
    "    def find(self, var):\n",
    "        \"Find the innermost Env where var appears.\"\n",
    "        if (var in self.data):\n",
    "            return self\n",
    "        else:\n",
    "            if self.outer is not None:\n",
    "                return self.outer.find(var)\n",
    "            else:\n",
    "                raise RuntimeError('var \"{}\" not found in outermost scope'.format(var))\n",
    "    \n",
    "    def print_env(self, print_lowest=False):\n",
    "        print_limit = 1 if print_lowest == False else 0\n",
    "        outer = self\n",
    "        while outer is not None:\n",
    "            if outer.level >= print_limit:\n",
    "                print('Scope on level ', outer.level)\n",
    "                if 'f' in outer:\n",
    "                    print('Found f, ')\n",
    "                    print(outer['f'].body)\n",
    "                    print(outer['f'].parms)\n",
    "                    print(outer['f'].env)\n",
    "                print(outer,'\\n')\n",
    "            outer = outer.outer"
   ]
  },
  {
   "cell_type": "code",
   "execution_count": null,
   "id": "6622ecba",
   "metadata": {},
   "outputs": [],
   "source": [
    "import copy\n",
    "\n",
    "class Procedure(object):\n",
    "    \"A user-defined Scheme procedure.\"\n",
    "    def __init__(self, parms, body, env):\n",
    "        self.parms, self.body, self.env = parms, body, env\n",
    "    def __call__(self, *args): \n",
    "        new_env = copy.deepcopy(self.env)\n",
    "        return eval(self.body, Env(self.parms, args, new_env)) # [0]"
   ]
  },
  {
   "cell_type": "code",
   "execution_count": null,
   "id": "46c9a0e9",
   "metadata": {},
   "outputs": [],
   "source": [
    "from pyrsistent import pmap\n",
    "\n",
    "import torch\n",
    "import torch.distributions as dist"
   ]
  },
  {
   "cell_type": "code",
   "execution_count": null,
   "id": "311716d8",
   "metadata": {},
   "outputs": [],
   "source": [
    "def push_addr(alpha, value):\n",
    "    return alpha + value\n",
    "\n",
    "penv = {\n",
    "    '+': torch.add,\n",
    "    '*':torch.mul,\n",
    "#     'push-address':push_addr\n",
    "}"
   ]
  },
  {
   "cell_type": "code",
   "execution_count": null,
   "id": "261b66ca",
   "metadata": {},
   "outputs": [],
   "source": [
    "def standard_env():\n",
    "    \"An environment with some Scheme standard procedures.\"\n",
    "    env = Env(penv.keys(), penv.values())\n",
    "    return env\n",
    "\n",
    "env = standard_env()\n",
    "env.find('+')\n",
    "#['+'](torch.tensor(0.),torch.tensor(1.))"
   ]
  },
  {
   "cell_type": "code",
   "execution_count": null,
   "id": "b8d2e997",
   "metadata": {},
   "outputs": [],
   "source": [
    "def eval(x,env=standard_env(),sigma=None):\n",
    "\n",
    "    print('x',x)\n",
    "    if isinstance(x,str):\n",
    "        return env.find(x)[x], sigma\n",
    "    elif not isinstance(x,list):\n",
    "        return torch.tensor(x),sigma\n",
    "    \n",
    "    op, param, *args = x\n",
    "    \n",
    "    if False:\n",
    "        pass\n",
    "    \n",
    "    elif op == 'push-address':\n",
    "        return '', sigma\n",
    "    elif op == 'fn':\n",
    "        print('args',args)\n",
    "#         param, body = args\n",
    "        body = args[0]\n",
    "        return Procedure(param, body, env), sigma # has eval in it\n",
    "        # param ['alpha', 'x']\n",
    "        # body ['*', ['push-address', 'alpha', 'addr2'], 'x', 'x']\n",
    "        # env\n",
    "    \n",
    "    else:\n",
    "        print('in else. x',x)\n",
    "        proc, _ = eval(op,env,sigma)\n",
    "        vals = [''] # TODO: address for fn???\n",
    "        vals.extend([eval(arg, env, sigma)[0] for arg in args])\n",
    "        print('vals',vals)\n",
    "\n",
    "        if isinstance(proc, Procedure): # lambdas, not primitives\n",
    "            print('in Procedure',proc, vals)\n",
    "            r, _ = proc(*vals)\n",
    "        else:\n",
    "            r = proc(*vals[1:]) # primitives\n",
    "            print('in primitives',proc, vals)\n",
    "            \n",
    "        return r, sigma\n",
    "    \n",
    "\n",
    "# eval(['*','a0',3,3])  \n",
    "\n",
    "# why vals only tensor(8.), where did push add go?"
   ]
  },
  {
   "cell_type": "code",
   "execution_count": null,
   "id": "e411adfb",
   "metadata": {},
   "outputs": [],
   "source": [
    "exp"
   ]
  },
  {
   "cell_type": "code",
   "execution_count": null,
   "id": "cef1e553",
   "metadata": {},
   "outputs": [],
   "source": [
    "proc, sigma = eval(exp)\n",
    "proc('')"
   ]
  },
  {
   "cell_type": "code",
   "execution_count": null,
   "id": "9f9a3f9a",
   "metadata": {},
   "outputs": [],
   "source": [
    "exp_sq_8 = [['fn', ['alpha', 'x'], ['*', ['push-address', 'alpha', 'addr2'], 'x', 'x']],\n",
    "   ['push-address', 'alpha', 'addr1'],\n",
    "   9]\n",
    "\n",
    "eval(exp_sq_8)#(torch.tensor(8.))"
   ]
  },
  {
   "cell_type": "code",
   "execution_count": null,
   "id": "732a0c85",
   "metadata": {},
   "outputs": [],
   "source": [
    "exp_inner = ['fn', ['alpha', 'x'], ['*', ['push-address', 'alpha', 'addr2'], 'x', 'x']]\n",
    "eval(exp_inner)#(torch.tensor(8.))"
   ]
  },
  {
   "cell_type": "markdown",
   "id": "941ad40d",
   "metadata": {},
   "source": [
    "# test driven development"
   ]
  },
  {
   "cell_type": "code",
   "execution_count": null,
   "id": "f2103bee",
   "metadata": {},
   "outputs": [],
   "source": [
    "import sys\n",
    "sys.setrecursionlimit(10000)"
   ]
  },
  {
   "cell_type": "markdown",
   "id": "b602c8b4",
   "metadata": {},
   "source": [
    "## hash-map"
   ]
  },
  {
   "cell_type": "code",
   "execution_count": null,
   "id": "8ea1a5f3",
   "metadata": {},
   "outputs": [],
   "source": [
    "# eval_hoppl(['hash-map','','a',1,'b',2])"
   ]
  },
  {
   "cell_type": "code",
   "execution_count": null,
   "id": "828f0742",
   "metadata": {},
   "outputs": [],
   "source": [
    "# from old_primitives import penv\n",
    "# from torch import tensor\n",
    "\n",
    "# vals = ['',tensor(1.),tensor(2.)]\n",
    "# penv['+'](vals[1:])"
   ]
  },
  {
   "cell_type": "code",
   "execution_count": null,
   "id": "5ce6e04f",
   "metadata": {},
   "outputs": [],
   "source": [
    "# fname = 'programs/tests/hoppl-deterministic/test_{}.daphne.json'.format(i)\n",
    "\n",
    "# with open(fname) as f:\n",
    "#      exp = json.load(f)\n",
    "# exp\n",
    "# # "
   ]
  },
  {
   "cell_type": "markdown",
   "id": "6495c6db",
   "metadata": {},
   "source": [
    "## empty"
   ]
  },
  {
   "cell_type": "code",
   "execution_count": 9,
   "id": "9c5d785c",
   "metadata": {},
   "outputs": [
    {
     "data": {
      "text/plain": [
       "True"
      ]
     },
     "execution_count": 9,
     "metadata": {},
     "output_type": "execute_result"
    }
   ],
   "source": [
    "from primitives import penv\n",
    "penv['empty?'](tensor([]))"
   ]
  },
  {
   "cell_type": "code",
   "execution_count": null,
   "id": "0b6ba803",
   "metadata": {},
   "outputs": [],
   "source": [
    "['', tensor([])][1:]"
   ]
  },
  {
   "cell_type": "code",
   "execution_count": 10,
   "id": "eaf9f084",
   "metadata": {},
   "outputs": [
    {
     "name": "stdout",
     "output_type": "stream",
     "text": [
      "x ['empty?', '', ['vector', '']]\n",
      "case else: x ['empty?', '', ['vector', '']]\n",
      "x empty?\n",
      "case else: args [['vector', '']]\n",
      "x ['vector', '']\n",
      "case else: x ['vector', '']\n",
      "x vector\n",
      "case else: args []\n",
      "case else: vals ['']\n",
      "case Procedure: <function vector_primitive at 0x139fe1160> ['']\n",
      "case primitives: r tensor([])\n",
      "case else: vals ['', tensor([])]\n",
      "case Procedure: <function empty_primitive at 0x139fec550> ['', tensor([])]\n",
      "case primitives: r False\n"
     ]
    },
    {
     "data": {
      "text/plain": [
       "(False, None)"
      ]
     },
     "execution_count": 10,
     "metadata": {},
     "output_type": "execute_result"
    }
   ],
   "source": [
    "eval_hoppl(['empty?','',['vector','']],do_log=True)"
   ]
  },
  {
   "cell_type": "code",
   "execution_count": null,
   "id": "1c60ba11",
   "metadata": {},
   "outputs": [],
   "source": [
    "args=[[tensor(0.), tensor(1.)]]\n",
    "\n",
    "[eval_hoppl(arg)[0] for arg in args]"
   ]
  },
  {
   "cell_type": "code",
   "execution_count": null,
   "id": "10c6463d",
   "metadata": {},
   "outputs": [],
   "source": [
    "eval_hoppl(['empty?','',[tensor(0.),tensor(1.)]],do_log=True)"
   ]
  },
  {
   "cell_type": "code",
   "execution_count": 23,
   "id": "b0cbcc28",
   "metadata": {},
   "outputs": [
    {
     "data": {
      "text/plain": [
       "(tensor([1, 2]), None)"
      ]
     },
     "execution_count": 23,
     "metadata": {},
     "output_type": "execute_result"
    }
   ],
   "source": [
    "eval_hoppl(['vector','',tensor(1),tensor(2)])"
   ]
  },
  {
   "cell_type": "markdown",
   "id": "12f7900d",
   "metadata": {},
   "source": [
    "## deterministic-hoppl tests"
   ]
  },
  {
   "cell_type": "code",
   "execution_count": 31,
   "id": "59f7ca2e",
   "metadata": {},
   "outputs": [
    {
     "data": {
      "text/plain": [
       "<module 'primitives' from '/Users/gw/repos/prob_prog/hw/hw5/CS532-HW5/primitives.py'>"
      ]
     },
     "execution_count": 31,
     "metadata": {},
     "output_type": "execute_result"
    }
   ],
   "source": [
    "from tests import load_truth, is_tol\n",
    "import os, json\n",
    "from daphne import daphne\n",
    "import torch\n",
    "from torch import tensor\n",
    "\n",
    "import importlib\n",
    "import evaluator\n",
    "importlib.reload(evaluator)\n",
    "from evaluator import evaluate, run_deterministic_tests, ast_helper, eval_hoppl\n",
    "\n",
    "import primitives\n",
    "importlib.reload(primitives)"
   ]
  },
  {
   "cell_type": "code",
   "execution_count": 34,
   "id": "e94e4f39",
   "metadata": {},
   "outputs": [
    {
     "data": {
      "text/plain": [
       "['fn',\n",
       " ['alpha'],\n",
       " [['fn',\n",
       "   ['alpha', 'reduce'],\n",
       "   ['reduce',\n",
       "    ['push-address', 'alpha', 'addr1'],\n",
       "    '+',\n",
       "    0,\n",
       "    ['vector', ['push-address', 'alpha', 'addr2'], 1, 2, 3]]],\n",
       "  ['push-address', 'alpha', 'addr0'],\n",
       "  ['fn',\n",
       "   ['alpha', 'f', 'x', 'values'],\n",
       "   [['fn',\n",
       "     ['alpha', 'f', 'x', 'values', 'reduce'],\n",
       "     ['if',\n",
       "      ['empty?', ['push-address', 'alpha', 'addr4'], 'values'],\n",
       "      'x',\n",
       "      ['reduce',\n",
       "       ['push-address', 'alpha', 'addr5'],\n",
       "       'f',\n",
       "       ['f',\n",
       "        ['push-address', 'alpha', 'addr6'],\n",
       "        'x',\n",
       "        ['first', ['push-address', 'alpha', 'addr7'], 'values']],\n",
       "       ['rest', ['push-address', 'alpha', 'addr8'], 'values'],\n",
       "       'reduce']]],\n",
       "    ['push-address', 'alpha', 'addr3'],\n",
       "    'f',\n",
       "    'x',\n",
       "    'values',\n",
       "    ['fn',\n",
       "     ['alpha', 'f', 'x', 'values', 'reduce'],\n",
       "     ['if',\n",
       "      ['empty?', ['push-address', 'alpha', 'addr9'], 'values'],\n",
       "      'x',\n",
       "      ['reduce',\n",
       "       ['push-address', 'alpha', 'addr10'],\n",
       "       'f',\n",
       "       ['f',\n",
       "        ['push-address', 'alpha', 'addr11'],\n",
       "        'x',\n",
       "        ['first', ['push-address', 'alpha', 'addr12'], 'values']],\n",
       "       ['rest', ['push-address', 'alpha', 'addr13'], 'values'],\n",
       "       'reduce']]]]]]]"
      ]
     },
     "execution_count": 34,
     "metadata": {},
     "output_type": "execute_result"
    }
   ],
   "source": [
    "i=11\n",
    "fname='test_{}.daphne'.format(i)\n",
    "exp = ast_helper(fname,directory='programs/tests/hoppl-deterministic')\n",
    "exp"
   ]
  },
  {
   "cell_type": "code",
   "execution_count": 36,
   "id": "3c24e6be",
   "metadata": {},
   "outputs": [
    {
     "data": {
      "text/plain": [
       "6"
      ]
     },
     "execution_count": 36,
     "metadata": {},
     "output_type": "execute_result"
    }
   ],
   "source": [
    "os.chdir('/Users/gw/repos/prob_prog/hw/hw5/CS532-HW5/')\n",
    "truth = load_truth('programs/tests/hoppl-deterministic/test_{}.truth'.format(i))\n",
    "truth"
   ]
  },
  {
   "cell_type": "code",
   "execution_count": 37,
   "id": "8e1240db",
   "metadata": {},
   "outputs": [
    {
     "name": "stdout",
     "output_type": "stream",
     "text": [
      "x ['fn', ['alpha'], [['fn', ['alpha', 'reduce'], ['reduce', ['push-address', 'alpha', 'addr1'], '+', 0, ['vector', ['push-address', 'alpha', 'addr2'], 1, 2, 3]]], ['push-address', 'alpha', 'addr0'], ['fn', ['alpha', 'f', 'x', 'values'], [['fn', ['alpha', 'f', 'x', 'values', 'reduce'], ['if', ['empty?', ['push-address', 'alpha', 'addr4'], 'values'], 'x', ['reduce', ['push-address', 'alpha', 'addr5'], 'f', ['f', ['push-address', 'alpha', 'addr6'], 'x', ['first', ['push-address', 'alpha', 'addr7'], 'values']], ['rest', ['push-address', 'alpha', 'addr8'], 'values'], 'reduce']]], ['push-address', 'alpha', 'addr3'], 'f', 'x', 'values', ['fn', ['alpha', 'f', 'x', 'values', 'reduce'], ['if', ['empty?', ['push-address', 'alpha', 'addr9'], 'values'], 'x', ['reduce', ['push-address', 'alpha', 'addr10'], 'f', ['f', ['push-address', 'alpha', 'addr11'], 'x', ['first', ['push-address', 'alpha', 'addr12'], 'values']], ['rest', ['push-address', 'alpha', 'addr13'], 'values'], 'reduce']]]]]]]\n",
      "case fn: args [[['fn', ['alpha', 'reduce'], ['reduce', ['push-address', 'alpha', 'addr1'], '+', 0, ['vector', ['push-address', 'alpha', 'addr2'], 1, 2, 3]]], ['push-address', 'alpha', 'addr0'], ['fn', ['alpha', 'f', 'x', 'values'], [['fn', ['alpha', 'f', 'x', 'values', 'reduce'], ['if', ['empty?', ['push-address', 'alpha', 'addr4'], 'values'], 'x', ['reduce', ['push-address', 'alpha', 'addr5'], 'f', ['f', ['push-address', 'alpha', 'addr6'], 'x', ['first', ['push-address', 'alpha', 'addr7'], 'values']], ['rest', ['push-address', 'alpha', 'addr8'], 'values'], 'reduce']]], ['push-address', 'alpha', 'addr3'], 'f', 'x', 'values', ['fn', ['alpha', 'f', 'x', 'values', 'reduce'], ['if', ['empty?', ['push-address', 'alpha', 'addr9'], 'values'], 'x', ['reduce', ['push-address', 'alpha', 'addr10'], 'f', ['f', ['push-address', 'alpha', 'addr11'], 'x', ['first', ['push-address', 'alpha', 'addr12'], 'values']], ['rest', ['push-address', 'alpha', 'addr13'], 'values'], 'reduce']]]]]]]\n",
      "return tensor([6])\n"
     ]
    }
   ],
   "source": [
    "ret = evaluate(exp, do_log=True)\n",
    "assert(is_tol(ret, truth))"
   ]
  },
  {
   "cell_type": "markdown",
   "id": "b6e57c03",
   "metadata": {},
   "source": [
    "## all tests"
   ]
  },
  {
   "cell_type": "code",
   "execution_count": null,
   "id": "955c0f69",
   "metadata": {},
   "outputs": [],
   "source": [
    "%cd /Users/gw/repos/prob_prog/hw/hw5/CS532-HW5\n",
    "run_deterministic_tests()"
   ]
  }
 ],
 "metadata": {
  "kernelspec": {
   "display_name": "Python 3 (ipykernel)",
   "language": "python",
   "name": "python3"
  },
  "language_info": {
   "codemirror_mode": {
    "name": "ipython",
    "version": 3
   },
   "file_extension": ".py",
   "mimetype": "text/x-python",
   "name": "python",
   "nbconvert_exporter": "python",
   "pygments_lexer": "ipython3",
   "version": "3.9.0"
  }
 },
 "nbformat": 4,
 "nbformat_minor": 5
}
