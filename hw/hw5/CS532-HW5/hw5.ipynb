{
 "cells": [
  {
   "cell_type": "code",
   "execution_count": null,
   "id": "87c4bfdc",
   "metadata": {},
   "outputs": [],
   "source": [
    "from daphne import daphne\n",
    "import os"
   ]
  },
  {
   "cell_type": "code",
   "execution_count": null,
   "id": "90dc25e1",
   "metadata": {},
   "outputs": [],
   "source": [
    "directory = 'programs/tests/hoppl-deterministic'\n",
    "os.chdir('/Users/gw/repos/prob_prog/hw/hw5/CS532-HW5/{}/'.format(directory))"
   ]
  },
  {
   "cell_type": "code",
   "execution_count": null,
   "id": "9acf1850",
   "metadata": {},
   "outputs": [],
   "source": [
    "i=3\n",
    "cwd='/Users/gw/repos/daphne'\n",
    "exp = daphne(['desugar-hoppl', '-i', '../prob_prog/hw/hw5/CS532-HW5/programs/tests/hoppl-deterministic/test_{}.daphne'.format(i)])\n",
    "exp\n",
    "\n"
   ]
  },
  {
   "cell_type": "code",
   "execution_count": null,
   "id": "6461f86d",
   "metadata": {},
   "outputs": [],
   "source": [
    "desugared_ast_json_fname = '/Users/gw/repos/prob_prog/hw/hw5/CS532-HW5/programs/tests/hoppl-deterministic/test_{}.daphne.json'.format(i)\n",
    "with open(desugared_ast_json_fname, 'w') as f:\n",
    "    json.dump(exp, f)"
   ]
  },
  {
   "cell_type": "code",
   "execution_count": null,
   "id": "b317baac",
   "metadata": {},
   "outputs": [],
   "source": [
    "%ls /Users/gw/repos/daphne/../prob_prog/hw/hw5/CS532-HW5/programs/tests/hoppl-deterministic"
   ]
  },
  {
   "cell_type": "code",
   "execution_count": null,
   "id": "324cb026",
   "metadata": {},
   "outputs": [],
   "source": [
    "class Env():\n",
    "    \"An environment: a dict of {'var': val} pairs, with an outer Env.\"\n",
    "    def __init__(self, parms=(), args=(), outer=None):\n",
    "        self.data = pmap(zip(parms, args))\n",
    "        self.outer = outer\n",
    "        if outer is None:\n",
    "            self.level = 0\n",
    "        else:\n",
    "            self.level = outer.level+1\n",
    "    def __getitem__(self, item):\n",
    "        return self.data[item]\n",
    "    def find(self, var):\n",
    "        \"Find the innermost Env where var appears.\"\n",
    "        if (var in self.data):\n",
    "            return self\n",
    "        else:\n",
    "            if self.outer is not None:\n",
    "                return self.outer.find(var)\n",
    "            else:\n",
    "                raise RuntimeError('var \"{}\" not found in outermost scope'.format(var))\n",
    "    \n",
    "    def print_env(self, print_lowest=False):\n",
    "        print_limit = 1 if print_lowest == False else 0\n",
    "        outer = self\n",
    "        while outer is not None:\n",
    "            if outer.level >= print_limit:\n",
    "                print('Scope on level ', outer.level)\n",
    "                if 'f' in outer:\n",
    "                    print('Found f, ')\n",
    "                    print(outer['f'].body)\n",
    "                    print(outer['f'].parms)\n",
    "                    print(outer['f'].env)\n",
    "                print(outer,'\\n')\n",
    "            outer = outer.outer"
   ]
  },
  {
   "cell_type": "code",
   "execution_count": null,
   "id": "3ce30121",
   "metadata": {},
   "outputs": [],
   "source": [
    "import copy\n",
    "\n",
    "class Procedure(object):\n",
    "    \"A user-defined Scheme procedure.\"\n",
    "    def __init__(self, parms, body, env):\n",
    "        self.parms, self.body, self.env = parms, body, env\n",
    "    def __call__(self, *args): \n",
    "        new_env = copy.deepcopy(self.env)\n",
    "        return eval(self.body, Env(self.parms, args, new_env)) # [0]"
   ]
  },
  {
   "cell_type": "code",
   "execution_count": null,
   "id": "1c098f61",
   "metadata": {},
   "outputs": [],
   "source": [
    "from pyrsistent import pmap\n",
    "\n",
    "import torch\n",
    "import torch.distributions as dist"
   ]
  },
  {
   "cell_type": "code",
   "execution_count": null,
   "id": "b66d25fa",
   "metadata": {},
   "outputs": [],
   "source": [
    "def push_addr(alpha, value):\n",
    "    return alpha + value\n",
    "\n",
    "penv = {\n",
    "    '+': torch.add,\n",
    "    '*':torch.mul,\n",
    "#     'push-address':push_addr\n",
    "}"
   ]
  },
  {
   "cell_type": "code",
   "execution_count": null,
   "id": "ff6e8058",
   "metadata": {},
   "outputs": [],
   "source": [
    "def standard_env():\n",
    "    \"An environment with some Scheme standard procedures.\"\n",
    "    env = Env(penv.keys(), penv.values())\n",
    "    return env\n",
    "\n",
    "env = standard_env()\n",
    "env.find('+')\n",
    "#['+'](torch.tensor(0.),torch.tensor(1.))"
   ]
  },
  {
   "cell_type": "code",
   "execution_count": null,
   "id": "014211a0",
   "metadata": {},
   "outputs": [],
   "source": [
    "def eval(x,env=standard_env(),sigma=None):\n",
    "\n",
    "    print('x',x)\n",
    "    if isinstance(x,str):\n",
    "        return env.find(x)[x], sigma\n",
    "    elif not isinstance(x,list):\n",
    "        return torch.tensor(x),sigma\n",
    "    \n",
    "    op, param, *args = x\n",
    "    \n",
    "    if False:\n",
    "        pass\n",
    "    \n",
    "    elif op == 'push-address':\n",
    "        return '', sigma\n",
    "    elif op == 'fn':\n",
    "        print('args',args)\n",
    "#         param, body = args\n",
    "        body = args[0]\n",
    "        return Procedure(param, body, env), sigma # has eval in it\n",
    "        # param ['alpha', 'x']\n",
    "        # body ['*', ['push-address', 'alpha', 'addr2'], 'x', 'x']\n",
    "        # env\n",
    "    \n",
    "    else:\n",
    "        print('in else. x',x)\n",
    "        proc, _ = eval(op,env,sigma)\n",
    "        vals = [''] # TODO: address for fn???\n",
    "        vals.extend([eval(arg, env, sigma)[0] for arg in args])\n",
    "        print('vals',vals)\n",
    "\n",
    "        if isinstance(proc, Procedure): # lambdas, not primitives\n",
    "            print('in Procedure',proc, vals)\n",
    "            r, _ = proc(*vals)\n",
    "        else:\n",
    "            r = proc(*vals[1:]) # primitives\n",
    "            print('in primitives',proc, vals)\n",
    "            \n",
    "        return r, sigma\n",
    "    \n",
    "\n",
    "# eval(['*','a0',3,3])  \n",
    "\n",
    "# why vals only tensor(8.), where did push add go?"
   ]
  },
  {
   "cell_type": "code",
   "execution_count": null,
   "id": "6e92a27c",
   "metadata": {},
   "outputs": [],
   "source": [
    "exp"
   ]
  },
  {
   "cell_type": "code",
   "execution_count": null,
   "id": "1003ccb3",
   "metadata": {},
   "outputs": [],
   "source": [
    "proc, sigma = eval(exp)\n",
    "proc('')"
   ]
  },
  {
   "cell_type": "code",
   "execution_count": null,
   "id": "d3bcf8f3",
   "metadata": {},
   "outputs": [],
   "source": [
    "exp_sq_8 = [['fn', ['alpha', 'x'], ['*', ['push-address', 'alpha', 'addr2'], 'x', 'x']],\n",
    "   ['push-address', 'alpha', 'addr1'],\n",
    "   9]\n",
    "\n",
    "eval(exp_sq_8)#(torch.tensor(8.))"
   ]
  },
  {
   "cell_type": "code",
   "execution_count": null,
   "id": "dabee723",
   "metadata": {},
   "outputs": [],
   "source": [
    "exp_inner = ['fn', ['alpha', 'x'], ['*', ['push-address', 'alpha', 'addr2'], 'x', 'x']]\n",
    "eval(exp_inner)#(torch.tensor(8.))"
   ]
  },
  {
   "cell_type": "code",
   "execution_count": null,
   "id": "718004bf",
   "metadata": {},
   "outputs": [],
   "source": [
    "import sys\n",
    "sys.setrecursionlimit(10000)"
   ]
  },
  {
   "cell_type": "markdown",
   "id": "e293be27",
   "metadata": {},
   "source": [
    "# test driven development"
   ]
  },
  {
   "cell_type": "markdown",
   "id": "d3cdda0c",
   "metadata": {},
   "source": [
    "# deterministic-hoppl test 3"
   ]
  },
  {
   "cell_type": "code",
   "execution_count": 43,
   "id": "a538ad07",
   "metadata": {},
   "outputs": [],
   "source": [
    "from tests import load_truth\n",
    "import os, json\n",
    "from daphne import daphne\n",
    "\n",
    "import importlib\n",
    "import evaluator\n",
    "importlib.reload(evaluator)\n",
    "from evaluator import evaluate\n"
   ]
  },
  {
   "cell_type": "code",
   "execution_count": 51,
   "id": "ecce0b92",
   "metadata": {},
   "outputs": [
    {
     "data": {
      "text/plain": [
       "['fn', ['alpha'], ['sqrt', ['push-address', 'alpha', 'addr0'], 2]]"
      ]
     },
     "execution_count": 51,
     "metadata": {},
     "output_type": "execute_result"
    }
   ],
   "source": [
    "def ast_helper(fname,directory='programs'):\n",
    "    os.chdir('/Users/gw/repos/prob_prog/hw/hw5/CS532-HW5/{}/'.format(directory))\n",
    "    sugared_fname = '../prob_prog/hw/hw5/CS532-HW5/{}/{}'.format(directory,fname)\n",
    "    desugared_ast_json_fname = '/Users/gw/repos/prob_prog/' + sugared_fname.replace('.daphne','.daphne.json')\n",
    "    if os.path.isfile(desugared_ast_json_fname):\n",
    "        with open(desugared_ast_json_fname) as f:\n",
    "            ast = json.load(f)\n",
    "    else:\n",
    "        #note: the sugared path that goes into daphne desugar should be with respect to the daphne path!\n",
    "        ast = daphne(['desugar-hoppl', '-i', sugared_fname]) \n",
    "        #exp = daphne(['desugar-hoppl', '-i', '../prob_prog/hw/hw5/CS532-HW5/programs/tests/hoppl-deterministic/test_{}.daphne'.format(i)])\n",
    "\n",
    "        with open(desugared_ast_json_fname, 'w') as f:\n",
    "            json.dump(ast, f)\n",
    "    return ast\n",
    "\n",
    "i=2\n",
    "fname='test_{}.daphne'.format(i)\n",
    "exp = ast_helper(fname,directory='programs/tests/deterministic')"
   ]
  },
  {
   "cell_type": "code",
   "execution_count": 54,
   "id": "3da7ee43",
   "metadata": {},
   "outputs": [
    {
     "data": {
      "text/plain": [
       "1.4142136"
      ]
     },
     "execution_count": 54,
     "metadata": {},
     "output_type": "execute_result"
    }
   ],
   "source": [
    "os.chdir('/Users/gw/repos/prob_prog/hw/hw5/CS532-HW5/')\n",
    "truth = load_truth('programs/tests/deterministic/test_{}.truth'.format(i))\n",
    "truth"
   ]
  },
  {
   "cell_type": "code",
   "execution_count": 53,
   "id": "d7fc64b3",
   "metadata": {},
   "outputs": [
    {
     "data": {
      "text/plain": [
       "['fn', ['alpha'], ['+', ['push-address', 'alpha', 'addr0'], 5, 2]]"
      ]
     },
     "execution_count": 53,
     "metadata": {},
     "output_type": "execute_result"
    }
   ],
   "source": [
    "fname = 'programs/tests/deterministic/test_{}.daphne.json'.format(i)\n",
    "\n",
    "with open(fname) as f:\n",
    "     exp = json.load(f)\n",
    "exp\n",
    "# "
   ]
  },
  {
   "cell_type": "code",
   "execution_count": 50,
   "id": "a41e8a91",
   "metadata": {},
   "outputs": [
    {
     "name": "stdout",
     "output_type": "stream",
     "text": [
      "x ['fn', ['alpha'], ['+', ['push-address', 'alpha', 'addr0'], 5, 2]]\n",
      "args [['+', ['push-address', 'alpha', 'addr0'], 5, 2]]\n",
      "x ['+', ['push-address', 'alpha', 'addr0'], 5, 2]\n",
      "in else. x ['+', ['push-address', 'alpha', 'addr0'], 5, 2]\n",
      "x +\n",
      "x 5\n",
      "x 2\n",
      "vals ['', tensor(5), tensor(2)]\n",
      "in primitives <function add_primitive at 0x1316c8040> ['', tensor(5), tensor(2)]\n"
     ]
    },
    {
     "data": {
      "text/plain": [
       "tensor(7)"
      ]
     },
     "execution_count": 50,
     "metadata": {},
     "output_type": "execute_result"
    }
   ],
   "source": [
    "ret = evaluate(exp)\n",
    "ret"
   ]
  },
  {
   "cell_type": "code",
   "execution_count": 46,
   "id": "54a2962d",
   "metadata": {},
   "outputs": [
    {
     "data": {
      "text/plain": [
       "tensor(3.)"
      ]
     },
     "execution_count": 46,
     "metadata": {},
     "output_type": "execute_result"
    }
   ],
   "source": [
    "from old_primitives import penv\n",
    "from torch import tensor\n",
    "\n",
    "vals = ['',tensor(1.),tensor(2.)]\n",
    "penv['+'](vals[1:])"
   ]
  },
  {
   "cell_type": "code",
   "execution_count": null,
   "id": "d74d1c91",
   "metadata": {},
   "outputs": [],
   "source": [
    "from tests import is_tol\n",
    "\n",
    "assert(is_tol(ret, truth))"
   ]
  }
 ],
 "metadata": {
  "kernelspec": {
   "display_name": "Python 3 (ipykernel)",
   "language": "python",
   "name": "python3"
  },
  "language_info": {
   "codemirror_mode": {
    "name": "ipython",
    "version": 3
   },
   "file_extension": ".py",
   "mimetype": "text/x-python",
   "name": "python",
   "nbconvert_exporter": "python",
   "pygments_lexer": "ipython3",
   "version": "3.9.0"
  }
 },
 "nbformat": 4,
 "nbformat_minor": 5
}
