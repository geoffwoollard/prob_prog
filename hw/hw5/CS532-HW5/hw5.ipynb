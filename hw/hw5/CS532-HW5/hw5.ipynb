{
 "cells": [
  {
   "cell_type": "code",
   "execution_count": null,
   "id": "311170d6",
   "metadata": {},
   "outputs": [],
   "source": [
    "from daphne import daphne\n",
    "import os"
   ]
  },
  {
   "cell_type": "code",
   "execution_count": null,
   "id": "6ccfdd1e",
   "metadata": {},
   "outputs": [],
   "source": [
    "directory = 'programs/tests/hoppl-deterministic'\n",
    "os.chdir('/Users/gw/repos/prob_prog/hw/hw5/CS532-HW5/{}/'.format(directory))"
   ]
  },
  {
   "cell_type": "code",
   "execution_count": null,
   "id": "42beba68",
   "metadata": {},
   "outputs": [],
   "source": [
    "i=3\n",
    "cwd='/Users/gw/repos/daphne'\n",
    "exp = daphne(['desugar-hoppl', '-i', '../prob_prog/hw/hw5/CS532-HW5/programs/tests/hoppl-deterministic/test_{}.daphne'.format(i)])\n",
    "exp\n",
    "\n"
   ]
  },
  {
   "cell_type": "code",
   "execution_count": null,
   "id": "c601e8b4",
   "metadata": {},
   "outputs": [],
   "source": [
    "desugared_ast_json_fname = '/Users/gw/repos/prob_prog/hw/hw5/CS532-HW5/programs/tests/hoppl-deterministic/test_{}.daphne.json'.format(i)\n",
    "with open(desugared_ast_json_fname, 'w') as f:\n",
    "    json.dump(exp, f)"
   ]
  },
  {
   "cell_type": "code",
   "execution_count": null,
   "id": "8a12a314",
   "metadata": {},
   "outputs": [],
   "source": [
    "%ls /Users/gw/repos/daphne/../prob_prog/hw/hw5/CS532-HW5/programs/tests/hoppl-deterministic"
   ]
  },
  {
   "cell_type": "code",
   "execution_count": null,
   "id": "938a5024",
   "metadata": {},
   "outputs": [],
   "source": [
    "class Env():\n",
    "    \"An environment: a dict of {'var': val} pairs, with an outer Env.\"\n",
    "    def __init__(self, parms=(), args=(), outer=None):\n",
    "        self.data = pmap(zip(parms, args))\n",
    "        self.outer = outer\n",
    "        if outer is None:\n",
    "            self.level = 0\n",
    "        else:\n",
    "            self.level = outer.level+1\n",
    "    def __getitem__(self, item):\n",
    "        return self.data[item]\n",
    "    def find(self, var):\n",
    "        \"Find the innermost Env where var appears.\"\n",
    "        if (var in self.data):\n",
    "            return self\n",
    "        else:\n",
    "            if self.outer is not None:\n",
    "                return self.outer.find(var)\n",
    "            else:\n",
    "                raise RuntimeError('var \"{}\" not found in outermost scope'.format(var))\n",
    "    \n",
    "    def print_env(self, print_lowest=False):\n",
    "        print_limit = 1 if print_lowest == False else 0\n",
    "        outer = self\n",
    "        while outer is not None:\n",
    "            if outer.level >= print_limit:\n",
    "                print('Scope on level ', outer.level)\n",
    "                if 'f' in outer:\n",
    "                    print('Found f, ')\n",
    "                    print(outer['f'].body)\n",
    "                    print(outer['f'].parms)\n",
    "                    print(outer['f'].env)\n",
    "                print(outer,'\\n')\n",
    "            outer = outer.outer"
   ]
  },
  {
   "cell_type": "code",
   "execution_count": null,
   "id": "ff278dc3",
   "metadata": {},
   "outputs": [],
   "source": [
    "import copy\n",
    "\n",
    "class Procedure(object):\n",
    "    \"A user-defined Scheme procedure.\"\n",
    "    def __init__(self, parms, body, env):\n",
    "        self.parms, self.body, self.env = parms, body, env\n",
    "    def __call__(self, *args): \n",
    "        new_env = copy.deepcopy(self.env)\n",
    "        return eval(self.body, Env(self.parms, args, new_env)) # [0]"
   ]
  },
  {
   "cell_type": "code",
   "execution_count": null,
   "id": "3a415052",
   "metadata": {},
   "outputs": [],
   "source": [
    "from pyrsistent import pmap\n",
    "\n",
    "import torch\n",
    "import torch.distributions as dist"
   ]
  },
  {
   "cell_type": "code",
   "execution_count": null,
   "id": "78ba679d",
   "metadata": {},
   "outputs": [],
   "source": [
    "def push_addr(alpha, value):\n",
    "    return alpha + value\n",
    "\n",
    "penv = {\n",
    "    '+': torch.add,\n",
    "    '*':torch.mul,\n",
    "#     'push-address':push_addr\n",
    "}"
   ]
  },
  {
   "cell_type": "code",
   "execution_count": null,
   "id": "13986a06",
   "metadata": {},
   "outputs": [],
   "source": [
    "def standard_env():\n",
    "    \"An environment with some Scheme standard procedures.\"\n",
    "    env = Env(penv.keys(), penv.values())\n",
    "    return env\n",
    "\n",
    "env = standard_env()\n",
    "env.find('+')\n",
    "#['+'](torch.tensor(0.),torch.tensor(1.))"
   ]
  },
  {
   "cell_type": "code",
   "execution_count": null,
   "id": "f3199089",
   "metadata": {},
   "outputs": [],
   "source": [
    "def eval(x,env=standard_env(),sigma=None):\n",
    "\n",
    "    print('x',x)\n",
    "    if isinstance(x,str):\n",
    "        return env.find(x)[x], sigma\n",
    "    elif not isinstance(x,list):\n",
    "        return torch.tensor(x),sigma\n",
    "    \n",
    "    op, param, *args = x\n",
    "    \n",
    "    if False:\n",
    "        pass\n",
    "    \n",
    "    elif op == 'push-address':\n",
    "        return '', sigma\n",
    "    elif op == 'fn':\n",
    "        print('args',args)\n",
    "#         param, body = args\n",
    "        body = args[0]\n",
    "        return Procedure(param, body, env), sigma # has eval in it\n",
    "        # param ['alpha', 'x']\n",
    "        # body ['*', ['push-address', 'alpha', 'addr2'], 'x', 'x']\n",
    "        # env\n",
    "    \n",
    "    else:\n",
    "        print('in else. x',x)\n",
    "        proc, _ = eval(op,env,sigma)\n",
    "        vals = [''] # TODO: address for fn???\n",
    "        vals.extend([eval(arg, env, sigma)[0] for arg in args])\n",
    "        print('vals',vals)\n",
    "\n",
    "        if isinstance(proc, Procedure): # lambdas, not primitives\n",
    "            print('in Procedure',proc, vals)\n",
    "            r, _ = proc(*vals)\n",
    "        else:\n",
    "            r = proc(*vals[1:]) # primitives\n",
    "            print('in primitives',proc, vals)\n",
    "            \n",
    "        return r, sigma\n",
    "    \n",
    "\n",
    "# eval(['*','a0',3,3])  \n",
    "\n",
    "# why vals only tensor(8.), where did push add go?"
   ]
  },
  {
   "cell_type": "code",
   "execution_count": null,
   "id": "dea4067b",
   "metadata": {},
   "outputs": [],
   "source": [
    "exp"
   ]
  },
  {
   "cell_type": "code",
   "execution_count": null,
   "id": "587416ca",
   "metadata": {},
   "outputs": [],
   "source": [
    "proc, sigma = eval(exp)\n",
    "proc('')"
   ]
  },
  {
   "cell_type": "code",
   "execution_count": null,
   "id": "4edc82d5",
   "metadata": {},
   "outputs": [],
   "source": [
    "exp_sq_8 = [['fn', ['alpha', 'x'], ['*', ['push-address', 'alpha', 'addr2'], 'x', 'x']],\n",
    "   ['push-address', 'alpha', 'addr1'],\n",
    "   9]\n",
    "\n",
    "eval(exp_sq_8)#(torch.tensor(8.))"
   ]
  },
  {
   "cell_type": "code",
   "execution_count": null,
   "id": "73b8b5c3",
   "metadata": {},
   "outputs": [],
   "source": [
    "exp_inner = ['fn', ['alpha', 'x'], ['*', ['push-address', 'alpha', 'addr2'], 'x', 'x']]\n",
    "eval(exp_inner)#(torch.tensor(8.))"
   ]
  },
  {
   "cell_type": "markdown",
   "id": "c0433d84",
   "metadata": {},
   "source": [
    "# test driven development"
   ]
  },
  {
   "cell_type": "code",
   "execution_count": null,
   "id": "c7f4c1e0",
   "metadata": {},
   "outputs": [],
   "source": [
    "import sys\n",
    "sys.setrecursionlimit(10000)"
   ]
  },
  {
   "cell_type": "markdown",
   "id": "b92cb2d6",
   "metadata": {},
   "source": [
    "## conj for program 3"
   ]
  },
  {
   "cell_type": "markdown",
   "id": "4b11ca6a",
   "metadata": {},
   "source": [
    "## peek"
   ]
  },
  {
   "cell_type": "code",
   "execution_count": null,
   "id": "40545f19",
   "metadata": {},
   "outputs": [],
   "source": [
    "import primitives\n",
    "importlib.reload(primitives)\n",
    "from primitives import penv\n",
    "penv['peek']([tensor([[1.,2.],[10,20]])])"
   ]
  },
  {
   "cell_type": "code",
   "execution_count": null,
   "id": "b6f00d77",
   "metadata": {},
   "outputs": [],
   "source": [
    "eval_hoppl()"
   ]
  },
  {
   "cell_type": "markdown",
   "id": "459c16bf",
   "metadata": {},
   "source": [
    "## cons"
   ]
  },
  {
   "cell_type": "code",
   "execution_count": null,
   "id": "ed1076b2",
   "metadata": {},
   "outputs": [],
   "source": [
    "exp = [tensor(0.), tensor([1,2,3])]\n",
    "\n",
    "torch.cat((torch.tensor([exp[0]]), exp[1]), dim=0)"
   ]
  },
  {
   "cell_type": "code",
   "execution_count": null,
   "id": "24b7f72d",
   "metadata": {},
   "outputs": [],
   "source": [
    "def cons(*exp):\n",
    "    try:\n",
    "        return torch.cat((torch.tensor([exp[1]]), exp[0]), dim=0)\n",
    "    except:\n",
    "        return torch.cat((torch.tensor([exp[1]]), torch.tensor(exp[0])), dim = 0)"
   ]
  },
  {
   "cell_type": "markdown",
   "id": "af018477",
   "metadata": {},
   "source": [
    "## hash-map"
   ]
  },
  {
   "cell_type": "code",
   "execution_count": null,
   "id": "273a6e3d",
   "metadata": {},
   "outputs": [],
   "source": [
    "# eval_hoppl(['hash-map','','a',1,'b',2])"
   ]
  },
  {
   "cell_type": "code",
   "execution_count": null,
   "id": "68017555",
   "metadata": {},
   "outputs": [],
   "source": [
    "# from old_primitives import penv\n",
    "# from torch import tensor\n",
    "\n",
    "# vals = ['',tensor(1.),tensor(2.)]\n",
    "# penv['+'](vals[1:])"
   ]
  },
  {
   "cell_type": "code",
   "execution_count": null,
   "id": "166084ee",
   "metadata": {},
   "outputs": [],
   "source": [
    "# fname = 'programs/tests/hoppl-deterministic/test_{}.daphne.json'.format(i)\n",
    "\n",
    "# with open(fname) as f:\n",
    "#      exp = json.load(f)\n",
    "# exp\n",
    "# # "
   ]
  },
  {
   "cell_type": "markdown",
   "id": "f5664edd",
   "metadata": {},
   "source": [
    "## empty"
   ]
  },
  {
   "cell_type": "code",
   "execution_count": null,
   "id": "76b6d266",
   "metadata": {},
   "outputs": [],
   "source": [
    "from primitives import penv\n",
    "penv['empty?']([tensor([1])])"
   ]
  },
  {
   "cell_type": "code",
   "execution_count": null,
   "id": "68ef8bf5",
   "metadata": {},
   "outputs": [],
   "source": [
    "['', tensor([])][1:]"
   ]
  },
  {
   "cell_type": "code",
   "execution_count": null,
   "id": "3384ed18",
   "metadata": {},
   "outputs": [],
   "source": [
    "eval_hoppl(['empty?','',['vector','']],do_log=True)"
   ]
  },
  {
   "cell_type": "code",
   "execution_count": null,
   "id": "ea6d1a0c",
   "metadata": {},
   "outputs": [],
   "source": [
    "args=[[tensor(0.), tensor(1.)]]\n",
    "\n",
    "[eval_hoppl(arg)[0] for arg in args]"
   ]
  },
  {
   "cell_type": "code",
   "execution_count": null,
   "id": "af424b76",
   "metadata": {},
   "outputs": [],
   "source": [
    "eval_hoppl(['empty?','',[tensor(0.),tensor(1.)]],do_log=True)"
   ]
  },
  {
   "cell_type": "code",
   "execution_count": null,
   "id": "c21d740c",
   "metadata": {},
   "outputs": [],
   "source": [
    "eval_hoppl(['vector','',tensor(1),tensor(2)])"
   ]
  },
  {
   "cell_type": "markdown",
   "id": "0407ba1c",
   "metadata": {},
   "source": [
    "## cons/conj\n",
    "* 12 cons and map. cons primitive can't handle  \n",
    "  * vals[1:] [tensor([]), tensor([4])] \n",
    "  * because can't do "
   ]
  },
  {
   "cell_type": "code",
   "execution_count": null,
   "id": "b5dbd3f0",
   "metadata": {},
   "outputs": [],
   "source": [
    "tensor(tensor([]))"
   ]
  },
  {
   "cell_type": "code",
   "execution_count": null,
   "id": "df76f4fc",
   "metadata": {},
   "outputs": [],
   "source": [
    "item, vector = [tensor([]), tensor([4])]\n",
    "penv['cons']([tensor([]), tensor([4])])"
   ]
  },
  {
   "cell_type": "code",
   "execution_count": null,
   "id": "ad688205",
   "metadata": {},
   "outputs": [],
   "source": [
    "item = tensor([1])\n",
    "vector = tensor([4,5])\n",
    "torch.cat((torch.tensor(item), vector), dim=0)"
   ]
  },
  {
   "cell_type": "code",
   "execution_count": null,
   "id": "99540555",
   "metadata": {},
   "outputs": [],
   "source": [
    "torch.tensor(item)"
   ]
  },
  {
   "cell_type": "markdown",
   "id": "e77c8aa6",
   "metadata": {},
   "source": [
    "## deterministic-hoppl tests"
   ]
  },
  {
   "cell_type": "code",
   "execution_count": null,
   "id": "77c02591",
   "metadata": {},
   "outputs": [],
   "source": [
    "from tests import load_truth, is_tol\n",
    "import os, json\n",
    "from daphne import daphne\n",
    "import torch\n",
    "from torch import tensor\n",
    "\n",
    "import importlib\n",
    "import evaluator\n",
    "importlib.reload(evaluator)\n",
    "from evaluator import evaluate, run_deterministic_tests, ast_helper, eval_hoppl\n",
    "\n",
    "import primitives\n",
    "importlib.reload(primitives)"
   ]
  },
  {
   "cell_type": "code",
   "execution_count": null,
   "id": "9a2ebf83",
   "metadata": {},
   "outputs": [],
   "source": [
    "i='peek'\n",
    "fname='test_{}.daphne'.format(i)\n",
    "exp = ast_helper(fname,directory='programs/tests/deterministic//')\n",
    "exp"
   ]
  },
  {
   "cell_type": "code",
   "execution_count": null,
   "id": "095b52c0",
   "metadata": {},
   "outputs": [],
   "source": [
    "os.chdir('/Users/gw/repos/prob_prog/hw/hw5/CS532-HW5/')\n",
    "truth = load_truth('programs/tests/hoppl-deterministic/test_{}.truth'.format(i))\n",
    "truth"
   ]
  },
  {
   "cell_type": "code",
   "execution_count": null,
   "id": "214ec0ae",
   "metadata": {},
   "outputs": [],
   "source": [
    "ret = evaluate(exp, do_log=False)\n",
    "ret\n",
    "# assert(is_tol(ret, truth))\n",
    "# 4,6,8 quote a and b. daphne output good?"
   ]
  },
  {
   "cell_type": "markdown",
   "id": "6992a8ae",
   "metadata": {},
   "source": [
    "## all tests"
   ]
  },
  {
   "cell_type": "code",
   "execution_count": null,
   "id": "872f34d0",
   "metadata": {},
   "outputs": [],
   "source": [
    "%cd /Users/gw/repos/prob_prog/hw/hw5/CS532-HW5\n",
    "run_deterministic_tests()"
   ]
  },
  {
   "cell_type": "code",
   "execution_count": null,
   "id": "4f6ff1d3",
   "metadata": {},
   "outputs": [],
   "source": [
    "%cd /Users/gw/repos/prob_prog/hw/hw5/CS532-HW5\n",
    "import evaluator\n",
    "importlib.reload(evaluator)\n",
    "evaluator.run_probabilistic_tests()"
   ]
  },
  {
   "cell_type": "markdown",
   "id": "2b2d9586",
   "metadata": {},
   "source": [
    "# programs"
   ]
  },
  {
   "cell_type": "code",
   "execution_count": 1,
   "id": "fb3e3943",
   "metadata": {},
   "outputs": [],
   "source": [
    "import evaluator\n",
    "import importlib\n",
    "import torch\n",
    "from torch import tensor\n",
    "importlib.reload(evaluator)\n",
    "from evaluator import evaluate, run_deterministic_tests, ast_helper, eval_hoppl"
   ]
  },
  {
   "cell_type": "markdown",
   "id": "997dc437",
   "metadata": {},
   "source": [
    "## program 2\n",
    "* log\n",
    "* observe"
   ]
  },
  {
   "cell_type": "code",
   "execution_count": 6,
   "id": "0b798c86",
   "metadata": {},
   "outputs": [
    {
     "data": {
      "text/plain": [
       "['fn',\n",
       " ['alpha'],\n",
       " [['fn',\n",
       "   ['alpha', 'reduce'],\n",
       "   [['fn',\n",
       "     ['alpha', 'observations'],\n",
       "     [['fn',\n",
       "       ['alpha', 'init-dist'],\n",
       "       [['fn',\n",
       "         ['alpha', 'trans-dists'],\n",
       "         [['fn',\n",
       "           ['alpha', 'obs-dists'],\n",
       "           ['reduce',\n",
       "            ['push-address', 'alpha', 'addr6'],\n",
       "            ['fn',\n",
       "             ['alpha', 'states', 'obs'],\n",
       "             [['fn',\n",
       "               ['alpha', 'state'],\n",
       "               [['fn',\n",
       "                 ['alpha', 'dontcare0'],\n",
       "                 ['conj',\n",
       "                  ['push-address', 'alpha', 'addr9'],\n",
       "                  'states',\n",
       "                  'state']],\n",
       "                ['push-address', 'alpha', 'addr8'],\n",
       "                ['observe',\n",
       "                 ['push-address', 'alpha', 'addr10'],\n",
       "                 ['get',\n",
       "                  ['push-address', 'alpha', 'addr11'],\n",
       "                  'obs-dists',\n",
       "                  'state'],\n",
       "                 'obs']]],\n",
       "              ['push-address', 'alpha', 'addr7'],\n",
       "              ['sample',\n",
       "               ['push-address', 'alpha', 'addr12'],\n",
       "               ['get',\n",
       "                ['push-address', 'alpha', 'addr13'],\n",
       "                'trans-dists',\n",
       "                ['peek', ['push-address', 'alpha', 'addr14'], 'states']]]]],\n",
       "            ['vector',\n",
       "             ['push-address', 'alpha', 'addr15'],\n",
       "             ['sample', ['push-address', 'alpha', 'addr16'], 'init-dist']],\n",
       "            'observations']],\n",
       "          ['push-address', 'alpha', 'addr5'],\n",
       "          ['hash-map',\n",
       "           ['push-address', 'alpha', 'addr17'],\n",
       "           0,\n",
       "           ['normal', ['push-address', 'alpha', 'addr18'], -1, 1],\n",
       "           1,\n",
       "           ['normal', ['push-address', 'alpha', 'addr19'], 1, 1],\n",
       "           2,\n",
       "           ['normal', ['push-address', 'alpha', 'addr20'], 0, 1]]]],\n",
       "        ['push-address', 'alpha', 'addr4'],\n",
       "        ['hash-map',\n",
       "         ['push-address', 'alpha', 'addr21'],\n",
       "         0,\n",
       "         ['discrete',\n",
       "          ['push-address', 'alpha', 'addr22'],\n",
       "          ['vector', ['push-address', 'alpha', 'addr23'], 0.1, 0.5, 0.4]],\n",
       "         1,\n",
       "         ['discrete',\n",
       "          ['push-address', 'alpha', 'addr24'],\n",
       "          ['vector', ['push-address', 'alpha', 'addr25'], 0.2, 0.2, 0.6]],\n",
       "         2,\n",
       "         ['discrete',\n",
       "          ['push-address', 'alpha', 'addr26'],\n",
       "          ['vector', ['push-address', 'alpha', 'addr27'], 0.15, 0.15, 0.7]]]]],\n",
       "      ['push-address', 'alpha', 'addr3'],\n",
       "      ['discrete',\n",
       "       ['push-address', 'alpha', 'addr28'],\n",
       "       ['vector', ['push-address', 'alpha', 'addr29'], 1.0, 1.0, 1.0]]]],\n",
       "    ['push-address', 'alpha', 'addr2'],\n",
       "    ['vector',\n",
       "     ['push-address', 'alpha', 'addr30'],\n",
       "     0.9,\n",
       "     0.8,\n",
       "     0.7,\n",
       "     0.0,\n",
       "     -0.025,\n",
       "     -5.0,\n",
       "     -2.0,\n",
       "     -0.1,\n",
       "     0.0,\n",
       "     0.13,\n",
       "     0.45,\n",
       "     6,\n",
       "     0.2,\n",
       "     0.3,\n",
       "     -1,\n",
       "     -1]]],\n",
       "  ['push-address', 'alpha', 'addr1'],\n",
       "  ['fn',\n",
       "   ['alpha', 'f', 'x', 'values'],\n",
       "   [['fn',\n",
       "     ['alpha', 'f', 'x', 'values', 'reduce'],\n",
       "     ['if',\n",
       "      ['empty?', ['push-address', 'alpha', 'addr32'], 'values'],\n",
       "      'x',\n",
       "      ['reduce',\n",
       "       ['push-address', 'alpha', 'addr33'],\n",
       "       'f',\n",
       "       ['f',\n",
       "        ['push-address', 'alpha', 'addr34'],\n",
       "        'x',\n",
       "        ['first', ['push-address', 'alpha', 'addr35'], 'values']],\n",
       "       ['rest', ['push-address', 'alpha', 'addr36'], 'values'],\n",
       "       'reduce']]],\n",
       "    ['push-address', 'alpha', 'addr31'],\n",
       "    'f',\n",
       "    'x',\n",
       "    'values',\n",
       "    ['fn',\n",
       "     ['alpha', 'f', 'x', 'values', 'reduce'],\n",
       "     ['if',\n",
       "      ['empty?', ['push-address', 'alpha', 'addr37'], 'values'],\n",
       "      'x',\n",
       "      ['reduce',\n",
       "       ['push-address', 'alpha', 'addr38'],\n",
       "       'f',\n",
       "       ['f',\n",
       "        ['push-address', 'alpha', 'addr39'],\n",
       "        'x',\n",
       "        ['first', ['push-address', 'alpha', 'addr40'], 'values']],\n",
       "       ['rest', ['push-address', 'alpha', 'addr41'], 'values'],\n",
       "       'reduce']]]]]]]"
      ]
     },
     "execution_count": 6,
     "metadata": {},
     "output_type": "execute_result"
    }
   ],
   "source": [
    "i=3\n",
    "fname='{}.daphne'.format(i)\n",
    "exp = ast_helper(fname,directory='programs/')\n",
    "exp"
   ]
  },
  {
   "cell_type": "code",
   "execution_count": 10,
   "id": "7441b623",
   "metadata": {},
   "outputs": [
    {
     "data": {
      "text/plain": [
       "tensor([1, 2, 1, 1, 2, 0, 0, 2, 1, 1, 2, 1, 1, 2, 2, 2, 2])"
      ]
     },
     "execution_count": 10,
     "metadata": {},
     "output_type": "execute_result"
    }
   ],
   "source": [
    "ret = evaluate(exp, do_log=False)\n",
    "ret"
   ]
  },
  {
   "cell_type": "code",
   "execution_count": null,
   "id": "b22e0898",
   "metadata": {},
   "outputs": [],
   "source": [
    "import primitives\n",
    "importlib.reload(primitives)\n",
    "from primitives import penv\n",
    "penv['conj']([tensor([-1,-2]), tensor(2)])"
   ]
  },
  {
   "cell_type": "code",
   "execution_count": null,
   "id": "4616cf4f",
   "metadata": {},
   "outputs": [],
   "source": [
    "torch.cat((tensor([1.,2.]),tensor([2.])))"
   ]
  },
  {
   "cell_type": "code",
   "execution_count": null,
   "id": "a0300d30",
   "metadata": {},
   "outputs": [],
   "source": [
    "if torch.tensor([1]).reshape(1,)"
   ]
  },
  {
   "cell_type": "code",
   "execution_count": null,
   "id": "0177d448",
   "metadata": {},
   "outputs": [],
   "source": [
    "torch.tensor(tensor(1.))"
   ]
  },
  {
   "cell_type": "code",
   "execution_count": null,
   "id": "396533de",
   "metadata": {},
   "outputs": [],
   "source": [
    "torch.log(torch.exp(tensor(1.)))"
   ]
  }
 ],
 "metadata": {
  "kernelspec": {
   "display_name": "Python 3 (ipykernel)",
   "language": "python",
   "name": "python3"
  },
  "language_info": {
   "codemirror_mode": {
    "name": "ipython",
    "version": 3
   },
   "file_extension": ".py",
   "mimetype": "text/x-python",
   "name": "python",
   "nbconvert_exporter": "python",
   "pygments_lexer": "ipython3",
   "version": "3.9.0"
  }
 },
 "nbformat": 4,
 "nbformat_minor": 5
}
