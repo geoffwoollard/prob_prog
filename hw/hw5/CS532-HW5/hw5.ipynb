{
 "cells": [
  {
   "cell_type": "code",
   "execution_count": null,
   "id": "a477890e",
   "metadata": {},
   "outputs": [],
   "source": [
    "from daphne import daphne\n",
    "import os"
   ]
  },
  {
   "cell_type": "code",
   "execution_count": null,
   "id": "705ea06c",
   "metadata": {},
   "outputs": [],
   "source": [
    "directory = 'programs/tests/hoppl-deterministic'\n",
    "os.chdir('/Users/gw/repos/prob_prog/hw/hw5/CS532-HW5/{}/'.format(directory))"
   ]
  },
  {
   "cell_type": "code",
   "execution_count": null,
   "id": "4cc9ed23",
   "metadata": {},
   "outputs": [],
   "source": [
    "i=3\n",
    "cwd='/Users/gw/repos/daphne'\n",
    "exp = daphne(['desugar-hoppl', '-i', '../prob_prog/hw/hw5/CS532-HW5/programs/tests/hoppl-deterministic/test_{}.daphne'.format(i)])\n",
    "exp\n",
    "\n"
   ]
  },
  {
   "cell_type": "code",
   "execution_count": null,
   "id": "d35d51ce",
   "metadata": {},
   "outputs": [],
   "source": [
    "desugared_ast_json_fname = '/Users/gw/repos/prob_prog/hw/hw5/CS532-HW5/programs/tests/hoppl-deterministic/test_{}.daphne.json'.format(i)\n",
    "with open(desugared_ast_json_fname, 'w') as f:\n",
    "    json.dump(exp, f)"
   ]
  },
  {
   "cell_type": "code",
   "execution_count": null,
   "id": "e2fd988c",
   "metadata": {},
   "outputs": [],
   "source": [
    "%ls /Users/gw/repos/daphne/../prob_prog/hw/hw5/CS532-HW5/programs/tests/hoppl-deterministic"
   ]
  },
  {
   "cell_type": "code",
   "execution_count": null,
   "id": "b96d7a49",
   "metadata": {},
   "outputs": [],
   "source": [
    "class Env():\n",
    "    \"An environment: a dict of {'var': val} pairs, with an outer Env.\"\n",
    "    def __init__(self, parms=(), args=(), outer=None):\n",
    "        self.data = pmap(zip(parms, args))\n",
    "        self.outer = outer\n",
    "        if outer is None:\n",
    "            self.level = 0\n",
    "        else:\n",
    "            self.level = outer.level+1\n",
    "    def __getitem__(self, item):\n",
    "        return self.data[item]\n",
    "    def find(self, var):\n",
    "        \"Find the innermost Env where var appears.\"\n",
    "        if (var in self.data):\n",
    "            return self\n",
    "        else:\n",
    "            if self.outer is not None:\n",
    "                return self.outer.find(var)\n",
    "            else:\n",
    "                raise RuntimeError('var \"{}\" not found in outermost scope'.format(var))\n",
    "    \n",
    "    def print_env(self, print_lowest=False):\n",
    "        print_limit = 1 if print_lowest == False else 0\n",
    "        outer = self\n",
    "        while outer is not None:\n",
    "            if outer.level >= print_limit:\n",
    "                print('Scope on level ', outer.level)\n",
    "                if 'f' in outer:\n",
    "                    print('Found f, ')\n",
    "                    print(outer['f'].body)\n",
    "                    print(outer['f'].parms)\n",
    "                    print(outer['f'].env)\n",
    "                print(outer,'\\n')\n",
    "            outer = outer.outer"
   ]
  },
  {
   "cell_type": "code",
   "execution_count": null,
   "id": "f02b94b7",
   "metadata": {},
   "outputs": [],
   "source": [
    "import copy\n",
    "\n",
    "class Procedure(object):\n",
    "    \"A user-defined Scheme procedure.\"\n",
    "    def __init__(self, parms, body, env):\n",
    "        self.parms, self.body, self.env = parms, body, env\n",
    "    def __call__(self, *args): \n",
    "        new_env = copy.deepcopy(self.env)\n",
    "        return eval(self.body, Env(self.parms, args, new_env)) # [0]"
   ]
  },
  {
   "cell_type": "code",
   "execution_count": null,
   "id": "44d31292",
   "metadata": {},
   "outputs": [],
   "source": [
    "from pyrsistent import pmap\n",
    "\n",
    "import torch\n",
    "import torch.distributions as dist"
   ]
  },
  {
   "cell_type": "code",
   "execution_count": null,
   "id": "85e6b65a",
   "metadata": {},
   "outputs": [],
   "source": [
    "def push_addr(alpha, value):\n",
    "    return alpha + value\n",
    "\n",
    "penv = {\n",
    "    '+': torch.add,\n",
    "    '*':torch.mul,\n",
    "#     'push-address':push_addr\n",
    "}"
   ]
  },
  {
   "cell_type": "code",
   "execution_count": null,
   "id": "77491bab",
   "metadata": {},
   "outputs": [],
   "source": [
    "def standard_env():\n",
    "    \"An environment with some Scheme standard procedures.\"\n",
    "    env = Env(penv.keys(), penv.values())\n",
    "    return env\n",
    "\n",
    "env = standard_env()\n",
    "env.find('+')\n",
    "#['+'](torch.tensor(0.),torch.tensor(1.))"
   ]
  },
  {
   "cell_type": "code",
   "execution_count": null,
   "id": "8db1f5cb",
   "metadata": {},
   "outputs": [],
   "source": [
    "def eval(x,env=standard_env(),sigma=None):\n",
    "\n",
    "    print('x',x)\n",
    "    if isinstance(x,str):\n",
    "        return env.find(x)[x], sigma\n",
    "    elif not isinstance(x,list):\n",
    "        return torch.tensor(x),sigma\n",
    "    \n",
    "    op, param, *args = x\n",
    "    \n",
    "    if False:\n",
    "        pass\n",
    "    \n",
    "    elif op == 'push-address':\n",
    "        return '', sigma\n",
    "    elif op == 'fn':\n",
    "        print('args',args)\n",
    "#         param, body = args\n",
    "        body = args[0]\n",
    "        return Procedure(param, body, env), sigma # has eval in it\n",
    "        # param ['alpha', 'x']\n",
    "        # body ['*', ['push-address', 'alpha', 'addr2'], 'x', 'x']\n",
    "        # env\n",
    "    \n",
    "    else:\n",
    "        print('in else. x',x)\n",
    "        proc, _ = eval(op,env,sigma)\n",
    "        vals = [''] # TODO: address for fn???\n",
    "        vals.extend([eval(arg, env, sigma)[0] for arg in args])\n",
    "        print('vals',vals)\n",
    "\n",
    "        if isinstance(proc, Procedure): # lambdas, not primitives\n",
    "            print('in Procedure',proc, vals)\n",
    "            r, _ = proc(*vals)\n",
    "        else:\n",
    "            r = proc(*vals[1:]) # primitives\n",
    "            print('in primitives',proc, vals)\n",
    "            \n",
    "        return r, sigma\n",
    "    \n",
    "\n",
    "# eval(['*','a0',3,3])  \n",
    "\n",
    "# why vals only tensor(8.), where did push add go?"
   ]
  },
  {
   "cell_type": "code",
   "execution_count": null,
   "id": "694938d4",
   "metadata": {},
   "outputs": [],
   "source": [
    "exp"
   ]
  },
  {
   "cell_type": "code",
   "execution_count": null,
   "id": "010dffe1",
   "metadata": {},
   "outputs": [],
   "source": [
    "proc, sigma = eval(exp)\n",
    "proc('')"
   ]
  },
  {
   "cell_type": "code",
   "execution_count": null,
   "id": "a344d3aa",
   "metadata": {},
   "outputs": [],
   "source": [
    "exp_sq_8 = [['fn', ['alpha', 'x'], ['*', ['push-address', 'alpha', 'addr2'], 'x', 'x']],\n",
    "   ['push-address', 'alpha', 'addr1'],\n",
    "   9]\n",
    "\n",
    "eval(exp_sq_8)#(torch.tensor(8.))"
   ]
  },
  {
   "cell_type": "code",
   "execution_count": null,
   "id": "99cd67de",
   "metadata": {},
   "outputs": [],
   "source": [
    "exp_inner = ['fn', ['alpha', 'x'], ['*', ['push-address', 'alpha', 'addr2'], 'x', 'x']]\n",
    "eval(exp_inner)#(torch.tensor(8.))"
   ]
  },
  {
   "cell_type": "code",
   "execution_count": null,
   "id": "b8f989e2",
   "metadata": {},
   "outputs": [],
   "source": [
    "import sys\n",
    "sys.setrecursionlimit(10000)"
   ]
  },
  {
   "cell_type": "markdown",
   "id": "a3d5d434",
   "metadata": {},
   "source": [
    "# test driven development"
   ]
  },
  {
   "cell_type": "markdown",
   "id": "81de09b0",
   "metadata": {},
   "source": [
    "## hash-map"
   ]
  },
  {
   "cell_type": "code",
   "execution_count": null,
   "id": "f525e034",
   "metadata": {},
   "outputs": [],
   "source": [
    "# eval_hoppl(['hash-map','','a',1,'b',2])"
   ]
  },
  {
   "cell_type": "code",
   "execution_count": 46,
   "id": "d7ff043a",
   "metadata": {},
   "outputs": [
    {
     "data": {
      "text/plain": [
       "tensor(3.)"
      ]
     },
     "execution_count": 46,
     "metadata": {},
     "output_type": "execute_result"
    }
   ],
   "source": [
    "# from old_primitives import penv\n",
    "# from torch import tensor\n",
    "\n",
    "# vals = ['',tensor(1.),tensor(2.)]\n",
    "# penv['+'](vals[1:])"
   ]
  },
  {
   "cell_type": "code",
   "execution_count": 147,
   "id": "c7515c2a",
   "metadata": {},
   "outputs": [],
   "source": [
    "# fname = 'programs/tests/hoppl-deterministic/test_{}.daphne.json'.format(i)\n",
    "\n",
    "# with open(fname) as f:\n",
    "#      exp = json.load(f)\n",
    "# exp\n",
    "# # "
   ]
  },
  {
   "cell_type": "markdown",
   "id": "a8c5736d",
   "metadata": {},
   "source": [
    "## deterministic-hoppl tests"
   ]
  },
  {
   "cell_type": "code",
   "execution_count": 207,
   "id": "a8db76f2",
   "metadata": {},
   "outputs": [],
   "source": [
    "from tests import load_truth, is_tol\n",
    "import os, json\n",
    "from daphne import daphne\n",
    "\n",
    "import importlib\n",
    "import evaluator\n",
    "importlib.reload(evaluator)\n",
    "from evaluator import evaluate, run_deterministic_tests, ast_helper, eval_hoppl"
   ]
  },
  {
   "cell_type": "code",
   "execution_count": 208,
   "id": "68d75992",
   "metadata": {},
   "outputs": [
    {
     "data": {
      "text/plain": [
       "['fn',\n",
       " ['alpha'],\n",
       " [['fn',\n",
       "   ['alpha', 'm'],\n",
       "   [['m', ['push-address', 'alpha', 'addr2'], 1],\n",
       "    ['push-address', 'alpha', 'addr1'],\n",
       "    2]],\n",
       "  ['push-address', 'alpha', 'addr0'],\n",
       "  ['fn',\n",
       "   ['alpha', 'x'],\n",
       "   ['if',\n",
       "    ['>', ['push-address', 'alpha', 'addr3'], 0, 'x'],\n",
       "    ['fn', ['alpha', 'y'], ['+', ['push-address', 'alpha', 'addr4'], 1, 'y']],\n",
       "    ['fn',\n",
       "     ['alpha', 'z'],\n",
       "     ['+', ['push-address', 'alpha', 'addr5'], 2, 'z']]]]]]"
      ]
     },
     "execution_count": 208,
     "metadata": {},
     "output_type": "execute_result"
    }
   ],
   "source": [
    "i=7\n",
    "fname='test_{}.daphne'.format(i)\n",
    "exp = ast_helper(fname,directory='programs/tests/hoppl-deterministic')\n",
    "exp"
   ]
  },
  {
   "cell_type": "code",
   "execution_count": 209,
   "id": "82170233",
   "metadata": {},
   "outputs": [
    {
     "data": {
      "text/plain": [
       "4"
      ]
     },
     "execution_count": 209,
     "metadata": {},
     "output_type": "execute_result"
    }
   ],
   "source": [
    "os.chdir('/Users/gw/repos/prob_prog/hw/hw5/CS532-HW5/')\n",
    "truth = load_truth('programs/tests/hoppl-deterministic/test_{}.truth'.format(i))\n",
    "truth"
   ]
  },
  {
   "cell_type": "code",
   "execution_count": 210,
   "id": "640bb55d",
   "metadata": {},
   "outputs": [
    {
     "name": "stdout",
     "output_type": "stream",
     "text": [
      "x ['fn', ['alpha', 'z'], ['+', ['push-address', 'alpha', 'addr5'], 2, 'z']]\n",
      "args [['+', ['push-address', 'alpha', 'addr5'], 2, 'z']]\n",
      "return tensor(4)\n"
     ]
    }
   ],
   "source": [
    "ret = evaluate(exp, do_log=True)\n",
    "assert(is_tol(ret, truth))\n"
   ]
  },
  {
   "cell_type": "markdown",
   "id": "4b549fde",
   "metadata": {},
   "source": [
    "## all tests"
   ]
  },
  {
   "cell_type": "code",
   "execution_count": 181,
   "id": "78b224b6",
   "metadata": {},
   "outputs": [
    {
     "name": "stdout",
     "output_type": "stream",
     "text": [
      "/Users/gw/repos/prob_prog/hw/hw5/CS532-HW5\n",
      "x ['fn', ['alpha'], ['+', ['push-address', 'alpha', 'addr0'], 5, 2]]\n",
      "case fn: args [['+', ['push-address', 'alpha', 'addr0'], 5, 2]]\n",
      "x ['+', ['push-address', 'alpha', 'addr0'], 5, 2]\n",
      "case else: x ['+', ['push-address', 'alpha', 'addr0'], 5, 2]\n",
      "x +\n",
      "x 5\n",
      "x 2\n",
      "vals ['', tensor(5), tensor(2)]\n",
      "case primitives: <function add_primitive at 0x1327901f0> ['', tensor(5), tensor(2)]\n",
      "FOPPL test 1 passed\n",
      "x ['fn', ['alpha'], ['sqrt', ['push-address', 'alpha', 'addr0'], 2]]\n",
      "case fn: args [['sqrt', ['push-address', 'alpha', 'addr0'], 2]]\n",
      "x ['sqrt', ['push-address', 'alpha', 'addr0'], 2]\n",
      "case else: x ['sqrt', ['push-address', 'alpha', 'addr0'], 2]\n",
      "x sqrt\n",
      "x 2\n",
      "vals ['', tensor(2)]\n",
      "case primitives: <function sqrt_primitive at 0x1335365e0> ['', tensor(2)]\n",
      "FOPPL test 2 passed\n",
      "x ['fn', ['alpha'], ['*', ['push-address', 'alpha', 'addr0'], 3.0, 8.0]]\n",
      "case fn: args [['*', ['push-address', 'alpha', 'addr0'], 3.0, 8.0]]\n",
      "x ['*', ['push-address', 'alpha', 'addr0'], 3.0, 8.0]\n",
      "case else: x ['*', ['push-address', 'alpha', 'addr0'], 3.0, 8.0]\n",
      "x *\n",
      "x 3.0\n",
      "x 8.0\n",
      "vals ['', tensor(3.), tensor(8.)]\n",
      "case primitives: <function multiply_primitive at 0x133536550> ['', tensor(3.), tensor(8.)]\n",
      "FOPPL test 3 passed\n",
      "x ['fn', ['alpha'], ['/', ['push-address', 'alpha', 'addr0'], 2, 8]]\n",
      "case fn: args [['/', ['push-address', 'alpha', 'addr0'], 2, 8]]\n",
      "x ['/', ['push-address', 'alpha', 'addr0'], 2, 8]\n",
      "case else: x ['/', ['push-address', 'alpha', 'addr0'], 2, 8]\n",
      "x /\n",
      "x 2\n",
      "x 8\n",
      "vals ['', tensor(2), tensor(8)]\n",
      "case primitives: <function divide_primitive at 0x133536820> ['', tensor(2), tensor(8)]\n",
      "FOPPL test 4 passed\n",
      "x ['fn', ['alpha'], ['/', ['push-address', 'alpha', 'addr0'], 2, ['+', ['push-address', 'alpha', 'addr1'], 3, ['*', ['push-address', 'alpha', 'addr2'], 3, 2.7]]]]\n",
      "case fn: args [['/', ['push-address', 'alpha', 'addr0'], 2, ['+', ['push-address', 'alpha', 'addr1'], 3, ['*', ['push-address', 'alpha', 'addr2'], 3, 2.7]]]]\n",
      "x ['/', ['push-address', 'alpha', 'addr0'], 2, ['+', ['push-address', 'alpha', 'addr1'], 3, ['*', ['push-address', 'alpha', 'addr2'], 3, 2.7]]]\n",
      "case else: x ['/', ['push-address', 'alpha', 'addr0'], 2, ['+', ['push-address', 'alpha', 'addr1'], 3, ['*', ['push-address', 'alpha', 'addr2'], 3, 2.7]]]\n",
      "x /\n",
      "x 2\n",
      "x ['+', ['push-address', 'alpha', 'addr1'], 3, ['*', ['push-address', 'alpha', 'addr2'], 3, 2.7]]\n",
      "case else: x ['+', ['push-address', 'alpha', 'addr1'], 3, ['*', ['push-address', 'alpha', 'addr2'], 3, 2.7]]\n",
      "x +\n",
      "x 3\n",
      "x ['*', ['push-address', 'alpha', 'addr2'], 3, 2.7]\n",
      "case else: x ['*', ['push-address', 'alpha', 'addr2'], 3, 2.7]\n",
      "x *\n",
      "x 3\n",
      "x 2.7\n",
      "vals ['', tensor(3), tensor(2.7000)]\n",
      "case primitives: <function multiply_primitive at 0x133536550> ['', tensor(3), tensor(2.7000)]\n",
      "vals ['', tensor(3), tensor(8.1000)]\n",
      "case primitives: <function add_primitive at 0x1327901f0> ['', tensor(3), tensor(8.1000)]\n",
      "vals ['', tensor(2), tensor(11.1000)]\n",
      "case primitives: <function divide_primitive at 0x133536820> ['', tensor(2), tensor(11.1000)]\n",
      "FOPPL test 5 passed\n",
      "x ['fn', ['alpha'], ['vector', ['push-address', 'alpha', 'addr0'], 2, 3, 4, 5]]\n",
      "case fn: args [['vector', ['push-address', 'alpha', 'addr0'], 2, 3, 4, 5]]\n",
      "x ['vector', ['push-address', 'alpha', 'addr0'], 2, 3, 4, 5]\n",
      "case else: x ['vector', ['push-address', 'alpha', 'addr0'], 2, 3, 4, 5]\n",
      "x vector\n",
      "x 2\n",
      "x 3\n",
      "x 4\n",
      "x 5\n",
      "vals ['', tensor(2), tensor(3), tensor(4), tensor(5)]\n",
      "case primitives: <function vector_primitive at 0x1329cb700> ['', tensor(2), tensor(3), tensor(4), tensor(5)]\n",
      "FOPPL test 6 passed\n",
      "x ['fn', ['alpha'], ['get', ['push-address', 'alpha', 'addr0'], ['vector', ['push-address', 'alpha', 'addr1'], 2, 3, 4, 5], 2]]\n",
      "case fn: args [['get', ['push-address', 'alpha', 'addr0'], ['vector', ['push-address', 'alpha', 'addr1'], 2, 3, 4, 5], 2]]\n",
      "x ['get', ['push-address', 'alpha', 'addr0'], ['vector', ['push-address', 'alpha', 'addr1'], 2, 3, 4, 5], 2]\n",
      "case else: x ['get', ['push-address', 'alpha', 'addr0'], ['vector', ['push-address', 'alpha', 'addr1'], 2, 3, 4, 5], 2]\n",
      "x get\n",
      "x ['vector', ['push-address', 'alpha', 'addr1'], 2, 3, 4, 5]\n",
      "case else: x ['vector', ['push-address', 'alpha', 'addr1'], 2, 3, 4, 5]\n",
      "x vector\n",
      "x 2\n",
      "x 3\n",
      "x 4\n",
      "x 5\n",
      "vals ['', tensor(2), tensor(3), tensor(4), tensor(5)]\n",
      "case primitives: <function vector_primitive at 0x1329cb700> ['', tensor(2), tensor(3), tensor(4), tensor(5)]\n",
      "x 2\n",
      "vals ['', tensor([2, 3, 4, 5]), tensor(2)]\n",
      "case primitives: <function get_primitive at 0x133536d30> ['', tensor([2, 3, 4, 5]), tensor(2)]\n",
      "FOPPL test 7 passed\n",
      "x ['fn', ['alpha'], ['put', ['push-address', 'alpha', 'addr0'], ['vector', ['push-address', 'alpha', 'addr1'], 2, 3, 4, 5], 2, 3]]\n",
      "case fn: args [['put', ['push-address', 'alpha', 'addr0'], ['vector', ['push-address', 'alpha', 'addr1'], 2, 3, 4, 5], 2, 3]]\n",
      "x ['put', ['push-address', 'alpha', 'addr0'], ['vector', ['push-address', 'alpha', 'addr1'], 2, 3, 4, 5], 2, 3]\n",
      "case else: x ['put', ['push-address', 'alpha', 'addr0'], ['vector', ['push-address', 'alpha', 'addr1'], 2, 3, 4, 5], 2, 3]\n",
      "x put\n",
      "x ['vector', ['push-address', 'alpha', 'addr1'], 2, 3, 4, 5]\n",
      "case else: x ['vector', ['push-address', 'alpha', 'addr1'], 2, 3, 4, 5]\n",
      "x vector\n",
      "x 2\n",
      "x 3\n",
      "x 4\n",
      "x 5\n",
      "vals ['', tensor(2), tensor(3), tensor(4), tensor(5)]\n",
      "case primitives: <function vector_primitive at 0x1329cb700> ['', tensor(2), tensor(3), tensor(4), tensor(5)]\n",
      "x 2\n",
      "x 3\n",
      "vals ['', tensor([2, 3, 4, 5]), tensor(2), tensor(3)]\n",
      "case primitives: <function put_primitive at 0x1329cb820> ['', tensor([2, 3, 3, 5]), tensor(2), tensor(3)]\n",
      "FOPPL test 8 passed\n",
      "x ['fn', ['alpha'], ['first', ['push-address', 'alpha', 'addr0'], ['vector', ['push-address', 'alpha', 'addr1'], 2, 3, 4, 5]]]\n",
      "case fn: args [['first', ['push-address', 'alpha', 'addr0'], ['vector', ['push-address', 'alpha', 'addr1'], 2, 3, 4, 5]]]\n",
      "x ['first', ['push-address', 'alpha', 'addr0'], ['vector', ['push-address', 'alpha', 'addr1'], 2, 3, 4, 5]]\n",
      "case else: x ['first', ['push-address', 'alpha', 'addr0'], ['vector', ['push-address', 'alpha', 'addr1'], 2, 3, 4, 5]]\n",
      "x first\n",
      "x ['vector', ['push-address', 'alpha', 'addr1'], 2, 3, 4, 5]\n",
      "case else: x ['vector', ['push-address', 'alpha', 'addr1'], 2, 3, 4, 5]\n",
      "x vector\n",
      "x 2\n",
      "x 3\n",
      "x 4\n",
      "x 5\n",
      "vals ['', tensor(2), tensor(3), tensor(4), tensor(5)]\n",
      "case primitives: <function vector_primitive at 0x1329cb700> ['', tensor(2), tensor(3), tensor(4), tensor(5)]\n",
      "vals ['', tensor([2, 3, 4, 5])]\n",
      "case primitives: <function first_primitive at 0x1329cb550> ['', tensor([2, 3, 4, 5])]\n",
      "FOPPL test 9 passed\n",
      "x ['fn', ['alpha'], ['last', ['push-address', 'alpha', 'addr0'], ['vector', ['push-address', 'alpha', 'addr1'], 2, 3, 4, 5]]]\n",
      "case fn: args [['last', ['push-address', 'alpha', 'addr0'], ['vector', ['push-address', 'alpha', 'addr1'], 2, 3, 4, 5]]]\n",
      "x ['last', ['push-address', 'alpha', 'addr0'], ['vector', ['push-address', 'alpha', 'addr1'], 2, 3, 4, 5]]\n",
      "case else: x ['last', ['push-address', 'alpha', 'addr0'], ['vector', ['push-address', 'alpha', 'addr1'], 2, 3, 4, 5]]\n",
      "x last\n",
      "x ['vector', ['push-address', 'alpha', 'addr1'], 2, 3, 4, 5]\n",
      "case else: x ['vector', ['push-address', 'alpha', 'addr1'], 2, 3, 4, 5]\n",
      "x vector\n",
      "x 2\n",
      "x 3\n",
      "x 4\n",
      "x 5\n",
      "vals ['', tensor(2), tensor(3), tensor(4), tensor(5)]\n",
      "case primitives: <function vector_primitive at 0x1329cb700> ['', tensor(2), tensor(3), tensor(4), tensor(5)]\n",
      "vals ['', tensor([2, 3, 4, 5])]\n",
      "case primitives: <function last_primitive at 0x1329cb430> ['', tensor([2, 3, 4, 5])]\n",
      "FOPPL test 10 passed\n",
      "x ['fn', ['alpha'], ['append', ['push-address', 'alpha', 'addr0'], ['vector', ['push-address', 'alpha', 'addr1'], 2, 3, 4, 5], 3.14]]\n",
      "case fn: args [['append', ['push-address', 'alpha', 'addr0'], ['vector', ['push-address', 'alpha', 'addr1'], 2, 3, 4, 5], 3.14]]\n",
      "x ['append', ['push-address', 'alpha', 'addr0'], ['vector', ['push-address', 'alpha', 'addr1'], 2, 3, 4, 5], 3.14]\n",
      "case else: x ['append', ['push-address', 'alpha', 'addr0'], ['vector', ['push-address', 'alpha', 'addr1'], 2, 3, 4, 5], 3.14]\n",
      "x append\n",
      "x ['vector', ['push-address', 'alpha', 'addr1'], 2, 3, 4, 5]\n",
      "case else: x ['vector', ['push-address', 'alpha', 'addr1'], 2, 3, 4, 5]\n",
      "x vector\n",
      "x 2\n",
      "x 3\n",
      "x 4\n",
      "x 5\n",
      "vals ['', tensor(2), tensor(3), tensor(4), tensor(5)]\n",
      "case primitives: <function vector_primitive at 0x1329cb700> ['', tensor(2), tensor(3), tensor(4), tensor(5)]\n",
      "x 3.14\n",
      "vals ['', tensor([2, 3, 4, 5]), tensor(3.1400)]\n",
      "case primitives: <function append_primitive at 0x1327514c0> ['', tensor([2, 3, 4, 5]), tensor(3.1400)]\n",
      "FOPPL test 11 passed\n",
      "x ['fn', ['alpha'], ['get', ['push-address', 'alpha', 'addr0'], ['hash-map', ['push-address', 'alpha', 'addr1'], 6, 5.3, 1, 3.2], 6]]\n",
      "case fn: args [['get', ['push-address', 'alpha', 'addr0'], ['hash-map', ['push-address', 'alpha', 'addr1'], 6, 5.3, 1, 3.2], 6]]\n",
      "x ['get', ['push-address', 'alpha', 'addr0'], ['hash-map', ['push-address', 'alpha', 'addr1'], 6, 5.3, 1, 3.2], 6]\n",
      "case else: x ['get', ['push-address', 'alpha', 'addr0'], ['hash-map', ['push-address', 'alpha', 'addr1'], 6, 5.3, 1, 3.2], 6]\n",
      "x get\n",
      "x ['hash-map', ['push-address', 'alpha', 'addr1'], 6, 5.3, 1, 3.2]\n",
      "case else: x ['hash-map', ['push-address', 'alpha', 'addr1'], 6, 5.3, 1, 3.2]\n",
      "x hash-map\n",
      "x 6\n",
      "x 5.3\n",
      "x 1\n",
      "x 3.2\n",
      "vals ['', tensor(6), tensor(5.3000), tensor(1), tensor(3.2000)]\n",
      "case primitives: <function hash_map_primitive at 0x1329cb790> ['', tensor(6), tensor(5.3000), tensor(1), tensor(3.2000)]\n",
      "x 6\n",
      "vals ['', {6: tensor(5.3000), 1: tensor(3.2000)}, tensor(6)]\n",
      "case primitives: <function get_primitive at 0x133536d30> ['', {6: tensor(5.3000), 1: tensor(3.2000)}, tensor(6)]\n",
      "FOPPL test 12 passed\n",
      "x ['fn', ['alpha'], ['put', ['push-address', 'alpha', 'addr0'], ['hash-map', ['push-address', 'alpha', 'addr1'], 6.0, 5.3, 1.0, 3.2], 6.0, 2.0]]\n",
      "case fn: args [['put', ['push-address', 'alpha', 'addr0'], ['hash-map', ['push-address', 'alpha', 'addr1'], 6.0, 5.3, 1.0, 3.2], 6.0, 2.0]]\n",
      "x ['put', ['push-address', 'alpha', 'addr0'], ['hash-map', ['push-address', 'alpha', 'addr1'], 6.0, 5.3, 1.0, 3.2], 6.0, 2.0]\n",
      "case else: x ['put', ['push-address', 'alpha', 'addr0'], ['hash-map', ['push-address', 'alpha', 'addr1'], 6.0, 5.3, 1.0, 3.2], 6.0, 2.0]\n",
      "x put\n",
      "x ['hash-map', ['push-address', 'alpha', 'addr1'], 6.0, 5.3, 1.0, 3.2]\n",
      "case else: x ['hash-map', ['push-address', 'alpha', 'addr1'], 6.0, 5.3, 1.0, 3.2]\n",
      "x hash-map\n",
      "x 6.0\n",
      "x 5.3\n",
      "x 1.0\n",
      "x 3.2\n",
      "vals ['', tensor(6.), tensor(5.3000), tensor(1.), tensor(3.2000)]\n",
      "case primitives: <function hash_map_primitive at 0x1329cb790> ['', tensor(6.), tensor(5.3000), tensor(1.), tensor(3.2000)]\n",
      "x 6.0\n",
      "x 2.0\n",
      "vals ['', {6.0: tensor(5.3000), 1.0: tensor(3.2000)}, tensor(6.), tensor(2.)]\n",
      "case primitives: <function put_primitive at 0x1329cb820> ['', {6.0: tensor(2.), 1.0: tensor(3.2000)}, tensor(6.), tensor(2.)]\n",
      "FOPPL test 13 passed\n",
      "x ['fn', ['alpha'], ['+', ['push-address', 'alpha', 'addr0'], 7, [['fn', ['alpha', 'x'], ['*', ['push-address', 'alpha', 'addr2'], 'x', 'x']], ['push-address', 'alpha', 'addr1'], 8]]]\n",
      "case fn: args [['+', ['push-address', 'alpha', 'addr0'], 7, [['fn', ['alpha', 'x'], ['*', ['push-address', 'alpha', 'addr2'], 'x', 'x']], ['push-address', 'alpha', 'addr1'], 8]]]\n",
      "x ['+', ['push-address', 'alpha', 'addr0'], 7, [['fn', ['alpha', 'x'], ['*', ['push-address', 'alpha', 'addr2'], 'x', 'x']], ['push-address', 'alpha', 'addr1'], 8]]\n",
      "case else: x ['+', ['push-address', 'alpha', 'addr0'], 7, [['fn', ['alpha', 'x'], ['*', ['push-address', 'alpha', 'addr2'], 'x', 'x']], ['push-address', 'alpha', 'addr1'], 8]]\n",
      "x +\n",
      "x 7\n",
      "x [['fn', ['alpha', 'x'], ['*', ['push-address', 'alpha', 'addr2'], 'x', 'x']], ['push-address', 'alpha', 'addr1'], 8]\n",
      "case else: x [['fn', ['alpha', 'x'], ['*', ['push-address', 'alpha', 'addr2'], 'x', 'x']], ['push-address', 'alpha', 'addr1'], 8]\n",
      "x ['fn', ['alpha', 'x'], ['*', ['push-address', 'alpha', 'addr2'], 'x', 'x']]\n",
      "case fn: args [['*', ['push-address', 'alpha', 'addr2'], 'x', 'x']]\n",
      "x 8\n",
      "vals ['', tensor(8)]\n",
      "case Procedure: <evaluator.Procedure object at 0x132e7c820> ['', tensor(8)]\n",
      "x ['*', ['push-address', 'alpha', 'addr2'], 'x', 'x']\n",
      "case else: x ['*', ['push-address', 'alpha', 'addr2'], 'x', 'x']\n",
      "x *\n",
      "x x\n",
      "x x\n",
      "vals ['', tensor(8), tensor(8)]\n",
      "case primitives: <function multiply_primitive at 0x133536550> ['', tensor(8), tensor(8)]\n",
      "vals ['', tensor(7), tensor(64)]\n",
      "case primitives: <function add_primitive at 0x1327901f0> ['', tensor(7), tensor(64)]\n",
      "HOPPL test 1 passed\n",
      "x ['fn', ['alpha'], [['fn', ['alpha', 'f'], ['f', ['push-address', 'alpha', 'addr1']]], ['push-address', 'alpha', 'addr0'], ['fn', ['alpha'], 89]]]\n",
      "case fn: args [[['fn', ['alpha', 'f'], ['f', ['push-address', 'alpha', 'addr1']]], ['push-address', 'alpha', 'addr0'], ['fn', ['alpha'], 89]]]\n",
      "x [['fn', ['alpha', 'f'], ['f', ['push-address', 'alpha', 'addr1']]], ['push-address', 'alpha', 'addr0'], ['fn', ['alpha'], 89]]\n",
      "case else: x [['fn', ['alpha', 'f'], ['f', ['push-address', 'alpha', 'addr1']]], ['push-address', 'alpha', 'addr0'], ['fn', ['alpha'], 89]]\n",
      "x ['fn', ['alpha', 'f'], ['f', ['push-address', 'alpha', 'addr1']]]\n",
      "case fn: args [['f', ['push-address', 'alpha', 'addr1']]]\n",
      "x ['fn', ['alpha'], 89]\n",
      "case fn: args [89]\n",
      "vals ['', <evaluator.Procedure object at 0x132e7c8b0>]\n",
      "case Procedure: <evaluator.Procedure object at 0x132d9d7f0> ['', <evaluator.Procedure object at 0x132e7c8b0>]\n",
      "x ['f', ['push-address', 'alpha', 'addr1']]\n",
      "case else: x ['f', ['push-address', 'alpha', 'addr1']]\n",
      "x f\n",
      "vals ['']\n",
      "case Procedure: <evaluator.Procedure object at 0x132e7c8b0> ['']\n",
      "x 89\n",
      "HOPPL test 2 passed\n",
      "x ['fn', ['alpha'], [['fn', ['alpha', 'f'], ['f', ['push-address', 'alpha', 'addr1'], ['vector', ['push-address', 'alpha', 'addr2'], 5, 6], 1]], ['push-address', 'alpha', 'addr0'], ['fn', ['alpha', 'col', 'i'], ['get', ['push-address', 'alpha', 'addr3'], 'col', 'i']]]]\n",
      "case fn: args [[['fn', ['alpha', 'f'], ['f', ['push-address', 'alpha', 'addr1'], ['vector', ['push-address', 'alpha', 'addr2'], 5, 6], 1]], ['push-address', 'alpha', 'addr0'], ['fn', ['alpha', 'col', 'i'], ['get', ['push-address', 'alpha', 'addr3'], 'col', 'i']]]]\n",
      "x [['fn', ['alpha', 'f'], ['f', ['push-address', 'alpha', 'addr1'], ['vector', ['push-address', 'alpha', 'addr2'], 5, 6], 1]], ['push-address', 'alpha', 'addr0'], ['fn', ['alpha', 'col', 'i'], ['get', ['push-address', 'alpha', 'addr3'], 'col', 'i']]]\n",
      "case else: x [['fn', ['alpha', 'f'], ['f', ['push-address', 'alpha', 'addr1'], ['vector', ['push-address', 'alpha', 'addr2'], 5, 6], 1]], ['push-address', 'alpha', 'addr0'], ['fn', ['alpha', 'col', 'i'], ['get', ['push-address', 'alpha', 'addr3'], 'col', 'i']]]\n",
      "x ['fn', ['alpha', 'f'], ['f', ['push-address', 'alpha', 'addr1'], ['vector', ['push-address', 'alpha', 'addr2'], 5, 6], 1]]\n",
      "case fn: args [['f', ['push-address', 'alpha', 'addr1'], ['vector', ['push-address', 'alpha', 'addr2'], 5, 6], 1]]\n",
      "x ['fn', ['alpha', 'col', 'i'], ['get', ['push-address', 'alpha', 'addr3'], 'col', 'i']]\n",
      "case fn: args [['get', ['push-address', 'alpha', 'addr3'], 'col', 'i']]\n",
      "vals ['', <evaluator.Procedure object at 0x132e7cc10>]\n",
      "case Procedure: <evaluator.Procedure object at 0x132e7cc40> ['', <evaluator.Procedure object at 0x132e7cc10>]\n",
      "x ['f', ['push-address', 'alpha', 'addr1'], ['vector', ['push-address', 'alpha', 'addr2'], 5, 6], 1]\n",
      "case else: x ['f', ['push-address', 'alpha', 'addr1'], ['vector', ['push-address', 'alpha', 'addr2'], 5, 6], 1]\n",
      "x f\n",
      "x ['vector', ['push-address', 'alpha', 'addr2'], 5, 6]\n",
      "case else: x ['vector', ['push-address', 'alpha', 'addr2'], 5, 6]\n",
      "x vector\n",
      "x 5\n",
      "x 6\n",
      "vals ['', tensor(5), tensor(6)]\n",
      "case primitives: <function vector_primitive at 0x1329cb700> ['', tensor(5), tensor(6)]\n",
      "x 1\n",
      "vals ['', tensor([5, 6]), tensor(1)]\n",
      "case Procedure: <evaluator.Procedure object at 0x132e7cc10> ['', tensor([5, 6]), tensor(1)]\n",
      "x ['get', ['push-address', 'alpha', 'addr3'], 'col', 'i']\n",
      "case else: x ['get', ['push-address', 'alpha', 'addr3'], 'col', 'i']\n",
      "x get\n",
      "x col\n",
      "x i\n",
      "vals ['', tensor([5, 6]), tensor(1)]\n",
      "case primitives: <function get_primitive at 0x133536d30> ['', tensor([5, 6]), tensor(1)]\n",
      "HOPPL test 3 passed\n",
      "x ['fn', ['alpha'], [['fn', ['alpha', 'col'], [['fn', ['alpha', 'f'], [['fn', ['alpha', '_'], ['f', ['push-address', 'alpha', 'addr3'], '\"a\"']], ['push-address', 'alpha', 'addr2'], ['put', ['push-address', 'alpha', 'addr4'], 'col', '\"a\"', 7]]], ['push-address', 'alpha', 'addr1'], ['fn', ['alpha', 'x'], ['get', ['push-address', 'alpha', 'addr5'], 'col', 'x']]]], ['push-address', 'alpha', 'addr0'], ['hash-map', ['push-address', 'alpha', 'addr6'], '\"a\"', 1, '\"b\"', 2]]]\n",
      "case fn: args [[['fn', ['alpha', 'col'], [['fn', ['alpha', 'f'], [['fn', ['alpha', '_'], ['f', ['push-address', 'alpha', 'addr3'], '\"a\"']], ['push-address', 'alpha', 'addr2'], ['put', ['push-address', 'alpha', 'addr4'], 'col', '\"a\"', 7]]], ['push-address', 'alpha', 'addr1'], ['fn', ['alpha', 'x'], ['get', ['push-address', 'alpha', 'addr5'], 'col', 'x']]]], ['push-address', 'alpha', 'addr0'], ['hash-map', ['push-address', 'alpha', 'addr6'], '\"a\"', 1, '\"b\"', 2]]]\n",
      "x [['fn', ['alpha', 'col'], [['fn', ['alpha', 'f'], [['fn', ['alpha', '_'], ['f', ['push-address', 'alpha', 'addr3'], '\"a\"']], ['push-address', 'alpha', 'addr2'], ['put', ['push-address', 'alpha', 'addr4'], 'col', '\"a\"', 7]]], ['push-address', 'alpha', 'addr1'], ['fn', ['alpha', 'x'], ['get', ['push-address', 'alpha', 'addr5'], 'col', 'x']]]], ['push-address', 'alpha', 'addr0'], ['hash-map', ['push-address', 'alpha', 'addr6'], '\"a\"', 1, '\"b\"', 2]]\n",
      "case else: x [['fn', ['alpha', 'col'], [['fn', ['alpha', 'f'], [['fn', ['alpha', '_'], ['f', ['push-address', 'alpha', 'addr3'], '\"a\"']], ['push-address', 'alpha', 'addr2'], ['put', ['push-address', 'alpha', 'addr4'], 'col', '\"a\"', 7]]], ['push-address', 'alpha', 'addr1'], ['fn', ['alpha', 'x'], ['get', ['push-address', 'alpha', 'addr5'], 'col', 'x']]]], ['push-address', 'alpha', 'addr0'], ['hash-map', ['push-address', 'alpha', 'addr6'], '\"a\"', 1, '\"b\"', 2]]\n",
      "x ['fn', ['alpha', 'col'], [['fn', ['alpha', 'f'], [['fn', ['alpha', '_'], ['f', ['push-address', 'alpha', 'addr3'], '\"a\"']], ['push-address', 'alpha', 'addr2'], ['put', ['push-address', 'alpha', 'addr4'], 'col', '\"a\"', 7]]], ['push-address', 'alpha', 'addr1'], ['fn', ['alpha', 'x'], ['get', ['push-address', 'alpha', 'addr5'], 'col', 'x']]]]\n",
      "case fn: args [[['fn', ['alpha', 'f'], [['fn', ['alpha', '_'], ['f', ['push-address', 'alpha', 'addr3'], '\"a\"']], ['push-address', 'alpha', 'addr2'], ['put', ['push-address', 'alpha', 'addr4'], 'col', '\"a\"', 7]]], ['push-address', 'alpha', 'addr1'], ['fn', ['alpha', 'x'], ['get', ['push-address', 'alpha', 'addr5'], 'col', 'x']]]]\n",
      "x ['hash-map', ['push-address', 'alpha', 'addr6'], '\"a\"', 1, '\"b\"', 2]\n",
      "case else: x ['hash-map', ['push-address', 'alpha', 'addr6'], '\"a\"', 1, '\"b\"', 2]\n",
      "x hash-map\n",
      "x \"a\"\n"
     ]
    },
    {
     "ename": "RuntimeError",
     "evalue": "var \"\"a\"\" not found in outermost scope",
     "output_type": "error",
     "traceback": [
      "\u001b[0;31m---------------------------------------------------------------------------\u001b[0m",
      "\u001b[0;31mRuntimeError\u001b[0m                              Traceback (most recent call last)",
      "\u001b[0;32m/var/folders/bg/cb0cr7ls61352lhy50167r0c0000gn/T/ipykernel_63651/968992479.py\u001b[0m in \u001b[0;36m<module>\u001b[0;34m\u001b[0m\n\u001b[1;32m      1\u001b[0m \u001b[0mget_ipython\u001b[0m\u001b[0;34m(\u001b[0m\u001b[0;34m)\u001b[0m\u001b[0;34m.\u001b[0m\u001b[0mrun_line_magic\u001b[0m\u001b[0;34m(\u001b[0m\u001b[0;34m'cd'\u001b[0m\u001b[0;34m,\u001b[0m \u001b[0;34m'/Users/gw/repos/prob_prog/hw/hw5/CS532-HW5'\u001b[0m\u001b[0;34m)\u001b[0m\u001b[0;34m\u001b[0m\u001b[0;34m\u001b[0m\u001b[0m\n\u001b[0;32m----> 2\u001b[0;31m \u001b[0mrun_deterministic_tests\u001b[0m\u001b[0;34m(\u001b[0m\u001b[0;34m)\u001b[0m\u001b[0;34m\u001b[0m\u001b[0;34m\u001b[0m\u001b[0m\n\u001b[0m",
      "\u001b[0;32m~/repos/prob_prog/hw/hw5/CS532-HW5/evaluator.py\u001b[0m in \u001b[0;36mrun_deterministic_tests\u001b[0;34m()\u001b[0m\n\u001b[1;32m    161\u001b[0m             directory='programs/tests/hoppl-deterministic')\n\u001b[1;32m    162\u001b[0m         \u001b[0mtruth\u001b[0m \u001b[0;34m=\u001b[0m \u001b[0mload_truth\u001b[0m\u001b[0;34m(\u001b[0m\u001b[0;34m'programs/tests/hoppl-deterministic/test_{}.truth'\u001b[0m\u001b[0;34m.\u001b[0m\u001b[0mformat\u001b[0m\u001b[0;34m(\u001b[0m\u001b[0mi\u001b[0m\u001b[0;34m)\u001b[0m\u001b[0;34m)\u001b[0m\u001b[0;34m\u001b[0m\u001b[0;34m\u001b[0m\u001b[0m\n\u001b[0;32m--> 163\u001b[0;31m         \u001b[0mret\u001b[0m \u001b[0;34m=\u001b[0m \u001b[0mevaluate\u001b[0m\u001b[0;34m(\u001b[0m\u001b[0mexp\u001b[0m\u001b[0;34m)\u001b[0m\u001b[0;34m\u001b[0m\u001b[0;34m\u001b[0m\u001b[0m\n\u001b[0m\u001b[1;32m    164\u001b[0m         \u001b[0;32mtry\u001b[0m\u001b[0;34m:\u001b[0m\u001b[0;34m\u001b[0m\u001b[0;34m\u001b[0m\u001b[0m\n\u001b[1;32m    165\u001b[0m             \u001b[0;32massert\u001b[0m\u001b[0;34m(\u001b[0m\u001b[0mis_tol\u001b[0m\u001b[0;34m(\u001b[0m\u001b[0mret\u001b[0m\u001b[0;34m,\u001b[0m \u001b[0mtruth\u001b[0m\u001b[0;34m)\u001b[0m\u001b[0;34m)\u001b[0m\u001b[0;34m\u001b[0m\u001b[0;34m\u001b[0m\u001b[0m\n",
      "\u001b[0;32m~/repos/prob_prog/hw/hw5/CS532-HW5/evaluator.py\u001b[0m in \u001b[0;36mevaluate\u001b[0;34m(exp, env)\u001b[0m\n\u001b[1;32m     27\u001b[0m \u001b[0;34m\u001b[0m\u001b[0m\n\u001b[1;32m     28\u001b[0m     \u001b[0mfn\u001b[0m\u001b[0;34m,\u001b[0m \u001b[0m_\u001b[0m \u001b[0;34m=\u001b[0m \u001b[0meval_hoppl\u001b[0m\u001b[0;34m(\u001b[0m\u001b[0mexp\u001b[0m\u001b[0;34m,\u001b[0m\u001b[0menv\u001b[0m\u001b[0;34m,\u001b[0m\u001b[0msigma\u001b[0m\u001b[0;34m=\u001b[0m\u001b[0;32mNone\u001b[0m\u001b[0;34m)\u001b[0m\u001b[0;34m\u001b[0m\u001b[0;34m\u001b[0m\u001b[0m\n\u001b[0;32m---> 29\u001b[0;31m     \u001b[0mret\u001b[0m\u001b[0;34m,\u001b[0m \u001b[0msigma\u001b[0m \u001b[0;34m=\u001b[0m \u001b[0mfn\u001b[0m\u001b[0;34m(\u001b[0m\u001b[0;34m\"\"\u001b[0m\u001b[0;34m)\u001b[0m\u001b[0;34m\u001b[0m\u001b[0;34m\u001b[0m\u001b[0m\n\u001b[0m\u001b[1;32m     30\u001b[0m     \u001b[0;32mreturn\u001b[0m \u001b[0mret\u001b[0m\u001b[0;34m\u001b[0m\u001b[0;34m\u001b[0m\u001b[0m\n\u001b[1;32m     31\u001b[0m \u001b[0;34m\u001b[0m\u001b[0m\n",
      "\u001b[0;32m~/repos/prob_prog/hw/hw5/CS532-HW5/evaluator.py\u001b[0m in \u001b[0;36m__call__\u001b[0;34m(self, *args)\u001b[0m\n\u001b[1;32m     72\u001b[0m     \u001b[0;32mdef\u001b[0m \u001b[0m__call__\u001b[0m\u001b[0;34m(\u001b[0m\u001b[0mself\u001b[0m\u001b[0;34m,\u001b[0m \u001b[0;34m*\u001b[0m\u001b[0margs\u001b[0m\u001b[0;34m)\u001b[0m\u001b[0;34m:\u001b[0m\u001b[0;34m\u001b[0m\u001b[0;34m\u001b[0m\u001b[0m\n\u001b[1;32m     73\u001b[0m         \u001b[0mnew_env\u001b[0m \u001b[0;34m=\u001b[0m \u001b[0mcopy\u001b[0m\u001b[0;34m.\u001b[0m\u001b[0mdeepcopy\u001b[0m\u001b[0;34m(\u001b[0m\u001b[0mself\u001b[0m\u001b[0;34m.\u001b[0m\u001b[0menv\u001b[0m\u001b[0;34m)\u001b[0m\u001b[0;34m\u001b[0m\u001b[0;34m\u001b[0m\u001b[0m\n\u001b[0;32m---> 74\u001b[0;31m         \u001b[0;32mreturn\u001b[0m \u001b[0meval_hoppl\u001b[0m\u001b[0;34m(\u001b[0m\u001b[0mself\u001b[0m\u001b[0;34m.\u001b[0m\u001b[0mbody\u001b[0m\u001b[0;34m,\u001b[0m \u001b[0mEnv\u001b[0m\u001b[0;34m(\u001b[0m\u001b[0mself\u001b[0m\u001b[0;34m.\u001b[0m\u001b[0mparms\u001b[0m\u001b[0;34m,\u001b[0m \u001b[0margs\u001b[0m\u001b[0;34m,\u001b[0m \u001b[0mnew_env\u001b[0m\u001b[0;34m)\u001b[0m\u001b[0;34m)\u001b[0m \u001b[0;31m# [0]\u001b[0m\u001b[0;34m\u001b[0m\u001b[0;34m\u001b[0m\u001b[0m\n\u001b[0m\u001b[1;32m     75\u001b[0m \u001b[0;34m\u001b[0m\u001b[0m\n\u001b[1;32m     76\u001b[0m \u001b[0;34m\u001b[0m\u001b[0m\n",
      "\u001b[0;32m~/repos/prob_prog/hw/hw5/CS532-HW5/evaluator.py\u001b[0m in \u001b[0;36meval_hoppl\u001b[0;34m(x, env, sigma)\u001b[0m\n\u001b[1;32m    118\u001b[0m         \u001b[0mproc\u001b[0m\u001b[0;34m,\u001b[0m \u001b[0m_\u001b[0m \u001b[0;34m=\u001b[0m \u001b[0meval_hoppl\u001b[0m\u001b[0;34m(\u001b[0m\u001b[0mop\u001b[0m\u001b[0;34m,\u001b[0m \u001b[0menv\u001b[0m\u001b[0;34m,\u001b[0m \u001b[0msigma\u001b[0m\u001b[0;34m)\u001b[0m\u001b[0;34m\u001b[0m\u001b[0;34m\u001b[0m\u001b[0m\n\u001b[1;32m    119\u001b[0m         \u001b[0mvals\u001b[0m \u001b[0;34m=\u001b[0m \u001b[0;34m[\u001b[0m\u001b[0;34m''\u001b[0m\u001b[0;34m]\u001b[0m\u001b[0;34m\u001b[0m\u001b[0;34m\u001b[0m\u001b[0m\n\u001b[0;32m--> 120\u001b[0;31m         \u001b[0mvals\u001b[0m\u001b[0;34m.\u001b[0m\u001b[0mextend\u001b[0m\u001b[0;34m(\u001b[0m\u001b[0;34m[\u001b[0m\u001b[0meval_hoppl\u001b[0m\u001b[0;34m(\u001b[0m\u001b[0marg\u001b[0m\u001b[0;34m,\u001b[0m \u001b[0menv\u001b[0m\u001b[0;34m,\u001b[0m \u001b[0msigma\u001b[0m\u001b[0;34m)\u001b[0m\u001b[0;34m[\u001b[0m\u001b[0;36m0\u001b[0m\u001b[0;34m]\u001b[0m \u001b[0;32mfor\u001b[0m \u001b[0marg\u001b[0m \u001b[0;32min\u001b[0m \u001b[0margs\u001b[0m\u001b[0;34m]\u001b[0m\u001b[0;34m)\u001b[0m\u001b[0;34m\u001b[0m\u001b[0;34m\u001b[0m\u001b[0m\n\u001b[0m\u001b[1;32m    121\u001b[0m         \u001b[0mprint\u001b[0m\u001b[0;34m(\u001b[0m\u001b[0;34m'vals'\u001b[0m\u001b[0;34m,\u001b[0m\u001b[0mvals\u001b[0m\u001b[0;34m)\u001b[0m\u001b[0;34m\u001b[0m\u001b[0;34m\u001b[0m\u001b[0m\n\u001b[1;32m    122\u001b[0m \u001b[0;34m\u001b[0m\u001b[0m\n",
      "\u001b[0;32m~/repos/prob_prog/hw/hw5/CS532-HW5/evaluator.py\u001b[0m in \u001b[0;36m<listcomp>\u001b[0;34m(.0)\u001b[0m\n\u001b[1;32m    118\u001b[0m         \u001b[0mproc\u001b[0m\u001b[0;34m,\u001b[0m \u001b[0m_\u001b[0m \u001b[0;34m=\u001b[0m \u001b[0meval_hoppl\u001b[0m\u001b[0;34m(\u001b[0m\u001b[0mop\u001b[0m\u001b[0;34m,\u001b[0m \u001b[0menv\u001b[0m\u001b[0;34m,\u001b[0m \u001b[0msigma\u001b[0m\u001b[0;34m)\u001b[0m\u001b[0;34m\u001b[0m\u001b[0;34m\u001b[0m\u001b[0m\n\u001b[1;32m    119\u001b[0m         \u001b[0mvals\u001b[0m \u001b[0;34m=\u001b[0m \u001b[0;34m[\u001b[0m\u001b[0;34m''\u001b[0m\u001b[0;34m]\u001b[0m\u001b[0;34m\u001b[0m\u001b[0;34m\u001b[0m\u001b[0m\n\u001b[0;32m--> 120\u001b[0;31m         \u001b[0mvals\u001b[0m\u001b[0;34m.\u001b[0m\u001b[0mextend\u001b[0m\u001b[0;34m(\u001b[0m\u001b[0;34m[\u001b[0m\u001b[0meval_hoppl\u001b[0m\u001b[0;34m(\u001b[0m\u001b[0marg\u001b[0m\u001b[0;34m,\u001b[0m \u001b[0menv\u001b[0m\u001b[0;34m,\u001b[0m \u001b[0msigma\u001b[0m\u001b[0;34m)\u001b[0m\u001b[0;34m[\u001b[0m\u001b[0;36m0\u001b[0m\u001b[0;34m]\u001b[0m \u001b[0;32mfor\u001b[0m \u001b[0marg\u001b[0m \u001b[0;32min\u001b[0m \u001b[0margs\u001b[0m\u001b[0;34m]\u001b[0m\u001b[0;34m)\u001b[0m\u001b[0;34m\u001b[0m\u001b[0;34m\u001b[0m\u001b[0m\n\u001b[0m\u001b[1;32m    121\u001b[0m         \u001b[0mprint\u001b[0m\u001b[0;34m(\u001b[0m\u001b[0;34m'vals'\u001b[0m\u001b[0;34m,\u001b[0m\u001b[0mvals\u001b[0m\u001b[0;34m)\u001b[0m\u001b[0;34m\u001b[0m\u001b[0;34m\u001b[0m\u001b[0m\n\u001b[1;32m    122\u001b[0m \u001b[0;34m\u001b[0m\u001b[0m\n",
      "\u001b[0;32m~/repos/prob_prog/hw/hw5/CS532-HW5/evaluator.py\u001b[0m in \u001b[0;36meval_hoppl\u001b[0;34m(x, env, sigma)\u001b[0m\n\u001b[1;32m    118\u001b[0m         \u001b[0mproc\u001b[0m\u001b[0;34m,\u001b[0m \u001b[0m_\u001b[0m \u001b[0;34m=\u001b[0m \u001b[0meval_hoppl\u001b[0m\u001b[0;34m(\u001b[0m\u001b[0mop\u001b[0m\u001b[0;34m,\u001b[0m \u001b[0menv\u001b[0m\u001b[0;34m,\u001b[0m \u001b[0msigma\u001b[0m\u001b[0;34m)\u001b[0m\u001b[0;34m\u001b[0m\u001b[0;34m\u001b[0m\u001b[0m\n\u001b[1;32m    119\u001b[0m         \u001b[0mvals\u001b[0m \u001b[0;34m=\u001b[0m \u001b[0;34m[\u001b[0m\u001b[0;34m''\u001b[0m\u001b[0;34m]\u001b[0m\u001b[0;34m\u001b[0m\u001b[0;34m\u001b[0m\u001b[0m\n\u001b[0;32m--> 120\u001b[0;31m         \u001b[0mvals\u001b[0m\u001b[0;34m.\u001b[0m\u001b[0mextend\u001b[0m\u001b[0;34m(\u001b[0m\u001b[0;34m[\u001b[0m\u001b[0meval_hoppl\u001b[0m\u001b[0;34m(\u001b[0m\u001b[0marg\u001b[0m\u001b[0;34m,\u001b[0m \u001b[0menv\u001b[0m\u001b[0;34m,\u001b[0m \u001b[0msigma\u001b[0m\u001b[0;34m)\u001b[0m\u001b[0;34m[\u001b[0m\u001b[0;36m0\u001b[0m\u001b[0;34m]\u001b[0m \u001b[0;32mfor\u001b[0m \u001b[0marg\u001b[0m \u001b[0;32min\u001b[0m \u001b[0margs\u001b[0m\u001b[0;34m]\u001b[0m\u001b[0;34m)\u001b[0m\u001b[0;34m\u001b[0m\u001b[0;34m\u001b[0m\u001b[0m\n\u001b[0m\u001b[1;32m    121\u001b[0m         \u001b[0mprint\u001b[0m\u001b[0;34m(\u001b[0m\u001b[0;34m'vals'\u001b[0m\u001b[0;34m,\u001b[0m\u001b[0mvals\u001b[0m\u001b[0;34m)\u001b[0m\u001b[0;34m\u001b[0m\u001b[0;34m\u001b[0m\u001b[0m\n\u001b[1;32m    122\u001b[0m \u001b[0;34m\u001b[0m\u001b[0m\n",
      "\u001b[0;32m~/repos/prob_prog/hw/hw5/CS532-HW5/evaluator.py\u001b[0m in \u001b[0;36m<listcomp>\u001b[0;34m(.0)\u001b[0m\n\u001b[1;32m    118\u001b[0m         \u001b[0mproc\u001b[0m\u001b[0;34m,\u001b[0m \u001b[0m_\u001b[0m \u001b[0;34m=\u001b[0m \u001b[0meval_hoppl\u001b[0m\u001b[0;34m(\u001b[0m\u001b[0mop\u001b[0m\u001b[0;34m,\u001b[0m \u001b[0menv\u001b[0m\u001b[0;34m,\u001b[0m \u001b[0msigma\u001b[0m\u001b[0;34m)\u001b[0m\u001b[0;34m\u001b[0m\u001b[0;34m\u001b[0m\u001b[0m\n\u001b[1;32m    119\u001b[0m         \u001b[0mvals\u001b[0m \u001b[0;34m=\u001b[0m \u001b[0;34m[\u001b[0m\u001b[0;34m''\u001b[0m\u001b[0;34m]\u001b[0m\u001b[0;34m\u001b[0m\u001b[0;34m\u001b[0m\u001b[0m\n\u001b[0;32m--> 120\u001b[0;31m         \u001b[0mvals\u001b[0m\u001b[0;34m.\u001b[0m\u001b[0mextend\u001b[0m\u001b[0;34m(\u001b[0m\u001b[0;34m[\u001b[0m\u001b[0meval_hoppl\u001b[0m\u001b[0;34m(\u001b[0m\u001b[0marg\u001b[0m\u001b[0;34m,\u001b[0m \u001b[0menv\u001b[0m\u001b[0;34m,\u001b[0m \u001b[0msigma\u001b[0m\u001b[0;34m)\u001b[0m\u001b[0;34m[\u001b[0m\u001b[0;36m0\u001b[0m\u001b[0;34m]\u001b[0m \u001b[0;32mfor\u001b[0m \u001b[0marg\u001b[0m \u001b[0;32min\u001b[0m \u001b[0margs\u001b[0m\u001b[0;34m]\u001b[0m\u001b[0;34m)\u001b[0m\u001b[0;34m\u001b[0m\u001b[0;34m\u001b[0m\u001b[0m\n\u001b[0m\u001b[1;32m    121\u001b[0m         \u001b[0mprint\u001b[0m\u001b[0;34m(\u001b[0m\u001b[0;34m'vals'\u001b[0m\u001b[0;34m,\u001b[0m\u001b[0mvals\u001b[0m\u001b[0;34m)\u001b[0m\u001b[0;34m\u001b[0m\u001b[0;34m\u001b[0m\u001b[0m\n\u001b[1;32m    122\u001b[0m \u001b[0;34m\u001b[0m\u001b[0m\n",
      "\u001b[0;32m~/repos/prob_prog/hw/hw5/CS532-HW5/evaluator.py\u001b[0m in \u001b[0;36meval_hoppl\u001b[0;34m(x, env, sigma)\u001b[0m\n\u001b[1;32m     87\u001b[0m     \u001b[0mprint\u001b[0m\u001b[0;34m(\u001b[0m\u001b[0;34m'x'\u001b[0m\u001b[0;34m,\u001b[0m\u001b[0mx\u001b[0m\u001b[0;34m)\u001b[0m\u001b[0;34m\u001b[0m\u001b[0;34m\u001b[0m\u001b[0m\n\u001b[1;32m     88\u001b[0m     \u001b[0;32mif\u001b[0m \u001b[0misinstance\u001b[0m\u001b[0;34m(\u001b[0m\u001b[0mx\u001b[0m\u001b[0;34m,\u001b[0m\u001b[0mstr\u001b[0m\u001b[0;34m)\u001b[0m\u001b[0;34m:\u001b[0m\u001b[0;34m\u001b[0m\u001b[0;34m\u001b[0m\u001b[0m\n\u001b[0;32m---> 89\u001b[0;31m         \u001b[0;32mreturn\u001b[0m \u001b[0menv\u001b[0m\u001b[0;34m.\u001b[0m\u001b[0mfind\u001b[0m\u001b[0;34m(\u001b[0m\u001b[0mx\u001b[0m\u001b[0;34m)\u001b[0m\u001b[0;34m[\u001b[0m\u001b[0mx\u001b[0m\u001b[0;34m]\u001b[0m\u001b[0;34m,\u001b[0m \u001b[0msigma\u001b[0m\u001b[0;34m\u001b[0m\u001b[0;34m\u001b[0m\u001b[0m\n\u001b[0m\u001b[1;32m     90\u001b[0m     \u001b[0;32melif\u001b[0m \u001b[0;32mnot\u001b[0m \u001b[0misinstance\u001b[0m\u001b[0;34m(\u001b[0m\u001b[0mx\u001b[0m\u001b[0;34m,\u001b[0m\u001b[0mlist\u001b[0m\u001b[0;34m)\u001b[0m\u001b[0;34m:\u001b[0m\u001b[0;34m\u001b[0m\u001b[0;34m\u001b[0m\u001b[0m\n\u001b[1;32m     91\u001b[0m         \u001b[0;32mreturn\u001b[0m \u001b[0mtorch\u001b[0m\u001b[0;34m.\u001b[0m\u001b[0mtensor\u001b[0m\u001b[0;34m(\u001b[0m\u001b[0mx\u001b[0m\u001b[0;34m)\u001b[0m\u001b[0;34m,\u001b[0m\u001b[0msigma\u001b[0m\u001b[0;34m\u001b[0m\u001b[0;34m\u001b[0m\u001b[0m\n",
      "\u001b[0;32m~/repos/prob_prog/hw/hw5/CS532-HW5/evaluator.py\u001b[0m in \u001b[0;36mfind\u001b[0;34m(self, var)\u001b[0m\n\u001b[1;32m     48\u001b[0m         \u001b[0;32melse\u001b[0m\u001b[0;34m:\u001b[0m\u001b[0;34m\u001b[0m\u001b[0;34m\u001b[0m\u001b[0m\n\u001b[1;32m     49\u001b[0m             \u001b[0;32mif\u001b[0m \u001b[0mself\u001b[0m\u001b[0;34m.\u001b[0m\u001b[0mouter\u001b[0m \u001b[0;32mis\u001b[0m \u001b[0;32mnot\u001b[0m \u001b[0;32mNone\u001b[0m\u001b[0;34m:\u001b[0m\u001b[0;34m\u001b[0m\u001b[0;34m\u001b[0m\u001b[0m\n\u001b[0;32m---> 50\u001b[0;31m                 \u001b[0;32mreturn\u001b[0m \u001b[0mself\u001b[0m\u001b[0;34m.\u001b[0m\u001b[0mouter\u001b[0m\u001b[0;34m.\u001b[0m\u001b[0mfind\u001b[0m\u001b[0;34m(\u001b[0m\u001b[0mvar\u001b[0m\u001b[0;34m)\u001b[0m\u001b[0;34m\u001b[0m\u001b[0;34m\u001b[0m\u001b[0m\n\u001b[0m\u001b[1;32m     51\u001b[0m             \u001b[0;32melse\u001b[0m\u001b[0;34m:\u001b[0m\u001b[0;34m\u001b[0m\u001b[0;34m\u001b[0m\u001b[0m\n\u001b[1;32m     52\u001b[0m                 \u001b[0;32mraise\u001b[0m \u001b[0mRuntimeError\u001b[0m\u001b[0;34m(\u001b[0m\u001b[0;34m'var \"{}\" not found in outermost scope'\u001b[0m\u001b[0;34m.\u001b[0m\u001b[0mformat\u001b[0m\u001b[0;34m(\u001b[0m\u001b[0mvar\u001b[0m\u001b[0;34m)\u001b[0m\u001b[0;34m)\u001b[0m\u001b[0;34m\u001b[0m\u001b[0;34m\u001b[0m\u001b[0m\n",
      "\u001b[0;32m~/repos/prob_prog/hw/hw5/CS532-HW5/evaluator.py\u001b[0m in \u001b[0;36mfind\u001b[0;34m(self, var)\u001b[0m\n\u001b[1;32m     50\u001b[0m                 \u001b[0;32mreturn\u001b[0m \u001b[0mself\u001b[0m\u001b[0;34m.\u001b[0m\u001b[0mouter\u001b[0m\u001b[0;34m.\u001b[0m\u001b[0mfind\u001b[0m\u001b[0;34m(\u001b[0m\u001b[0mvar\u001b[0m\u001b[0;34m)\u001b[0m\u001b[0;34m\u001b[0m\u001b[0;34m\u001b[0m\u001b[0m\n\u001b[1;32m     51\u001b[0m             \u001b[0;32melse\u001b[0m\u001b[0;34m:\u001b[0m\u001b[0;34m\u001b[0m\u001b[0;34m\u001b[0m\u001b[0m\n\u001b[0;32m---> 52\u001b[0;31m                 \u001b[0;32mraise\u001b[0m \u001b[0mRuntimeError\u001b[0m\u001b[0;34m(\u001b[0m\u001b[0;34m'var \"{}\" not found in outermost scope'\u001b[0m\u001b[0;34m.\u001b[0m\u001b[0mformat\u001b[0m\u001b[0;34m(\u001b[0m\u001b[0mvar\u001b[0m\u001b[0;34m)\u001b[0m\u001b[0;34m)\u001b[0m\u001b[0;34m\u001b[0m\u001b[0;34m\u001b[0m\u001b[0m\n\u001b[0m\u001b[1;32m     53\u001b[0m \u001b[0;34m\u001b[0m\u001b[0m\n\u001b[1;32m     54\u001b[0m     \u001b[0;32mdef\u001b[0m \u001b[0mprint_env\u001b[0m\u001b[0;34m(\u001b[0m\u001b[0mself\u001b[0m\u001b[0;34m,\u001b[0m \u001b[0mprint_lowest\u001b[0m\u001b[0;34m=\u001b[0m\u001b[0;32mFalse\u001b[0m\u001b[0;34m)\u001b[0m\u001b[0;34m:\u001b[0m\u001b[0;34m\u001b[0m\u001b[0;34m\u001b[0m\u001b[0m\n",
      "\u001b[0;31mRuntimeError\u001b[0m: var \"\"a\"\" not found in outermost scope"
     ]
    }
   ],
   "source": [
    "%cd /Users/gw/repos/prob_prog/hw/hw5/CS532-HW5\n",
    "run_deterministic_tests()"
   ]
  }
 ],
 "metadata": {
  "kernelspec": {
   "display_name": "Python 3 (ipykernel)",
   "language": "python",
   "name": "python3"
  },
  "language_info": {
   "codemirror_mode": {
    "name": "ipython",
    "version": 3
   },
   "file_extension": ".py",
   "mimetype": "text/x-python",
   "name": "python",
   "nbconvert_exporter": "python",
   "pygments_lexer": "ipython3",
   "version": "3.9.0"
  }
 },
 "nbformat": 4,
 "nbformat_minor": 5
}
