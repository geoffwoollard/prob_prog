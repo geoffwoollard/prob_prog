{
 "cells": [
  {
   "cell_type": "code",
   "execution_count": null,
   "id": "ab288300",
   "metadata": {},
   "outputs": [],
   "source": [
    "from daphne import daphne\n",
    "import os"
   ]
  },
  {
   "cell_type": "code",
   "execution_count": null,
   "id": "9baf5df6",
   "metadata": {},
   "outputs": [],
   "source": [
    "directory = 'programs/tests/hoppl-deterministic'\n",
    "os.chdir('/Users/gw/repos/prob_prog/hw/hw5/CS532-HW5/{}/'.format(directory))"
   ]
  },
  {
   "cell_type": "code",
   "execution_count": null,
   "id": "161e4b95",
   "metadata": {},
   "outputs": [],
   "source": [
    "i=3\n",
    "cwd='/Users/gw/repos/daphne'\n",
    "exp = daphne(['desugar-hoppl', '-i', '../prob_prog/hw/hw5/CS532-HW5/programs/tests/hoppl-deterministic/test_{}.daphne'.format(i)])\n",
    "exp\n",
    "\n"
   ]
  },
  {
   "cell_type": "code",
   "execution_count": null,
   "id": "d1f901b6",
   "metadata": {},
   "outputs": [],
   "source": [
    "desugared_ast_json_fname = '/Users/gw/repos/prob_prog/hw/hw5/CS532-HW5/programs/tests/hoppl-deterministic/test_{}.daphne.json'.format(i)\n",
    "with open(desugared_ast_json_fname, 'w') as f:\n",
    "    json.dump(exp, f)"
   ]
  },
  {
   "cell_type": "code",
   "execution_count": null,
   "id": "2708ef77",
   "metadata": {},
   "outputs": [],
   "source": [
    "%ls /Users/gw/repos/daphne/../prob_prog/hw/hw5/CS532-HW5/programs/tests/hoppl-deterministic"
   ]
  },
  {
   "cell_type": "code",
   "execution_count": null,
   "id": "df19c2f8",
   "metadata": {},
   "outputs": [],
   "source": [
    "class Env():\n",
    "    \"An environment: a dict of {'var': val} pairs, with an outer Env.\"\n",
    "    def __init__(self, parms=(), args=(), outer=None):\n",
    "        self.data = pmap(zip(parms, args))\n",
    "        self.outer = outer\n",
    "        if outer is None:\n",
    "            self.level = 0\n",
    "        else:\n",
    "            self.level = outer.level+1\n",
    "    def __getitem__(self, item):\n",
    "        return self.data[item]\n",
    "    def find(self, var):\n",
    "        \"Find the innermost Env where var appears.\"\n",
    "        if (var in self.data):\n",
    "            return self\n",
    "        else:\n",
    "            if self.outer is not None:\n",
    "                return self.outer.find(var)\n",
    "            else:\n",
    "                raise RuntimeError('var \"{}\" not found in outermost scope'.format(var))\n",
    "    \n",
    "    def print_env(self, print_lowest=False):\n",
    "        print_limit = 1 if print_lowest == False else 0\n",
    "        outer = self\n",
    "        while outer is not None:\n",
    "            if outer.level >= print_limit:\n",
    "                print('Scope on level ', outer.level)\n",
    "                if 'f' in outer:\n",
    "                    print('Found f, ')\n",
    "                    print(outer['f'].body)\n",
    "                    print(outer['f'].parms)\n",
    "                    print(outer['f'].env)\n",
    "                print(outer,'\\n')\n",
    "            outer = outer.outer"
   ]
  },
  {
   "cell_type": "code",
   "execution_count": null,
   "id": "abb878e6",
   "metadata": {},
   "outputs": [],
   "source": [
    "import copy\n",
    "\n",
    "class Procedure(object):\n",
    "    \"A user-defined Scheme procedure.\"\n",
    "    def __init__(self, parms, body, env):\n",
    "        self.parms, self.body, self.env = parms, body, env\n",
    "    def __call__(self, *args): \n",
    "        new_env = copy.deepcopy(self.env)\n",
    "        return eval(self.body, Env(self.parms, args, new_env)) # [0]"
   ]
  },
  {
   "cell_type": "code",
   "execution_count": null,
   "id": "61e66eb2",
   "metadata": {},
   "outputs": [],
   "source": [
    "from pyrsistent import pmap\n",
    "\n",
    "import torch\n",
    "import torch.distributions as dist"
   ]
  },
  {
   "cell_type": "code",
   "execution_count": null,
   "id": "a9562c7f",
   "metadata": {},
   "outputs": [],
   "source": [
    "def push_addr(alpha, value):\n",
    "    return alpha + value\n",
    "\n",
    "penv = {\n",
    "    '+': torch.add,\n",
    "    '*':torch.mul,\n",
    "#     'push-address':push_addr\n",
    "}"
   ]
  },
  {
   "cell_type": "code",
   "execution_count": null,
   "id": "1fcd74e4",
   "metadata": {},
   "outputs": [],
   "source": [
    "def standard_env():\n",
    "    \"An environment with some Scheme standard procedures.\"\n",
    "    env = Env(penv.keys(), penv.values())\n",
    "    return env\n",
    "\n",
    "env = standard_env()\n",
    "env.find('+')\n",
    "#['+'](torch.tensor(0.),torch.tensor(1.))"
   ]
  },
  {
   "cell_type": "code",
   "execution_count": null,
   "id": "1b6704e2",
   "metadata": {},
   "outputs": [],
   "source": [
    "def eval(x,env=standard_env(),sigma=None):\n",
    "\n",
    "    print('x',x)\n",
    "    if isinstance(x,str):\n",
    "        return env.find(x)[x], sigma\n",
    "    elif not isinstance(x,list):\n",
    "        return torch.tensor(x),sigma\n",
    "    \n",
    "    op, param, *args = x\n",
    "    \n",
    "    if False:\n",
    "        pass\n",
    "    \n",
    "    elif op == 'push-address':\n",
    "        return '', sigma\n",
    "    elif op == 'fn':\n",
    "        print('args',args)\n",
    "#         param, body = args\n",
    "        body = args[0]\n",
    "        return Procedure(param, body, env), sigma # has eval in it\n",
    "        # param ['alpha', 'x']\n",
    "        # body ['*', ['push-address', 'alpha', 'addr2'], 'x', 'x']\n",
    "        # env\n",
    "    \n",
    "    else:\n",
    "        print('in else. x',x)\n",
    "        proc, _ = eval(op,env,sigma)\n",
    "        vals = [''] # TODO: address for fn???\n",
    "        vals.extend([eval(arg, env, sigma)[0] for arg in args])\n",
    "        print('vals',vals)\n",
    "\n",
    "        if isinstance(proc, Procedure): # lambdas, not primitives\n",
    "            print('in Procedure',proc, vals)\n",
    "            r, _ = proc(*vals)\n",
    "        else:\n",
    "            r = proc(*vals[1:]) # primitives\n",
    "            print('in primitives',proc, vals)\n",
    "            \n",
    "        return r, sigma\n",
    "    \n",
    "\n",
    "# eval(['*','a0',3,3])  \n",
    "\n",
    "# why vals only tensor(8.), where did push add go?"
   ]
  },
  {
   "cell_type": "code",
   "execution_count": null,
   "id": "6e04893a",
   "metadata": {},
   "outputs": [],
   "source": [
    "exp"
   ]
  },
  {
   "cell_type": "code",
   "execution_count": null,
   "id": "c910d7fd",
   "metadata": {},
   "outputs": [],
   "source": [
    "proc, sigma = eval(exp)\n",
    "proc('')"
   ]
  },
  {
   "cell_type": "code",
   "execution_count": null,
   "id": "9080d172",
   "metadata": {},
   "outputs": [],
   "source": [
    "exp_sq_8 = [['fn', ['alpha', 'x'], ['*', ['push-address', 'alpha', 'addr2'], 'x', 'x']],\n",
    "   ['push-address', 'alpha', 'addr1'],\n",
    "   9]\n",
    "\n",
    "eval(exp_sq_8)#(torch.tensor(8.))"
   ]
  },
  {
   "cell_type": "code",
   "execution_count": null,
   "id": "80cc23fb",
   "metadata": {},
   "outputs": [],
   "source": [
    "exp_inner = ['fn', ['alpha', 'x'], ['*', ['push-address', 'alpha', 'addr2'], 'x', 'x']]\n",
    "eval(exp_inner)#(torch.tensor(8.))"
   ]
  },
  {
   "cell_type": "markdown",
   "id": "a28b5baa",
   "metadata": {},
   "source": [
    "# test driven development"
   ]
  },
  {
   "cell_type": "code",
   "execution_count": null,
   "id": "0c542909",
   "metadata": {},
   "outputs": [],
   "source": [
    "import sys\n",
    "sys.setrecursionlimit(10000)"
   ]
  },
  {
   "cell_type": "markdown",
   "id": "b991c552",
   "metadata": {},
   "source": [
    "## conj for program 3"
   ]
  },
  {
   "cell_type": "markdown",
   "id": "5eedb580",
   "metadata": {},
   "source": [
    "## peek"
   ]
  },
  {
   "cell_type": "code",
   "execution_count": null,
   "id": "1d237975",
   "metadata": {},
   "outputs": [],
   "source": [
    "import primitives\n",
    "importlib.reload(primitives)\n",
    "from primitives import penv\n",
    "penv['peek']([tensor([[1.,2.],[10,20]])])"
   ]
  },
  {
   "cell_type": "code",
   "execution_count": null,
   "id": "3dc9131f",
   "metadata": {},
   "outputs": [],
   "source": [
    "eval_hoppl()"
   ]
  },
  {
   "cell_type": "markdown",
   "id": "cb333e63",
   "metadata": {},
   "source": [
    "## cons"
   ]
  },
  {
   "cell_type": "code",
   "execution_count": null,
   "id": "b209b782",
   "metadata": {},
   "outputs": [],
   "source": [
    "exp = [tensor(0.), tensor([1,2,3])]\n",
    "\n",
    "torch.cat((torch.tensor([exp[0]]), exp[1]), dim=0)"
   ]
  },
  {
   "cell_type": "code",
   "execution_count": null,
   "id": "fca57424",
   "metadata": {},
   "outputs": [],
   "source": [
    "def cons(*exp):\n",
    "    try:\n",
    "        return torch.cat((torch.tensor([exp[1]]), exp[0]), dim=0)\n",
    "    except:\n",
    "        return torch.cat((torch.tensor([exp[1]]), torch.tensor(exp[0])), dim = 0)"
   ]
  },
  {
   "cell_type": "markdown",
   "id": "d3ff6eeb",
   "metadata": {},
   "source": [
    "## hash-map"
   ]
  },
  {
   "cell_type": "code",
   "execution_count": null,
   "id": "8a0c80a4",
   "metadata": {},
   "outputs": [],
   "source": [
    "# eval_hoppl(['hash-map','','a',1,'b',2])"
   ]
  },
  {
   "cell_type": "code",
   "execution_count": null,
   "id": "f92adbea",
   "metadata": {},
   "outputs": [],
   "source": [
    "# from old_primitives import penv\n",
    "# from torch import tensor\n",
    "\n",
    "# vals = ['',tensor(1.),tensor(2.)]\n",
    "# penv['+'](vals[1:])"
   ]
  },
  {
   "cell_type": "code",
   "execution_count": null,
   "id": "3e456053",
   "metadata": {},
   "outputs": [],
   "source": [
    "# fname = 'programs/tests/hoppl-deterministic/test_{}.daphne.json'.format(i)\n",
    "\n",
    "# with open(fname) as f:\n",
    "#      exp = json.load(f)\n",
    "# exp\n",
    "# # "
   ]
  },
  {
   "cell_type": "markdown",
   "id": "7ae3dc34",
   "metadata": {},
   "source": [
    "## empty"
   ]
  },
  {
   "cell_type": "code",
   "execution_count": null,
   "id": "98993ed8",
   "metadata": {},
   "outputs": [],
   "source": [
    "from primitives import penv\n",
    "penv['empty?']([tensor([1])])"
   ]
  },
  {
   "cell_type": "code",
   "execution_count": null,
   "id": "b38d9486",
   "metadata": {},
   "outputs": [],
   "source": [
    "['', tensor([])][1:]"
   ]
  },
  {
   "cell_type": "code",
   "execution_count": null,
   "id": "f39733c2",
   "metadata": {},
   "outputs": [],
   "source": [
    "eval_hoppl(['empty?','',['vector','']],do_log=True)"
   ]
  },
  {
   "cell_type": "code",
   "execution_count": null,
   "id": "9b589ce0",
   "metadata": {},
   "outputs": [],
   "source": [
    "args=[[tensor(0.), tensor(1.)]]\n",
    "\n",
    "[eval_hoppl(arg)[0] for arg in args]"
   ]
  },
  {
   "cell_type": "code",
   "execution_count": null,
   "id": "ffd25c32",
   "metadata": {},
   "outputs": [],
   "source": [
    "eval_hoppl(['empty?','',[tensor(0.),tensor(1.)]],do_log=True)"
   ]
  },
  {
   "cell_type": "code",
   "execution_count": null,
   "id": "b8ec5450",
   "metadata": {},
   "outputs": [],
   "source": [
    "eval_hoppl(['vector','',tensor(1),tensor(2)])"
   ]
  },
  {
   "cell_type": "markdown",
   "id": "0205118d",
   "metadata": {},
   "source": [
    "## cons/conj\n",
    "* 12 cons and map. cons primitive can't handle  \n",
    "  * vals[1:] [tensor([]), tensor([4])] \n",
    "  * because can't do "
   ]
  },
  {
   "cell_type": "code",
   "execution_count": null,
   "id": "6fd98303",
   "metadata": {},
   "outputs": [],
   "source": [
    "tensor(tensor([]))"
   ]
  },
  {
   "cell_type": "code",
   "execution_count": null,
   "id": "8cf30dfe",
   "metadata": {},
   "outputs": [],
   "source": [
    "item, vector = [tensor([]), tensor([4])]\n",
    "penv['cons']([tensor([]), tensor([4])])"
   ]
  },
  {
   "cell_type": "code",
   "execution_count": null,
   "id": "597d9200",
   "metadata": {},
   "outputs": [],
   "source": [
    "item = tensor([1])\n",
    "vector = tensor([4,5])\n",
    "torch.cat((torch.tensor(item), vector), dim=0)"
   ]
  },
  {
   "cell_type": "code",
   "execution_count": null,
   "id": "77916c0a",
   "metadata": {},
   "outputs": [],
   "source": [
    "torch.tensor(item)"
   ]
  },
  {
   "cell_type": "markdown",
   "id": "813c79d4",
   "metadata": {},
   "source": [
    "## deterministic-hoppl tests"
   ]
  },
  {
   "cell_type": "code",
   "execution_count": 1,
   "id": "5a3f61ac",
   "metadata": {},
   "outputs": [
    {
     "data": {
      "text/plain": [
       "<module 'primitives' from '/Users/gw/repos/prob_prog/hw/hw5/CS532-HW5/primitives.py'>"
      ]
     },
     "execution_count": 1,
     "metadata": {},
     "output_type": "execute_result"
    }
   ],
   "source": [
    "from tests import load_truth, is_tol\n",
    "import os, json\n",
    "from daphne import daphne\n",
    "import torch\n",
    "from torch import tensor\n",
    "\n",
    "import importlib\n",
    "import evaluator\n",
    "importlib.reload(evaluator)\n",
    "from evaluator import evaluate, run_deterministic_tests, ast_helper, eval_hoppl\n",
    "\n",
    "import primitives\n",
    "importlib.reload(primitives)"
   ]
  },
  {
   "cell_type": "code",
   "execution_count": 2,
   "id": "c8b37469",
   "metadata": {},
   "outputs": [
    {
     "data": {
      "text/plain": [
       "['fn',\n",
       " ['alpha'],\n",
       " [['fn',\n",
       "   ['alpha', 'map'],\n",
       "   ['map',\n",
       "    ['push-address', 'alpha', 'addr1'],\n",
       "    ['fn', ['alpha', 'y'], ['+', ['push-address', 'alpha', 'addr2'], 1, 'y']],\n",
       "    ['vector', ['push-address', 'alpha', 'addr3'], 1, 2, 3]]],\n",
       "  ['push-address', 'alpha', 'addr0'],\n",
       "  ['fn',\n",
       "   ['alpha', 'f', 'values'],\n",
       "   [['fn',\n",
       "     ['alpha', 'f', 'values', 'map'],\n",
       "     ['if',\n",
       "      ['empty?', ['push-address', 'alpha', 'addr5'], 'values'],\n",
       "      ['vector', ['push-address', 'alpha', 'addr6']],\n",
       "      ['prepend',\n",
       "       ['push-address', 'alpha', 'addr7'],\n",
       "       ['map',\n",
       "        ['push-address', 'alpha', 'addr8'],\n",
       "        'f',\n",
       "        ['rest', ['push-address', 'alpha', 'addr9'], 'values'],\n",
       "        'map'],\n",
       "       ['f',\n",
       "        ['push-address', 'alpha', 'addr10'],\n",
       "        ['first', ['push-address', 'alpha', 'addr11'], 'values']]]]],\n",
       "    ['push-address', 'alpha', 'addr4'],\n",
       "    'f',\n",
       "    'values',\n",
       "    ['fn',\n",
       "     ['alpha', 'f', 'values', 'map'],\n",
       "     ['if',\n",
       "      ['empty?', ['push-address', 'alpha', 'addr12'], 'values'],\n",
       "      ['vector', ['push-address', 'alpha', 'addr13']],\n",
       "      ['prepend',\n",
       "       ['push-address', 'alpha', 'addr14'],\n",
       "       ['map',\n",
       "        ['push-address', 'alpha', 'addr15'],\n",
       "        'f',\n",
       "        ['rest', ['push-address', 'alpha', 'addr16'], 'values'],\n",
       "        'map'],\n",
       "       ['f',\n",
       "        ['push-address', 'alpha', 'addr17'],\n",
       "        ['first', ['push-address', 'alpha', 'addr18'], 'values']]]]]]]]]"
      ]
     },
     "execution_count": 2,
     "metadata": {},
     "output_type": "execute_result"
    }
   ],
   "source": [
    "i=12\n",
    "fname='test_{}.daphne'.format(i)\n",
    "exp = ast_helper(fname,directory='programs/tests/hoppl-deterministic//')\n",
    "exp"
   ]
  },
  {
   "cell_type": "code",
   "execution_count": 3,
   "id": "61ecfce3",
   "metadata": {},
   "outputs": [
    {
     "data": {
      "text/plain": [
       "tensor([2, 3, 4])"
      ]
     },
     "execution_count": 3,
     "metadata": {},
     "output_type": "execute_result"
    }
   ],
   "source": [
    "os.chdir('/Users/gw/repos/prob_prog/hw/hw5/CS532-HW5/')\n",
    "truth = load_truth('programs/tests/hoppl-deterministic/test_{}.truth'.format(i))\n",
    "truth"
   ]
  },
  {
   "cell_type": "code",
   "execution_count": 4,
   "id": "fcd030bc",
   "metadata": {},
   "outputs": [
    {
     "name": "stdout",
     "output_type": "stream",
     "text": [
      "x ['fn', ['alpha'], [['fn', ['alpha', 'map'], ['map', ['push-address', 'alpha', 'addr1'], ['fn', ['alpha', 'y'], ['+', ['push-address', 'alpha', 'addr2'], 1, 'y']], ['vector', ['push-address', 'alpha', 'addr3'], 1, 2, 3]]], ['push-address', 'alpha', 'addr0'], ['fn', ['alpha', 'f', 'values'], [['fn', ['alpha', 'f', 'values', 'map'], ['if', ['empty?', ['push-address', 'alpha', 'addr5'], 'values'], ['vector', ['push-address', 'alpha', 'addr6']], ['prepend', ['push-address', 'alpha', 'addr7'], ['map', ['push-address', 'alpha', 'addr8'], 'f', ['rest', ['push-address', 'alpha', 'addr9'], 'values'], 'map'], ['f', ['push-address', 'alpha', 'addr10'], ['first', ['push-address', 'alpha', 'addr11'], 'values']]]]], ['push-address', 'alpha', 'addr4'], 'f', 'values', ['fn', ['alpha', 'f', 'values', 'map'], ['if', ['empty?', ['push-address', 'alpha', 'addr12'], 'values'], ['vector', ['push-address', 'alpha', 'addr13']], ['prepend', ['push-address', 'alpha', 'addr14'], ['map', ['push-address', 'alpha', 'addr15'], 'f', ['rest', ['push-address', 'alpha', 'addr16'], 'values'], 'map'], ['f', ['push-address', 'alpha', 'addr17'], ['first', ['push-address', 'alpha', 'addr18'], 'values']]]]]]]]]\n",
      "case fn: args [[['fn', ['alpha', 'map'], ['map', ['push-address', 'alpha', 'addr1'], ['fn', ['alpha', 'y'], ['+', ['push-address', 'alpha', 'addr2'], 1, 'y']], ['vector', ['push-address', 'alpha', 'addr3'], 1, 2, 3]]], ['push-address', 'alpha', 'addr0'], ['fn', ['alpha', 'f', 'values'], [['fn', ['alpha', 'f', 'values', 'map'], ['if', ['empty?', ['push-address', 'alpha', 'addr5'], 'values'], ['vector', ['push-address', 'alpha', 'addr6']], ['prepend', ['push-address', 'alpha', 'addr7'], ['map', ['push-address', 'alpha', 'addr8'], 'f', ['rest', ['push-address', 'alpha', 'addr9'], 'values'], 'map'], ['f', ['push-address', 'alpha', 'addr10'], ['first', ['push-address', 'alpha', 'addr11'], 'values']]]]], ['push-address', 'alpha', 'addr4'], 'f', 'values', ['fn', ['alpha', 'f', 'values', 'map'], ['if', ['empty?', ['push-address', 'alpha', 'addr12'], 'values'], ['vector', ['push-address', 'alpha', 'addr13']], ['prepend', ['push-address', 'alpha', 'addr14'], ['map', ['push-address', 'alpha', 'addr15'], 'f', ['rest', ['push-address', 'alpha', 'addr16'], 'values'], 'map'], ['f', ['push-address', 'alpha', 'addr17'], ['first', ['push-address', 'alpha', 'addr18'], 'values']]]]]]]]]\n",
      "x [['fn', ['alpha', 'map'], ['map', ['push-address', 'alpha', 'addr1'], ['fn', ['alpha', 'y'], ['+', ['push-address', 'alpha', 'addr2'], 1, 'y']], ['vector', ['push-address', 'alpha', 'addr3'], 1, 2, 3]]], ['push-address', 'alpha', 'addr0'], ['fn', ['alpha', 'f', 'values'], [['fn', ['alpha', 'f', 'values', 'map'], ['if', ['empty?', ['push-address', 'alpha', 'addr5'], 'values'], ['vector', ['push-address', 'alpha', 'addr6']], ['prepend', ['push-address', 'alpha', 'addr7'], ['map', ['push-address', 'alpha', 'addr8'], 'f', ['rest', ['push-address', 'alpha', 'addr9'], 'values'], 'map'], ['f', ['push-address', 'alpha', 'addr10'], ['first', ['push-address', 'alpha', 'addr11'], 'values']]]]], ['push-address', 'alpha', 'addr4'], 'f', 'values', ['fn', ['alpha', 'f', 'values', 'map'], ['if', ['empty?', ['push-address', 'alpha', 'addr12'], 'values'], ['vector', ['push-address', 'alpha', 'addr13']], ['prepend', ['push-address', 'alpha', 'addr14'], ['map', ['push-address', 'alpha', 'addr15'], 'f', ['rest', ['push-address', 'alpha', 'addr16'], 'values'], 'map'], ['f', ['push-address', 'alpha', 'addr17'], ['first', ['push-address', 'alpha', 'addr18'], 'values']]]]]]]]\n",
      "case else: x [['fn', ['alpha', 'map'], ['map', ['push-address', 'alpha', 'addr1'], ['fn', ['alpha', 'y'], ['+', ['push-address', 'alpha', 'addr2'], 1, 'y']], ['vector', ['push-address', 'alpha', 'addr3'], 1, 2, 3]]], ['push-address', 'alpha', 'addr0'], ['fn', ['alpha', 'f', 'values'], [['fn', ['alpha', 'f', 'values', 'map'], ['if', ['empty?', ['push-address', 'alpha', 'addr5'], 'values'], ['vector', ['push-address', 'alpha', 'addr6']], ['prepend', ['push-address', 'alpha', 'addr7'], ['map', ['push-address', 'alpha', 'addr8'], 'f', ['rest', ['push-address', 'alpha', 'addr9'], 'values'], 'map'], ['f', ['push-address', 'alpha', 'addr10'], ['first', ['push-address', 'alpha', 'addr11'], 'values']]]]], ['push-address', 'alpha', 'addr4'], 'f', 'values', ['fn', ['alpha', 'f', 'values', 'map'], ['if', ['empty?', ['push-address', 'alpha', 'addr12'], 'values'], ['vector', ['push-address', 'alpha', 'addr13']], ['prepend', ['push-address', 'alpha', 'addr14'], ['map', ['push-address', 'alpha', 'addr15'], 'f', ['rest', ['push-address', 'alpha', 'addr16'], 'values'], 'map'], ['f', ['push-address', 'alpha', 'addr17'], ['first', ['push-address', 'alpha', 'addr18'], 'values']]]]]]]]\n",
      "x ['fn', ['alpha', 'map'], ['map', ['push-address', 'alpha', 'addr1'], ['fn', ['alpha', 'y'], ['+', ['push-address', 'alpha', 'addr2'], 1, 'y']], ['vector', ['push-address', 'alpha', 'addr3'], 1, 2, 3]]]\n",
      "case fn: args [['map', ['push-address', 'alpha', 'addr1'], ['fn', ['alpha', 'y'], ['+', ['push-address', 'alpha', 'addr2'], 1, 'y']], ['vector', ['push-address', 'alpha', 'addr3'], 1, 2, 3]]]\n",
      "case else: args [['fn', ['alpha', 'f', 'values'], [['fn', ['alpha', 'f', 'values', 'map'], ['if', ['empty?', ['push-address', 'alpha', 'addr5'], 'values'], ['vector', ['push-address', 'alpha', 'addr6']], ['prepend', ['push-address', 'alpha', 'addr7'], ['map', ['push-address', 'alpha', 'addr8'], 'f', ['rest', ['push-address', 'alpha', 'addr9'], 'values'], 'map'], ['f', ['push-address', 'alpha', 'addr10'], ['first', ['push-address', 'alpha', 'addr11'], 'values']]]]], ['push-address', 'alpha', 'addr4'], 'f', 'values', ['fn', ['alpha', 'f', 'values', 'map'], ['if', ['empty?', ['push-address', 'alpha', 'addr12'], 'values'], ['vector', ['push-address', 'alpha', 'addr13']], ['prepend', ['push-address', 'alpha', 'addr14'], ['map', ['push-address', 'alpha', 'addr15'], 'f', ['rest', ['push-address', 'alpha', 'addr16'], 'values'], 'map'], ['f', ['push-address', 'alpha', 'addr17'], ['first', ['push-address', 'alpha', 'addr18'], 'values']]]]]]]]\n",
      "x ['fn', ['alpha', 'f', 'values'], [['fn', ['alpha', 'f', 'values', 'map'], ['if', ['empty?', ['push-address', 'alpha', 'addr5'], 'values'], ['vector', ['push-address', 'alpha', 'addr6']], ['prepend', ['push-address', 'alpha', 'addr7'], ['map', ['push-address', 'alpha', 'addr8'], 'f', ['rest', ['push-address', 'alpha', 'addr9'], 'values'], 'map'], ['f', ['push-address', 'alpha', 'addr10'], ['first', ['push-address', 'alpha', 'addr11'], 'values']]]]], ['push-address', 'alpha', 'addr4'], 'f', 'values', ['fn', ['alpha', 'f', 'values', 'map'], ['if', ['empty?', ['push-address', 'alpha', 'addr12'], 'values'], ['vector', ['push-address', 'alpha', 'addr13']], ['prepend', ['push-address', 'alpha', 'addr14'], ['map', ['push-address', 'alpha', 'addr15'], 'f', ['rest', ['push-address', 'alpha', 'addr16'], 'values'], 'map'], ['f', ['push-address', 'alpha', 'addr17'], ['first', ['push-address', 'alpha', 'addr18'], 'values']]]]]]]\n",
      "case fn: args [[['fn', ['alpha', 'f', 'values', 'map'], ['if', ['empty?', ['push-address', 'alpha', 'addr5'], 'values'], ['vector', ['push-address', 'alpha', 'addr6']], ['prepend', ['push-address', 'alpha', 'addr7'], ['map', ['push-address', 'alpha', 'addr8'], 'f', ['rest', ['push-address', 'alpha', 'addr9'], 'values'], 'map'], ['f', ['push-address', 'alpha', 'addr10'], ['first', ['push-address', 'alpha', 'addr11'], 'values']]]]], ['push-address', 'alpha', 'addr4'], 'f', 'values', ['fn', ['alpha', 'f', 'values', 'map'], ['if', ['empty?', ['push-address', 'alpha', 'addr12'], 'values'], ['vector', ['push-address', 'alpha', 'addr13']], ['prepend', ['push-address', 'alpha', 'addr14'], ['map', ['push-address', 'alpha', 'addr15'], 'f', ['rest', ['push-address', 'alpha', 'addr16'], 'values'], 'map'], ['f', ['push-address', 'alpha', 'addr17'], ['first', ['push-address', 'alpha', 'addr18'], 'values']]]]]]]\n",
      "case else: vals ['', <evaluator.Procedure object at 0x13458c970>]\n",
      "case Procedure: <evaluator.Procedure object at 0x13458c460> ['', <evaluator.Procedure object at 0x13458c970>]\n",
      "x ['map', ['push-address', 'alpha', 'addr1'], ['fn', ['alpha', 'y'], ['+', ['push-address', 'alpha', 'addr2'], 1, 'y']], ['vector', ['push-address', 'alpha', 'addr3'], 1, 2, 3]]\n",
      "case else: x ['map', ['push-address', 'alpha', 'addr1'], ['fn', ['alpha', 'y'], ['+', ['push-address', 'alpha', 'addr2'], 1, 'y']], ['vector', ['push-address', 'alpha', 'addr3'], 1, 2, 3]]\n",
      "x map\n",
      "case else: args [['fn', ['alpha', 'y'], ['+', ['push-address', 'alpha', 'addr2'], 1, 'y']], ['vector', ['push-address', 'alpha', 'addr3'], 1, 2, 3]]\n",
      "x ['fn', ['alpha', 'y'], ['+', ['push-address', 'alpha', 'addr2'], 1, 'y']]\n",
      "case fn: args [['+', ['push-address', 'alpha', 'addr2'], 1, 'y']]\n",
      "x ['vector', ['push-address', 'alpha', 'addr3'], 1, 2, 3]\n",
      "case else: x ['vector', ['push-address', 'alpha', 'addr3'], 1, 2, 3]\n",
      "x vector\n",
      "case else: args [1, 2, 3]\n",
      "x 1\n",
      "x 2\n",
      "x 3\n",
      "case else: vals ['', tensor(1), tensor(2), tensor(3)]\n",
      "case Procedure: <function vector_primitive at 0x1345633a0> ['', tensor(1), tensor(2), tensor(3)]\n",
      "case primitives: vals[1:] [tensor(1), tensor(2), tensor(3)]\n",
      "case primitives: r tensor([1, 2, 3])\n",
      "case else: vals ['', <evaluator.Procedure object at 0x134592880>, tensor([1, 2, 3])]\n",
      "case Procedure: <evaluator.Procedure object at 0x13458c970> ['', <evaluator.Procedure object at 0x134592880>, tensor([1, 2, 3])]\n",
      "x [['fn', ['alpha', 'f', 'values', 'map'], ['if', ['empty?', ['push-address', 'alpha', 'addr5'], 'values'], ['vector', ['push-address', 'alpha', 'addr6']], ['prepend', ['push-address', 'alpha', 'addr7'], ['map', ['push-address', 'alpha', 'addr8'], 'f', ['rest', ['push-address', 'alpha', 'addr9'], 'values'], 'map'], ['f', ['push-address', 'alpha', 'addr10'], ['first', ['push-address', 'alpha', 'addr11'], 'values']]]]], ['push-address', 'alpha', 'addr4'], 'f', 'values', ['fn', ['alpha', 'f', 'values', 'map'], ['if', ['empty?', ['push-address', 'alpha', 'addr12'], 'values'], ['vector', ['push-address', 'alpha', 'addr13']], ['prepend', ['push-address', 'alpha', 'addr14'], ['map', ['push-address', 'alpha', 'addr15'], 'f', ['rest', ['push-address', 'alpha', 'addr16'], 'values'], 'map'], ['f', ['push-address', 'alpha', 'addr17'], ['first', ['push-address', 'alpha', 'addr18'], 'values']]]]]]\n",
      "case else: x [['fn', ['alpha', 'f', 'values', 'map'], ['if', ['empty?', ['push-address', 'alpha', 'addr5'], 'values'], ['vector', ['push-address', 'alpha', 'addr6']], ['prepend', ['push-address', 'alpha', 'addr7'], ['map', ['push-address', 'alpha', 'addr8'], 'f', ['rest', ['push-address', 'alpha', 'addr9'], 'values'], 'map'], ['f', ['push-address', 'alpha', 'addr10'], ['first', ['push-address', 'alpha', 'addr11'], 'values']]]]], ['push-address', 'alpha', 'addr4'], 'f', 'values', ['fn', ['alpha', 'f', 'values', 'map'], ['if', ['empty?', ['push-address', 'alpha', 'addr12'], 'values'], ['vector', ['push-address', 'alpha', 'addr13']], ['prepend', ['push-address', 'alpha', 'addr14'], ['map', ['push-address', 'alpha', 'addr15'], 'f', ['rest', ['push-address', 'alpha', 'addr16'], 'values'], 'map'], ['f', ['push-address', 'alpha', 'addr17'], ['first', ['push-address', 'alpha', 'addr18'], 'values']]]]]]\n",
      "x ['fn', ['alpha', 'f', 'values', 'map'], ['if', ['empty?', ['push-address', 'alpha', 'addr5'], 'values'], ['vector', ['push-address', 'alpha', 'addr6']], ['prepend', ['push-address', 'alpha', 'addr7'], ['map', ['push-address', 'alpha', 'addr8'], 'f', ['rest', ['push-address', 'alpha', 'addr9'], 'values'], 'map'], ['f', ['push-address', 'alpha', 'addr10'], ['first', ['push-address', 'alpha', 'addr11'], 'values']]]]]\n",
      "case fn: args [['if', ['empty?', ['push-address', 'alpha', 'addr5'], 'values'], ['vector', ['push-address', 'alpha', 'addr6']], ['prepend', ['push-address', 'alpha', 'addr7'], ['map', ['push-address', 'alpha', 'addr8'], 'f', ['rest', ['push-address', 'alpha', 'addr9'], 'values'], 'map'], ['f', ['push-address', 'alpha', 'addr10'], ['first', ['push-address', 'alpha', 'addr11'], 'values']]]]]\n",
      "case else: args ['f', 'values', ['fn', ['alpha', 'f', 'values', 'map'], ['if', ['empty?', ['push-address', 'alpha', 'addr12'], 'values'], ['vector', ['push-address', 'alpha', 'addr13']], ['prepend', ['push-address', 'alpha', 'addr14'], ['map', ['push-address', 'alpha', 'addr15'], 'f', ['rest', ['push-address', 'alpha', 'addr16'], 'values'], 'map'], ['f', ['push-address', 'alpha', 'addr17'], ['first', ['push-address', 'alpha', 'addr18'], 'values']]]]]]\n",
      "x f\n",
      "x values\n",
      "x ['fn', ['alpha', 'f', 'values', 'map'], ['if', ['empty?', ['push-address', 'alpha', 'addr12'], 'values'], ['vector', ['push-address', 'alpha', 'addr13']], ['prepend', ['push-address', 'alpha', 'addr14'], ['map', ['push-address', 'alpha', 'addr15'], 'f', ['rest', ['push-address', 'alpha', 'addr16'], 'values'], 'map'], ['f', ['push-address', 'alpha', 'addr17'], ['first', ['push-address', 'alpha', 'addr18'], 'values']]]]]\n",
      "case fn: args [['if', ['empty?', ['push-address', 'alpha', 'addr12'], 'values'], ['vector', ['push-address', 'alpha', 'addr13']], ['prepend', ['push-address', 'alpha', 'addr14'], ['map', ['push-address', 'alpha', 'addr15'], 'f', ['rest', ['push-address', 'alpha', 'addr16'], 'values'], 'map'], ['f', ['push-address', 'alpha', 'addr17'], ['first', ['push-address', 'alpha', 'addr18'], 'values']]]]]\n",
      "case else: vals ['', <evaluator.Procedure object at 0x134592880>, tensor([1, 2, 3]), <evaluator.Procedure object at 0x13458cee0>]\n",
      "case Procedure: <evaluator.Procedure object at 0x134592790> ['', <evaluator.Procedure object at 0x134592880>, tensor([1, 2, 3]), <evaluator.Procedure object at 0x13458cee0>]\n",
      "x ['if', ['empty?', ['push-address', 'alpha', 'addr5'], 'values'], ['vector', ['push-address', 'alpha', 'addr6']], ['prepend', ['push-address', 'alpha', 'addr7'], ['map', ['push-address', 'alpha', 'addr8'], 'f', ['rest', ['push-address', 'alpha', 'addr9'], 'values'], 'map'], ['f', ['push-address', 'alpha', 'addr10'], ['first', ['push-address', 'alpha', 'addr11'], 'values']]]]\n",
      "case if: x ['if', ['empty?', ['push-address', 'alpha', 'addr5'], 'values'], ['vector', ['push-address', 'alpha', 'addr6']], ['prepend', ['push-address', 'alpha', 'addr7'], ['map', ['push-address', 'alpha', 'addr8'], 'f', ['rest', ['push-address', 'alpha', 'addr9'], 'values'], 'map'], ['f', ['push-address', 'alpha', 'addr10'], ['first', ['push-address', 'alpha', 'addr11'], 'values']]]]\n",
      "x ['empty?', ['push-address', 'alpha', 'addr5'], 'values']\n",
      "case else: x ['empty?', ['push-address', 'alpha', 'addr5'], 'values']\n",
      "x empty?\n",
      "case else: args ['values']\n",
      "x values\n",
      "case else: vals ['', tensor([1, 2, 3])]\n",
      "case Procedure: <function empty_primitive at 0x134563790> ['', tensor([1, 2, 3])]\n",
      "case primitives: vals[1:] [tensor([1, 2, 3])]\n",
      "case primitives: r False\n",
      "case if: exp ['prepend', ['push-address', 'alpha', 'addr7'], ['map', ['push-address', 'alpha', 'addr8'], 'f', ['rest', ['push-address', 'alpha', 'addr9'], 'values'], 'map'], ['f', ['push-address', 'alpha', 'addr10'], ['first', ['push-address', 'alpha', 'addr11'], 'values']]]\n",
      "x ['prepend', ['push-address', 'alpha', 'addr7'], ['map', ['push-address', 'alpha', 'addr8'], 'f', ['rest', ['push-address', 'alpha', 'addr9'], 'values'], 'map'], ['f', ['push-address', 'alpha', 'addr10'], ['first', ['push-address', 'alpha', 'addr11'], 'values']]]\n",
      "case else: x ['prepend', ['push-address', 'alpha', 'addr7'], ['map', ['push-address', 'alpha', 'addr8'], 'f', ['rest', ['push-address', 'alpha', 'addr9'], 'values'], 'map'], ['f', ['push-address', 'alpha', 'addr10'], ['first', ['push-address', 'alpha', 'addr11'], 'values']]]\n",
      "x prepend\n",
      "case else: args [['map', ['push-address', 'alpha', 'addr8'], 'f', ['rest', ['push-address', 'alpha', 'addr9'], 'values'], 'map'], ['f', ['push-address', 'alpha', 'addr10'], ['first', ['push-address', 'alpha', 'addr11'], 'values']]]\n",
      "x ['map', ['push-address', 'alpha', 'addr8'], 'f', ['rest', ['push-address', 'alpha', 'addr9'], 'values'], 'map']\n",
      "case else: x ['map', ['push-address', 'alpha', 'addr8'], 'f', ['rest', ['push-address', 'alpha', 'addr9'], 'values'], 'map']\n",
      "x map\n",
      "case else: args ['f', ['rest', ['push-address', 'alpha', 'addr9'], 'values'], 'map']\n",
      "x f\n",
      "x ['rest', ['push-address', 'alpha', 'addr9'], 'values']\n",
      "case else: x ['rest', ['push-address', 'alpha', 'addr9'], 'values']\n",
      "x rest\n",
      "case else: args ['values']\n",
      "x values\n",
      "case else: vals ['', tensor([1, 2, 3])]\n",
      "case Procedure: <function rest_primative at 0x134563280> ['', tensor([1, 2, 3])]\n",
      "case primitives: vals[1:] [tensor([1, 2, 3])]\n",
      "case primitives: r tensor([2, 3])\n",
      "x map\n",
      "case else: vals ['', <evaluator.Procedure object at 0x134592880>, tensor([2, 3]), <evaluator.Procedure object at 0x13458cee0>]\n",
      "case Procedure: <evaluator.Procedure object at 0x13458cee0> ['', <evaluator.Procedure object at 0x134592880>, tensor([2, 3]), <evaluator.Procedure object at 0x13458cee0>]\n",
      "x ['if', ['empty?', ['push-address', 'alpha', 'addr12'], 'values'], ['vector', ['push-address', 'alpha', 'addr13']], ['prepend', ['push-address', 'alpha', 'addr14'], ['map', ['push-address', 'alpha', 'addr15'], 'f', ['rest', ['push-address', 'alpha', 'addr16'], 'values'], 'map'], ['f', ['push-address', 'alpha', 'addr17'], ['first', ['push-address', 'alpha', 'addr18'], 'values']]]]\n",
      "case if: x ['if', ['empty?', ['push-address', 'alpha', 'addr12'], 'values'], ['vector', ['push-address', 'alpha', 'addr13']], ['prepend', ['push-address', 'alpha', 'addr14'], ['map', ['push-address', 'alpha', 'addr15'], 'f', ['rest', ['push-address', 'alpha', 'addr16'], 'values'], 'map'], ['f', ['push-address', 'alpha', 'addr17'], ['first', ['push-address', 'alpha', 'addr18'], 'values']]]]\n",
      "x ['empty?', ['push-address', 'alpha', 'addr12'], 'values']\n",
      "case else: x ['empty?', ['push-address', 'alpha', 'addr12'], 'values']\n",
      "x empty?\n",
      "case else: args ['values']\n",
      "x values\n",
      "case else: vals ['', tensor([2, 3])]\n",
      "case Procedure: <function empty_primitive at 0x134563790> ['', tensor([2, 3])]\n",
      "case primitives: vals[1:] [tensor([2, 3])]\n",
      "case primitives: r False\n",
      "case if: exp ['prepend', ['push-address', 'alpha', 'addr14'], ['map', ['push-address', 'alpha', 'addr15'], 'f', ['rest', ['push-address', 'alpha', 'addr16'], 'values'], 'map'], ['f', ['push-address', 'alpha', 'addr17'], ['first', ['push-address', 'alpha', 'addr18'], 'values']]]\n",
      "x ['prepend', ['push-address', 'alpha', 'addr14'], ['map', ['push-address', 'alpha', 'addr15'], 'f', ['rest', ['push-address', 'alpha', 'addr16'], 'values'], 'map'], ['f', ['push-address', 'alpha', 'addr17'], ['first', ['push-address', 'alpha', 'addr18'], 'values']]]\n",
      "case else: x ['prepend', ['push-address', 'alpha', 'addr14'], ['map', ['push-address', 'alpha', 'addr15'], 'f', ['rest', ['push-address', 'alpha', 'addr16'], 'values'], 'map'], ['f', ['push-address', 'alpha', 'addr17'], ['first', ['push-address', 'alpha', 'addr18'], 'values']]]\n",
      "x prepend\n",
      "case else: args [['map', ['push-address', 'alpha', 'addr15'], 'f', ['rest', ['push-address', 'alpha', 'addr16'], 'values'], 'map'], ['f', ['push-address', 'alpha', 'addr17'], ['first', ['push-address', 'alpha', 'addr18'], 'values']]]\n",
      "x ['map', ['push-address', 'alpha', 'addr15'], 'f', ['rest', ['push-address', 'alpha', 'addr16'], 'values'], 'map']\n",
      "case else: x ['map', ['push-address', 'alpha', 'addr15'], 'f', ['rest', ['push-address', 'alpha', 'addr16'], 'values'], 'map']\n",
      "x map\n",
      "case else: args ['f', ['rest', ['push-address', 'alpha', 'addr16'], 'values'], 'map']\n",
      "x f\n",
      "x ['rest', ['push-address', 'alpha', 'addr16'], 'values']\n",
      "case else: x ['rest', ['push-address', 'alpha', 'addr16'], 'values']\n",
      "x rest\n",
      "case else: args ['values']\n",
      "x values\n",
      "case else: vals ['', tensor([2, 3])]\n",
      "case Procedure: <function rest_primative at 0x134563280> ['', tensor([2, 3])]\n",
      "case primitives: vals[1:] [tensor([2, 3])]\n",
      "case primitives: r tensor([3])\n",
      "x map\n",
      "case else: vals ['', <evaluator.Procedure object at 0x134592880>, tensor([3]), <evaluator.Procedure object at 0x13458cee0>]\n",
      "case Procedure: <evaluator.Procedure object at 0x13458cee0> ['', <evaluator.Procedure object at 0x134592880>, tensor([3]), <evaluator.Procedure object at 0x13458cee0>]\n",
      "x ['if', ['empty?', ['push-address', 'alpha', 'addr12'], 'values'], ['vector', ['push-address', 'alpha', 'addr13']], ['prepend', ['push-address', 'alpha', 'addr14'], ['map', ['push-address', 'alpha', 'addr15'], 'f', ['rest', ['push-address', 'alpha', 'addr16'], 'values'], 'map'], ['f', ['push-address', 'alpha', 'addr17'], ['first', ['push-address', 'alpha', 'addr18'], 'values']]]]\n",
      "case if: x ['if', ['empty?', ['push-address', 'alpha', 'addr12'], 'values'], ['vector', ['push-address', 'alpha', 'addr13']], ['prepend', ['push-address', 'alpha', 'addr14'], ['map', ['push-address', 'alpha', 'addr15'], 'f', ['rest', ['push-address', 'alpha', 'addr16'], 'values'], 'map'], ['f', ['push-address', 'alpha', 'addr17'], ['first', ['push-address', 'alpha', 'addr18'], 'values']]]]\n",
      "x ['empty?', ['push-address', 'alpha', 'addr12'], 'values']\n",
      "case else: x ['empty?', ['push-address', 'alpha', 'addr12'], 'values']\n",
      "x empty?\n",
      "case else: args ['values']\n",
      "x values\n",
      "case else: vals ['', tensor([3])]\n",
      "case Procedure: <function empty_primitive at 0x134563790> ['', tensor([3])]\n",
      "case primitives: vals[1:] [tensor([3])]\n",
      "case primitives: r False\n",
      "case if: exp ['prepend', ['push-address', 'alpha', 'addr14'], ['map', ['push-address', 'alpha', 'addr15'], 'f', ['rest', ['push-address', 'alpha', 'addr16'], 'values'], 'map'], ['f', ['push-address', 'alpha', 'addr17'], ['first', ['push-address', 'alpha', 'addr18'], 'values']]]\n",
      "x ['prepend', ['push-address', 'alpha', 'addr14'], ['map', ['push-address', 'alpha', 'addr15'], 'f', ['rest', ['push-address', 'alpha', 'addr16'], 'values'], 'map'], ['f', ['push-address', 'alpha', 'addr17'], ['first', ['push-address', 'alpha', 'addr18'], 'values']]]\n",
      "case else: x ['prepend', ['push-address', 'alpha', 'addr14'], ['map', ['push-address', 'alpha', 'addr15'], 'f', ['rest', ['push-address', 'alpha', 'addr16'], 'values'], 'map'], ['f', ['push-address', 'alpha', 'addr17'], ['first', ['push-address', 'alpha', 'addr18'], 'values']]]\n",
      "x prepend\n",
      "case else: args [['map', ['push-address', 'alpha', 'addr15'], 'f', ['rest', ['push-address', 'alpha', 'addr16'], 'values'], 'map'], ['f', ['push-address', 'alpha', 'addr17'], ['first', ['push-address', 'alpha', 'addr18'], 'values']]]\n",
      "x ['map', ['push-address', 'alpha', 'addr15'], 'f', ['rest', ['push-address', 'alpha', 'addr16'], 'values'], 'map']\n",
      "case else: x ['map', ['push-address', 'alpha', 'addr15'], 'f', ['rest', ['push-address', 'alpha', 'addr16'], 'values'], 'map']\n",
      "x map\n",
      "case else: args ['f', ['rest', ['push-address', 'alpha', 'addr16'], 'values'], 'map']\n",
      "x f\n",
      "x ['rest', ['push-address', 'alpha', 'addr16'], 'values']\n",
      "case else: x ['rest', ['push-address', 'alpha', 'addr16'], 'values']\n",
      "x rest\n",
      "case else: args ['values']\n",
      "x values\n",
      "case else: vals ['', tensor([3])]\n",
      "case Procedure: <function rest_primative at 0x134563280> ['', tensor([3])]\n",
      "case primitives: vals[1:] [tensor([3])]\n",
      "case primitives: r tensor([], dtype=torch.int64)\n",
      "x map\n",
      "case else: vals ['', <evaluator.Procedure object at 0x134592880>, tensor([], dtype=torch.int64), <evaluator.Procedure object at 0x13458cee0>]\n",
      "case Procedure: <evaluator.Procedure object at 0x13458cee0> ['', <evaluator.Procedure object at 0x134592880>, tensor([], dtype=torch.int64), <evaluator.Procedure object at 0x13458cee0>]\n",
      "x ['if', ['empty?', ['push-address', 'alpha', 'addr12'], 'values'], ['vector', ['push-address', 'alpha', 'addr13']], ['prepend', ['push-address', 'alpha', 'addr14'], ['map', ['push-address', 'alpha', 'addr15'], 'f', ['rest', ['push-address', 'alpha', 'addr16'], 'values'], 'map'], ['f', ['push-address', 'alpha', 'addr17'], ['first', ['push-address', 'alpha', 'addr18'], 'values']]]]\n",
      "case if: x ['if', ['empty?', ['push-address', 'alpha', 'addr12'], 'values'], ['vector', ['push-address', 'alpha', 'addr13']], ['prepend', ['push-address', 'alpha', 'addr14'], ['map', ['push-address', 'alpha', 'addr15'], 'f', ['rest', ['push-address', 'alpha', 'addr16'], 'values'], 'map'], ['f', ['push-address', 'alpha', 'addr17'], ['first', ['push-address', 'alpha', 'addr18'], 'values']]]]\n",
      "x ['empty?', ['push-address', 'alpha', 'addr12'], 'values']\n",
      "case else: x ['empty?', ['push-address', 'alpha', 'addr12'], 'values']\n",
      "x empty?\n",
      "case else: args ['values']\n",
      "x values\n",
      "case else: vals ['', tensor([], dtype=torch.int64)]\n",
      "case Procedure: <function empty_primitive at 0x134563790> ['', tensor([], dtype=torch.int64)]\n",
      "case primitives: vals[1:] [tensor([], dtype=torch.int64)]\n",
      "case primitives: r True\n",
      "case if: exp ['vector', ['push-address', 'alpha', 'addr13']]\n",
      "x ['vector', ['push-address', 'alpha', 'addr13']]\n",
      "case else: x ['vector', ['push-address', 'alpha', 'addr13']]\n",
      "x vector\n",
      "case else: args []\n",
      "case else: vals ['']\n",
      "case Procedure: <function vector_primitive at 0x1345633a0> ['']\n",
      "case primitives: vals[1:] []\n",
      "case primitives: r tensor([])\n",
      "case Procedure: r tensor([])\n",
      "x ['f', ['push-address', 'alpha', 'addr17'], ['first', ['push-address', 'alpha', 'addr18'], 'values']]\n",
      "case else: x ['f', ['push-address', 'alpha', 'addr17'], ['first', ['push-address', 'alpha', 'addr18'], 'values']]\n",
      "x f\n",
      "case else: args [['first', ['push-address', 'alpha', 'addr18'], 'values']]\n",
      "x ['first', ['push-address', 'alpha', 'addr18'], 'values']\n",
      "case else: x ['first', ['push-address', 'alpha', 'addr18'], 'values']\n",
      "x first\n",
      "case else: args ['values']\n",
      "x values\n",
      "case else: vals ['', tensor([3])]\n",
      "case Procedure: <function first_primitive at 0x134559ca0> ['', tensor([3])]\n",
      "case primitives: vals[1:] [tensor([3])]\n",
      "case primitives: r tensor([3])\n",
      "case else: vals ['', tensor([3])]\n",
      "case Procedure: <evaluator.Procedure object at 0x134592880> ['', tensor([3])]\n",
      "x ['+', ['push-address', 'alpha', 'addr2'], 1, 'y']\n",
      "case else: x ['+', ['push-address', 'alpha', 'addr2'], 1, 'y']\n",
      "x +\n",
      "case else: args [1, 'y']\n",
      "x 1\n",
      "x y\n",
      "case else: vals ['', tensor(1), tensor([3])]\n",
      "case Procedure: <function add_primitive at 0x134559790> ['', tensor(1), tensor([3])]\n",
      "case primitives: vals[1:] [tensor(1), tensor([3])]\n",
      "case primitives: r tensor([4])\n",
      "case Procedure: r tensor([4])\n",
      "case else: vals ['', tensor([]), tensor([4])]\n",
      "case Procedure: <function prepend_primitive at 0x1345638b0> ['', tensor([]), tensor([4])]\n",
      "case primitives: vals[1:] [tensor([]), tensor([4])]\n",
      "case primitives: r tensor([4.])\n",
      "case Procedure: r tensor([4.])\n",
      "x ['f', ['push-address', 'alpha', 'addr17'], ['first', ['push-address', 'alpha', 'addr18'], 'values']]\n",
      "case else: x ['f', ['push-address', 'alpha', 'addr17'], ['first', ['push-address', 'alpha', 'addr18'], 'values']]\n",
      "x f\n",
      "case else: args [['first', ['push-address', 'alpha', 'addr18'], 'values']]\n",
      "x ['first', ['push-address', 'alpha', 'addr18'], 'values']\n",
      "case else: x ['first', ['push-address', 'alpha', 'addr18'], 'values']\n",
      "x first\n",
      "case else: args ['values']\n",
      "x values\n",
      "case else: vals ['', tensor([2, 3])]\n",
      "case Procedure: <function first_primitive at 0x134559ca0> ['', tensor([2, 3])]\n",
      "case primitives: vals[1:] [tensor([2, 3])]\n",
      "case primitives: r tensor([2])\n",
      "case else: vals ['', tensor([2])]\n",
      "case Procedure: <evaluator.Procedure object at 0x134592880> ['', tensor([2])]\n",
      "x ['+', ['push-address', 'alpha', 'addr2'], 1, 'y']\n",
      "case else: x ['+', ['push-address', 'alpha', 'addr2'], 1, 'y']\n",
      "x +\n",
      "case else: args [1, 'y']\n",
      "x 1\n",
      "x y\n",
      "case else: vals ['', tensor(1), tensor([2])]\n",
      "case Procedure: <function add_primitive at 0x134559790> ['', tensor(1), tensor([2])]\n",
      "case primitives: vals[1:] [tensor(1), tensor([2])]\n",
      "case primitives: r tensor([3])\n",
      "case Procedure: r tensor([3])\n",
      "case else: vals ['', tensor([4.]), tensor([3])]\n",
      "case Procedure: <function prepend_primitive at 0x1345638b0> ['', tensor([4.]), tensor([3])]\n",
      "case primitives: vals[1:] [tensor([4.]), tensor([3])]\n",
      "case primitives: r tensor([3., 4.])\n",
      "case Procedure: r tensor([3., 4.])\n",
      "x ['f', ['push-address', 'alpha', 'addr10'], ['first', ['push-address', 'alpha', 'addr11'], 'values']]\n",
      "case else: x ['f', ['push-address', 'alpha', 'addr10'], ['first', ['push-address', 'alpha', 'addr11'], 'values']]\n",
      "x f\n",
      "case else: args [['first', ['push-address', 'alpha', 'addr11'], 'values']]\n",
      "x ['first', ['push-address', 'alpha', 'addr11'], 'values']\n",
      "case else: x ['first', ['push-address', 'alpha', 'addr11'], 'values']\n",
      "x first\n",
      "case else: args ['values']\n",
      "x values\n",
      "case else: vals ['', tensor([1, 2, 3])]\n",
      "case Procedure: <function first_primitive at 0x134559ca0> ['', tensor([1, 2, 3])]\n",
      "case primitives: vals[1:] [tensor([1, 2, 3])]\n",
      "case primitives: r tensor([1])\n",
      "case else: vals ['', tensor([1])]\n",
      "case Procedure: <evaluator.Procedure object at 0x134592880> ['', tensor([1])]\n",
      "x ['+', ['push-address', 'alpha', 'addr2'], 1, 'y']\n",
      "case else: x ['+', ['push-address', 'alpha', 'addr2'], 1, 'y']\n",
      "x +\n",
      "case else: args [1, 'y']\n",
      "x 1\n",
      "x y\n",
      "case else: vals ['', tensor(1), tensor([1])]\n",
      "case Procedure: <function add_primitive at 0x134559790> ['', tensor(1), tensor([1])]\n",
      "case primitives: vals[1:] [tensor(1), tensor([1])]\n",
      "case primitives: r tensor([2])\n",
      "case Procedure: r tensor([2])\n",
      "case else: vals ['', tensor([3., 4.]), tensor([2])]\n",
      "case Procedure: <function prepend_primitive at 0x1345638b0> ['', tensor([3., 4.]), tensor([2])]\n",
      "case primitives: vals[1:] [tensor([3., 4.]), tensor([2])]\n",
      "case primitives: r tensor([2., 3., 4.])\n",
      "case Procedure: r tensor([2., 3., 4.])\n",
      "case Procedure: r tensor([2., 3., 4.])\n",
      "case Procedure: r tensor([2., 3., 4.])\n",
      "return tensor([2., 3., 4.])\n"
     ]
    },
    {
     "data": {
      "text/plain": [
       "tensor([2., 3., 4.])"
      ]
     },
     "execution_count": 4,
     "metadata": {},
     "output_type": "execute_result"
    }
   ],
   "source": [
    "ret = evaluate(exp, do_log=True)\n",
    "ret\n",
    "# assert(is_tol(ret, truth))\n",
    "# 4,6,8 quote a and b. daphne output good?"
   ]
  },
  {
   "cell_type": "markdown",
   "id": "b2f48f05",
   "metadata": {},
   "source": [
    "## all tests"
   ]
  },
  {
   "cell_type": "code",
   "execution_count": null,
   "id": "3a86a4cd",
   "metadata": {},
   "outputs": [],
   "source": [
    "%cd /Users/gw/repos/prob_prog/hw/hw5/CS532-HW5\n",
    "run_deterministic_tests()"
   ]
  },
  {
   "cell_type": "code",
   "execution_count": null,
   "id": "06e6c3c2",
   "metadata": {},
   "outputs": [],
   "source": [
    "%cd /Users/gw/repos/prob_prog/hw/hw5/CS532-HW5\n",
    "import evaluator\n",
    "importlib.reload(evaluator)\n",
    "evaluator.run_probabilistic_tests()"
   ]
  },
  {
   "cell_type": "markdown",
   "id": "2e307d72",
   "metadata": {},
   "source": [
    "# programs"
   ]
  },
  {
   "cell_type": "code",
   "execution_count": null,
   "id": "c195a319",
   "metadata": {},
   "outputs": [],
   "source": [
    "import evaluator\n",
    "import importlib\n",
    "import torch\n",
    "from torch import tensor\n",
    "importlib.reload(evaluator)\n",
    "from evaluator import evaluate, run_deterministic_tests, ast_helper, eval_hoppl"
   ]
  },
  {
   "cell_type": "markdown",
   "id": "4cfda835",
   "metadata": {},
   "source": [
    "## program 2\n",
    "* log\n",
    "* observe"
   ]
  },
  {
   "cell_type": "code",
   "execution_count": null,
   "id": "5b8657ba",
   "metadata": {},
   "outputs": [],
   "source": [
    "i=3\n",
    "fname='{}.daphne'.format(i)\n",
    "exp = ast_helper(fname,directory='programs/')\n",
    "exp"
   ]
  },
  {
   "cell_type": "code",
   "execution_count": null,
   "id": "e3cb5d34",
   "metadata": {},
   "outputs": [],
   "source": [
    "ret = evaluate(exp, do_log=False)\n",
    "ret"
   ]
  },
  {
   "cell_type": "code",
   "execution_count": null,
   "id": "6d79979d",
   "metadata": {},
   "outputs": [],
   "source": [
    "import primitives\n",
    "importlib.reload(primitives)\n",
    "from primitives import penv\n",
    "penv['conj']([tensor([-1,-2]), tensor(2)])"
   ]
  },
  {
   "cell_type": "code",
   "execution_count": null,
   "id": "6399d5c5",
   "metadata": {},
   "outputs": [],
   "source": [
    "torch.cat((tensor([1.,2.]),tensor([2.])))"
   ]
  },
  {
   "cell_type": "code",
   "execution_count": null,
   "id": "0858a715",
   "metadata": {},
   "outputs": [],
   "source": [
    "if torch.tensor([1]).reshape(1,)"
   ]
  },
  {
   "cell_type": "code",
   "execution_count": null,
   "id": "97988679",
   "metadata": {},
   "outputs": [],
   "source": [
    "torch.tensor(tensor(1.))"
   ]
  },
  {
   "cell_type": "code",
   "execution_count": null,
   "id": "a5cbf4e5",
   "metadata": {},
   "outputs": [],
   "source": [
    "torch.log(torch.exp(tensor(1.)))"
   ]
  }
 ],
 "metadata": {
  "kernelspec": {
   "display_name": "Python 3 (ipykernel)",
   "language": "python",
   "name": "python3"
  },
  "language_info": {
   "codemirror_mode": {
    "name": "ipython",
    "version": 3
   },
   "file_extension": ".py",
   "mimetype": "text/x-python",
   "name": "python",
   "nbconvert_exporter": "python",
   "pygments_lexer": "ipython3",
   "version": "3.9.0"
  }
 },
 "nbformat": 4,
 "nbformat_minor": 5
}
