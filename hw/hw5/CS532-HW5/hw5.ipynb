{
 "cells": [
  {
   "cell_type": "code",
   "execution_count": null,
   "id": "114c2c08",
   "metadata": {},
   "outputs": [],
   "source": [
    "from daphne import daphne\n",
    "import os"
   ]
  },
  {
   "cell_type": "code",
   "execution_count": null,
   "id": "22eba9b4",
   "metadata": {},
   "outputs": [],
   "source": [
    "directory = 'programs/tests/hoppl-deterministic'\n",
    "os.chdir('/Users/gw/repos/prob_prog/hw/hw5/CS532-HW5/{}/'.format(directory))"
   ]
  },
  {
   "cell_type": "code",
   "execution_count": null,
   "id": "3ca2f196",
   "metadata": {},
   "outputs": [],
   "source": [
    "i=3\n",
    "cwd='/Users/gw/repos/daphne'\n",
    "exp = daphne(['desugar-hoppl', '-i', '../prob_prog/hw/hw5/CS532-HW5/programs/tests/hoppl-deterministic/test_{}.daphne'.format(i)])\n",
    "exp\n",
    "\n"
   ]
  },
  {
   "cell_type": "code",
   "execution_count": null,
   "id": "767fcc63",
   "metadata": {},
   "outputs": [],
   "source": [
    "desugared_ast_json_fname = '/Users/gw/repos/prob_prog/hw/hw5/CS532-HW5/programs/tests/hoppl-deterministic/test_{}.daphne.json'.format(i)\n",
    "with open(desugared_ast_json_fname, 'w') as f:\n",
    "    json.dump(exp, f)"
   ]
  },
  {
   "cell_type": "code",
   "execution_count": null,
   "id": "9cafdc55",
   "metadata": {},
   "outputs": [],
   "source": [
    "%ls /Users/gw/repos/daphne/../prob_prog/hw/hw5/CS532-HW5/programs/tests/hoppl-deterministic"
   ]
  },
  {
   "cell_type": "code",
   "execution_count": null,
   "id": "aaa7a6fc",
   "metadata": {},
   "outputs": [],
   "source": [
    "class Env():\n",
    "    \"An environment: a dict of {'var': val} pairs, with an outer Env.\"\n",
    "    def __init__(self, parms=(), args=(), outer=None):\n",
    "        self.data = pmap(zip(parms, args))\n",
    "        self.outer = outer\n",
    "        if outer is None:\n",
    "            self.level = 0\n",
    "        else:\n",
    "            self.level = outer.level+1\n",
    "    def __getitem__(self, item):\n",
    "        return self.data[item]\n",
    "    def find(self, var):\n",
    "        \"Find the innermost Env where var appears.\"\n",
    "        if (var in self.data):\n",
    "            return self\n",
    "        else:\n",
    "            if self.outer is not None:\n",
    "                return self.outer.find(var)\n",
    "            else:\n",
    "                raise RuntimeError('var \"{}\" not found in outermost scope'.format(var))\n",
    "    \n",
    "    def print_env(self, print_lowest=False):\n",
    "        print_limit = 1 if print_lowest == False else 0\n",
    "        outer = self\n",
    "        while outer is not None:\n",
    "            if outer.level >= print_limit:\n",
    "                print('Scope on level ', outer.level)\n",
    "                if 'f' in outer:\n",
    "                    print('Found f, ')\n",
    "                    print(outer['f'].body)\n",
    "                    print(outer['f'].parms)\n",
    "                    print(outer['f'].env)\n",
    "                print(outer,'\\n')\n",
    "            outer = outer.outer"
   ]
  },
  {
   "cell_type": "code",
   "execution_count": null,
   "id": "03f62542",
   "metadata": {},
   "outputs": [],
   "source": [
    "import copy\n",
    "\n",
    "class Procedure(object):\n",
    "    \"A user-defined Scheme procedure.\"\n",
    "    def __init__(self, parms, body, env):\n",
    "        self.parms, self.body, self.env = parms, body, env\n",
    "    def __call__(self, *args): \n",
    "        new_env = copy.deepcopy(self.env)\n",
    "        return eval(self.body, Env(self.parms, args, new_env)) # [0]"
   ]
  },
  {
   "cell_type": "code",
   "execution_count": null,
   "id": "a2f65082",
   "metadata": {},
   "outputs": [],
   "source": [
    "from pyrsistent import pmap\n",
    "\n",
    "import torch\n",
    "import torch.distributions as dist"
   ]
  },
  {
   "cell_type": "code",
   "execution_count": null,
   "id": "6a927a96",
   "metadata": {},
   "outputs": [],
   "source": [
    "def push_addr(alpha, value):\n",
    "    return alpha + value\n",
    "\n",
    "penv = {\n",
    "    '+': torch.add,\n",
    "    '*':torch.mul,\n",
    "#     'push-address':push_addr\n",
    "}"
   ]
  },
  {
   "cell_type": "code",
   "execution_count": null,
   "id": "7969b717",
   "metadata": {},
   "outputs": [],
   "source": [
    "def standard_env():\n",
    "    \"An environment with some Scheme standard procedures.\"\n",
    "    env = Env(penv.keys(), penv.values())\n",
    "    return env\n",
    "\n",
    "env = standard_env()\n",
    "env.find('+')\n",
    "#['+'](torch.tensor(0.),torch.tensor(1.))"
   ]
  },
  {
   "cell_type": "code",
   "execution_count": null,
   "id": "c782feed",
   "metadata": {},
   "outputs": [],
   "source": [
    "def eval(x,env=standard_env(),sigma=None):\n",
    "\n",
    "    print('x',x)\n",
    "    if isinstance(x,str):\n",
    "        return env.find(x)[x], sigma\n",
    "    elif not isinstance(x,list):\n",
    "        return torch.tensor(x),sigma\n",
    "    \n",
    "    op, param, *args = x\n",
    "    \n",
    "    if False:\n",
    "        pass\n",
    "    \n",
    "    elif op == 'push-address':\n",
    "        return '', sigma\n",
    "    elif op == 'fn':\n",
    "        print('args',args)\n",
    "#         param, body = args\n",
    "        body = args[0]\n",
    "        return Procedure(param, body, env), sigma # has eval in it\n",
    "        # param ['alpha', 'x']\n",
    "        # body ['*', ['push-address', 'alpha', 'addr2'], 'x', 'x']\n",
    "        # env\n",
    "    \n",
    "    else:\n",
    "        print('in else. x',x)\n",
    "        proc, _ = eval(op,env,sigma)\n",
    "        vals = [''] # TODO: address for fn???\n",
    "        vals.extend([eval(arg, env, sigma)[0] for arg in args])\n",
    "        print('vals',vals)\n",
    "\n",
    "        if isinstance(proc, Procedure): # lambdas, not primitives\n",
    "            print('in Procedure',proc, vals)\n",
    "            r, _ = proc(*vals)\n",
    "        else:\n",
    "            r = proc(*vals[1:]) # primitives\n",
    "            print('in primitives',proc, vals)\n",
    "            \n",
    "        return r, sigma\n",
    "    \n",
    "\n",
    "# eval(['*','a0',3,3])  \n",
    "\n",
    "# why vals only tensor(8.), where did push add go?"
   ]
  },
  {
   "cell_type": "code",
   "execution_count": null,
   "id": "a2298831",
   "metadata": {},
   "outputs": [],
   "source": [
    "exp"
   ]
  },
  {
   "cell_type": "code",
   "execution_count": null,
   "id": "05513b01",
   "metadata": {},
   "outputs": [],
   "source": [
    "proc, sigma = eval(exp)\n",
    "proc('')"
   ]
  },
  {
   "cell_type": "code",
   "execution_count": null,
   "id": "efed266b",
   "metadata": {},
   "outputs": [],
   "source": [
    "exp_sq_8 = [['fn', ['alpha', 'x'], ['*', ['push-address', 'alpha', 'addr2'], 'x', 'x']],\n",
    "   ['push-address', 'alpha', 'addr1'],\n",
    "   9]\n",
    "\n",
    "eval(exp_sq_8)#(torch.tensor(8.))"
   ]
  },
  {
   "cell_type": "code",
   "execution_count": null,
   "id": "3f14d35d",
   "metadata": {},
   "outputs": [],
   "source": [
    "exp_inner = ['fn', ['alpha', 'x'], ['*', ['push-address', 'alpha', 'addr2'], 'x', 'x']]\n",
    "eval(exp_inner)#(torch.tensor(8.))"
   ]
  },
  {
   "cell_type": "markdown",
   "id": "aac3d07b",
   "metadata": {},
   "source": [
    "# test driven development"
   ]
  },
  {
   "cell_type": "code",
   "execution_count": null,
   "id": "c38c29f7",
   "metadata": {},
   "outputs": [],
   "source": [
    "import sys\n",
    "sys.setrecursionlimit(10000)"
   ]
  },
  {
   "cell_type": "markdown",
   "id": "e2823bf2",
   "metadata": {},
   "source": [
    "## cons"
   ]
  },
  {
   "cell_type": "code",
   "execution_count": null,
   "id": "8d5a8a3b",
   "metadata": {},
   "outputs": [],
   "source": [
    "exp = [tensor(0.), tensor([1,2,3])]\n",
    "\n",
    "torch.cat((torch.tensor([exp[0]]), exp[1]), dim=0)"
   ]
  },
  {
   "cell_type": "code",
   "execution_count": null,
   "id": "c186a816",
   "metadata": {},
   "outputs": [],
   "source": [
    "def cons(*exp):\n",
    "    try:\n",
    "        return torch.cat((torch.tensor([exp[1]]), exp[0]), dim=0)\n",
    "    except:\n",
    "        return torch.cat((torch.tensor([exp[1]]), torch.tensor(exp[0])), dim = 0)"
   ]
  },
  {
   "cell_type": "markdown",
   "id": "b1c42080",
   "metadata": {},
   "source": [
    "## hash-map"
   ]
  },
  {
   "cell_type": "code",
   "execution_count": null,
   "id": "3c2e4afe",
   "metadata": {},
   "outputs": [],
   "source": [
    "# eval_hoppl(['hash-map','','a',1,'b',2])"
   ]
  },
  {
   "cell_type": "code",
   "execution_count": null,
   "id": "a84cc0f0",
   "metadata": {},
   "outputs": [],
   "source": [
    "# from old_primitives import penv\n",
    "# from torch import tensor\n",
    "\n",
    "# vals = ['',tensor(1.),tensor(2.)]\n",
    "# penv['+'](vals[1:])"
   ]
  },
  {
   "cell_type": "code",
   "execution_count": null,
   "id": "986b42dc",
   "metadata": {},
   "outputs": [],
   "source": [
    "# fname = 'programs/tests/hoppl-deterministic/test_{}.daphne.json'.format(i)\n",
    "\n",
    "# with open(fname) as f:\n",
    "#      exp = json.load(f)\n",
    "# exp\n",
    "# # "
   ]
  },
  {
   "cell_type": "markdown",
   "id": "347224d5",
   "metadata": {},
   "source": [
    "## empty"
   ]
  },
  {
   "cell_type": "code",
   "execution_count": null,
   "id": "0aaf6c72",
   "metadata": {},
   "outputs": [],
   "source": [
    "from primitives import penv\n",
    "penv['empty?']([tensor([1])])"
   ]
  },
  {
   "cell_type": "code",
   "execution_count": null,
   "id": "8dd14210",
   "metadata": {},
   "outputs": [],
   "source": [
    "['', tensor([])][1:]"
   ]
  },
  {
   "cell_type": "code",
   "execution_count": null,
   "id": "ab27de4d",
   "metadata": {},
   "outputs": [],
   "source": [
    "eval_hoppl(['empty?','',['vector','']],do_log=True)"
   ]
  },
  {
   "cell_type": "code",
   "execution_count": null,
   "id": "2c9e1ac4",
   "metadata": {},
   "outputs": [],
   "source": [
    "args=[[tensor(0.), tensor(1.)]]\n",
    "\n",
    "[eval_hoppl(arg)[0] for arg in args]"
   ]
  },
  {
   "cell_type": "code",
   "execution_count": null,
   "id": "01b099d2",
   "metadata": {},
   "outputs": [],
   "source": [
    "eval_hoppl(['empty?','',[tensor(0.),tensor(1.)]],do_log=True)"
   ]
  },
  {
   "cell_type": "code",
   "execution_count": null,
   "id": "737c2c57",
   "metadata": {},
   "outputs": [],
   "source": [
    "eval_hoppl(['vector','',tensor(1),tensor(2)])"
   ]
  },
  {
   "cell_type": "markdown",
   "id": "47cec572",
   "metadata": {},
   "source": [
    "## cons/conj\n",
    "* 12 cons and map. cons primitive can't handle  \n",
    "  * vals[1:] [tensor([]), tensor([4])] \n",
    "  * because can't do "
   ]
  },
  {
   "cell_type": "code",
   "execution_count": null,
   "id": "09bbb999",
   "metadata": {},
   "outputs": [],
   "source": [
    "tensor(tensor([]))"
   ]
  },
  {
   "cell_type": "code",
   "execution_count": null,
   "id": "c7f907d4",
   "metadata": {},
   "outputs": [],
   "source": [
    "item, vector = [tensor([]), tensor([4])]\n",
    "penv['cons']([tensor([]), tensor([4])])"
   ]
  },
  {
   "cell_type": "code",
   "execution_count": null,
   "id": "7ac2b4b4",
   "metadata": {},
   "outputs": [],
   "source": [
    "item = tensor([1])\n",
    "vector = tensor([4,5])\n",
    "torch.cat((torch.tensor(item), vector), dim=0)"
   ]
  },
  {
   "cell_type": "code",
   "execution_count": null,
   "id": "b98cf5a6",
   "metadata": {},
   "outputs": [],
   "source": [
    "torch.tensor(item)"
   ]
  },
  {
   "cell_type": "markdown",
   "id": "a25f5517",
   "metadata": {},
   "source": [
    "## deterministic-hoppl tests"
   ]
  },
  {
   "cell_type": "code",
   "execution_count": 36,
   "id": "c1395858",
   "metadata": {},
   "outputs": [
    {
     "data": {
      "text/plain": [
       "<module 'primitives' from '/Users/gw/repos/prob_prog/hw/hw5/CS532-HW5/primitives.py'>"
      ]
     },
     "execution_count": 36,
     "metadata": {},
     "output_type": "execute_result"
    }
   ],
   "source": [
    "from tests import load_truth, is_tol\n",
    "import os, json\n",
    "from daphne import daphne\n",
    "import torch\n",
    "from torch import tensor\n",
    "\n",
    "import importlib\n",
    "import evaluator\n",
    "importlib.reload(evaluator)\n",
    "from evaluator import evaluate, run_deterministic_tests, ast_helper, eval_hoppl\n",
    "\n",
    "import primitives\n",
    "importlib.reload(primitives)"
   ]
  },
  {
   "cell_type": "code",
   "execution_count": 30,
   "id": "96ac7a41",
   "metadata": {},
   "outputs": [
    {
     "data": {
      "text/plain": [
       "['fn',\n",
       " ['alpha'],\n",
       " ['sample',\n",
       "  ['push-address', 'alpha', 'addr0'],\n",
       "  ['normal',\n",
       "   ['push-address', 'alpha', 'addr1'],\n",
       "   5.0,\n",
       "   ['sqrt', ['push-address', 'alpha', 'addr2'], 2.0]]]]"
      ]
     },
     "execution_count": 30,
     "metadata": {},
     "output_type": "execute_result"
    }
   ],
   "source": [
    "i=1\n",
    "fname='test_{}.daphne'.format(i)\n",
    "exp = ast_helper(fname,directory='programs/tests/probabilistic/')\n",
    "exp"
   ]
  },
  {
   "cell_type": "code",
   "execution_count": 16,
   "id": "942f2304",
   "metadata": {},
   "outputs": [
    {
     "data": {
      "text/plain": [
       "1"
      ]
     },
     "execution_count": 16,
     "metadata": {},
     "output_type": "execute_result"
    }
   ],
   "source": [
    "os.chdir('/Users/gw/repos/prob_prog/hw/hw5/CS532-HW5/')\n",
    "truth = load_truth('programs/tests/hoppl-deterministic/test_{}.truth'.format(i))\n",
    "truth"
   ]
  },
  {
   "cell_type": "code",
   "execution_count": 41,
   "id": "06fe6a6e",
   "metadata": {},
   "outputs": [
    {
     "name": "stdout",
     "output_type": "stream",
     "text": [
      "x ['fn', ['alpha'], ['sample', ['push-address', 'alpha', 'addr0'], ['normal', ['push-address', 'alpha', 'addr1'], 5.0, ['sqrt', ['push-address', 'alpha', 'addr2'], 2.0]]]]\n",
      "case fn: args [['sample', ['push-address', 'alpha', 'addr0'], ['normal', ['push-address', 'alpha', 'addr1'], 5.0, ['sqrt', ['push-address', 'alpha', 'addr2'], 2.0]]]]\n",
      "x ['sample', ['push-address', 'alpha', 'addr0'], ['normal', ['push-address', 'alpha', 'addr1'], 5.0, ['sqrt', ['push-address', 'alpha', 'addr2'], 2.0]]]\n",
      "case sample: x ['sample', ['push-address', 'alpha', 'addr0'], ['normal', ['push-address', 'alpha', 'addr1'], 5.0, ['sqrt', ['push-address', 'alpha', 'addr2'], 2.0]]]\n",
      "x ['normal', ['push-address', 'alpha', 'addr1'], 5.0, ['sqrt', ['push-address', 'alpha', 'addr2'], 2.0]]\n",
      "case else: x ['normal', ['push-address', 'alpha', 'addr1'], 5.0, ['sqrt', ['push-address', 'alpha', 'addr2'], 2.0]]\n",
      "x normal\n",
      "case else: args [5.0, ['sqrt', ['push-address', 'alpha', 'addr2'], 2.0]]\n",
      "x 5.0\n",
      "x ['sqrt', ['push-address', 'alpha', 'addr2'], 2.0]\n",
      "case else: x ['sqrt', ['push-address', 'alpha', 'addr2'], 2.0]\n",
      "x sqrt\n",
      "case else: args [2.0]\n",
      "x 2.0\n",
      "case else: vals ['', tensor(2.)]\n",
      "case Procedure: <function sqrt_primitive at 0x135f1a790> ['', tensor(2.)]\n",
      "case primitives: vals[1:] [tensor(2.)]\n",
      "case primitives: r tensor(1.4142)\n",
      "case else: vals ['', tensor(5.), tensor(1.4142)]\n",
      "case Procedure: <function normal at 0x135bb6280> ['', tensor(5.), tensor(1.4142)]\n",
      "case primitives: vals[1:] [tensor(5.), tensor(1.4142)]\n",
      "case primitives: r Normal(loc: 5.0, scale: 1.4142135381698608)\n",
      "case sample: distribution Normal(loc: 5.0, scale: 1.4142135381698608)\n",
      "case sample: evaluated_sample tensor(5.2460)\n",
      "return tensor(5.2460)\n"
     ]
    },
    {
     "data": {
      "text/plain": [
       "tensor(5.2460)"
      ]
     },
     "execution_count": 41,
     "metadata": {},
     "output_type": "execute_result"
    }
   ],
   "source": [
    "ret = evaluate(exp, do_log=True)\n",
    "ret\n",
    "# assert(is_tol(ret, truth))\n",
    "\n",
    "# 4,6,8 quote a and b. daphne output good?\n"
   ]
  },
  {
   "cell_type": "markdown",
   "id": "213d07be",
   "metadata": {},
   "source": [
    "## all tests"
   ]
  },
  {
   "cell_type": "code",
   "execution_count": 21,
   "id": "9473a07c",
   "metadata": {},
   "outputs": [
    {
     "name": "stdout",
     "output_type": "stream",
     "text": [
      "/Users/gw/repos/prob_prog/hw/hw5/CS532-HW5\n",
      "FOPPL test 1 passed\n",
      "FOPPL test 2 passed\n",
      "FOPPL test 3 passed\n",
      "FOPPL test 4 passed\n",
      "FOPPL test 5 passed\n",
      "FOPPL test 6 passed\n",
      "FOPPL test 7 passed\n",
      "FOPPL test 8 passed\n",
      "FOPPL test 9 passed\n",
      "FOPPL test 10 passed\n",
      "FOPPL test 11 passed\n",
      "FOPPL test 12 passed\n",
      "FOPPL test 13 passed\n",
      "HOPPL test 1 passed\n",
      "HOPPL test 2 passed\n",
      "HOPPL test 3 passed\n",
      "HOPPL test 4 failed to evaluate\n",
      "HOPPL test 5 passed\n",
      "HOPPL test 6 failed to evaluate\n",
      "HOPPL test 7 passed\n",
      "HOPPL test 8 failed to evaluate\n",
      "HOPPL test 9 passed\n",
      "HOPPL test 10 passed\n",
      "HOPPL test 11 passed\n",
      "HOPPL test 12 passed\n",
      "All deterministic tests passed\n"
     ]
    },
    {
     "name": "stderr",
     "output_type": "stream",
     "text": [
      "/Users/gw/repos/prob_prog/hw/hw5/CS532-HW5/primitives.py:206: UserWarning: To copy construct from a tensor, it is recommended to use sourceTensor.clone().detach() or sourceTensor.clone().detach().requires_grad_(True), rather than torch.tensor(sourceTensor).\n",
      "  return torch.cat((vector,torch.tensor(item)), dim=0)\n"
     ]
    }
   ],
   "source": [
    "%cd /Users/gw/repos/prob_prog/hw/hw5/CS532-HW5\n",
    "run_deterministic_tests()"
   ]
  },
  {
   "cell_type": "code",
   "execution_count": 42,
   "id": "530beb35",
   "metadata": {},
   "outputs": [
    {
     "name": "stdout",
     "output_type": "stream",
     "text": [
      "/Users/gw/repos/prob_prog/hw/hw5/CS532-HW5\n"
     ]
    },
    {
     "ename": "TypeError",
     "evalue": "iteration over a 0-d tensor",
     "output_type": "error",
     "traceback": [
      "\u001b[0;31m---------------------------------------------------------------------------\u001b[0m",
      "\u001b[0;31mTypeError\u001b[0m                                 Traceback (most recent call last)",
      "\u001b[0;32m/var/folders/bg/cb0cr7ls61352lhy50167r0c0000gn/T/ipykernel_74155/619054172.py\u001b[0m in \u001b[0;36m<module>\u001b[0;34m\u001b[0m\n\u001b[1;32m      2\u001b[0m \u001b[0;32mimport\u001b[0m \u001b[0mevaluator\u001b[0m\u001b[0;34m\u001b[0m\u001b[0;34m\u001b[0m\u001b[0m\n\u001b[1;32m      3\u001b[0m \u001b[0mimportlib\u001b[0m\u001b[0;34m.\u001b[0m\u001b[0mreload\u001b[0m\u001b[0;34m(\u001b[0m\u001b[0mevaluator\u001b[0m\u001b[0;34m)\u001b[0m\u001b[0;34m\u001b[0m\u001b[0;34m\u001b[0m\u001b[0m\n\u001b[0;32m----> 4\u001b[0;31m \u001b[0mevaluator\u001b[0m\u001b[0;34m.\u001b[0m\u001b[0mrun_probabilistic_tests\u001b[0m\u001b[0;34m(\u001b[0m\u001b[0;34m)\u001b[0m\u001b[0;34m\u001b[0m\u001b[0;34m\u001b[0m\u001b[0m\n\u001b[0m",
      "\u001b[0;32m~/repos/prob_prog/hw/hw5/CS532-HW5/evaluator.py\u001b[0m in \u001b[0;36mrun_probabilistic_tests\u001b[0;34m()\u001b[0m\n\u001b[1;32m    210\u001b[0m         \u001b[0mstream\u001b[0m \u001b[0;34m=\u001b[0m \u001b[0mget_stream\u001b[0m\u001b[0;34m(\u001b[0m\u001b[0mexp\u001b[0m\u001b[0;34m)\u001b[0m\u001b[0;34m\u001b[0m\u001b[0;34m\u001b[0m\u001b[0m\n\u001b[1;32m    211\u001b[0m \u001b[0;34m\u001b[0m\u001b[0m\n\u001b[0;32m--> 212\u001b[0;31m         \u001b[0mp_val\u001b[0m \u001b[0;34m=\u001b[0m \u001b[0mrun_prob_test\u001b[0m\u001b[0;34m(\u001b[0m\u001b[0mstream\u001b[0m\u001b[0;34m,\u001b[0m \u001b[0mtruth\u001b[0m\u001b[0;34m,\u001b[0m \u001b[0mnum_samples\u001b[0m\u001b[0;34m)\u001b[0m\u001b[0;34m\u001b[0m\u001b[0;34m\u001b[0m\u001b[0m\n\u001b[0m\u001b[1;32m    213\u001b[0m \u001b[0;34m\u001b[0m\u001b[0m\n\u001b[1;32m    214\u001b[0m         \u001b[0mprint\u001b[0m\u001b[0;34m(\u001b[0m\u001b[0;34m'p value'\u001b[0m\u001b[0;34m,\u001b[0m \u001b[0mp_val\u001b[0m\u001b[0;34m)\u001b[0m\u001b[0;34m\u001b[0m\u001b[0;34m\u001b[0m\u001b[0m\n",
      "\u001b[0;32m~/repos/prob_prog/hw/hw5/CS532-HW5/tests.py\u001b[0m in \u001b[0;36mrun_prob_test\u001b[0;34m(stream, truth, num_samples)\u001b[0m\n\u001b[1;32m     45\u001b[0m     \u001b[0msamples\u001b[0m \u001b[0;34m=\u001b[0m \u001b[0;34m[\u001b[0m\u001b[0;34m]\u001b[0m\u001b[0;34m\u001b[0m\u001b[0;34m\u001b[0m\u001b[0m\n\u001b[1;32m     46\u001b[0m     \u001b[0;32mfor\u001b[0m \u001b[0mi\u001b[0m \u001b[0;32min\u001b[0m \u001b[0mrange\u001b[0m\u001b[0;34m(\u001b[0m\u001b[0mint\u001b[0m\u001b[0;34m(\u001b[0m\u001b[0mnum_samples\u001b[0m\u001b[0;34m)\u001b[0m\u001b[0;34m)\u001b[0m\u001b[0;34m:\u001b[0m\u001b[0;34m\u001b[0m\u001b[0;34m\u001b[0m\u001b[0m\n\u001b[0;32m---> 47\u001b[0;31m         \u001b[0msamples\u001b[0m\u001b[0;34m.\u001b[0m\u001b[0mappend\u001b[0m\u001b[0;34m(\u001b[0m\u001b[0mnext\u001b[0m\u001b[0;34m(\u001b[0m\u001b[0mstream\u001b[0m\u001b[0;34m)\u001b[0m\u001b[0;34m)\u001b[0m\u001b[0;34m\u001b[0m\u001b[0;34m\u001b[0m\u001b[0m\n\u001b[0m\u001b[1;32m     48\u001b[0m \u001b[0;34m\u001b[0m\u001b[0m\n\u001b[1;32m     49\u001b[0m     distrs = {\n",
      "\u001b[0;32m~/repos/prob_prog/hw/hw5/CS532-HW5/evaluator.py\u001b[0m in \u001b[0;36mget_stream\u001b[0;34m(exp)\u001b[0m\n\u001b[1;32m    147\u001b[0m \u001b[0;32mdef\u001b[0m \u001b[0mget_stream\u001b[0m\u001b[0;34m(\u001b[0m\u001b[0mexp\u001b[0m\u001b[0;34m)\u001b[0m\u001b[0;34m:\u001b[0m\u001b[0;34m\u001b[0m\u001b[0;34m\u001b[0m\u001b[0m\n\u001b[1;32m    148\u001b[0m     \u001b[0;32mwhile\u001b[0m \u001b[0;32mTrue\u001b[0m\u001b[0;34m:\u001b[0m\u001b[0;34m\u001b[0m\u001b[0;34m\u001b[0m\u001b[0m\n\u001b[0;32m--> 149\u001b[0;31m         \u001b[0mret\u001b[0m\u001b[0;34m,\u001b[0m \u001b[0msigma\u001b[0m \u001b[0;34m=\u001b[0m \u001b[0mevaluate\u001b[0m\u001b[0;34m(\u001b[0m\u001b[0mexp\u001b[0m\u001b[0;34m)\u001b[0m\u001b[0;34m\u001b[0m\u001b[0;34m\u001b[0m\u001b[0m\n\u001b[0m\u001b[1;32m    150\u001b[0m         \u001b[0;32myield\u001b[0m \u001b[0mret\u001b[0m\u001b[0;34m\u001b[0m\u001b[0;34m\u001b[0m\u001b[0m\n\u001b[1;32m    151\u001b[0m \u001b[0;34m\u001b[0m\u001b[0m\n",
      "\u001b[0;32m~/miniconda2/envs/prob_prog/lib/python3.9/site-packages/torch/_tensor.py\u001b[0m in \u001b[0;36m__iter__\u001b[0;34m(self)\u001b[0m\n\u001b[1;32m    605\u001b[0m         \u001b[0;31m# See gh-54457\u001b[0m\u001b[0;34m\u001b[0m\u001b[0;34m\u001b[0m\u001b[0;34m\u001b[0m\u001b[0m\n\u001b[1;32m    606\u001b[0m         \u001b[0;32mif\u001b[0m \u001b[0mself\u001b[0m\u001b[0;34m.\u001b[0m\u001b[0mdim\u001b[0m\u001b[0;34m(\u001b[0m\u001b[0;34m)\u001b[0m \u001b[0;34m==\u001b[0m \u001b[0;36m0\u001b[0m\u001b[0;34m:\u001b[0m\u001b[0;34m\u001b[0m\u001b[0;34m\u001b[0m\u001b[0m\n\u001b[0;32m--> 607\u001b[0;31m             \u001b[0;32mraise\u001b[0m \u001b[0mTypeError\u001b[0m\u001b[0;34m(\u001b[0m\u001b[0;34m'iteration over a 0-d tensor'\u001b[0m\u001b[0;34m)\u001b[0m\u001b[0;34m\u001b[0m\u001b[0;34m\u001b[0m\u001b[0m\n\u001b[0m\u001b[1;32m    608\u001b[0m         \u001b[0;32mif\u001b[0m \u001b[0mtorch\u001b[0m\u001b[0;34m.\u001b[0m\u001b[0m_C\u001b[0m\u001b[0;34m.\u001b[0m\u001b[0m_get_tracing_state\u001b[0m\u001b[0;34m(\u001b[0m\u001b[0;34m)\u001b[0m\u001b[0;34m:\u001b[0m\u001b[0;34m\u001b[0m\u001b[0;34m\u001b[0m\u001b[0m\n\u001b[1;32m    609\u001b[0m             warnings.warn('Iterating over a tensor might cause the trace to be incorrect. '\n",
      "\u001b[0;31mTypeError\u001b[0m: iteration over a 0-d tensor"
     ]
    }
   ],
   "source": [
    "%cd /Users/gw/repos/prob_prog/hw/hw5/CS532-HW5\n",
    "import evaluator\n",
    "importlib.reload(evaluator)\n",
    "evaluator.run_probabilistic_tests()"
   ]
  }
 ],
 "metadata": {
  "kernelspec": {
   "display_name": "Python 3 (ipykernel)",
   "language": "python",
   "name": "python3"
  },
  "language_info": {
   "codemirror_mode": {
    "name": "ipython",
    "version": 3
   },
   "file_extension": ".py",
   "mimetype": "text/x-python",
   "name": "python",
   "nbconvert_exporter": "python",
   "pygments_lexer": "ipython3",
   "version": "3.9.0"
  }
 },
 "nbformat": 4,
 "nbformat_minor": 5
}
