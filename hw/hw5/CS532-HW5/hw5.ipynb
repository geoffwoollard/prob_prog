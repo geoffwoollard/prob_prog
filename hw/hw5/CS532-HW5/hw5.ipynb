{
 "cells": [
  {
   "cell_type": "code",
   "execution_count": null,
   "id": "0d5f1b8d",
   "metadata": {},
   "outputs": [],
   "source": [
    "from daphne import daphne\n",
    "import os"
   ]
  },
  {
   "cell_type": "code",
   "execution_count": null,
   "id": "799bb620",
   "metadata": {},
   "outputs": [],
   "source": [
    "directory = 'programs/tests/hoppl-deterministic'\n",
    "os.chdir('/Users/gw/repos/prob_prog/hw/hw5/CS532-HW5/{}/'.format(directory))"
   ]
  },
  {
   "cell_type": "code",
   "execution_count": null,
   "id": "2e895b53",
   "metadata": {},
   "outputs": [],
   "source": [
    "i=3\n",
    "cwd='/Users/gw/repos/daphne'\n",
    "exp = daphne(['desugar-hoppl', '-i', '../prob_prog/hw/hw5/CS532-HW5/programs/tests/hoppl-deterministic/test_{}.daphne'.format(i)])\n",
    "exp\n",
    "\n"
   ]
  },
  {
   "cell_type": "code",
   "execution_count": null,
   "id": "9ce94d19",
   "metadata": {},
   "outputs": [],
   "source": [
    "desugared_ast_json_fname = '/Users/gw/repos/prob_prog/hw/hw5/CS532-HW5/programs/tests/hoppl-deterministic/test_{}.daphne.json'.format(i)\n",
    "with open(desugared_ast_json_fname, 'w') as f:\n",
    "    json.dump(exp, f)"
   ]
  },
  {
   "cell_type": "code",
   "execution_count": null,
   "id": "2167d19f",
   "metadata": {},
   "outputs": [],
   "source": [
    "%ls /Users/gw/repos/daphne/../prob_prog/hw/hw5/CS532-HW5/programs/tests/hoppl-deterministic"
   ]
  },
  {
   "cell_type": "code",
   "execution_count": null,
   "id": "4bd16c80",
   "metadata": {},
   "outputs": [],
   "source": [
    "class Env():\n",
    "    \"An environment: a dict of {'var': val} pairs, with an outer Env.\"\n",
    "    def __init__(self, parms=(), args=(), outer=None):\n",
    "        self.data = pmap(zip(parms, args))\n",
    "        self.outer = outer\n",
    "        if outer is None:\n",
    "            self.level = 0\n",
    "        else:\n",
    "            self.level = outer.level+1\n",
    "    def __getitem__(self, item):\n",
    "        return self.data[item]\n",
    "    def find(self, var):\n",
    "        \"Find the innermost Env where var appears.\"\n",
    "        if (var in self.data):\n",
    "            return self\n",
    "        else:\n",
    "            if self.outer is not None:\n",
    "                return self.outer.find(var)\n",
    "            else:\n",
    "                raise RuntimeError('var \"{}\" not found in outermost scope'.format(var))\n",
    "    \n",
    "    def print_env(self, print_lowest=False):\n",
    "        print_limit = 1 if print_lowest == False else 0\n",
    "        outer = self\n",
    "        while outer is not None:\n",
    "            if outer.level >= print_limit:\n",
    "                print('Scope on level ', outer.level)\n",
    "                if 'f' in outer:\n",
    "                    print('Found f, ')\n",
    "                    print(outer['f'].body)\n",
    "                    print(outer['f'].parms)\n",
    "                    print(outer['f'].env)\n",
    "                print(outer,'\\n')\n",
    "            outer = outer.outer"
   ]
  },
  {
   "cell_type": "code",
   "execution_count": null,
   "id": "c2a64ff4",
   "metadata": {},
   "outputs": [],
   "source": [
    "import copy\n",
    "\n",
    "class Procedure(object):\n",
    "    \"A user-defined Scheme procedure.\"\n",
    "    def __init__(self, parms, body, env):\n",
    "        self.parms, self.body, self.env = parms, body, env\n",
    "    def __call__(self, *args): \n",
    "        new_env = copy.deepcopy(self.env)\n",
    "        return eval(self.body, Env(self.parms, args, new_env)) # [0]"
   ]
  },
  {
   "cell_type": "code",
   "execution_count": null,
   "id": "8d7b0128",
   "metadata": {},
   "outputs": [],
   "source": [
    "from pyrsistent import pmap\n",
    "\n",
    "import torch\n",
    "import torch.distributions as dist"
   ]
  },
  {
   "cell_type": "code",
   "execution_count": null,
   "id": "8a4ed7df",
   "metadata": {},
   "outputs": [],
   "source": [
    "def push_addr(alpha, value):\n",
    "    return alpha + value\n",
    "\n",
    "penv = {\n",
    "    '+': torch.add,\n",
    "    '*':torch.mul,\n",
    "#     'push-address':push_addr\n",
    "}"
   ]
  },
  {
   "cell_type": "code",
   "execution_count": null,
   "id": "3cb89192",
   "metadata": {},
   "outputs": [],
   "source": [
    "def standard_env():\n",
    "    \"An environment with some Scheme standard procedures.\"\n",
    "    env = Env(penv.keys(), penv.values())\n",
    "    return env\n",
    "\n",
    "env = standard_env()\n",
    "env.find('+')\n",
    "#['+'](torch.tensor(0.),torch.tensor(1.))"
   ]
  },
  {
   "cell_type": "code",
   "execution_count": null,
   "id": "5cc1e192",
   "metadata": {},
   "outputs": [],
   "source": [
    "def eval(x,env=standard_env(),sigma=None):\n",
    "\n",
    "    print('x',x)\n",
    "    if isinstance(x,str):\n",
    "        return env.find(x)[x], sigma\n",
    "    elif not isinstance(x,list):\n",
    "        return torch.tensor(x),sigma\n",
    "    \n",
    "    op, param, *args = x\n",
    "    \n",
    "    if False:\n",
    "        pass\n",
    "    \n",
    "    elif op == 'push-address':\n",
    "        return '', sigma\n",
    "    elif op == 'fn':\n",
    "        print('args',args)\n",
    "#         param, body = args\n",
    "        body = args[0]\n",
    "        return Procedure(param, body, env), sigma # has eval in it\n",
    "        # param ['alpha', 'x']\n",
    "        # body ['*', ['push-address', 'alpha', 'addr2'], 'x', 'x']\n",
    "        # env\n",
    "    \n",
    "    else:\n",
    "        print('in else. x',x)\n",
    "        proc, _ = eval(op,env,sigma)\n",
    "        vals = [''] # TODO: address for fn???\n",
    "        vals.extend([eval(arg, env, sigma)[0] for arg in args])\n",
    "        print('vals',vals)\n",
    "\n",
    "        if isinstance(proc, Procedure): # lambdas, not primitives\n",
    "            print('in Procedure',proc, vals)\n",
    "            r, _ = proc(*vals)\n",
    "        else:\n",
    "            r = proc(*vals[1:]) # primitives\n",
    "            print('in primitives',proc, vals)\n",
    "            \n",
    "        return r, sigma\n",
    "    \n",
    "\n",
    "# eval(['*','a0',3,3])  \n",
    "\n",
    "# why vals only tensor(8.), where did push add go?"
   ]
  },
  {
   "cell_type": "code",
   "execution_count": null,
   "id": "8d1234f5",
   "metadata": {},
   "outputs": [],
   "source": [
    "exp"
   ]
  },
  {
   "cell_type": "code",
   "execution_count": null,
   "id": "7213e53e",
   "metadata": {},
   "outputs": [],
   "source": [
    "proc, sigma = eval(exp)\n",
    "proc('')"
   ]
  },
  {
   "cell_type": "code",
   "execution_count": null,
   "id": "74b9c83a",
   "metadata": {},
   "outputs": [],
   "source": [
    "exp_sq_8 = [['fn', ['alpha', 'x'], ['*', ['push-address', 'alpha', 'addr2'], 'x', 'x']],\n",
    "   ['push-address', 'alpha', 'addr1'],\n",
    "   9]\n",
    "\n",
    "eval(exp_sq_8)#(torch.tensor(8.))"
   ]
  },
  {
   "cell_type": "code",
   "execution_count": null,
   "id": "f7e1469e",
   "metadata": {},
   "outputs": [],
   "source": [
    "exp_inner = ['fn', ['alpha', 'x'], ['*', ['push-address', 'alpha', 'addr2'], 'x', 'x']]\n",
    "eval(exp_inner)#(torch.tensor(8.))"
   ]
  },
  {
   "cell_type": "markdown",
   "id": "b5b9f8db",
   "metadata": {},
   "source": [
    "# test driven development"
   ]
  },
  {
   "cell_type": "code",
   "execution_count": null,
   "id": "3531e508",
   "metadata": {},
   "outputs": [],
   "source": [
    "import sys\n",
    "sys.setrecursionlimit(10000)"
   ]
  },
  {
   "cell_type": "markdown",
   "id": "a31b6bee",
   "metadata": {},
   "source": [
    "## cons"
   ]
  },
  {
   "cell_type": "code",
   "execution_count": null,
   "id": "ef62516f",
   "metadata": {},
   "outputs": [],
   "source": [
    "exp = [tensor(0.), tensor([1,2,3])]\n",
    "\n",
    "torch.cat((torch.tensor([exp[0]]), exp[1]), dim=0)"
   ]
  },
  {
   "cell_type": "code",
   "execution_count": null,
   "id": "69f489fa",
   "metadata": {},
   "outputs": [],
   "source": [
    "def cons(*exp):\n",
    "    try:\n",
    "        return torch.cat((torch.tensor([exp[1]]), exp[0]), dim=0)\n",
    "    except:\n",
    "        return torch.cat((torch.tensor([exp[1]]), torch.tensor(exp[0])), dim = 0)"
   ]
  },
  {
   "cell_type": "markdown",
   "id": "4d8319ba",
   "metadata": {},
   "source": [
    "## hash-map"
   ]
  },
  {
   "cell_type": "code",
   "execution_count": null,
   "id": "e998e3e8",
   "metadata": {},
   "outputs": [],
   "source": [
    "# eval_hoppl(['hash-map','','a',1,'b',2])"
   ]
  },
  {
   "cell_type": "code",
   "execution_count": null,
   "id": "2bb21323",
   "metadata": {},
   "outputs": [],
   "source": [
    "# from old_primitives import penv\n",
    "# from torch import tensor\n",
    "\n",
    "# vals = ['',tensor(1.),tensor(2.)]\n",
    "# penv['+'](vals[1:])"
   ]
  },
  {
   "cell_type": "code",
   "execution_count": null,
   "id": "cb250c5f",
   "metadata": {},
   "outputs": [],
   "source": [
    "# fname = 'programs/tests/hoppl-deterministic/test_{}.daphne.json'.format(i)\n",
    "\n",
    "# with open(fname) as f:\n",
    "#      exp = json.load(f)\n",
    "# exp\n",
    "# # "
   ]
  },
  {
   "cell_type": "markdown",
   "id": "85bac5d4",
   "metadata": {},
   "source": [
    "## empty"
   ]
  },
  {
   "cell_type": "code",
   "execution_count": null,
   "id": "ef3b5ca5",
   "metadata": {},
   "outputs": [],
   "source": [
    "from primitives import penv\n",
    "penv['empty?']([tensor([1])])"
   ]
  },
  {
   "cell_type": "code",
   "execution_count": null,
   "id": "e7c0c5e4",
   "metadata": {},
   "outputs": [],
   "source": [
    "['', tensor([])][1:]"
   ]
  },
  {
   "cell_type": "code",
   "execution_count": null,
   "id": "c3c9c897",
   "metadata": {},
   "outputs": [],
   "source": [
    "eval_hoppl(['empty?','',['vector','']],do_log=True)"
   ]
  },
  {
   "cell_type": "code",
   "execution_count": null,
   "id": "03de376e",
   "metadata": {},
   "outputs": [],
   "source": [
    "args=[[tensor(0.), tensor(1.)]]\n",
    "\n",
    "[eval_hoppl(arg)[0] for arg in args]"
   ]
  },
  {
   "cell_type": "code",
   "execution_count": null,
   "id": "60d7a837",
   "metadata": {},
   "outputs": [],
   "source": [
    "eval_hoppl(['empty?','',[tensor(0.),tensor(1.)]],do_log=True)"
   ]
  },
  {
   "cell_type": "code",
   "execution_count": null,
   "id": "70a8d19d",
   "metadata": {},
   "outputs": [],
   "source": [
    "eval_hoppl(['vector','',tensor(1),tensor(2)])"
   ]
  },
  {
   "cell_type": "markdown",
   "id": "ea41719e",
   "metadata": {},
   "source": [
    "## cons/conj\n",
    "* 12 cons and map. cons primitive can't handle  \n",
    "  * vals[1:] [tensor([]), tensor([4])] \n",
    "  * because can't do "
   ]
  },
  {
   "cell_type": "code",
   "execution_count": null,
   "id": "732238e2",
   "metadata": {},
   "outputs": [],
   "source": [
    "tensor(tensor([]))"
   ]
  },
  {
   "cell_type": "code",
   "execution_count": null,
   "id": "cdef8526",
   "metadata": {},
   "outputs": [],
   "source": [
    "item, vector = [tensor([]), tensor([4])]\n",
    "penv['cons']([tensor([]), tensor([4])])"
   ]
  },
  {
   "cell_type": "code",
   "execution_count": null,
   "id": "b617bf3f",
   "metadata": {},
   "outputs": [],
   "source": [
    "item = tensor([1])\n",
    "vector = tensor([4,5])\n",
    "torch.cat((torch.tensor(item), vector), dim=0)"
   ]
  },
  {
   "cell_type": "code",
   "execution_count": null,
   "id": "cec41253",
   "metadata": {},
   "outputs": [],
   "source": [
    "torch.tensor(item)"
   ]
  },
  {
   "cell_type": "markdown",
   "id": "f8097f95",
   "metadata": {},
   "source": [
    "## deterministic-hoppl tests"
   ]
  },
  {
   "cell_type": "code",
   "execution_count": 36,
   "id": "b8264696",
   "metadata": {},
   "outputs": [
    {
     "data": {
      "text/plain": [
       "<module 'primitives' from '/Users/gw/repos/prob_prog/hw/hw5/CS532-HW5/primitives.py'>"
      ]
     },
     "execution_count": 36,
     "metadata": {},
     "output_type": "execute_result"
    }
   ],
   "source": [
    "from tests import load_truth, is_tol\n",
    "import os, json\n",
    "from daphne import daphne\n",
    "import torch\n",
    "from torch import tensor\n",
    "\n",
    "import importlib\n",
    "import evaluator\n",
    "importlib.reload(evaluator)\n",
    "from evaluator import evaluate, run_deterministic_tests, ast_helper, eval_hoppl\n",
    "\n",
    "import primitives\n",
    "importlib.reload(primitives)"
   ]
  },
  {
   "cell_type": "code",
   "execution_count": 56,
   "id": "db2ffbc2",
   "metadata": {},
   "outputs": [
    {
     "data": {
      "text/plain": [
       "['fn',\n",
       " ['alpha'],\n",
       " [['fn',\n",
       "   ['alpha', 'get-sig'],\n",
       "   ['sample',\n",
       "    ['push-address', 'alpha', 'addr1'],\n",
       "    ['normal',\n",
       "     ['push-address', 'alpha', 'addr2'],\n",
       "     0.0,\n",
       "     ['get-sig', ['push-address', 'alpha', 'addr3'], 1.2]]]],\n",
       "  ['push-address', 'alpha', 'addr0'],\n",
       "  ['fn',\n",
       "   ['alpha', 'var'],\n",
       "   [['fn',\n",
       "     ['alpha', 'var', 'get-sig'],\n",
       "     ['*', ['push-address', 'alpha', 'addr5'], 'var', 'var']],\n",
       "    ['push-address', 'alpha', 'addr4'],\n",
       "    'var',\n",
       "    ['fn',\n",
       "     ['alpha', 'var', 'get-sig'],\n",
       "     ['*', ['push-address', 'alpha', 'addr6'], 'var', 'var']]]]]]"
      ]
     },
     "execution_count": 56,
     "metadata": {},
     "output_type": "execute_result"
    }
   ],
   "source": [
    "i=6\n",
    "fname='test_{}.daphne'.format(i)\n",
    "exp = ast_helper(fname,directory='programs/tests/probabilistic/')\n",
    "exp"
   ]
  },
  {
   "cell_type": "code",
   "execution_count": 16,
   "id": "1ab2320b",
   "metadata": {},
   "outputs": [
    {
     "data": {
      "text/plain": [
       "1"
      ]
     },
     "execution_count": 16,
     "metadata": {},
     "output_type": "execute_result"
    }
   ],
   "source": [
    "os.chdir('/Users/gw/repos/prob_prog/hw/hw5/CS532-HW5/')\n",
    "truth = load_truth('programs/tests/hoppl-deterministic/test_{}.truth'.format(i))\n",
    "truth"
   ]
  },
  {
   "cell_type": "code",
   "execution_count": 60,
   "id": "a352f21e",
   "metadata": {},
   "outputs": [
    {
     "data": {
      "text/plain": [
       "tensor(-0.5153)"
      ]
     },
     "execution_count": 60,
     "metadata": {},
     "output_type": "execute_result"
    }
   ],
   "source": [
    "ret = evaluate(exp, do_log=False)\n",
    "ret\n",
    "# assert(is_tol(ret, truth))\n",
    "# 4,6,8 quote a and b. daphne output good?"
   ]
  },
  {
   "cell_type": "markdown",
   "id": "7084be8d",
   "metadata": {},
   "source": [
    "## all tests"
   ]
  },
  {
   "cell_type": "code",
   "execution_count": 21,
   "id": "be65f2e9",
   "metadata": {},
   "outputs": [
    {
     "name": "stdout",
     "output_type": "stream",
     "text": [
      "/Users/gw/repos/prob_prog/hw/hw5/CS532-HW5\n",
      "FOPPL test 1 passed\n",
      "FOPPL test 2 passed\n",
      "FOPPL test 3 passed\n",
      "FOPPL test 4 passed\n",
      "FOPPL test 5 passed\n",
      "FOPPL test 6 passed\n",
      "FOPPL test 7 passed\n",
      "FOPPL test 8 passed\n",
      "FOPPL test 9 passed\n",
      "FOPPL test 10 passed\n",
      "FOPPL test 11 passed\n",
      "FOPPL test 12 passed\n",
      "FOPPL test 13 passed\n",
      "HOPPL test 1 passed\n",
      "HOPPL test 2 passed\n",
      "HOPPL test 3 passed\n",
      "HOPPL test 4 failed to evaluate\n",
      "HOPPL test 5 passed\n",
      "HOPPL test 6 failed to evaluate\n",
      "HOPPL test 7 passed\n",
      "HOPPL test 8 failed to evaluate\n",
      "HOPPL test 9 passed\n",
      "HOPPL test 10 passed\n",
      "HOPPL test 11 passed\n",
      "HOPPL test 12 passed\n",
      "All deterministic tests passed\n"
     ]
    },
    {
     "name": "stderr",
     "output_type": "stream",
     "text": [
      "/Users/gw/repos/prob_prog/hw/hw5/CS532-HW5/primitives.py:206: UserWarning: To copy construct from a tensor, it is recommended to use sourceTensor.clone().detach() or sourceTensor.clone().detach().requires_grad_(True), rather than torch.tensor(sourceTensor).\n",
      "  return torch.cat((vector,torch.tensor(item)), dim=0)\n"
     ]
    }
   ],
   "source": [
    "%cd /Users/gw/repos/prob_prog/hw/hw5/CS532-HW5\n",
    "run_deterministic_tests()"
   ]
  },
  {
   "cell_type": "code",
   "execution_count": 61,
   "id": "056257eb",
   "metadata": {},
   "outputs": [
    {
     "name": "stdout",
     "output_type": "stream",
     "text": [
      "/Users/gw/repos/prob_prog/hw/hw5/CS532-HW5\n",
      "('normal', 5, 1.4142136)\n",
      "p value 0.6860054999915197\n",
      "('beta', 2.0, 5.0)\n",
      "p value 0.6741978639149588\n",
      "('exponential', 0.0, 5.0)\n",
      "p value 0.033207612079003246\n",
      "('normal', 5.3, 3.2)\n",
      "p value 0.06612420192766066\n",
      "('normalmix', 0.1, -1, 0.3, 0.9, 1, 0.3)\n",
      "p value 0.6267830939943639\n",
      "('normal', 0, 1.44)\n",
      "p value 0.6772922643984287\n",
      "All probabilistic tests passed\n"
     ]
    }
   ],
   "source": [
    "%cd /Users/gw/repos/prob_prog/hw/hw5/CS532-HW5\n",
    "import evaluator\n",
    "importlib.reload(evaluator)\n",
    "evaluator.run_probabilistic_tests()"
   ]
  }
 ],
 "metadata": {
  "kernelspec": {
   "display_name": "Python 3 (ipykernel)",
   "language": "python",
   "name": "python3"
  },
  "language_info": {
   "codemirror_mode": {
    "name": "ipython",
    "version": 3
   },
   "file_extension": ".py",
   "mimetype": "text/x-python",
   "name": "python",
   "nbconvert_exporter": "python",
   "pygments_lexer": "ipython3",
   "version": "3.9.0"
  }
 },
 "nbformat": 4,
 "nbformat_minor": 5
}
