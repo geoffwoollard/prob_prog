{
 "cells": [
  {
   "cell_type": "markdown",
   "id": "ebff4344",
   "metadata": {},
   "source": [
    "# Program 4 (`3.daphne`)"
   ]
  },
  {
   "cell_type": "code",
   "execution_count": 24,
   "id": "c17d181b",
   "metadata": {},
   "outputs": [],
   "source": [
    "from evaluator import evaluate, ast_helper\n",
    "import pandas as pd\n",
    "import matplotlib.pyplot as plt\n",
    "import numpy as np\n",
    "import seaborn as sns"
   ]
  },
  {
   "cell_type": "code",
   "execution_count": 3,
   "id": "e176296b",
   "metadata": {},
   "outputs": [
    {
     "name": "stdout",
     "output_type": "stream",
     "text": [
      "(defn reduce [f x values]\r\n",
      "               (if (empty? values)\r\n",
      "                  x\r\n",
      "                  (reduce f (f x (first values)) (rest values))))\r\n",
      "\r\n",
      "(let [observations [0.9 0.8 0.7 0.0 -0.025 -5.0 -2.0 -0.1 0.0 0.13 0.45 6 0.2 0.3 -1 -1]\r\n",
      "      init-dist (discrete [1.0 1.0 1.0])\r\n",
      "      trans-dists {0 (discrete [0.1 0.5 0.4])\r\n",
      "                   1 (discrete [0.2 0.2 0.6])\r\n",
      "                   2 (discrete [0.15 0.15 0.7])}\r\n",
      "      obs-dists {0 (normal -1 1)\r\n",
      "                 1 (normal 1 1)\r\n",
      "                 2 (normal 0 1)}]\r\n",
      "      (reduce\r\n",
      "        (fn [states obs]\r\n",
      "          (let [state (sample (get trans-dists\r\n",
      "                                   (peek states)))]\r\n",
      "            (observe (get obs-dists state) obs)\r\n",
      "            (conj states state)))\r\n",
      "        [(sample init-dist)]\r\n",
      "        observations))\r\n"
     ]
    }
   ],
   "source": [
    "i=3\n",
    "fname='{}.daphne'.format(i)\n",
    "exp = ast_helper(fname,directory='programs/')\n",
    "%cat programs/3.daphne\n"
   ]
  },
  {
   "cell_type": "markdown",
   "id": "f1606b10",
   "metadata": {},
   "source": [
    "**It’s an HMM again, this time implemented generically. Take the time to read this source code to see how this works. When you get this working you can be very proud. You will be most of the way towards a very powerful HOPPL language implementation.**\n",
    "\n",
    "This program works by making use of a reduce over a function that does the HMM step. I.e. \n",
    " * `f` in `defn reduce [f x values]` is `(fn [states obs] ... (conj states state)))`  \n",
    " * `x` is  `[(sample init-dist)]`\n",
    " * `values` is `observations`\n",
    " \n",
    "Furthermore we can include a read for the observatoins, and don't have to inline that.\n",
    "\n",
    "The reduce module at the end is also modular to any sized problem, not just the 3 states here. We could have `init-dist`, `trans-dists`, and `obs-dists` on disk and read them in, and the reduce module would still work on them. "
   ]
  },
  {
   "cell_type": "code",
   "execution_count": 4,
   "id": "4d55f439",
   "metadata": {},
   "outputs": [
    {
     "data": {
      "text/plain": [
       "tensor([2, 2, 2, 2, 0, 2, 2, 2, 2, 2, 2, 2, 1, 2, 2, 2, 2])"
      ]
     },
     "execution_count": 4,
     "metadata": {},
     "output_type": "execute_result"
    }
   ],
   "source": [
    "evaluate(exp, do_log=False) # example of the return"
   ]
  },
  {
   "cell_type": "code",
   "execution_count": 6,
   "id": "e6ca41ec",
   "metadata": {},
   "outputs": [],
   "source": [
    "import sys\n",
    "sys.setrecursionlimit(1000000)"
   ]
  },
  {
   "cell_type": "code",
   "execution_count": null,
   "id": "b3e8af9d",
   "metadata": {},
   "outputs": [],
   "source": [
    "n_samples=100*190\n",
    "samples = [evaluate(exp).tolist() for sample in range(n_samples)]\n",
    "# 9.4s / 100 samples "
   ]
  },
  {
   "cell_type": "code",
   "execution_count": 14,
   "id": "e0f58610",
   "metadata": {},
   "outputs": [],
   "source": [
    "samples_array = np.array([sample.tolist() for sample in samples])\n",
    "# np.save('program4.npy',samples_array)"
   ]
  },
  {
   "cell_type": "code",
   "execution_count": 29,
   "id": "861b91cf",
   "metadata": {},
   "outputs": [],
   "source": [
    "df = pd.DataFrame(samples_array)\n",
    "df_wide = pd.melt(df.reset_index(),id_vars='index')\n",
    "\n"
   ]
  },
  {
   "cell_type": "code",
   "execution_count": 37,
   "id": "f7e9587b",
   "metadata": {},
   "outputs": [
    {
     "data": {
      "text/plain": [
       "<matplotlib.legend.Legend at 0x1396f5490>"
      ]
     },
     "execution_count": 37,
     "metadata": {},
     "output_type": "execute_result"
    },
    {
     "data": {
      "image/png": "[encoded data removed]",
      "text/plain": [
       "<Figure size 1080x360 with 1 Axes>"
      ]
     },
     "metadata": {
      "needs_background": "light"
     },
     "output_type": "display_data"
    }
   ],
   "source": [
    "plt.figure(figsize=(15,5))\n",
    "ax = sns.countplot(x=\"value\", hue=\"variable\", data=df_wide)\n",
    "plt.legend(bbox_to_anchor=(1.05, 1), loc='upper left', borderaxespad=0)\n"
   ]
  },
  {
   "cell_type": "code",
   "execution_count": 47,
   "id": "27abcb21",
   "metadata": {},
   "outputs": [
    {
     "name": "stdout",
     "output_type": "stream",
     "text": [
      "dim 0 w.r.t. the prior | expectation 0.991 | std 0.667 | var 0.817\n",
      "dim 1 w.r.t. the prior | expectation 1.419 | std 0.542 | var 0.736\n",
      "dim 2 w.r.t. the prior | expectation 1.415 | std 0.539 | var 0.734\n",
      "dim 3 w.r.t. the prior | expectation 1.415 | std 0.542 | var 0.736\n",
      "dim 4 w.r.t. the prior | expectation 1.420 | std 0.535 | var 0.732\n",
      "dim 5 w.r.t. the prior | expectation 1.416 | std 0.538 | var 0.734\n",
      "dim 6 w.r.t. the prior | expectation 1.416 | std 0.539 | var 0.734\n",
      "dim 7 w.r.t. the prior | expectation 1.427 | std 0.536 | var 0.732\n",
      "dim 8 w.r.t. the prior | expectation 1.423 | std 0.542 | var 0.736\n",
      "dim 9 w.r.t. the prior | expectation 1.404 | std 0.549 | var 0.741\n",
      "dim 10 w.r.t. the prior | expectation 1.420 | std 0.540 | var 0.735\n",
      "dim 11 w.r.t. the prior | expectation 1.416 | std 0.546 | var 0.739\n",
      "dim 12 w.r.t. the prior | expectation 1.414 | std 0.540 | var 0.735\n",
      "dim 13 w.r.t. the prior | expectation 1.426 | std 0.535 | var 0.732\n",
      "dim 14 w.r.t. the prior | expectation 1.413 | std 0.546 | var 0.739\n",
      "dim 15 w.r.t. the prior | expectation 1.421 | std 0.535 | var 0.731\n",
      "dim 16 w.r.t. the prior | expectation 1.410 | std 0.545 | var 0.738\n"
     ]
    }
   ],
   "source": [
    "mean = samples_array.mean(0)\n",
    "std = samples_array.std(0)\n",
    "var = samples_array.var(0)\n",
    "\n",
    "for idx in range(samples_array.shape[1]):\n",
    "    print('dim {} w.r.t. the prior | expectation {:1.3f} | std {:1.3f} | var {:1.3f}'.format(idx, mean[idx],var[idx],std[idx]))\n"
   ]
  }
 ],
 "metadata": {
  "kernelspec": {
   "display_name": "Python 3 (ipykernel)",
   "language": "python",
   "name": "python3"
  },
  "language_info": {
   "codemirror_mode": {
    "name": "ipython",
    "version": 3
   },
   "file_extension": ".py",
   "mimetype": "text/x-python",
   "name": "python",
   "nbconvert_exporter": "python",
   "pygments_lexer": "ipython3",
   "version": "3.9.0"
  }
 },
 "nbformat": 4,
 "nbformat_minor": 5
}
