{
 "cells": [
  {
   "cell_type": "markdown",
   "id": "95b290f8",
   "metadata": {},
   "source": [
    "# Program 2 (`1.daphne`)"
   ]
  },
  {
   "cell_type": "code",
   "execution_count": 54,
   "id": "269a2398",
   "metadata": {},
   "outputs": [],
   "source": [
    "from evaluator import evaluate, ast_helper\n",
    "import pandas as pd\n",
    "import matplotlib.pyplot as plt\n",
    "import numpy as np"
   ]
  },
  {
   "cell_type": "code",
   "execution_count": 48,
   "id": "53836ae9",
   "metadata": {},
   "outputs": [
    {
     "name": "stdout",
     "output_type": "stream",
     "text": [
      "(defn until-success [p n]\r\n",
      "   (if (sample (flip p))\r\n",
      "     n\r\n",
      "     (until-success p (+ n 1))))\r\n",
      "\r\n",
      "(let [p 0.01]\r\n",
      "  (until-success p 0))\r\n"
     ]
    }
   ],
   "source": [
    "i=1\n",
    "fname='{}.daphne'.format(i)\n",
    "exp = ast_helper(fname,directory='programs/')\n",
    "%cat programs/1.daphne\n"
   ]
  },
  {
   "cell_type": "code",
   "execution_count": 68,
   "id": "7513ba2e",
   "metadata": {},
   "outputs": [],
   "source": [
    "# ret = evaluate(exp, do_log=False)\n",
    "# ret"
   ]
  },
  {
   "cell_type": "code",
   "execution_count": 45,
   "id": "cf112e9d",
   "metadata": {},
   "outputs": [],
   "source": [
    "import sys\n",
    "sys.setrecursionlimit(1000000)"
   ]
  },
  {
   "cell_type": "code",
   "execution_count": null,
   "id": "643089e2",
   "metadata": {},
   "outputs": [],
   "source": [
    "%%time\n",
    "n_samples=100000\n",
    "samples = [evaluate(exp).item() for sample in range(n_samples)]\n",
    "# 4.8s / 100 samples"
   ]
  },
  {
   "cell_type": "code",
   "execution_count": null,
   "id": "4b7004b5",
   "metadata": {},
   "outputs": [],
   "source": [
    "sr = pd.Series(samples)\n",
    "sr.plot.hist(bins=50)\n",
    "plt.xlabel('flips until success')\n",
    "plt.title('{} \\n n_samples {}'.format(fname,n_samples))"
   ]
  },
  {
   "cell_type": "code",
   "execution_count": null,
   "id": "09834a17",
   "metadata": {},
   "outputs": [],
   "source": [
    "print('expectation w.r.t. the prior {:1.3f}'.format(sr.mean()))\n",
    "print('std & var w.r.t. the prior {:1.3f} & {:1.1f}'.format(sr.std(),sr.var()))"
   ]
  },
  {
   "cell_type": "markdown",
   "id": "f30af8ed",
   "metadata": {},
   "source": [
    "This is a standard textbook problem of a [Geometric distribution](https://en.wikipedia.org/wiki/Geometric_distribution) \"The probability distribution of the number $Y = X − 1$ of failures before the first success, supported on the set ${\\displaystyle \\{0,1,2,\\ldots \\}}.\"$\n",
    "\n",
    "The ground truth mean and var are thus $\\frac{1-p}{p}$ and $\\frac{1-p}{p^2}$, where $p=0.01$ in the homework problem, and we can analytically compare against our estimates."
   ]
  },
  {
   "cell_type": "code",
   "execution_count": null,
   "id": "3cbbda5f",
   "metadata": {},
   "outputs": [],
   "source": [
    "p = 0.01\n",
    "gt_mean = (1-p)/p\n",
    "gt_std = np.sqrt(gt_mean/p)\n",
    "gt_mean, gt_std\n",
    "assert np.abs(gt_mean - sr.mean()) / gt_mean < 0.05\n",
    "assert np.abs(gt_std - sr.std()) / gt_std < 0.05\n"
   ]
  }
 ],
 "metadata": {
  "kernelspec": {
   "display_name": "Python 3 (ipykernel)",
   "language": "python",
   "name": "python3"
  },
  "language_info": {
   "codemirror_mode": {
    "name": "ipython",
    "version": 3
   },
   "file_extension": ".py",
   "mimetype": "text/x-python",
   "name": "python",
   "nbconvert_exporter": "python",
   "pygments_lexer": "ipython3",
   "version": "3.9.0"
  }
 },
 "nbformat": 4,
 "nbformat_minor": 5
}
