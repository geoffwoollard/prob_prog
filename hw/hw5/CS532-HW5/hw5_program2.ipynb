{
 "cells": [
  {
   "cell_type": "markdown",
   "id": "1efaaf69",
   "metadata": {},
   "source": [
    "# Program 2"
   ]
  },
  {
   "cell_type": "code",
   "execution_count": 54,
   "id": "ab3b1ab9",
   "metadata": {},
   "outputs": [],
   "source": [
    "from evaluator import evaluate, ast_helper\n",
    "import pandas as pd\n",
    "import matplotlib.pyplot as plt\n",
    "import numpy as np"
   ]
  },
  {
   "cell_type": "code",
   "execution_count": 48,
   "id": "886d7ed4",
   "metadata": {},
   "outputs": [
    {
     "name": "stdout",
     "output_type": "stream",
     "text": [
      "(defn until-success [p n]\r\n",
      "   (if (sample (flip p))\r\n",
      "     n\r\n",
      "     (until-success p (+ n 1))))\r\n",
      "\r\n",
      "(let [p 0.01]\r\n",
      "  (until-success p 0))\r\n"
     ]
    }
   ],
   "source": [
    "i=2\n",
    "fname='{}.daphne'.format(i)\n",
    "exp = ast_helper(fname,directory='programs/')\n",
    "%cat programs/2.daphne\n"
   ]
  },
  {
   "cell_type": "code",
   "execution_count": 58,
   "id": "f9538e98",
   "metadata": {},
   "outputs": [
    {
     "data": {
      "text/plain": [
       "['fn',\n",
       " ['alpha'],\n",
       " [['fn',\n",
       "   ['alpha', 'until-success'],\n",
       "   [['fn',\n",
       "     ['alpha', 'p'],\n",
       "     ['until-success', ['push-address', 'alpha', 'addr2'], 'p', 0]],\n",
       "    ['push-address', 'alpha', 'addr1'],\n",
       "    0.01]],\n",
       "  ['push-address', 'alpha', 'addr0'],\n",
       "  ['fn',\n",
       "   ['alpha', 'p', 'n'],\n",
       "   [['fn',\n",
       "     ['alpha', 'p', 'n', 'until-success'],\n",
       "     ['if',\n",
       "      ['sample',\n",
       "       ['push-address', 'alpha', 'addr4'],\n",
       "       ['flip', ['push-address', 'alpha', 'addr5'], 'p']],\n",
       "      'n',\n",
       "      ['until-success',\n",
       "       ['push-address', 'alpha', 'addr6'],\n",
       "       'p',\n",
       "       ['+', ['push-address', 'alpha', 'addr7'], 'n', 1],\n",
       "       'until-success']]],\n",
       "    ['push-address', 'alpha', 'addr3'],\n",
       "    'p',\n",
       "    'n',\n",
       "    ['fn',\n",
       "     ['alpha', 'p', 'n', 'until-success'],\n",
       "     ['if',\n",
       "      ['sample',\n",
       "       ['push-address', 'alpha', 'addr8'],\n",
       "       ['flip', ['push-address', 'alpha', 'addr9'], 'p']],\n",
       "      'n',\n",
       "      ['until-success',\n",
       "       ['push-address', 'alpha', 'addr10'],\n",
       "       'p',\n",
       "       ['+', ['push-address', 'alpha', 'addr11'], 'n', 1],\n",
       "       'until-success']]]]]]]"
      ]
     },
     "execution_count": 58,
     "metadata": {},
     "output_type": "execute_result"
    }
   ],
   "source": [
    "exp"
   ]
  },
  {
   "cell_type": "code",
   "execution_count": 35,
   "id": "dea609d5",
   "metadata": {},
   "outputs": [
    {
     "data": {
      "text/plain": [
       "tensor(81)"
      ]
     },
     "execution_count": 35,
     "metadata": {},
     "output_type": "execute_result"
    }
   ],
   "source": [
    "# ret = evaluate(exp, do_log=False)\n",
    "# ret"
   ]
  },
  {
   "cell_type": "code",
   "execution_count": 45,
   "id": "fe039243",
   "metadata": {},
   "outputs": [],
   "source": [
    "import sys\n",
    "sys.setrecursionlimit(1000000)"
   ]
  },
  {
   "cell_type": "code",
   "execution_count": 46,
   "id": "05e29f43",
   "metadata": {},
   "outputs": [
    {
     "name": "stdout",
     "output_type": "stream",
     "text": [
      "CPU times: user 27min 45s, sys: 3.72 s, total: 27min 49s\n",
      "Wall time: 27min 53s\n"
     ]
    }
   ],
   "source": [
    "%%time\n",
    "n_samples=100000\n",
    "samples = [evaluate(exp).item() for sample in range(n_samples)]\n",
    "# 4.8s / 100 samples"
   ]
  },
  {
   "cell_type": "code",
   "execution_count": 51,
   "id": "ee249e78",
   "metadata": {},
   "outputs": [
    {
     "data": {
      "text/plain": [
       "Text(0.5, 1.0, '2.daphne \\n n_samples 100000')"
      ]
     },
     "execution_count": 51,
     "metadata": {},
     "output_type": "execute_result"
    },
    {
     "data": {
      "image/png": "[encoded data removed]",
      "text/plain": [
       "<Figure size 432x288 with 1 Axes>"
      ]
     },
     "metadata": {
      "needs_background": "light"
     },
     "output_type": "display_data"
    }
   ],
   "source": [
    "sr = pd.Series(samples)\n",
    "sr.plot.hist(bins=50)\n",
    "plt.xlabel('flips until success')\n",
    "plt.title('{} \\n n_samples {}'.format(fname,n_samples))"
   ]
  },
  {
   "cell_type": "code",
   "execution_count": 59,
   "id": "825d86d9",
   "metadata": {},
   "outputs": [
    {
     "name": "stdout",
     "output_type": "stream",
     "text": [
      "expectation w.r.t. the prior 32.248\n",
      "std & var w.r.t. the prior 32.717 & 1070.4\n"
     ]
    }
   ],
   "source": [
    "print('expectation w.r.t. the prior {:1.3f}'.format(sr.mean()))\n",
    "print('std & var w.r.t. the prior {:1.3f} & {:1.1f}'.format(sr.std(),sr.var()))"
   ]
  },
  {
   "cell_type": "markdown",
   "id": "3b3a55c3",
   "metadata": {},
   "source": [
    "This is a standard textbook problem of a [Poisson process](https://en.wikipedia.org/wiki/Poisson_point_process#Interpreted_as_a_counting_process). It's the \"arrival time\" for an event with a characteristic rate. In MATH 318 Gordon Slade taught using examples of the “pizza delivery” or “when the bus comes” given a characteristic rate. In physics a classic example is radioactive decay.\n",
    "\n",
    "The prior distribution is thus an [exponential distribution](https://en.wikipedia.org/wiki/Exponential_distribution) with rate parameter $\\lambda=p=0.01$. The ground truth mean and std are thus $1/\\lambda$."
   ]
  },
  {
   "cell_type": "code",
   "execution_count": 65,
   "id": "665d3ad2",
   "metadata": {},
   "outputs": [],
   "source": [
    "p = 0.03\n",
    "gt_mean = (1-p)/p\n",
    "gt_std = np.sqrt(gt_mean/p)\n",
    "gt_mean, gt_std\n",
    "assert np.abs(gt_mean - sr.mean()) / gt_mean < 0.05\n",
    "assert np.abs(gt_std - sr.std()) / gt_std < 0.05\n"
   ]
  }
 ],
 "metadata": {
  "kernelspec": {
   "display_name": "Python 3 (ipykernel)",
   "language": "python",
   "name": "python3"
  },
  "language_info": {
   "codemirror_mode": {
    "name": "ipython",
    "version": 3
   },
   "file_extension": ".py",
   "mimetype": "text/x-python",
   "name": "python",
   "nbconvert_exporter": "python",
   "pygments_lexer": "ipython3",
   "version": "3.9.0"
  }
 },
 "nbformat": 4,
 "nbformat_minor": 5
}
