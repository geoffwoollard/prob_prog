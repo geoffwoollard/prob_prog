{
 "cells": [
  {
   "cell_type": "markdown",
   "id": "ebff4344",
   "metadata": {},
   "source": [
    "# Program 3 (`2.daphne`)"
   ]
  },
  {
   "cell_type": "code",
   "execution_count": 17,
   "id": "c17d181b",
   "metadata": {},
   "outputs": [],
   "source": [
    "from evaluator import evaluate, ast_helper\n",
    "import pandas as pd\n",
    "import matplotlib.pyplot as plt\n",
    "import numpy as np"
   ]
  },
  {
   "cell_type": "code",
   "execution_count": 3,
   "id": "e176296b",
   "metadata": {},
   "outputs": [
    {
     "name": "stdout",
     "output_type": "stream",
     "text": [
      "(defn marsaglia-normal [mean var]\r\n",
      "   (let [d (uniform-continuous -1.0 1.0)\r\n",
      "         x (sample d)\r\n",
      "         y (sample d)\r\n",
      "         s (+ (* x x ) (* y y ))]\r\n",
      "    (if (< s 1)\r\n",
      "        (+ mean (* (sqrt var)\r\n",
      "                   (* x (sqrt (* -2 (/ ( log s) s))))))\r\n",
      "        (marsaglia-normal mean var))))\r\n",
      "\r\n",
      "(let [mu (marsaglia-normal 1 5)\r\n",
      "      sigma (sqrt 2)\r\n",
      "      lik (normal mu sigma)]\r\n",
      "  (observe lik 8)\r\n",
      "  (observe lik 9)\r\n",
      "  mu)\r\n"
     ]
    }
   ],
   "source": [
    "i=2\n",
    "fname='{}.daphne'.format(i)\n",
    "exp = ast_helper(fname,directory='programs/')\n",
    "%cat programs/2.daphne\n"
   ]
  },
  {
   "cell_type": "code",
   "execution_count": 21,
   "id": "4d55f439",
   "metadata": {},
   "outputs": [
    {
     "data": {
      "text/plain": [
       "tensor(2.9357)"
      ]
     },
     "execution_count": 21,
     "metadata": {},
     "output_type": "execute_result"
    }
   ],
   "source": [
    "evaluate(exp, do_log=False) # example of the return"
   ]
  },
  {
   "cell_type": "code",
   "execution_count": 6,
   "id": "e6ca41ec",
   "metadata": {},
   "outputs": [],
   "source": [
    "import sys\n",
    "sys.setrecursionlimit(1000000)"
   ]
  },
  {
   "cell_type": "code",
   "execution_count": null,
   "id": "b3e8af9d",
   "metadata": {},
   "outputs": [],
   "source": [
    "n_samples=1000*200\n",
    "samples = [evaluate(exp).item() for sample in range(n_samples)]\n",
    "# 10.2s / 1000 samples to 200k in 30 min"
   ]
  },
  {
   "cell_type": "code",
   "execution_count": 22,
   "id": "c6ad1c0c",
   "metadata": {},
   "outputs": [],
   "source": [
    "# np.save('program3.npy',np.array(samples))"
   ]
  },
  {
   "cell_type": "code",
   "execution_count": 15,
   "id": "96f344cf",
   "metadata": {},
   "outputs": [
    {
     "data": {
      "text/plain": [
       "Text(0.5, 1.0, '3.daphne \\n n_samples 200000')"
      ]
     },
     "execution_count": 15,
     "metadata": {},
     "output_type": "execute_result"
    },
    {
     "data": {
      "image/png": "[encoded data removed]",
      "text/plain": [
       "<Figure size 432x288 with 1 Axes>"
      ]
     },
     "metadata": {
      "needs_background": "light"
     },
     "output_type": "display_data"
    }
   ],
   "source": [
    "sr = pd.Series(samples)\n",
    "sr.plot.hist(bins=50)\n",
    "plt.xlabel('mu')\n",
    "plt.title('{} \\n n_samples {}'.format(fname,n_samples))"
   ]
  },
  {
   "cell_type": "code",
   "execution_count": 14,
   "id": "27abcb21",
   "metadata": {},
   "outputs": [
    {
     "name": "stdout",
     "output_type": "stream",
     "text": [
      "expectation w.r.t. the prior 1.003\n",
      "std & var w.r.t. the prior 2.239 & 5.0\n"
     ]
    }
   ],
   "source": [
    "print('expectation w.r.t. the prior {:1.3f}'.format(sr.mean()))\n",
    "print('std & var w.r.t. the prior {:1.3f} & {:1.1f}'.format(sr.std(),sr.var()))"
   ]
  },
  {
   "cell_type": "markdown",
   "id": "f6ee55cb",
   "metadata": {},
   "source": [
    "The program follows its namesake, the [Marsaglia polar method](https://en.wikipedia.org/wiki/Marsaglia_polar_method), and so we know the distribution of the prior is $\\mathcal{N}[\\text{mu}|0,5]$. We can thus check that we are wtihin 5% tolerance."
   ]
  },
  {
   "cell_type": "code",
   "execution_count": 20,
   "id": "b9df597c",
   "metadata": {},
   "outputs": [],
   "source": [
    "gt_mean = 1\n",
    "gt_var = 5\n",
    "\n",
    "assert np.abs(gt_mean - sr.mean()) / gt_mean < 0.05\n",
    "assert np.abs(gt_var - sr.var()) / gt_var < 0.05"
   ]
  },
  {
   "cell_type": "markdown",
   "id": "2fa627e1",
   "metadata": {},
   "source": [
    "**A normally distributed random quantity, via transformation and rejection. Take a little time to think about the sampled values of x and y and be amazed that this works. Think a little about how to deal with this kind of case in amortized inference settings.**\n",
    "\n",
    "The prior is using control flow with the `if` statement, essentially rejection sampling to ensure (x,y) are \"inside the unit circle\".\n",
    "\n",
    "So we can get a new type of distribution, a normal with two parameters, from just two continuous distributions x and y. \n",
    "\n",
    "In amortized inference, we could use some NN transformation of uniform RVs, to learn a new distribution. If the distribution was normal, perhaps they would learn the Marsaglia polar method, or some other method to sample from a Normal (the wiki page mentioned a few).\n",
    "\n",
    "If our posterior was some arbitraty distribution, we could fit the parameters of the NN in amortized inference, and learn the custom transform for that posterior."
   ]
  }
 ],
 "metadata": {
  "kernelspec": {
   "display_name": "Python 3 (ipykernel)",
   "language": "python",
   "name": "python3"
  },
  "language_info": {
   "codemirror_mode": {
    "name": "ipython",
    "version": 3
   },
   "file_extension": ".py",
   "mimetype": "text/x-python",
   "name": "python",
   "nbconvert_exporter": "python",
   "pygments_lexer": "ipython3",
   "version": "3.9.0"
  }
 },
 "nbformat": 4,
 "nbformat_minor": 5
}
