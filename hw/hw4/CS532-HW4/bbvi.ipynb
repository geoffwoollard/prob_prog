{
 "cells": [
  {
   "cell_type": "code",
   "execution_count": 1,
   "id": "6663a55c",
   "metadata": {},
   "outputs": [],
   "source": [
    "import torch\n",
    "from torch import tensor\n",
    "import importlib\n",
    "import pandas as pd\n",
    "import matplotlib.pyplot as plt\n",
    "\n",
    "import distributions"
   ]
  },
  {
   "cell_type": "markdown",
   "id": "cd66b5cb",
   "metadata": {},
   "source": [
    "## load helper"
   ]
  },
  {
   "cell_type": "code",
   "execution_count": 2,
   "id": "42640bd5",
   "metadata": {
    "scrolled": true
   },
   "outputs": [
    {
     "data": {
      "text/plain": [
       "[{},\n",
       " {'V': ['observe3', 'sample2', 'sample1'],\n",
       "  'A': {'sample1': ['sample2'], 'sample2': ['observe3']},\n",
       "  'P': {'sample1': ['sample*', ['normal', 0, 5]],\n",
       "   'sample2': ['sample*', ['uniform-continuous', 0.01, ['abs', 'sample1']]],\n",
       "   'observe3': ['observe*', ['normal', 0, 'sample2'], 7]},\n",
       "  'Y': {'observe3': 7}},\n",
       " 'sample2']"
      ]
     },
     "execution_count": 2,
     "metadata": {},
     "output_type": "execute_result"
    }
   ],
   "source": [
    "import load_helper\n",
    "importlib.reload(load_helper)\n",
    "\n",
    "fname = '5.daphne'\n",
    "graph = load_helper.graph_helper(fname)\n",
    "graph"
   ]
  },
  {
   "cell_type": "markdown",
   "id": "e23b504a",
   "metadata": {},
   "source": [
    "# run from source"
   ]
  },
  {
   "cell_type": "markdown",
   "id": "91e19cdc",
   "metadata": {},
   "source": [
    "## bbvi_algo12\n",
    "* Problem 3\n",
    "  * SGD not working. issues wtih normal support of bounds\n",
    "  * Adam still dips ELBO low for very high batch L (300). issue var zero\n",
    "  * Adam OK, still dips a bit, for T=150, L=30, lr=0.05, getting best ELBO -44 (-23 Masoud)\n",
    "  * not as good: doing T=100, smaller lr=0.01, large L=1000, gets best ELBO -1676 \n",
    "* Problem 4\n",
    "  * T=100, L=20, Adam, lr=0.05, near to peaking, ELBO ~ -480 need to go to ~ -454. run twice as long? another 5-10 min?\n",
    "  * T=250, L=20, Adam lr=0.05, ELBO -466, need to go x3-10 to get peak?, 8 min\n",
    "  \n",
    "* Problem 5\n",
    "  * uniform can't take observes everywhere, so when use uniform-continuoys as proposal, and try to score something outside it's support (it throws an error). it can't score the log_prob, because it is impossible for it to be observed there, so there is zero probability"
   ]
  },
  {
   "cell_type": "code",
   "execution_count": 3,
   "id": "55d3a9c7",
   "metadata": {},
   "outputs": [],
   "source": [
    "import primitives\n",
    "importlib.reload(primitives)\n",
    "\n",
    "import evaluation_based_sampling\n",
    "importlib.reload(evaluation_based_sampling)\n",
    "\n",
    "import bbvi\n",
    "importlib.reload(bbvi)\n",
    "\n",
    "from bbvi import graph_bbvi_algo12"
   ]
  },
  {
   "cell_type": "code",
   "execution_count": null,
   "id": "695cf0a5",
   "metadata": {},
   "outputs": [],
   "source": [
    "%%time\n",
    "T=1000\n",
    "L=20\n",
    "lr=0.05\n",
    "r, logW, sigma = bbvi.graph_bbvi_algo12(graph,T=T,L=L,lr=lr,\n",
    "                                   do_log=False)"
   ]
  },
  {
   "cell_type": "code",
   "execution_count": null,
   "id": "31bf3d41",
   "metadata": {},
   "outputs": [],
   "source": [
    "pd.Series(logW.mean(1)).plot()\n",
    "plt.xlabel('t')\n",
    "plt.ylabel('ELBO')\n",
    "plt.title('{} \\n T={} \\n L={} \\n Adam, lr={}'.format(fname,T,L,lr))"
   ]
  },
  {
   "cell_type": "code",
   "execution_count": null,
   "id": "554d784c",
   "metadata": {},
   "outputs": [],
   "source": [
    "T=50\n",
    "L=L\n",
    "lr=lr\n",
    "r, logW, sigma = graph_bbvi_algo12(graph,T=T,L=L,lr=lr,sigma=sigma,do_log=False)"
   ]
  },
  {
   "cell_type": "code",
   "execution_count": 12,
   "id": "afcfac6c",
   "metadata": {},
   "outputs": [
    {
     "data": {
      "text/plain": [
       "Text(0.5, 1.0, '5.daphne \\n T=200 \\n L=100 \\n lr=0.05')"
      ]
     },
     "execution_count": 12,
     "metadata": {},
     "output_type": "execute_result"
    },
    {
     "data": {
      "image/png": "[encoded data removed]",
      "text/plain": [
       "<Figure size 432x288 with 1 Axes>"
      ]
     },
     "metadata": {
      "needs_background": "light"
     },
     "output_type": "display_data"
    }
   ],
   "source": [
    "pd.Series(logW.mean(1)).plot()\n",
    "plt.xlabel('t')\n",
    "plt.ylabel('ELBO')\n",
    "plt.title('{} \\n T={} \\n L={} \\n lr={}'.format(fname,T,L,lr))"
   ]
  },
  {
   "cell_type": "code",
   "execution_count": 13,
   "id": "8c797915",
   "metadata": {},
   "outputs": [
    {
     "data": {
      "text/plain": [
       "-20.205398411750792"
      ]
     },
     "execution_count": 13,
     "metadata": {},
     "output_type": "execute_result"
    }
   ],
   "source": [
    "logW.mean(1).max()"
   ]
  },
  {
   "cell_type": "markdown",
   "id": "4008143a",
   "metadata": {},
   "source": [
    "## problem 5"
   ]
  },
  {
   "cell_type": "code",
   "execution_count": 4,
   "id": "a0a9b904",
   "metadata": {},
   "outputs": [
    {
     "data": {
      "text/plain": [
       "tensor(0.8494)"
      ]
     },
     "execution_count": 4,
     "metadata": {},
     "output_type": "execute_result"
    }
   ],
   "source": [
    "#torch.distributions.Gamma(tensor(2.),tensor(1.))\n",
    "concentration = tensor(2.)\n",
    "rate = tensor(1./0.5)\n",
    "d=distributions.UniformContinuous(concentration,rate)\n",
    "d.sample()"
   ]
  },
  {
   "cell_type": "code",
   "execution_count": 11,
   "id": "e819360e",
   "metadata": {},
   "outputs": [
    {
     "name": "stdout",
     "output_type": "stream",
     "text": [
      "t=0, Q after step={'sample2': Gamma(concentration: 2.049999952316284, rate: 1.8545866012573242), 'sample1': Normal(loc: -0.04999999701976776, scale: 4.993239402770996)}\n",
      "t=20, Q after step={'sample2': Gamma(concentration: 2.737981081008911, rate: 1.2945386171340942), 'sample1': Normal(loc: 0.4062788188457489, scale: 5.147683143615723)}\n",
      "t=40, Q after step={'sample2': Gamma(concentration: 2.9851531982421875, rate: 1.0921889543533325), 'sample1': Normal(loc: 0.5101726651191711, scale: 5.190408706665039)}\n",
      "t=60, Q after step={'sample2': Gamma(concentration: 3.0972938537597656, rate: 1.0041407346725464), 'sample1': Normal(loc: 0.40024858713150024, scale: 5.0716023445129395)}\n",
      "t=80, Q after step={'sample2': Gamma(concentration: 3.158691883087158, rate: 0.9651890397071838), 'sample1': Normal(loc: 0.336447536945343, scale: 4.915555477142334)}\n",
      "t=100, Q after step={'sample2': Gamma(concentration: 3.2066032886505127, rate: 0.9367976188659668), 'sample1': Normal(loc: 0.3002406060695648, scale: 4.7262043952941895)}\n",
      "t=120, Q after step={'sample2': Gamma(concentration: 3.2331485748291016, rate: 0.9307222366333008), 'sample1': Normal(loc: 0.24521470069885254, scale: 4.4765520095825195)}\n",
      "t=140, Q after step={'sample2': Gamma(concentration: 3.309584856033325, rate: 0.8948416113853455), 'sample1': Normal(loc: 0.17265008389949799, scale: 4.260249614715576)}\n",
      "t=160, Q after step={'sample2': Gamma(concentration: 3.3723573684692383, rate: 0.8646985292434692), 'sample1': Normal(loc: 0.04060453921556473, scale: 3.9929544925689697)}\n",
      "t=180, Q after step={'sample2': Gamma(concentration: 3.4017558097839355, rate: 0.8635044097900391), 'sample1': Normal(loc: 0.0037052903790026903, scale: 3.7127106189727783)}\n"
     ]
    }
   ],
   "source": [
    "T=200\n",
    "L=100\n",
    "lr=0.05\n",
    "\n",
    "r, logW, sigma = bbvi.graph_bbvi_algo12(graph,T=T,L=L,lr=lr,\n",
    "                                         init_local_env={'prior_dist':{'sample2':distributions.Gamma(concentration,rate)}},\n",
    "                                   #custom_proposals={'sample2':distributions.Gamma(concentration,rate)},\n",
    "                                   do_log=False)"
   ]
  },
  {
   "cell_type": "code",
   "execution_count": null,
   "id": "b19ef801",
   "metadata": {},
   "outputs": [],
   "source": [
    "distributions.Normal(tensor(0.),tensor(1e-38))"
   ]
  },
  {
   "cell_type": "code",
   "execution_count": null,
   "id": "1cc66210",
   "metadata": {},
   "outputs": [],
   "source": [
    "u = evaluation_based_sampling.evaluate(['uniform-continuous',0,1])[0]\n",
    "u = u.make_copy_with_grads()\n",
    "u.log_prob(tensor(0.1))"
   ]
  },
  {
   "cell_type": "code",
   "execution_count": null,
   "id": "3be3b7e8",
   "metadata": {},
   "outputs": [],
   "source": [
    "from distributions import UniformContinuous\n",
    "u = UniformContinuous(tensor(0.),tensor(2.))\n",
    "u.log_prob(tensor(2.5))\n"
   ]
  },
  {
   "cell_type": "code",
   "execution_count": null,
   "id": "46f8cf7a",
   "metadata": {},
   "outputs": [],
   "source": [
    "u = torch.distributions.Uniform(tensor(0.),tensor(2.))\n",
    "u.log_prob(tensor(2.5))"
   ]
  },
  {
   "cell_type": "markdown",
   "id": "8d8571ee",
   "metadata": {},
   "source": [
    "## $\\lambda_{v,d} \\in \\mathbb{R}^{>1}$"
   ]
  },
  {
   "cell_type": "code",
   "execution_count": null,
   "id": "cc0003dd",
   "metadata": {},
   "outputs": [],
   "source": [
    "import distributions\n",
    "z3 = torch.ones(3)\n",
    "d = distributions.Categorical(z3)\n",
    "dg = d.make_copy_with_grads()\n",
    "lambda_v = d.Parameters()\n",
    "len(lambda_v)"
   ]
  },
  {
   "cell_type": "code",
   "execution_count": null,
   "id": "f4cc6559",
   "metadata": {},
   "outputs": [],
   "source": [
    "from bbvi import grad_log_prob\n",
    "import bbvi\n",
    "importlib.reload(bbvi)\n",
    "\n",
    "grad_log_prob(dg,tensor(2)).ndim"
   ]
  },
  {
   "cell_type": "code",
   "execution_count": null,
   "id": "98a0c5dd",
   "metadata": {},
   "outputs": [],
   "source": [
    "d = distributions.Normal(tensor(0.),tensor(1.))\n",
    "dg = d.make_copy_with_grads()\n",
    "lambda_v = d.Parameters()\n",
    "lambda_v\n",
    "lambda_v[1].ndim"
   ]
  },
  {
   "cell_type": "code",
   "execution_count": null,
   "id": "59528176",
   "metadata": {},
   "outputs": [],
   "source": [
    "lambda_v_d = lambda_v[0]\n",
    "lambda_v_d"
   ]
  },
  {
   "cell_type": "code",
   "execution_count": null,
   "id": "89b4aaaf",
   "metadata": {},
   "outputs": [],
   "source": [
    "torch.zeros_like(lambda_v_d).reshape(1,-1)"
   ]
  },
  {
   "cell_type": "markdown",
   "id": "4547f683",
   "metadata": {},
   "source": [
    "### elbo_gradients"
   ]
  },
  {
   "cell_type": "code",
   "execution_count": null,
   "id": "8deaf949",
   "metadata": {},
   "outputs": [],
   "source": [
    "import numpy as np\n",
    "G_v = np.array([[[ 0.94554961, -1.19752276,  0.47344792]],\n",
    " [[ 1.13782573, -1.44912326,  0.1195029 ]]])\n",
    "# assert False, '{}'.format(G_v)\n",
    "G_v.ndim"
   ]
  },
  {
   "cell_type": "code",
   "execution_count": null,
   "id": "2a062f26",
   "metadata": {},
   "outputs": [],
   "source": [
    "logW = np.ones(2)\n",
    "F_v = G_v*logW.reshape(-1,1,1)\n",
    "\n",
    "n_D_v, D_v, L = G_v.shape\n",
    "assert D_v == 1\n",
    "d=0\n",
    "b_v1 = np.zeros(D_v)\n",
    "cov_sum_d1, var_sum_d1 = 0, 0\n",
    "for j in range(n_D_v):\n",
    "    G_v_1_j = G_v[:,d,j]\n",
    "    F_v_1_j = F_v[:,d,j]\n",
    "    cov_F_G_j = np.cov(F_v[:,d,j],G_v[:,d,j])\n",
    "    cov_sum_d1 += cov_F_G_j[0,1]\n",
    "    var_sum_d1 += cov_F_G_j[1,1]\n",
    "b_v = cov_sum_d1 / var_sum_d1\n"
   ]
  },
  {
   "cell_type": "code",
   "execution_count": null,
   "id": "238e9936",
   "metadata": {},
   "outputs": [],
   "source": [
    "g_hat_v = (F_v - G_v*b_v1).mean(0)"
   ]
  },
  {
   "cell_type": "code",
   "execution_count": null,
   "id": "460bd911",
   "metadata": {},
   "outputs": [],
   "source": [
    "g_hat_v"
   ]
  },
  {
   "cell_type": "markdown",
   "id": "4a2022fc",
   "metadata": {},
   "source": [
    "## distributions.Normal\n",
    "Barens' pseudo code"
   ]
  },
  {
   "cell_type": "code",
   "execution_count": null,
   "id": "3a605fff",
   "metadata": {},
   "outputs": [],
   "source": [
    "import primitives\n",
    "importlib.reload(primitives)\n",
    "\n",
    "import evaluation_based_sampling\n",
    "importlib.reload(evaluation_based_sampling)\n",
    "\n",
    "from evaluation_based_sampling import evaluate\n",
    "\n",
    "n = evaluate(['normal',0,1])[0]\n",
    "n.make_copy_with_grads()"
   ]
  },
  {
   "cell_type": "code",
   "execution_count": null,
   "id": "0809fdcd",
   "metadata": {},
   "outputs": [],
   "source": [
    "torch.distributions.normal.Normal"
   ]
  },
  {
   "cell_type": "code",
   "execution_count": null,
   "id": "7a529b82",
   "metadata": {},
   "outputs": [],
   "source": [
    "from distributions import Normal\n",
    "\n",
    "n = Normal(tensor(0.),tensor(1.))\n",
    "from primitives import distribution_types\n",
    "n_torch = torch.distributions.normal.Normal(tensor(0.),tensor(1.))\n",
    "isinstance(n_torch,distribution_types)\n",
    "\n"
   ]
  },
  {
   "cell_type": "code",
   "execution_count": null,
   "id": "e6135654",
   "metadata": {},
   "outputs": [],
   "source": [
    "isinstance(n,torch.distributions.normal.Normal)"
   ]
  },
  {
   "cell_type": "code",
   "execution_count": null,
   "id": "2accdb48",
   "metadata": {},
   "outputs": [],
   "source": [
    "bbvi.eval_algo11"
   ]
  },
  {
   "cell_type": "code",
   "execution_count": null,
   "id": "8c753d1b",
   "metadata": {},
   "outputs": [],
   "source": [
    "isinstance(bbvi.eval_algo11(['normal',0,1],sigma={})[0],torch.distributions.normal.Normal)"
   ]
  },
  {
   "cell_type": "markdown",
   "id": "21e685fd",
   "metadata": {},
   "source": [
    "## graph bbvi"
   ]
  },
  {
   "cell_type": "code",
   "execution_count": null,
   "id": "3a90e3f2",
   "metadata": {},
   "outputs": [],
   "source": [
    "from graph_based_sampling import topsort\n",
    "import logging\n",
    "\n",
    "logging.basicConfig(format='%(levelname)s:%(message)s')\n",
    "logger_graph = logging.getLogger('simple_example')\n",
    "logger_graph.setLevel(logging.DEBUG)\n",
    "\n",
    "def graph_bbvi(graph,sigma={},do_log=False,verteces_topsorted=None):\n",
    "    \"\"\"This function does ancestral sampling starting from the prior.\n",
    "\n",
    "    graph output from `daphne graph -i sugared.daphne`\n",
    "    * list of length 3\n",
    "      * first entry is defn dict\n",
    "        * {\"string-defn-function-name\":[\"fn\", [\"var_1\", ..., \"var_n\"], e_function_body], ...}\n",
    "      * second entry is graph: {V,A,P,Y}\n",
    "        * \"V\",\"A\",\"P\",\"Y\" are keys in dict\n",
    "        * \"V\" : [\"string_name_vertex_1\", ..., \"string_name_vertex_n\"] # list of string names of vertices\n",
    "        * \"A\" : {\"string_name_vertex_1\" : [..., \"string_name_vertex_i\", ...] # dict of arc pairs (u,v) with u a string key in the dict, and the value a list of string names of the vertices. note that the keys can be things like \"uniform\" and don't have to be vetex name strings\n",
    "        * \"P\" : \"string_name_vertex_i\" : [\"sample*\", e_i] # dict. keys vertex name strings and value a rested list with a linking function in it. typically e_i is a distribution object. \n",
    "        * \"Y\" : observes\n",
    "      * third entry is return\n",
    "        * name of return rv, or constant\n",
    "\n",
    "    \"\"\"\n",
    "    G = graph[1]\n",
    "    verteces = G['V']\n",
    "    arcs = G['A']\n",
    "    if verteces_topsorted is None:\n",
    "        verteces_topsorted = topsort(verteces, arcs)\n",
    "    else:\n",
    "        assert set(verteces) == set(verteces_topsorted)\n",
    "    P = G['P']\n",
    "    Y = G['Y']\n",
    "    sampled_graph = {}\n",
    "    local_env = {}\n",
    "    \n",
    "    # initialize once\n",
    "    d_prior = distributions.Normal(tensor(0.),tensor(1.))\n",
    "    d_prior = d_prior.make_copy_with_grads()\n",
    "    sigma = {'G':{},'logW':tensor(0.),'Q':{'sample2':d_prior}}\n",
    "    \n",
    "    local_env, sigma = evaluate_link_function_bbvi(P,verteces_topsorted,sigma,local_env={},do_log=do_log)\n",
    "\n",
    "    sampled_graph = local_env\n",
    "    return_of_graph = graph[2] # meaning of program, but need to evaluate\n",
    "    # if do_log: print('sample_from_joint local_env',local_env)\n",
    "    # if do_log: print('sample_from_joint sampled_graph',sampled_graph)\n",
    "    E, sigma = eval_algo11(return_of_graph,sigma, local_env = sampled_graph, do_log=do_log)\n",
    "    return E, sampled_graph\n",
    "\n",
    "graph_bbvi(graph,sigma={},do_log=True,verteces_topsorted=None)"
   ]
  },
  {
   "cell_type": "code",
   "execution_count": null,
   "id": "045de0d9",
   "metadata": {},
   "outputs": [],
   "source": [
    "from evaluation_based_sampling import evaluate\n",
    "from graph_based_sampling import score\n",
    "from bbvi import grad_log_prob\n",
    "import distributions\n",
    "\n",
    "logging.basicConfig(format='%(levelname)s:%(message)s')\n",
    "logger = logging.getLogger('simple_example')\n",
    "logger.setLevel(logging.DEBUG)\n",
    "\n",
    "\n",
    "def evaluate_link_function_bbvi(P,verteces_topsorted,sigma,local_env,do_log):\n",
    "    for vertex in verteces_topsorted:\n",
    "        link_function = P[vertex]\n",
    "        if link_function[0] == 'sample*':\n",
    "            if do_log: logger_graph.info('match case sample*: link_function {}'.format(link_function))\n",
    "            assert len(link_function) == 2\n",
    "            e = link_function[1]\n",
    "            distribution, sigma = evaluate(e,sigma,local_env = local_env, do_log=do_log)\n",
    "            \n",
    "            # bbvi\n",
    "            q = sigma['Q'][vertex]\n",
    "            \n",
    "            constant = q.sample()\n",
    "            G_v = grad_log_prob(q,constant)\n",
    "            sigma['G'][vertex] = G_v\n",
    "            log_wv = score(distribution,constant) - score(q,constant)\n",
    "            sigma['logW'] += log_wv\n",
    "            if do_log: logger.info('match case sample: q {}, constant {}, G_v {}, log_wv {}, logW {}'.format(q, constant, G_v,log_wv, sigma['logW']))\n",
    "            #return constant, sigma # match shape in number base case\n",
    "            update_local_env = {vertex:constant}\n",
    "            local_env.update(update_local_env)\n",
    "        \n",
    "                    \n",
    "#             if do_log: logger_graph.info('match case sample*: distribution {}, sigma {}'.format(sigma, distribution))\n",
    "#             E = distribution.sample() # now have concrete value. need to pass it as var to evaluate\n",
    "#             update_local_env = {vertex:E}#{vertex:E, vertex+'_dist':distribution}\n",
    "#             local_env.update(update_local_env)\n",
    "#             local_env['prior_dist'][vertex] = distribution\n",
    "        elif link_function[0] == 'observe*':\n",
    "            if do_log: logger_graph.info('match case observe*: link_function {} sigma {}'.format(link_function, sigma))\n",
    "            e1, e2 = link_function[1:]\n",
    "            d1, sigma = evaluate(e1,sigma,local_env,do_log=do_log)\n",
    "            c2, sigma = evaluate(e2,sigma,local_env,do_log=do_log)\n",
    "            log_w = score(d1,c2)\n",
    "            sigma  += log_w\n",
    "            if do_log: logger_graph.info('match case observe*: d1 {}, c2 {}, log_w {}, sigma {}'.format(d1, c2, log_w, sigma))\n",
    "        else:\n",
    "            assert False\n",
    "\n",
    "    return local_env, sigma\n",
    "\n",
    "d_prior = distributions.Normal(tensor(0.),tensor(1.))\n",
    "d_prior = d_prior.make_copy_with_grads()\n",
    "evaluate_link_function_bbvi(P={'sample2': ['sample*', ['normal', 1, ['sqrt', 5]]]},\n",
    "                            verteces_topsorted = ['sample2'],\n",
    "                            sigma={'G':{},'logW':tensor(0.),'Q':{'sample2':d_prior}},\n",
    "                            local_env={},\n",
    "                            do_log=False\n",
    "                           )\n"
   ]
  },
  {
   "cell_type": "code",
   "execution_count": null,
   "id": "aaf3b0fc",
   "metadata": {},
   "outputs": [],
   "source": [
    "from graph_based_sampling import topsort\n",
    "import logging\n",
    "\n",
    "logging.basicConfig(format='%(levelname)s:%(message)s')\n",
    "logger_graph = logging.getLogger('simple_example')\n",
    "logger_graph.setLevel(logging.DEBUG)\n",
    "\n",
    "from graph_based_sampling import sample_from_joint\n",
    "\n",
    "def graph_bbvi_algo12(graph,sigma={},do_log=False,verteces_topsorted=None):\n",
    "    \"\"\"This function does ancestral sampling starting from the prior.\n",
    "    \n",
    "    And then ancestral sampling from a learned proposal with bbvi\n",
    "\n",
    "    graph output from `daphne graph -i sugared.daphne`\n",
    "    * list of length 3\n",
    "      * first entry is defn dict\n",
    "        * {\"string-defn-function-name\":[\"fn\", [\"var_1\", ..., \"var_n\"], e_function_body], ...}\n",
    "      * second entry is graph: {V,A,P,Y}\n",
    "        * \"V\",\"A\",\"P\",\"Y\" are keys in dict\n",
    "        * \"V\" : [\"string_name_vertex_1\", ..., \"string_name_vertex_n\"] # list of string names of vertices\n",
    "        * \"A\" : {\"string_name_vertex_1\" : [..., \"string_name_vertex_i\", ...] # dict of arc pairs (u,v) with u a string key in the dict, and the value a list of string names of the vertices. note that the keys can be things like \"uniform\" and don't have to be vetex name strings\n",
    "        * \"P\" : \"string_name_vertex_i\" : [\"sample*\", e_i] # dict. keys vertex name strings and value a rested list with a linking function in it. typically e_i is a distribution object. \n",
    "        * \"Y\" : observes\n",
    "      * third entry is return\n",
    "        * name of return rv, or constant\n",
    "\n",
    "    \"\"\"\n",
    "    G = graph[1]\n",
    "    verteces = G['V']\n",
    "    arcs = G['A']\n",
    "    if verteces_topsorted is None:\n",
    "        verteces_topsorted = topsort(verteces, arcs)\n",
    "    else:\n",
    "        assert set(verteces) == set(verteces_topsorted)\n",
    "    P = G['P']\n",
    "    Y = G['Y']\n",
    "    \n",
    "    E, sampled_graph = sample_from_joint(graph,do_log=do_log)\n",
    "    print('sampled_graph',sampled_graph)\n",
    "    \n",
    "    local_env = {}\n",
    "    \n",
    "    # initialize once\n",
    "    d_prior = distributions.Normal(tensor(0.),tensor(1.))\n",
    "    d_prior = d_prior.make_copy_with_grads()\n",
    "    sigma = {'G':{},'logW':tensor(0.),'Q':{}}\n",
    "    for vertex in sampled_graph['prior_dist'].keys():\n",
    "        d_prior = sampled_graph['prior_dist'][vertex]\n",
    "        d_prior_withgrads = d_prior.make_copy_with_grads()\n",
    "        sigma['Q'][vertex] = d_prior_withgrads\n",
    "    print('sigma',sigma)\n",
    "    \n",
    "    local_env, sigma = evaluate_link_function_algo11(P,verteces_topsorted,sigma,local_env={},do_log=do_log)\n",
    "\n",
    "    sampled_graph = local_env\n",
    "    return_of_graph = graph[2] # meaning of program, but need to evaluate\n",
    "    # if do_log: print('sample_from_joint local_env',local_env)\n",
    "    # if do_log: print('sample_from_joint sampled_graph',sampled_graph)\n",
    "    E, sigma = eval_algo11_deterministic(return_of_graph,sigma, local_env = sampled_graph, do_log=do_log)\n",
    "    return E, sampled_graph, sigma\n",
    "\n",
    "graph_bbvi_algo12(graph,sigma={},do_log=False,verteces_topsorted=None)"
   ]
  },
  {
   "cell_type": "code",
   "execution_count": null,
   "id": "d58eae6f",
   "metadata": {},
   "outputs": [],
   "source": []
  },
  {
   "cell_type": "code",
   "execution_count": null,
   "id": "bb6062bc",
   "metadata": {},
   "outputs": [],
   "source": [
    "from evaluation_based_sampling import evaluate\n",
    "from graph_based_sampling import score\n",
    "from bbvi import grad_log_prob\n",
    "import distributions\n",
    "\n",
    "import bbvi\n",
    "importlib.reload(bbvi)\n",
    "from bbvi import eval_algo11_deterministic\n",
    "\n",
    "def evaluate_link_function_algo11(P,verteces_topsorted,sigma,local_env,do_log):\n",
    "    for vertex in verteces_topsorted:\n",
    "        link_function = P[vertex]\n",
    "        if link_function[0] == 'sample*':\n",
    "            if do_log: logger_graph.info('match case sample*: link_function {}'.format(link_function))\n",
    "            assert len(link_function) == 2\n",
    "            e = link_function[1]\n",
    "            # because e evaluates to distribution in linking function\n",
    "            # no sample or observe in eval_algo11\n",
    "            distribution, sigma = eval_algo11_deterministic(e,sigma,local_env = local_env, do_log=do_log) \n",
    "            \n",
    "            # bbvi\n",
    "            q = sigma['Q'][vertex]\n",
    "            \n",
    "            constant = q.sample()\n",
    "            G_v = grad_log_prob(q,constant)\n",
    "            sigma['G'][vertex] = G_v\n",
    "            log_wv = score(distribution,constant) - score(q,constant)\n",
    "            sigma['logW'] += log_wv\n",
    "            if do_log: logger.info('match case sample: q {}, constant {}, G_v {}, log_wv {}, logW {}'.format(q, constant, G_v,log_wv, sigma['logW']))\n",
    "#             #return constant, sigma # match shape in number base case\n",
    "            update_local_env = {vertex:constant}\n",
    "            local_env.update(update_local_env)\n",
    "        \n",
    "                    \n",
    "#             if do_log: logger_graph.info('match case sample*: distribution {}, sigma {}'.format(sigma, distribution))\n",
    "#             E = distribution.sample() # now have concrete value. need to pass it as var to evaluate\n",
    "#             update_local_env = {vertex:E}#{vertex:E, vertex+'_dist':distribution}\n",
    "#             local_env.update(update_local_env)\n",
    "#             local_env['prior_dist'][vertex] = distribution\n",
    "        elif link_function[0] == 'observe*':\n",
    "            \n",
    "            if do_log: logger_graph.info('match case observe*: link_function {} sigma {}'.format(link_function, sigma))\n",
    "            e1, e2 = link_function[1:]\n",
    "            d1, sigma = eval_algo11_deterministic(e1,sigma,local_env,do_log=do_log)\n",
    "            c2, sigma = eval_algo11_deterministic(e2,sigma,local_env,do_log=do_log)\n",
    "            log_w = score(d1,c2)\n",
    "            sigma['logW'] += log_w\n",
    "            if do_log: logger_graph.info('match case observe*: d1 {}, c2 {}, log_w {}, sigma {}'.format(d1, c2, log_w, sigma))\n",
    "    \n",
    "        else:\n",
    "            assert False\n",
    "\n",
    "    return local_env, sigma\n",
    "\n",
    "d_prior = distributions.Normal(tensor(0.),tensor(2.))\n",
    "d_prior = d_prior.make_copy_with_grads()\n",
    "evaluate_link_function_algo11(P={'sample2': ['sample*', ['normal', 1, ['sqrt', 1]]]},\n",
    "                            verteces_topsorted = ['sample2'],\n",
    "                            sigma={'G':{},'logW':tensor(0.),'Q':{'sample2':d_prior}},\n",
    "                            local_env={},\n",
    "                            do_log=False\n",
    "                           )\n"
   ]
  },
  {
   "cell_type": "markdown",
   "id": "9f15ae37",
   "metadata": {},
   "source": [
    "## elbo_gradients"
   ]
  },
  {
   "cell_type": "code",
   "execution_count": null,
   "id": "933bc883",
   "metadata": {},
   "outputs": [],
   "source": [
    "import bbvi\n",
    "importlib.reload(bbvi)\n",
    "\n",
    "from bbvi import elbo_gradients"
   ]
  },
  {
   "cell_type": "markdown",
   "id": "9de5d76f",
   "metadata": {},
   "source": [
    "## grad_log_prob"
   ]
  },
  {
   "cell_type": "code",
   "execution_count": null,
   "id": "97d35b1a",
   "metadata": {},
   "outputs": [],
   "source": [
    "import bbvi\n",
    "importlib.reload(bbvi)\n",
    "\n",
    "from bbvi import grad_log_prob"
   ]
  },
  {
   "cell_type": "code",
   "execution_count": null,
   "id": "0aad7a3f",
   "metadata": {},
   "outputs": [],
   "source": [
    "loc = tensor(0.)\n",
    "scale = tensor(1.)\n",
    "q_nograd = Normal(loc,scale)\n",
    "q = q_nograd.make_copy_with_grads()\n",
    "q"
   ]
  },
  {
   "cell_type": "code",
   "execution_count": null,
   "id": "0f97ff61",
   "metadata": {},
   "outputs": [],
   "source": [
    "c = tensor(11.)\n",
    "\n",
    "bbvi.grad_log_prob(q,c) # we need to move in the -ve direction of the gradient to make log_prob come down and maximize our log_prob"
   ]
  },
  {
   "cell_type": "code",
   "execution_count": null,
   "id": "4dc03126",
   "metadata": {},
   "outputs": [],
   "source": [
    "lambda_v = q.Parameters()\n",
    "lambda_v[0].grad, lambda_v[1].grad\n"
   ]
  },
  {
   "cell_type": "code",
   "execution_count": null,
   "id": "b379a6d1",
   "metadata": {},
   "outputs": [],
   "source": [
    "optimizer = torch.optim.Adam(lr=0.001)\n",
    "optimizer(lambda_v)\n",
    "optimizer.step()\n",
    "q"
   ]
  },
  {
   "cell_type": "code",
   "execution_count": null,
   "id": "387232c5",
   "metadata": {},
   "outputs": [],
   "source": [
    "q"
   ]
  },
  {
   "cell_type": "code",
   "execution_count": null,
   "id": "57a311de",
   "metadata": {},
   "outputs": [],
   "source": [
    "optimizer.zero_grad()"
   ]
  },
  {
   "cell_type": "code",
   "execution_count": null,
   "id": "d6af81cf",
   "metadata": {},
   "outputs": [],
   "source": [
    "lambda_v[0].grad"
   ]
  },
  {
   "cell_type": "code",
   "execution_count": null,
   "id": "7b3a6262",
   "metadata": {},
   "outputs": [],
   "source": [
    "# lambda_v[0].zero_grad()"
   ]
  },
  {
   "cell_type": "markdown",
   "id": "de530457",
   "metadata": {},
   "source": [
    "## distributions"
   ]
  },
  {
   "cell_type": "code",
   "execution_count": null,
   "id": "87e006c1",
   "metadata": {},
   "outputs": [],
   "source": [
    "from distributions import Normal"
   ]
  },
  {
   "cell_type": "code",
   "execution_count": null,
   "id": "f04a8626",
   "metadata": {},
   "outputs": [],
   "source": [
    "torch.distributions.normal.Normal(loc,scale).sample()"
   ]
  },
  {
   "cell_type": "code",
   "execution_count": null,
   "id": "f2a54e7c",
   "metadata": {},
   "outputs": [],
   "source": [
    "loc = tensor(0.)\n",
    "scale = tensor(10.)\n",
    "d = Normal(loc,scale)\n",
    "\n",
    "dg = d.make_copy_with_grads()\n",
    "\n",
    "dg.Parameters()\n",
    "\n",
    "optimizer = torch.optim.Adam(dg.Parameters(), lr=0.003)\n",
    "\n",
    "data = torch.tensor([2.,2.001,2.01,1.99,2,2,2,2,2,2,2,2])\n",
    "\n"
   ]
  },
  {
   "cell_type": "code",
   "execution_count": null,
   "id": "6bc5a8b4",
   "metadata": {},
   "outputs": [],
   "source": [
    "for i in range(3000):\n",
    "    nlp = -(dg.log_prob(data)).sum() # observe 2 from distribution\n",
    "    nlp.backward()\n",
    "    optimizer.step() # this is what changes dg.Parameters() \n",
    "    optimizer.zero_grad() # so doesn't accumulate\n",
    "    print(dg)"
   ]
  },
  {
   "cell_type": "code",
   "execution_count": null,
   "id": "3e67f5d0",
   "metadata": {},
   "outputs": [],
   "source": [
    "dg.scale"
   ]
  },
  {
   "cell_type": "markdown",
   "id": "397aaf83",
   "metadata": {},
   "source": [
    "## evaluator algo 11\n",
    "* This evaluator is algorithm 11 in the textbook, p. 130\n",
    "* for case `sample v e`\n",
    "  * it evaluates $e, \\sigma, l \\rightarrow d, \\sigma$ recursively\n",
    "  * if v is outside the domain of the proposal\n",
    "    * initialize the proposal using the prior\n",
    "    * store this distribution in `sigma[Q[v]]`\n",
    "  * sample from the proposal, to get `c`\n",
    "  * get the `grad-log-prob` of the proposal evaluated at `c`\n",
    "    * store this in `sigma[G[v]]`\n",
    "  * score `c` w.r.t. the distributions `d` and `sigma[Q[v]]`\n",
    "    * accumulate in `sigma[logW]`\n",
    "  * return `c,sigma`\n",
    "* for case `observe v e1 e2`\n",
    "  * eval $e1 \\rightarrow d$ and $e2 \\rightarrow c$\n",
    "  * score `c` w.r.t. `d` and accumulate in `sigma[logW]`\n",
    "  * return `c, sigma`"
   ]
  },
  {
   "cell_type": "code",
   "execution_count": null,
   "id": "acfe2422",
   "metadata": {},
   "outputs": [],
   "source": [
    "import importlib\n",
    "\n",
    "import evaluation_based_sampling\n",
    "importlib.reload(evaluation_based_sampling)\n",
    "from evaluation_based_sampling import eval_algo11\n",
    "\n",
    "import graph_based_sampling\n",
    "importlib.reload(graph_based_sampling)\n",
    "from graph_based_sampling import sample_from_joint"
   ]
  },
  {
   "cell_type": "code",
   "execution_count": null,
   "id": "ca3f994f",
   "metadata": {},
   "outputs": [],
   "source": [
    "E, sampled_graph = sample_from_joint(graph,do_log=False)\n",
    "sampled_graph"
   ]
  },
  {
   "cell_type": "code",
   "execution_count": null,
   "id": "d46cfad0",
   "metadata": {},
   "outputs": [],
   "source": [
    "r, sigma = eval_algo11(['sample',['normal',0,1]],sigma={'logW':tensor(0.),'Q':{},'grad':{}},local_env = sampled_graph, vertex='sample2')\n",
    "r, sigma"
   ]
  },
  {
   "cell_type": "code",
   "execution_count": null,
   "id": "4eef347f",
   "metadata": {},
   "outputs": [],
   "source": [
    "eval_algo11(['observe',['normal',0,1],-1],sigma={'logW':tensor(0.),'Q':{},'grad':{}},vertex='sample2')"
   ]
  },
  {
   "cell_type": "code",
   "execution_count": null,
   "id": "131c8b8b",
   "metadata": {},
   "outputs": [],
   "source": [
    "# import distributions\n",
    "# qq = distributions.Normal(loc,scale)\n",
    "# qq.sample()"
   ]
  },
  {
   "cell_type": "markdown",
   "id": "07d65441",
   "metadata": {},
   "source": [
    "## grad-log-prob\n",
    "* line 9 of algo 11, p. 130\n",
    "* there is no optimization happening in the evaluator, this happens in algo 12, p. 131, line 26\n",
    "* we just need the gradient of the log prob of `Q[v]` (ie Q wrt v) evaluated at `c` to be stored in `sigma[G[v]]`"
   ]
  },
  {
   "cell_type": "code",
   "execution_count": null,
   "id": "cd3338f6",
   "metadata": {},
   "outputs": [],
   "source": [
    "from distributions import Normal\n",
    "sigma = {}\n",
    "sigma['G'] = {}\n",
    "vertex='sample2'\n",
    "\n",
    "loc = tensor(0.)\n",
    "scale = tensor(1.)\n",
    "q_nograd = Normal(loc,scale)\n",
    "q = q_nograd.make_copy_with_grads()\n",
    "c = tensor(1.)#q.sample()\n",
    "\n",
    "def grad_log_prob(distribution_unconst_optim,c):\n",
    "    log_prob = distribution_unconst_optim.log_prob(c)\n",
    "    log_prob.backward()\n",
    "    lambda_v = distribution_unconst_optim.Parameters()\n",
    "    D_v = len(lambda_v)\n",
    "    G_v = torch.zeros(D_v)\n",
    "    for d in range(D_v):\n",
    "        lambda_v_d = lambda_v[d]\n",
    "        G_v[d] = lambda_v_d.grad\n",
    "    return G_v\n",
    "\n",
    "G_v = grad_log_prob(q,c)\n",
    "sigma['G'][vertex] = G_v\n",
    "c, sigma"
   ]
  },
  {
   "cell_type": "code",
   "execution_count": null,
   "id": "9121d370",
   "metadata": {},
   "outputs": [],
   "source": [
    "# log_prob = dg.log_prob(tensor(0.))\n",
    "# log_prob\n",
    "# log_prob.backward()\n",
    "# G_v = dg\n",
    "# dg.Parameters()[0].grad"
   ]
  },
  {
   "cell_type": "code",
   "execution_count": null,
   "id": "c026aef8",
   "metadata": {},
   "outputs": [],
   "source": [
    "G_v"
   ]
  },
  {
   "cell_type": "code",
   "execution_count": null,
   "id": "51d26a70",
   "metadata": {},
   "outputs": [],
   "source": [
    "log_prob.backward()"
   ]
  },
  {
   "cell_type": "markdown",
   "id": "dcf5ee7c",
   "metadata": {},
   "source": [
    "## optimizer step\n",
    "* loop through vertices\n",
    "* get current params in Q(v)\n",
    "* do optimization (step)\n",
    "* set params in Q(v) using new steps\n",
    "\n",
    "* input\n",
    "  * distribution Q(v)\n",
    "  * gradient estimation g_hat"
   ]
  },
  {
   "cell_type": "code",
   "execution_count": null,
   "id": "6d987fe4",
   "metadata": {},
   "outputs": [],
   "source": [
    "lambda_v"
   ]
  },
  {
   "cell_type": "code",
   "execution_count": null,
   "id": "600da2c2",
   "metadata": {},
   "outputs": [],
   "source": [
    "sigma"
   ]
  },
  {
   "cell_type": "code",
   "execution_count": null,
   "id": "522bc73e",
   "metadata": {},
   "outputs": [],
   "source": [
    "g_hat['sample2']"
   ]
  },
  {
   "cell_type": "code",
   "execution_count": null,
   "id": "2ef5ab88",
   "metadata": {},
   "outputs": [],
   "source": [
    "# does not work\n",
    "\n",
    "# epsilon = 0.01\n",
    "# lambda_v_p = torch.zeros(2)\n",
    "# lambda_v = sigma['Q']['sample2'].Parameters()\n",
    "# for idx in range(2):\n",
    "#     lambda_v_p[idx] = lambda_v[idx] - epsilon*g_hat['sample2'][idx]\n",
    "#     sigma['Q']['sample2'].Parameters()[idx] = lambda_v_p[idx]\n",
    "# sigma['Q']['sample2'].Parameters()"
   ]
  },
  {
   "cell_type": "code",
   "execution_count": null,
   "id": "cfa0f23a",
   "metadata": {},
   "outputs": [],
   "source": [
    "def optimizer_step(Q,g_hat):\n",
    "    \"\"\"\n",
    "    no return of Q since modifies in place, and can't deep copy Q, and copy Q still accumulates\n",
    "    \"\"\"\n",
    "    for v in g_hat.keys():\n",
    "        lambda_v = Q[v].Parameters()\n",
    "        optimizer = torch.optim.Adam(lambda_v, lr=1e-2)\n",
    "        D_v = len(lambda_v)\n",
    "\n",
    "        for idx in range(D_v):\n",
    "            param = lambda_v[idx]\n",
    "        #     param.requires_grad = True # TODO: include???\n",
    "\n",
    "            param.grad = tensor(g_hat['sample2'][idx],dtype=torch.float32)\n",
    "        optimizer.step() # moves lambda_v\n",
    "        optimizer.zero_grad() # TODO: need this?      \n",
    "    \n",
    "\n",
    "Q = sigma['Q']\n",
    "optimizer_step(Q,g_hat)\n",
    "Q\n",
    "    #param.grad = tensor(g_hat['sample2'][0])\n",
    "    # param.grad = torch.from_numpy(g_hat['sample2'][0:1])\n",
    "    #param.grad = torch.from_numpy(np.zeros(param.grad.shape)).type(param.grad.dtype).to(param.device)"
   ]
  },
  {
   "cell_type": "code",
   "execution_count": null,
   "id": "df172983",
   "metadata": {},
   "outputs": [],
   "source": [
    "g_hat"
   ]
  },
  {
   "cell_type": "markdown",
   "id": "dc68c7e9",
   "metadata": {},
   "source": [
    "## elbo-gradients\n",
    "* input \n",
    "  * gradients for samples 1:L. \n",
    "    * These are put in sigma by the evaluator\n",
    "    * try having a dictionary that maps a sample vertex string (e.g. \"sample2\") to a list of torch objects\n",
    "  * logWs for samples 1:L. These are put in sigma by the evaluator\n",
    "    * try having a dictionary that maps a sample vertex steing (e.g. \"sample2\") to a 0D torch array\n",
    "* the body of this function, for each variable v\n",
    "  * computes the cov(F,G) and var(G) over the samples, and computes b_hat\n",
    "  * computes the estimate of the gradient, g_hat, with the samples summed over\n",
    "* returns\n",
    "  * g_hat\n",
    "  "
   ]
  },
  {
   "cell_type": "code",
   "execution_count": null,
   "id": "7ed60d41",
   "metadata": {},
   "outputs": [],
   "source": [
    "G = graph[1]\n",
    "P = G['P']\n",
    "P"
   ]
  },
  {
   "cell_type": "code",
   "execution_count": null,
   "id": "fa982b82",
   "metadata": {},
   "outputs": [],
   "source": [
    "# sigma={}\n",
    "# sigma['grad'] = {}\n",
    "# sigma['logW'] = tensor(0.)\n",
    "# sigma['grad']['sample2'] = q.Parameters()\n",
    "\n",
    "# sigma"
   ]
  },
  {
   "cell_type": "code",
   "execution_count": null,
   "id": "ff53d49e",
   "metadata": {},
   "outputs": [],
   "source": [
    "c, sigma = eval_algo11(['sample',['normal',1,1.1]],sigma={'logW':tensor(0.),'Q':{},'grad':{}},vertex='sample2')\n",
    "sigma"
   ]
  },
  {
   "cell_type": "code",
   "execution_count": null,
   "id": "4d90ffee",
   "metadata": {},
   "outputs": [],
   "source": [
    "# def elbo_gradients(G,logW,union_G_keys):\n",
    "#     for v in union_G_keys:\n",
    "#         #F_v = []\n",
    "#         G_v = []\n",
    "#         g_hat = {}\n",
    "#         for l in range(L):\n",
    "#             G_l = G[l]\n",
    "#             if v in G_l.keys():\n",
    "#                 G_l_v = G_l[v].tolist()\n",
    "#                 G_v.append(G_l_v)\n",
    "#                 D_v = len(G_l_v)\n",
    "#                 #F_v_l = G_l_v*logW[t][l]\n",
    "#                 #F_v.append(F_v_l) # data specific tolist might not always work\n",
    "#             else:\n",
    "#                 assert False, 'zero not implemented'\n",
    "#         G_v = np.array(G_v)\n",
    "#         F_v = G_v*logW.reshape(-1,1)\n",
    "\n",
    "#         # cov and var to compute b_v\n",
    "#         assert G_v.ndim == 2\n",
    "#         D_v = G_v.shape[1]\n",
    "#         b_v = np.zeros(D_v)\n",
    "#         for d in range(D_v):\n",
    "#             F_v_d = F_v[:,d]\n",
    "#             G_v_d = G_v[:,d]\n",
    "#             cov_F_G = np.cov(F_v_d,G_v_d)\n",
    "#             b_v[d] = cov_F_G[0,1]/cov_F_G[1,1]\n",
    "#         g_hat_v = (F_v - G_v*b_v).sum(0)  # sum over samples\n",
    "#         g_hat[v] = g_hat_v\n",
    "#     return g_hat\n",
    "    \n",
    "# elbo_gradients(G,logW[t],union_G_keys=set(['sample2']))  \n",
    "    \n",
    "    "
   ]
  },
  {
   "cell_type": "code",
   "execution_count": null,
   "id": "08c2cf4c",
   "metadata": {},
   "outputs": [],
   "source": [
    "def elbo_gradients(G,logW,union_G_keys):\n",
    "    for v in union_G_keys:\n",
    "        #F_v = []\n",
    "        G_v = []\n",
    "        g_hat = {}\n",
    "        for l in range(L):\n",
    "            G_l = G[l]\n",
    "            if v in G_l.keys():\n",
    "                G_l_v = G_l[v].tolist()\n",
    "                G_v.append(G_l_v)\n",
    "                D_v = len(G_l_v)\n",
    "                #F_v_l = G_l_v*logW[t][l]\n",
    "                #F_v.append(F_v_l) # data specific tolist might not always work\n",
    "            else:\n",
    "                assert False, 'zero not implemented'\n",
    "        G_v = np.array(G_v)\n",
    "        F_v = G_v*logW.reshape(-1,1)\n",
    "\n",
    "        # cov and var to compute b_v\n",
    "        assert G_v.ndim == 2\n",
    "        D_v = G_v.shape[1]\n",
    "        b_v = np.zeros(D_v)\n",
    "        for d in range(D_v):\n",
    "            F_v_d = F_v[:,d]\n",
    "            G_v_d = G_v[:,d]\n",
    "            cov_F_G = np.cov(F_v_d,G_v_d)\n",
    "            b_v[d] = cov_F_G[0,1]/cov_F_G[1,1]\n",
    "        g_hat_v = (F_v - G_v*b_v).mean(0)  # sum over samples divided by L\n",
    "        g_hat[v] = g_hat_v\n",
    "    return g_hat\n",
    "    \n",
    "elbo_gradients(G,logW[t],union_G_keys=set(['sample2']))  \n",
    "    \n",
    "    "
   ]
  },
  {
   "cell_type": "code",
   "execution_count": null,
   "id": "2067497e",
   "metadata": {},
   "outputs": [],
   "source": [
    "G[0]['sample2']"
   ]
  },
  {
   "cell_type": "markdown",
   "id": "499df4e5",
   "metadata": {},
   "source": [
    "## BBVI\n",
    "* input \n",
    "  * T : int time steps\n",
    "  * L : int num_samples\n",
    " "
   ]
  },
  {
   "cell_type": "code",
   "execution_count": null,
   "id": "be5a9b0d",
   "metadata": {},
   "outputs": [],
   "source": [
    "import importlib\n",
    "import evaluation_based_sampling\n",
    "importlib.reload(evaluation_based_sampling)\n",
    "\n",
    "from evaluation_based_sampling import eval_algo11\n"
   ]
  },
  {
   "cell_type": "code",
   "execution_count": null,
   "id": "2ffd8ddc",
   "metadata": {},
   "outputs": [],
   "source": [
    "import numpy as np\n",
    "\n",
    "\n",
    "\n",
    "\n",
    "def bbvi_algo12(T,L):\n",
    "    r, G = [], []\n",
    "    logW = np.zeros((T,L))\n",
    "\n",
    "    E, sampled_graph = sample_from_joint(graph,do_log=False)\n",
    "\n",
    "    sigma={'logW':tensor(0.),'Q':{},'grad':{}}\n",
    "    e = ['sample',['normal',1,1.1]]\n",
    "\n",
    "    for t in range(T):\n",
    "        G = []\n",
    "        r_t=[]\n",
    "        union_G_t_keys = set()\n",
    "        for l in range(L):\n",
    "            # loop through vertex and evaluate linker functions as e\n",
    "            r_t_l, sigma = eval_algo11(e,sigma=sigma,local_env = sampled_graph, vertex='sample2',do_log=False)\n",
    "            logW[t,l] = sigma['logW'].item()\n",
    "            G_l = (sigma['grad']).copy()\n",
    "            union_G_keys.update(set(G_l.keys()))\n",
    "            G.append(G_l)\n",
    "            r_t.append(r_t_l)\n",
    "        g_hat = elbo_gradients(G,logW[t],union_G_keys) \n",
    "        Q = sigma['Q']\n",
    "        optimizer_step(Q,g_hat) # in place modification of Q\n",
    "\n",
    "        r.append(r_t)\n",
    "    return r, logW\n",
    "        "
   ]
  },
  {
   "cell_type": "code",
   "execution_count": null,
   "id": "bf40b048",
   "metadata": {},
   "outputs": [],
   "source": [
    "T=3\n",
    "L=50\n",
    "bbvi_algo12(T,L)[-1]"
   ]
  },
  {
   "cell_type": "code",
   "execution_count": null,
   "id": "b99c276e",
   "metadata": {},
   "outputs": [],
   "source": [
    "sigma={'logW':tensor(0.),'Q':{},'grad':{}}\n",
    "r, sigma = eval_algo11(e,sigma=sigma,local_env = sampled_graph, vertex='sample2',do_log=True)"
   ]
  },
  {
   "cell_type": "code",
   "execution_count": null,
   "id": "20202ce2",
   "metadata": {},
   "outputs": [],
   "source": [
    "# r, sigma = eval_algo11(['sample',['normal',0,1]],sigma={'logW':tensor(0.),'Q':{},'grad':{}},local_env = sampled_graph, vertex='sample2')\n",
    "# r, sigma"
   ]
  },
  {
   "cell_type": "code",
   "execution_count": null,
   "id": "3963f7c8",
   "metadata": {},
   "outputs": [],
   "source": [
    "vertex='sample2'\n",
    "q = sigma['Q'][vertex]\n",
    "\n",
    "grad_log_prob(q,tensor(0.))"
   ]
  }
 ],
 "metadata": {
  "kernelspec": {
   "display_name": "Python 3 (ipykernel)",
   "language": "python",
   "name": "python3"
  },
  "language_info": {
   "codemirror_mode": {
    "name": "ipython",
    "version": 3
   },
   "file_extension": ".py",
   "mimetype": "text/x-python",
   "name": "python",
   "nbconvert_exporter": "python",
   "pygments_lexer": "ipython3",
   "version": "3.9.0"
  }
 },
 "nbformat": 4,
 "nbformat_minor": 5
}
