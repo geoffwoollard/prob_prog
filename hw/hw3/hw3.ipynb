{
 "cells": [
  {
   "cell_type": "markdown",
   "id": "3e105cae",
   "metadata": {},
   "source": [
    "# Code snippets"
   ]
  },
  {
   "cell_type": "code",
   "execution_count": 1,
   "id": "35df7092",
   "metadata": {},
   "outputs": [],
   "source": [
    "import torch\n",
    "import numpy as np\n",
    "import os, json\n",
    "import pandas as pd\n",
    "import matplotlib.pyplot as plt\n",
    "\n",
    "from evaluation_based_sampling import evaluate, evaluate_program\n",
    "from daphne import daphne\n",
    "\n",
    "from graph_based_sampling import sample_from_joint"
   ]
  },
  {
   "cell_type": "code",
   "execution_count": 2,
   "id": "c28b16df",
   "metadata": {},
   "outputs": [],
   "source": [
    "from dill.source import getsource, getsourcelines\n"
   ]
  },
  {
   "cell_type": "markdown",
   "id": "f5d28157",
   "metadata": {},
   "source": [
    "## Importance sampling\n",
    "* I modified the evaluator from hw2 to also return $\\sigma$, which gets accumulated from the `log_prob` of evaluating observes"
   ]
  },
  {
   "cell_type": "code",
   "execution_count": 3,
   "id": "48339a08",
   "metadata": {},
   "outputs": [
    {
     "name": "stdout",
     "output_type": "stream",
     "text": [
      "0 def evaluate(e,sigma=0,local_env={},defn_d={},do_log=False,logger_string=''):\n",
      "1     # TODO: get local_env to evaluate values to tensors, not regular floats\n",
      "2     # remember to return evaluate (recursive)\n",
      "3     # everytime we call evaluate, we have to use local_env, otherwise it gets overwritten with the default {}\n",
      "4     # if do_log: logger.info('logger_string {}'.format(logger_string))\n",
      "5     if do_log: logger.info('ls {}'.format(logger_string))\n",
      "6     if do_log: logger.info('e {}, local_env {}, sigma {}'.format(e, local_env, sigma))\n",
      "7 \n",
      "8     # get first expression out of list or list of one\n",
      "9     if not isinstance(e,list) or len(e) == 1:\n",
      "10         if isinstance(e,list):\n",
      "11             e = e[0]\n",
      "12         if isinstance(e,bool):\n",
      "13             if do_log: logger.info('match case number: e {}, sigma {}'.format(e, sigma))\n",
      "14             return torch.tensor(e), sigma\n",
      "15         if isinstance(e, number):\n",
      "16             if do_log: logger.info('match case number: e {}, sigma {}'.format(e, sigma))\n",
      "17             return torch.tensor(float(e)), sigma\n",
      "18         elif isinstance(e,list):\n",
      "19             if do_log: logger.info('match case list: e {}, sigma {}'.format(e, sigma))\n",
      "20             return e, sigma\n",
      "21         elif e in list(primitives_d.keys()):\n",
      "22             if do_log: logger.info('match case primitives_d: e {}, sigma {}'.format(e, sigma))\n",
      "23             return e, sigma\n",
      "24         elif e in list(distributions_d.keys()):\n",
      "25             if do_log: logger.info('match case distributions_d: e {}, sigma {}'.format(e, sigma))\n",
      "26             return e, sigma\n",
      "27         elif torch.is_tensor(e):\n",
      "28             if do_log: logger.info('match case is_tensor: e {}, sigma {}'.format(e, sigma))\n",
      "29             return e, sigma\n",
      "30         elif e in local_env.keys():\n",
      "31             if do_log: logger.info('match case local_env: e {}, sigma {}'.format(e, sigma))\n",
      "32             if do_log: logger.info('match case local_env: local_env[e] {}'.format(local_env[e]))\n",
      "33             return local_env[e], sigma # TODO return evaluate?\n",
      "34         elif e in list(defn_d.keys()):\n",
      "35             if do_log: logger.info('match case defn_d: e {}, sigma {}'.format(e, sigma))\n",
      "36             return e, sigma\n",
      "37         elif isinstance(e,distribution_types):\n",
      "38             if do_log: logger.info('match case distribution: e {}, sigma {}'.format(e,sigma))\n",
      "39             return e, sigma\n",
      "40         else:\n",
      "41             assert False, 'case not matched'\n",
      "42     elif e[0] == 'sample':\n",
      "43         if do_log: logger.info('match case sample: e {}, sigma {}'.format(e,sigma))\n",
      "44         distribution, sigma = evaluate(e[1],sigma,local_env,defn_d,do_log=do_log)\n",
      "45         return distribution.sample(), sigma # match shape in number base case\n",
      "46     elif e[0] == 'observe':\n",
      "47         if do_log: logger.info('match case observe: e {}, sigma {}'.format(e,sigma))\n",
      "48         e1, e2 = e[1:]\n",
      "49         d1, sigma = evaluate(e1,sigma,local_env,defn_d,do_log=do_log)\n",
      "50         c2, sigma = evaluate(e2,sigma,local_env,defn_d,do_log=do_log)\n",
      "51         log_w =score(d1,c2)\n",
      "52         if do_log: logger.info('match case observe: d1 {}, c2 {}, log_w {}, sigma {}'.format(e,d1, c2, log_w, sigma))\n",
      "53         sigma += log_w\n",
      "54         return c2, sigma\n",
      "55     elif e[0] == 'let': \n",
      "56         if do_log: logger.info('match case let: e {}, sigma {}'.format(e, sigma))\n",
      "57         # let [v1 e1] e0\n",
      "58         # here \n",
      "59             # e[0] : \"let\"\n",
      "60             # e[1] : [v1, e1]\n",
      "61             # e[2] : e0\n",
      "62         # evaluates e1 to c1 and binds this value to e0\n",
      "63         # this means we update the context with old context plus {v1:c1}\n",
      "64         c1, sigma = evaluate(e[1][1],sigma,local_env,defn_d,do_log=do_log) # evaluates e1 to c1\n",
      "65         v1 = e[1][0]\n",
      "66         return evaluate(e[2], sigma, local_env = {**local_env,v1:c1},defn_d=defn_d,do_log=do_log)\n",
      "67     elif e[0] == 'if': # if e0 e1 e2\n",
      "68         if do_log: logger.info('match case if: e {}, sigma {}'.format(e, sigma))\n",
      "69         e1 = e[1]\n",
      "70         e2 = e[2]\n",
      "71         e3 = e[3]\n",
      "72         e1_prime, sigma = evaluate(e1,sigma,local_env,defn_d,do_log=do_log)\n",
      "73         if e1_prime:\n",
      "74             return evaluate(e2,sigma,local_env,defn_d,do_log=do_log)\n",
      "75         else:\n",
      "76             return evaluate(e3,sigma,local_env,defn_d,do_log=do_log) \n",
      "77 \n",
      "78     else:\n",
      "79         cs = []\n",
      "80         for ei in e:\n",
      "81             if do_log: logger.info('cycling through expressions: ei {}, sigma {}'.format(ei,sigma))\n",
      "82             c, sigma = evaluate(ei,sigma,local_env,defn_d,do_log=do_log)\n",
      "83             cs.append(c)\n",
      "84         if cs[0] in primitives_d:\n",
      "85             if do_log: logger.info('do case primitives_d: cs0 {}'.format(cs[0]))\n",
      "86             if do_log: logger.info('do case primitives_d: cs1 {}'.format(cs[1:]))\n",
      "87             if do_log: logger.info('do case primitives_d: primitives_d[cs[0]] {}'.format(primitives_d[cs[0]]))\n",
      "88             return primitives_d[cs[0]](cs[1:]), sigma\n",
      "89         elif cs[0] in distributions_d:\n",
      "90             if do_log: logger.info('do case distributions_d: cs0 {}'.format(cs[0]))\n",
      "91             return distributions_d[cs[0]](cs[1:]), sigma\n",
      "92         elif cs[0] in defn_d:\n",
      "93             if do_log: logger.info('do case defn: cs0  {}'.format(cs[0]))\n",
      "94             defn_function_li = defn_d[cs[0]]\n",
      "95             defn_function_args, defn_function_body = defn_function_li\n",
      "96             local_env_update = {key:value for key,value in zip(defn_function_args, cs[1:])}\n",
      "97             if do_log: logger.info('do case defn: update to local_env from defn_d {}'.format(local_env_update))\n",
      "98             return evaluate(defn_function_body,sigma,local_env = {**local_env, **local_env_update},defn_d=defn_d,do_log=do_log)\n",
      "99         else:\n",
      "100             assert False, 'not implemented'\n"
     ]
    }
   ],
   "source": [
    "for line_number, function_line in enumerate(getsourcelines(evaluate)[0]):\n",
    "    print(line_number, function_line,end='')"
   ]
  },
  {
   "cell_type": "markdown",
   "id": "c1582e7c",
   "metadata": {},
   "source": [
    "I also wrote my own score function. It handles boolean cases by converting them to "
   ]
  },
  {
   "cell_type": "code",
   "execution_count": 4,
   "id": "6ac2f0fd",
   "metadata": {},
   "outputs": [
    {
     "name": "stdout",
     "output_type": "stream",
     "text": [
      "0 def score(distribution,c):\n",
      "1     \"\"\"Score pytorch distributions with .log_prob, but in a robust way for the type of c\n",
      "2     \"\"\"\n",
      "3     if isinstance(c,bool) or c.type() in ['torch.BoolTensor', 'torch.LongTensor']:\n",
      "4         log_w = distribution.log_prob(c.double())\n",
      "5     else:\n",
      "6         log_w = distribution.log_prob(c)\n",
      "7     return log_w\n"
     ]
    }
   ],
   "source": [
    "from evaluation_based_sampling import score\n",
    "for line_number, function_line in enumerate(getsourcelines(score)[0]):\n",
    "    print(line_number, function_line,end='')"
   ]
  },
  {
   "cell_type": "markdown",
   "id": "30c546c9",
   "metadata": {},
   "source": [
    "I added a few more distributions and boolean operation primitives, for the problems in this assignment"
   ]
  },
  {
   "cell_type": "code",
   "execution_count": 5,
   "id": "4b15a761",
   "metadata": {},
   "outputs": [
    {
     "name": "stdout",
     "output_type": "stream",
     "text": [
      "0 def score(distribution,c):\n",
      "1     \"\"\"Score pytorch distributions with .log_prob, but in a robust way for the type of c\n",
      "2     \"\"\"\n",
      "3     if isinstance(c,bool) or c.type() in ['torch.BoolTensor', 'torch.LongTensor']:\n",
      "4         log_w = distribution.log_prob(c.double())\n",
      "5     else:\n",
      "6         log_w = distribution.log_prob(c)\n",
      "7     return log_w\n"
     ]
    }
   ],
   "source": [
    "from evaluation_based_sampling import score\n",
    "for line_number, function_line in enumerate(getsourcelines(score)[0]):\n",
    "    print(line_number, function_line,end='')"
   ]
  },
  {
   "cell_type": "code",
   "execution_count": 6,
   "id": "b5880822",
   "metadata": {},
   "outputs": [
    {
     "name": "stdout",
     "output_type": "stream",
     "text": [
      "normal :\n",
      "0 def normal(mean_std):\n",
      "1     return two_arg_op_primitive(torch.distributions.Normal,mean_std)\n",
      "\n",
      "beta :\n",
      "0 def beta(alpha_beta):\n",
      "1     return two_arg_op_primitive(torch.distributions.Beta,alpha_beta)\n",
      "\n",
      "exponential :\n",
      "0 def exponential(lam):\n",
      "1     return one_arg_op_primitive(torch.distributions.Exponential,lam)\n",
      "\n",
      "uniform :\n",
      "0 def uniform(low_hi):\n",
      "1     return two_arg_op_primitive(torch.distributions.Uniform,low_hi)\n",
      "\n",
      "discrete :\n",
      "0 def discrete(prob_vector):\n",
      "1     return one_arg_op_primitive(torch.distributions.Categorical,prob_vector)\n",
      "\n",
      "flip :\n",
      "0 def flip(prob):\n",
      "1     return one_arg_op_primitive(torch.distributions.bernoulli.Bernoulli,prob)\n",
      "\n",
      "dirichlet :\n",
      "0 def dirichlet(concentration):\n",
      "1     return one_arg_op_primitive(torch.distributions.dirichlet.Dirichlet,concentration)\n",
      "\n",
      "gamma :\n",
      "0 def gamma(concentration_rate):\n",
      "1     return two_arg_op_primitive(torch.distributions.gamma.Gamma,concentration_rate)\n",
      "\n"
     ]
    }
   ],
   "source": [
    "from primitives import distributions_d\n",
    "for key in distributions_d.keys() :\n",
    "    print(key,':')\n",
    "    for line_number, function_line in enumerate(getsourcelines(distributions_d[key])[0]):\n",
    "        print(line_number, function_line,end='')\n",
    "    print()"
   ]
  },
  {
   "cell_type": "code",
   "execution_count": 7,
   "id": "5e399cf1",
   "metadata": {},
   "outputs": [
    {
     "name": "stdout",
     "output_type": "stream",
     "text": [
      "and :\n",
      "0 def and_primitive(arg1_arg2):\n",
      "1     return two_arg_op_primitive(torch.logical_and,arg1_arg2)  \n",
      "\n",
      "or :\n",
      "0 def or_primitive(arg1_arg2):\n",
      "1     return two_arg_op_primitive(torch.logical_or,arg1_arg2)  \n",
      "\n",
      "> :\n",
      "0 def gt_primitive(consequent_alternative):\n",
      "1     return two_arg_op_primitive(torch.gt,consequent_alternative)\n",
      "\n",
      "< :\n",
      "0 def lt_primitive(consequent_alternative):\n",
      "1     return two_arg_op_primitive(torch.lt,consequent_alternative)\n",
      "\n",
      ">= :\n",
      "0 def ge_primitive(consequent_alternative):\n",
      "1     return two_arg_op_primitive(torch.ge,consequent_alternative)\n",
      "\n",
      "<= :\n",
      "0 def le_primitive(consequent_alternative):\n",
      "1     return two_arg_op_primitive(torch.le,consequent_alternative)\n",
      "\n",
      "= :\n",
      "0 def eq_primitive(consequent_alternative):\n",
      "1     return two_arg_op_primitive(torch.eq,consequent_alternative)\n",
      "\n"
     ]
    }
   ],
   "source": [
    "from primitives import primitives_d\n",
    "for key in ['and','or','>','<','>=','<=','='] :\n",
    "    print(key,':')\n",
    "    for line_number, function_line in enumerate(getsourcelines(primitives_d[key])[0]):\n",
    "        print(line_number, function_line,end='')\n",
    "    print()"
   ]
  },
  {
   "cell_type": "markdown",
   "id": "f8b7951c",
   "metadata": {},
   "source": [
    "## Problem 1"
   ]
  },
  {
   "cell_type": "code",
   "execution_count": 19,
   "id": "5216e36e",
   "metadata": {},
   "outputs": [],
   "source": [
    "from load_helper import ast_helper, graph_helper\n"
   ]
  },
  {
   "cell_type": "markdown",
   "id": "99e43a86",
   "metadata": {},
   "source": [
    "### Importance sampling"
   ]
  },
  {
   "cell_type": "code",
   "execution_count": 9,
   "id": "c8a3a602",
   "metadata": {},
   "outputs": [
    {
     "data": {
      "text/plain": [
       "<module 'parse' from '/Users/gw/repos/prob_prog/hw/hw3/parse.py'>"
      ]
     },
     "execution_count": 9,
     "metadata": {},
     "output_type": "execute_result"
    }
   ],
   "source": [
    "import parse\n",
    "import importance_sampling\n",
    "import importlib\n",
    "importlib.reload(parse)"
   ]
  },
  {
   "cell_type": "code",
   "execution_count": 10,
   "id": "c6fea0d0",
   "metadata": {},
   "outputs": [
    {
     "data": {
      "text/plain": [
       "[['let',\n",
       "  ['mu', ['sample', ['normal', 1, ['sqrt', 5]]]],\n",
       "  ['let',\n",
       "   ['sigma', ['sqrt', 2]],\n",
       "   ['let',\n",
       "    ['lik', ['normal', 'mu', 'sigma']],\n",
       "    ['let',\n",
       "     ['dontcare0', ['observe', 'lik', 8]],\n",
       "     ['let', ['dontcare1', ['observe', 'lik', 9]], 'mu']]]]]]"
      ]
     },
     "execution_count": 10,
     "metadata": {},
     "output_type": "execute_result"
    }
   ],
   "source": [
    "fname = '1.daphne' \n",
    "ast = ast_helper(fname)\n",
    "ast"
   ]
  },
  {
   "cell_type": "code",
   "execution_count": 11,
   "id": "35dcc2fc",
   "metadata": {},
   "outputs": [],
   "source": [
    "num_samples=100\n",
    "samples, sigmas = parse.take_samples(num_samples,ast)\n",
    "samples = np.array([sample.item() for sample in samples])"
   ]
  },
  {
   "cell_type": "code",
   "execution_count": 12,
   "id": "98c47841",
   "metadata": {},
   "outputs": [
    {
     "data": {
      "text/plain": [
       "Text(0.5, 0, 'mu')"
      ]
     },
     "execution_count": 12,
     "metadata": {},
     "output_type": "execute_result"
    },
    {
     "data": {
      "image/png": "[encoded data removed]",
      "text/plain": [
       "<Figure size 432x288 with 1 Axes>"
      ]
     },
     "metadata": {
      "needs_background": "light"
     },
     "output_type": "display_data"
    }
   ],
   "source": [
    "pd.Series(samples).plot.hist()\n",
    "plt.title('Problem {} \\n Importance sampling'.format(fname))\n",
    "plt.xlabel('mu')\n"
   ]
  },
  {
   "cell_type": "code",
   "execution_count": 13,
   "id": "5f1a6e47",
   "metadata": {},
   "outputs": [
    {
     "data": {
      "text/plain": [
       "7.258425321748714"
      ]
     },
     "execution_count": 13,
     "metadata": {},
     "output_type": "execute_result"
    }
   ],
   "source": [
    "posterior_mean, probs = importance_sampling.weighted_average(samples,sigmas)\n",
    "posterior_mean"
   ]
  },
  {
   "cell_type": "code",
   "execution_count": 14,
   "id": "496ec2bb",
   "metadata": {},
   "outputs": [],
   "source": [
    "expectation_samples_2, probs = importance_sampling.weighted_average(samples**2,sigmas) \n",
    "posterior_variance = expectation_samples_2 - posterior_mean**2"
   ]
  },
  {
   "cell_type": "code",
   "execution_count": 15,
   "id": "91f39d0b",
   "metadata": {},
   "outputs": [
    {
     "data": {
      "text/plain": [
       "'Importance sampling: posterior mean 7.258 | variance 1.959e-01'"
      ]
     },
     "execution_count": 15,
     "metadata": {},
     "output_type": "execute_result"
    }
   ],
   "source": [
    "\"Importance sampling: posterior mean {:1.3f} | variance {:1.3e}\".format(posterior_mean,posterior_variance)"
   ]
  },
  {
   "cell_type": "markdown",
   "id": "305dd2b5",
   "metadata": {},
   "source": [
    "### MH within Gibbs"
   ]
  },
  {
   "cell_type": "code",
   "execution_count": 18,
   "id": "1f86c9ec",
   "metadata": {},
   "outputs": [
    {
     "data": {
      "text/plain": [
       "[{},\n",
       " {'V': ['observe3', 'observe4', 'sample2'],\n",
       "  'A': {'sample2': ['observe3', 'observe4']},\n",
       "  'P': {'sample2': ['sample*', ['normal', 1, ['sqrt', 5]]],\n",
       "   'observe3': ['observe*', ['normal', 'sample2', ['sqrt', 2]], 8],\n",
       "   'observe4': ['observe*', ['normal', 'sample2', ['sqrt', 2]], 9]},\n",
       "  'Y': {'observe3': 8, 'observe4': 9}},\n",
       " 'sample2']"
      ]
     },
     "execution_count": 18,
     "metadata": {},
     "output_type": "execute_result"
    }
   ],
   "source": [
    "fname = '1.daphne' \n",
    "import load_helper\n",
    "graph = load_helper.graph_helper(fname)\n",
    "graph"
   ]
  },
  {
   "cell_type": "markdown",
   "id": "71bbc602",
   "metadata": {},
   "source": [
    "### Problem 2"
   ]
  },
  {
   "cell_type": "markdown",
   "id": "b8453f42",
   "metadata": {},
   "source": [
    "### Importance sampling"
   ]
  },
  {
   "cell_type": "code",
   "execution_count": null,
   "id": "5d591ee7",
   "metadata": {},
   "outputs": [],
   "source": [
    "fname = '2.daphne' \n",
    "ast = ast_helper(fname)"
   ]
  },
  {
   "cell_type": "code",
   "execution_count": null,
   "id": "01f048ca",
   "metadata": {},
   "outputs": [],
   "source": [
    "samples, sigmas = parse.take_samples(num_samples=1000,ast=ast)\n",
    "samples = np.array([sample.tolist() for sample in samples])"
   ]
  },
  {
   "cell_type": "code",
   "execution_count": null,
   "id": "11bfcfe5",
   "metadata": {},
   "outputs": [],
   "source": [
    "posterior_mean, probs = importance_sampling.weighted_average(samples,sigmas,reshape_probs=(-1,1),axis=0)\n",
    "posterior_mean"
   ]
  },
  {
   "cell_type": "code",
   "execution_count": null,
   "id": "28030976",
   "metadata": {},
   "outputs": [],
   "source": [
    "expectation_samples_2, probs = importance_sampling.weighted_average(samples**2,sigmas,reshape_probs=(-1,1),axis=0) \n",
    "posterior_variance = expectation_samples_2 - posterior_mean**2\n",
    "posterior_variance"
   ]
  },
  {
   "cell_type": "code",
   "execution_count": null,
   "id": "e58ba441",
   "metadata": {},
   "outputs": [],
   "source": [
    "expectation_samplex_sampley, probs = importance_sampling.weighted_average(samples[:,0]*samples[:,1],sigmas) \n",
    "covariance = expectation_samplex_sampley - posterior_mean[0]*posterior_mean[1]\n",
    "covariance"
   ]
  },
  {
   "cell_type": "code",
   "execution_count": null,
   "id": "c740b271",
   "metadata": {},
   "outputs": [],
   "source": [
    "for result in [\n",
    "    \"{} Importance sampling: posterior mean slope {:1.3f} | variance slope {:1.3e}\".format(fname,posterior_mean[0],posterior_variance[0]),\n",
    "    \"{} Importance sampling: posterior mean bias {:1.3f} | variance bias {:1.3e}\".format(fname,posterior_mean[1],posterior_variance[1]),\n",
    "    \"{} Importance sampling: posterior covariance of slope and bias variance bias {:1.3e}\".format(fname,covariance),\n",
    "    \n",
    "]:\n",
    "    print(result)"
   ]
  },
  {
   "cell_type": "markdown",
   "id": "8d72a090",
   "metadata": {},
   "source": [
    "Numpy contains it's own method for computing this, and we can check it agrees with our results (where things are spelt out a bit more for learning purposes)."
   ]
  },
  {
   "cell_type": "code",
   "execution_count": null,
   "id": "eaf819a9",
   "metadata": {},
   "outputs": [],
   "source": [
    "np.cov(samples.T,aweights=probs,ddof=0)"
   ]
  },
  {
   "cell_type": "markdown",
   "id": "a69f33dc",
   "metadata": {},
   "source": [
    "## 3.daphne"
   ]
  },
  {
   "cell_type": "markdown",
   "id": "b1ce6ab1",
   "metadata": {},
   "source": [
    "### Importance sampling"
   ]
  },
  {
   "cell_type": "code",
   "execution_count": null,
   "id": "70f4a0d1",
   "metadata": {},
   "outputs": [],
   "source": [
    "fname = '3.daphne' \n",
    "ast = ast_helper(fname)\n",
    "ast"
   ]
  },
  {
   "cell_type": "code",
   "execution_count": null,
   "id": "fbe66e7f",
   "metadata": {},
   "outputs": [],
   "source": [
    "samples, sigmas = parse.take_samples(num_samples=100,ast=ast)\n",
    "samples = np.array([sample.item() for sample in samples])"
   ]
  },
  {
   "cell_type": "code",
   "execution_count": null,
   "id": "6bd6b081",
   "metadata": {},
   "outputs": [],
   "source": [
    "posterior_mean, probs = importance_sampling.weighted_average(samples,sigmas)\n"
   ]
  },
  {
   "cell_type": "code",
   "execution_count": null,
   "id": "67b4aed6",
   "metadata": {},
   "outputs": [],
   "source": [
    "\"\"\"The posterior probability that the first and second datapoint are in the same cluster,\\\n",
    "i.e. the posterior probability that z[1] == z[2]: {:0.3f}\\\n",
    "\"\"\".format(posterior_mean)"
   ]
  },
  {
   "cell_type": "markdown",
   "id": "fb1adf06",
   "metadata": {},
   "source": [
    "## 4.daphne"
   ]
  },
  {
   "cell_type": "markdown",
   "id": "445f5aa7",
   "metadata": {},
   "source": [
    "### Importance sampling"
   ]
  },
  {
   "cell_type": "code",
   "execution_count": null,
   "id": "1647d79d",
   "metadata": {},
   "outputs": [],
   "source": [
    "fname = '4.daphne' \n",
    "ast = ast_helper(fname)\n",
    "ast"
   ]
  },
  {
   "cell_type": "code",
   "execution_count": null,
   "id": "4932de40",
   "metadata": {},
   "outputs": [],
   "source": [
    "samples,sigmas = parse.take_samples(num_samples=10,ast=ast)\n",
    "samples = np.array([sample.item() for sample in samples])"
   ]
  },
  {
   "cell_type": "code",
   "execution_count": null,
   "id": "4f40bbfc",
   "metadata": {},
   "outputs": [],
   "source": [
    "posterior_mean, probs = importance_sampling.weighted_average(samples,sigmas)\n",
    "posterior_mean"
   ]
  },
  {
   "cell_type": "code",
   "execution_count": null,
   "id": "f2a953b3",
   "metadata": {},
   "outputs": [],
   "source": [
    "\"\"\"The posterior probability that it is raining, i.e. of “is-raining.”: {:0.3f}\"\"\".format(posterior_mean)"
   ]
  }
 ],
 "metadata": {
  "kernelspec": {
   "display_name": "Python 3 (ipykernel)",
   "language": "python",
   "name": "python3"
  },
  "language_info": {
   "codemirror_mode": {
    "name": "ipython",
    "version": 3
   },
   "file_extension": ".py",
   "mimetype": "text/x-python",
   "name": "python",
   "nbconvert_exporter": "python",
   "pygments_lexer": "ipython3",
   "version": "3.9.0"
  }
 },
 "nbformat": 4,
 "nbformat_minor": 5
}
