{
 "cells": [
  {
   "cell_type": "markdown",
   "id": "72341b56",
   "metadata": {},
   "source": [
    "# Code snippets"
   ]
  },
  {
   "cell_type": "code",
   "execution_count": 1,
   "id": "eb107b9d",
   "metadata": {},
   "outputs": [],
   "source": [
    "import torch\n",
    "import numpy as np\n",
    "import os, json\n",
    "import pandas as pd\n",
    "import matplotlib.pyplot as plt\n",
    "import seaborn as sns\n",
    "\n",
    "from evaluation_based_sampling import evaluate, evaluate_program\n",
    "from daphne import daphne\n",
    "\n",
    "from graph_based_sampling import sample_from_joint"
   ]
  },
  {
   "cell_type": "code",
   "execution_count": 2,
   "id": "ff11f782",
   "metadata": {},
   "outputs": [],
   "source": [
    "from dill.source import getsource, getsourcelines\n"
   ]
  },
  {
   "cell_type": "markdown",
   "id": "90b1befd",
   "metadata": {},
   "source": [
    "## Importance sampling\n",
    "* I modified the evaluator from hw2 to also return $\\sigma$, which gets accumulated from the `log_prob` of evaluating observes"
   ]
  },
  {
   "cell_type": "code",
   "execution_count": 3,
   "id": "b0161b9d",
   "metadata": {},
   "outputs": [
    {
     "name": "stdout",
     "output_type": "stream",
     "text": [
      "0 def evaluate(e,sigma=0,local_env={},defn_d={},do_log=False,logger_string=''):\n",
      "1     # TODO: get local_env to evaluate values to tensors, not regular floats\n",
      "2     # remember to return evaluate (recursive)\n",
      "3     # everytime we call evaluate, we have to use local_env, otherwise it gets overwritten with the default {}\n",
      "4     # if do_log: logger.info('logger_string {}'.format(logger_string))\n",
      "5     if do_log: logger.info('ls {}'.format(logger_string))\n",
      "6     if do_log: logger.info('e {}, local_env {}, sigma {}'.format(e, local_env, sigma))\n",
      "7 \n",
      "8     # get first expression out of list or list of one\n",
      "9     if not isinstance(e,list) or len(e) == 1:\n",
      "10         if isinstance(e,list):\n",
      "11             e = e[0]\n",
      "12         if isinstance(e,bool):\n",
      "13             if do_log: logger.info('match case number: e {}, sigma {}'.format(e, sigma))\n",
      "14             return torch.tensor(e), sigma\n",
      "15         if isinstance(e, number):\n",
      "16             if do_log: logger.info('match case number: e {}, sigma {}'.format(e, sigma))\n",
      "17             return torch.tensor(float(e)), sigma\n",
      "18         elif isinstance(e,list):\n",
      "19             if do_log: logger.info('match case list: e {}, sigma {}'.format(e, sigma))\n",
      "20             return e, sigma\n",
      "21         elif e in list(primitives_d.keys()):\n",
      "22             if do_log: logger.info('match case primitives_d: e {}, sigma {}'.format(e, sigma))\n",
      "23             return e, sigma\n",
      "24         elif e in list(distributions_d.keys()):\n",
      "25             if do_log: logger.info('match case distributions_d: e {}, sigma {}'.format(e, sigma))\n",
      "26             return e, sigma\n",
      "27         elif torch.is_tensor(e):\n",
      "28             if do_log: logger.info('match case is_tensor: e {}, sigma {}'.format(e, sigma))\n",
      "29             return e, sigma\n",
      "30         elif e in local_env.keys():\n",
      "31             if do_log: logger.info('match case local_env: e {}, sigma {}'.format(e, sigma))\n",
      "32             if do_log: logger.info('match case local_env: local_env[e] {}'.format(local_env[e]))\n",
      "33             return local_env[e], sigma # TODO return evaluate?\n",
      "34         elif e in list(defn_d.keys()):\n",
      "35             if do_log: logger.info('match case defn_d: e {}, sigma {}'.format(e, sigma))\n",
      "36             return e, sigma\n",
      "37         elif isinstance(e,distribution_types):\n",
      "38             if do_log: logger.info('match case distribution: e {}, sigma {}'.format(e,sigma))\n",
      "39             return e, sigma\n",
      "40         else:\n",
      "41             assert False, 'case not matched'\n",
      "42     elif e[0] == 'sample':\n",
      "43         if do_log: logger.info('match case sample: e {}, sigma {}'.format(e,sigma))\n",
      "44         distribution, sigma = evaluate(e[1],sigma,local_env,defn_d,do_log=do_log)\n",
      "45         return distribution.sample(), sigma # match shape in number base case\n",
      "46     elif e[0] == 'observe':\n",
      "47         if do_log: logger.info('match case observe: e {}, sigma {}'.format(e,sigma))\n",
      "48         e1, e2 = e[1:]\n",
      "49         d1, sigma = evaluate(e1,sigma,local_env,defn_d,do_log=do_log)\n",
      "50         c2, sigma = evaluate(e2,sigma,local_env,defn_d,do_log=do_log)\n",
      "51         log_w =score(d1,c2)\n",
      "52         if do_log: logger.info('match case observe: d1 {}, c2 {}, log_w {}, sigma {}'.format(e,d1, c2, log_w, sigma))\n",
      "53         sigma += log_w\n",
      "54         return c2, sigma\n",
      "55     elif e[0] == 'let': \n",
      "56         if do_log: logger.info('match case let: e {}, sigma {}'.format(e, sigma))\n",
      "57         # let [v1 e1] e0\n",
      "58         # here \n",
      "59             # e[0] : \"let\"\n",
      "60             # e[1] : [v1, e1]\n",
      "61             # e[2] : e0\n",
      "62         # evaluates e1 to c1 and binds this value to e0\n",
      "63         # this means we update the context with old context plus {v1:c1}\n",
      "64         c1, sigma = evaluate(e[1][1],sigma,local_env,defn_d,do_log=do_log) # evaluates e1 to c1\n",
      "65         v1 = e[1][0]\n",
      "66         return evaluate(e[2], sigma, local_env = {**local_env,v1:c1},defn_d=defn_d,do_log=do_log)\n",
      "67     elif e[0] == 'if': # if e0 e1 e2\n",
      "68         if do_log: logger.info('match case if: e {}, sigma {}'.format(e, sigma))\n",
      "69         e1 = e[1]\n",
      "70         e2 = e[2]\n",
      "71         e3 = e[3]\n",
      "72         e1_prime, sigma = evaluate(e1,sigma,local_env,defn_d,do_log=do_log)\n",
      "73         if e1_prime:\n",
      "74             return evaluate(e2,sigma,local_env,defn_d,do_log=do_log)\n",
      "75         else:\n",
      "76             return evaluate(e3,sigma,local_env,defn_d,do_log=do_log) \n",
      "77 \n",
      "78     else:\n",
      "79         cs = []\n",
      "80         for ei in e:\n",
      "81             if do_log: logger.info('cycling through expressions: ei {}, sigma {}'.format(ei,sigma))\n",
      "82             c, sigma = evaluate(ei,sigma,local_env,defn_d,do_log=do_log)\n",
      "83             cs.append(c)\n",
      "84         if cs[0] in primitives_d:\n",
      "85             if do_log: logger.info('do case primitives_d: cs0 {}'.format(cs[0]))\n",
      "86             if do_log: logger.info('do case primitives_d: cs1 {}'.format(cs[1:]))\n",
      "87             if do_log: logger.info('do case primitives_d: primitives_d[cs[0]] {}'.format(primitives_d[cs[0]]))\n",
      "88             return primitives_d[cs[0]](cs[1:]), sigma\n",
      "89         elif cs[0] in distributions_d:\n",
      "90             if do_log: logger.info('do case distributions_d: cs0 {}'.format(cs[0]))\n",
      "91             return distributions_d[cs[0]](cs[1:]), sigma\n",
      "92         elif cs[0] in defn_d:\n",
      "93             if do_log: logger.info('do case defn: cs0  {}'.format(cs[0]))\n",
      "94             defn_function_li = defn_d[cs[0]]\n",
      "95             defn_function_args, defn_function_body = defn_function_li\n",
      "96             local_env_update = {key:value for key,value in zip(defn_function_args, cs[1:])}\n",
      "97             if do_log: logger.info('do case defn: update to local_env from defn_d {}'.format(local_env_update))\n",
      "98             return evaluate(defn_function_body,sigma,local_env = {**local_env, **local_env_update},defn_d=defn_d,do_log=do_log)\n",
      "99         else:\n",
      "100             assert False, 'not implemented'\n"
     ]
    }
   ],
   "source": [
    "for line_number, function_line in enumerate(getsourcelines(evaluate)[0]):\n",
    "    print(line_number, function_line,end='')"
   ]
  },
  {
   "cell_type": "markdown",
   "id": "4c8c1059",
   "metadata": {},
   "source": [
    "I also wrote my own score function. It handles boolean cases by converting them to "
   ]
  },
  {
   "cell_type": "code",
   "execution_count": 4,
   "id": "2e31c582",
   "metadata": {},
   "outputs": [
    {
     "name": "stdout",
     "output_type": "stream",
     "text": [
      "0 def score(distribution,c):\n",
      "1     \"\"\"Score pytorch distributions with .log_prob, but in a robust way for the type of c\n",
      "2     \"\"\"\n",
      "3     if isinstance(c,bool) or c.type() in ['torch.BoolTensor', 'torch.LongTensor']:\n",
      "4         log_w = distribution.log_prob(c.double())\n",
      "5     else:\n",
      "6         log_w = distribution.log_prob(c)\n",
      "7     return log_w\n"
     ]
    }
   ],
   "source": [
    "from evaluation_based_sampling import score\n",
    "for line_number, function_line in enumerate(getsourcelines(score)[0]):\n",
    "    print(line_number, function_line,end='')"
   ]
  },
  {
   "cell_type": "markdown",
   "id": "1a8f75e1",
   "metadata": {},
   "source": [
    "I added a few more distributions and boolean operation primitives, for the problems in this assignment"
   ]
  },
  {
   "cell_type": "code",
   "execution_count": 5,
   "id": "c3ca3057",
   "metadata": {},
   "outputs": [
    {
     "name": "stdout",
     "output_type": "stream",
     "text": [
      "0 def score(distribution,c):\n",
      "1     \"\"\"Score pytorch distributions with .log_prob, but in a robust way for the type of c\n",
      "2     \"\"\"\n",
      "3     if isinstance(c,bool) or c.type() in ['torch.BoolTensor', 'torch.LongTensor']:\n",
      "4         log_w = distribution.log_prob(c.double())\n",
      "5     else:\n",
      "6         log_w = distribution.log_prob(c)\n",
      "7     return log_w\n"
     ]
    }
   ],
   "source": [
    "from evaluation_based_sampling import score\n",
    "for line_number, function_line in enumerate(getsourcelines(score)[0]):\n",
    "    print(line_number, function_line,end='')"
   ]
  },
  {
   "cell_type": "code",
   "execution_count": 6,
   "id": "3498511a",
   "metadata": {},
   "outputs": [
    {
     "name": "stdout",
     "output_type": "stream",
     "text": [
      "normal :\n",
      "0 def normal(mean_std):\n",
      "1     return two_arg_op_primitive(torch.distributions.Normal,mean_std)\n",
      "\n",
      "beta :\n",
      "0 def beta(alpha_beta):\n",
      "1     return two_arg_op_primitive(torch.distributions.Beta,alpha_beta)\n",
      "\n",
      "exponential :\n",
      "0 def exponential(lam):\n",
      "1     return one_arg_op_primitive(torch.distributions.Exponential,lam)\n",
      "\n",
      "uniform :\n",
      "0 def uniform(low_hi):\n",
      "1     return two_arg_op_primitive(torch.distributions.Uniform,low_hi)\n",
      "\n",
      "discrete :\n",
      "0 def discrete(prob_vector):\n",
      "1     return one_arg_op_primitive(torch.distributions.Categorical,prob_vector)\n",
      "\n",
      "flip :\n",
      "0 def flip(prob):\n",
      "1     return one_arg_op_primitive(torch.distributions.bernoulli.Bernoulli,prob)\n",
      "\n",
      "dirichlet :\n",
      "0 def dirichlet(concentration):\n",
      "1     return one_arg_op_primitive(torch.distributions.dirichlet.Dirichlet,concentration)\n",
      "\n",
      "gamma :\n",
      "0 def gamma(concentration_rate):\n",
      "1     return two_arg_op_primitive(torch.distributions.gamma.Gamma,concentration_rate)\n",
      "\n"
     ]
    }
   ],
   "source": [
    "from primitives import distributions_d\n",
    "for key in distributions_d.keys() :\n",
    "    print(key,':')\n",
    "    for line_number, function_line in enumerate(getsourcelines(distributions_d[key])[0]):\n",
    "        print(line_number, function_line,end='')\n",
    "    print()"
   ]
  },
  {
   "cell_type": "code",
   "execution_count": 7,
   "id": "c9e19069",
   "metadata": {},
   "outputs": [
    {
     "name": "stdout",
     "output_type": "stream",
     "text": [
      "and :\n",
      "0 def and_primitive(arg1_arg2):\n",
      "1     return two_arg_op_primitive(torch.logical_and,arg1_arg2)  \n",
      "\n",
      "or :\n",
      "0 def or_primitive(arg1_arg2):\n",
      "1     return two_arg_op_primitive(torch.logical_or,arg1_arg2)  \n",
      "\n",
      "> :\n",
      "0 def gt_primitive(consequent_alternative):\n",
      "1     return two_arg_op_primitive(torch.gt,consequent_alternative)\n",
      "\n",
      "< :\n",
      "0 def lt_primitive(consequent_alternative):\n",
      "1     return two_arg_op_primitive(torch.lt,consequent_alternative)\n",
      "\n",
      ">= :\n",
      "0 def ge_primitive(consequent_alternative):\n",
      "1     return two_arg_op_primitive(torch.ge,consequent_alternative)\n",
      "\n",
      "<= :\n",
      "0 def le_primitive(consequent_alternative):\n",
      "1     return two_arg_op_primitive(torch.le,consequent_alternative)\n",
      "\n",
      "= :\n",
      "0 def eq_primitive(consequent_alternative):\n",
      "1     return two_arg_op_primitive(torch.eq,consequent_alternative)\n",
      "\n"
     ]
    }
   ],
   "source": [
    "from primitives import primitives_d\n",
    "for key in ['and','or','>','<','>=','<=','='] :\n",
    "    print(key,':')\n",
    "    for line_number, function_line in enumerate(getsourcelines(primitives_d[key])[0]):\n",
    "        print(line_number, function_line,end='')\n",
    "    print()"
   ]
  },
  {
   "cell_type": "markdown",
   "id": "8059e149",
   "metadata": {},
   "source": [
    "## Problem 1"
   ]
  },
  {
   "cell_type": "code",
   "execution_count": 19,
   "id": "99f05b42",
   "metadata": {},
   "outputs": [],
   "source": [
    "from load_helper import ast_helper, graph_helper\n"
   ]
  },
  {
   "cell_type": "markdown",
   "id": "8fbcddd6",
   "metadata": {},
   "source": [
    "### Importance sampling"
   ]
  },
  {
   "cell_type": "code",
   "execution_count": 9,
   "id": "bdc34c3b",
   "metadata": {},
   "outputs": [
    {
     "data": {
      "text/plain": [
       "<module 'parse' from '/Users/gw/repos/prob_prog/hw/hw3/parse.py'>"
      ]
     },
     "execution_count": 9,
     "metadata": {},
     "output_type": "execute_result"
    }
   ],
   "source": [
    "import parse\n",
    "import importance_sampling\n",
    "import importlib\n",
    "importlib.reload(parse)"
   ]
  },
  {
   "cell_type": "code",
   "execution_count": 10,
   "id": "e2d5fff4",
   "metadata": {},
   "outputs": [
    {
     "data": {
      "text/plain": [
       "[['let',\n",
       "  ['mu', ['sample', ['normal', 1, ['sqrt', 5]]]],\n",
       "  ['let',\n",
       "   ['sigma', ['sqrt', 2]],\n",
       "   ['let',\n",
       "    ['lik', ['normal', 'mu', 'sigma']],\n",
       "    ['let',\n",
       "     ['dontcare0', ['observe', 'lik', 8]],\n",
       "     ['let', ['dontcare1', ['observe', 'lik', 9]], 'mu']]]]]]"
      ]
     },
     "execution_count": 10,
     "metadata": {},
     "output_type": "execute_result"
    }
   ],
   "source": [
    "fname = '1.daphne' \n",
    "ast = ast_helper(fname)\n",
    "ast"
   ]
  },
  {
   "cell_type": "code",
   "execution_count": null,
   "id": "e839ecf1",
   "metadata": {},
   "outputs": [],
   "source": [
    "%%time\n",
    "num_samples=100\n",
    "samples, sigmas = parse.take_samples(num_samples,ast)"
   ]
  },
  {
   "cell_type": "code",
   "execution_count": 11,
   "id": "341fe6cd",
   "metadata": {},
   "outputs": [],
   "source": [
    "\n",
    "samples = np.array([sample.item() for sample in samples])"
   ]
  },
  {
   "cell_type": "code",
   "execution_count": 12,
   "id": "f952bbb9",
   "metadata": {},
   "outputs": [
    {
     "data": {
      "text/plain": [
       "Text(0.5, 0, 'mu')"
      ]
     },
     "execution_count": 12,
     "metadata": {},
     "output_type": "execute_result"
    },
    {
     "data": {
      "image/png": "[encoded data removed]",
      "text/plain": [
       "<Figure size 432x288 with 1 Axes>"
      ]
     },
     "metadata": {
      "needs_background": "light"
     },
     "output_type": "display_data"
    }
   ],
   "source": [
    "pd.Series(samples).plot.hist()\n",
    "plt.title('Problem {} \\n Importance sampling'.format(fname))\n",
    "plt.xlabel('mu')\n"
   ]
  },
  {
   "cell_type": "code",
   "execution_count": 13,
   "id": "2fe08f2a",
   "metadata": {},
   "outputs": [
    {
     "data": {
      "text/plain": [
       "7.258425321748714"
      ]
     },
     "execution_count": 13,
     "metadata": {},
     "output_type": "execute_result"
    }
   ],
   "source": [
    "posterior_mean, probs = importance_sampling.weighted_average(samples,sigmas)\n",
    "posterior_mean"
   ]
  },
  {
   "cell_type": "code",
   "execution_count": 14,
   "id": "b8c59fe6",
   "metadata": {},
   "outputs": [],
   "source": [
    "expectation_samples_2, probs = importance_sampling.weighted_average(samples**2,sigmas) \n",
    "posterior_variance = expectation_samples_2 - posterior_mean**2"
   ]
  },
  {
   "cell_type": "code",
   "execution_count": 15,
   "id": "1fff7d74",
   "metadata": {},
   "outputs": [
    {
     "data": {
      "text/plain": [
       "'Importance sampling: posterior mean 7.258 | variance 1.959e-01'"
      ]
     },
     "execution_count": 15,
     "metadata": {},
     "output_type": "execute_result"
    }
   ],
   "source": [
    "\"Importance sampling: posterior mean of mu {:1.3f} | variance {:1.3e}\".format(posterior_mean,posterior_variance)"
   ]
  },
  {
   "cell_type": "markdown",
   "id": "a589d96f",
   "metadata": {},
   "source": [
    "### MH within Gibbs"
   ]
  },
  {
   "cell_type": "code",
   "execution_count": 43,
   "id": "01bd1ae2",
   "metadata": {},
   "outputs": [
    {
     "data": {
      "text/plain": [
       "<module 'mh_gibbs' from '/Users/gw/repos/prob_prog/hw/hw3/mh_gibbs.py'>"
      ]
     },
     "execution_count": 43,
     "metadata": {},
     "output_type": "execute_result"
    }
   ],
   "source": [
    "import mh_gibbs \n",
    "importlib.reload(mh_gibbs)"
   ]
  },
  {
   "cell_type": "code",
   "execution_count": 123,
   "id": "979c9bac",
   "metadata": {},
   "outputs": [
    {
     "data": {
      "text/plain": [
       "[{},\n",
       " {'V': ['observe3', 'observe4', 'sample2'],\n",
       "  'A': {'sample2': ['observe3', 'observe4']},\n",
       "  'P': {'sample2': ['sample*', ['normal', 1, ['sqrt', 5]]],\n",
       "   'observe3': ['observe*', ['normal', 'sample2', ['sqrt', 2]], 8],\n",
       "   'observe4': ['observe*', ['normal', 'sample2', ['sqrt', 2]], 9]},\n",
       "  'Y': {'observe3': 8, 'observe4': 9}},\n",
       " 'sample2']"
      ]
     },
     "execution_count": 123,
     "metadata": {},
     "output_type": "execute_result"
    }
   ],
   "source": [
    "fname = '1.daphne' \n",
    "graph = graph_helper(fname)\n",
    "graph"
   ]
  },
  {
   "cell_type": "code",
   "execution_count": 128,
   "id": "8dc023ec",
   "metadata": {},
   "outputs": [
    {
     "name": "stdout",
     "output_type": "stream",
     "text": [
      "CPU times: user 1.18 s, sys: 4.4 ms, total: 1.19 s\n",
      "Wall time: 1.19 s\n"
     ]
    }
   ],
   "source": [
    "%%time\n",
    "num_steps=1000\n",
    "return_list, samples_whole_graph = mh_gibbs.mh_gibbs_wrapper(graph,num_steps=num_steps)"
   ]
  },
  {
   "cell_type": "code",
   "execution_count": 129,
   "id": "045f671c",
   "metadata": {},
   "outputs": [],
   "source": [
    "samples = np.array([x.item() for x in return_list])"
   ]
  },
  {
   "cell_type": "code",
   "execution_count": 130,
   "id": "047ad612",
   "metadata": {},
   "outputs": [
    {
     "data": {
      "text/plain": [
       "Text(0.5, 0, 'mu')"
      ]
     },
     "execution_count": 130,
     "metadata": {},
     "output_type": "execute_result"
    },
    {
     "data": {
      "image/png": "[encoded data removed]",
      "text/plain": [
       "<Figure size 432x288 with 1 Axes>"
      ]
     },
     "metadata": {
      "needs_background": "light"
     },
     "output_type": "display_data"
    }
   ],
   "source": [
    "burn_in = int(0.1*num_steps)\n",
    "sr = pd.Series(samples[burn_in:])\n",
    "sr.plot.hist()\n",
    "sr.mean()\n",
    "plt.title('burn in {:} / {:} total steps \\n E[mu]={:1.2f}'.format(burn_in, len(samples),sr.mean()))\n",
    "plt.xlabel('mu')"
   ]
  },
  {
   "cell_type": "code",
   "execution_count": 131,
   "id": "a04a636f",
   "metadata": {},
   "outputs": [
    {
     "data": {
      "text/plain": [
       "'MH Gibbs: posterior mean of mu 6.934 | variance 2.950e-01'"
      ]
     },
     "execution_count": 131,
     "metadata": {},
     "output_type": "execute_result"
    }
   ],
   "source": [
    "\"MH Gibbs: posterior mean of mu {:1.3f} | variance {:1.3e}\".format(sr.mean(),sr.var())"
   ]
  },
  {
   "cell_type": "markdown",
   "id": "4be9d96b",
   "metadata": {},
   "source": [
    "### Problem 2"
   ]
  },
  {
   "cell_type": "markdown",
   "id": "b97b4f62",
   "metadata": {},
   "source": [
    "### Importance sampling"
   ]
  },
  {
   "cell_type": "code",
   "execution_count": 151,
   "id": "37c23b01",
   "metadata": {},
   "outputs": [],
   "source": [
    "fname = '2.daphne' \n",
    "ast = ast_helper(fname)"
   ]
  },
  {
   "cell_type": "code",
   "execution_count": 152,
   "id": "094bfc7e",
   "metadata": {},
   "outputs": [
    {
     "name": "stdout",
     "output_type": "stream",
     "text": [
      "CPU times: user 1.68 s, sys: 5.23 ms, total: 1.69 s\n",
      "Wall time: 1.69 s\n"
     ]
    }
   ],
   "source": [
    "%%time\n",
    "samples, sigmas = parse.take_samples(num_samples=1000,ast=ast)\n"
   ]
  },
  {
   "cell_type": "code",
   "execution_count": 176,
   "id": "68d4e07b",
   "metadata": {},
   "outputs": [
    {
     "data": {
      "image/png": "[encoded data removed]",
      "text/plain": [
       "<Figure size 432x216 with 2 Axes>"
      ]
     },
     "metadata": {
      "needs_background": "light"
     },
     "output_type": "display_data"
    }
   ],
   "source": [
    "samples = np.array([sample.tolist() for sample in samples])\n",
    "\n",
    "df = pd.DataFrame(samples)\n",
    "df.columns = ['slope','bias']\n",
    "\n",
    "tall = pd.melt(df)\n",
    "g = sns.FacetGrid(tall, col=\"variable\")\n",
    "g.map(sns.histplot, \"value\")\n",
    "\n",
    "plt.suptitle('Importance sampling | {}'.format(fname))\n",
    "plt.subplots_adjust(top=0.8)"
   ]
  },
  {
   "cell_type": "code",
   "execution_count": 24,
   "id": "872f5a74",
   "metadata": {},
   "outputs": [
    {
     "data": {
      "text/plain": [
       "array([ 2.08057526, -0.20869776])"
      ]
     },
     "execution_count": 24,
     "metadata": {},
     "output_type": "execute_result"
    }
   ],
   "source": [
    "posterior_mean, probs = importance_sampling.weighted_average(samples,sigmas,reshape_probs=(-1,1),axis=0)\n",
    "posterior_mean"
   ]
  },
  {
   "cell_type": "code",
   "execution_count": 25,
   "id": "0aabba18",
   "metadata": {},
   "outputs": [
    {
     "data": {
      "text/plain": [
       "array([0.05294064, 0.69608441])"
      ]
     },
     "execution_count": 25,
     "metadata": {},
     "output_type": "execute_result"
    }
   ],
   "source": [
    "expectation_samples_2, probs = importance_sampling.weighted_average(samples**2,sigmas,reshape_probs=(-1,1),axis=0) \n",
    "posterior_variance = expectation_samples_2 - posterior_mean**2\n",
    "posterior_variance"
   ]
  },
  {
   "cell_type": "code",
   "execution_count": 26,
   "id": "304329c1",
   "metadata": {},
   "outputs": [
    {
     "data": {
      "text/plain": [
       "-0.17999883084024565"
      ]
     },
     "execution_count": 26,
     "metadata": {},
     "output_type": "execute_result"
    }
   ],
   "source": [
    "expectation_samplex_sampley, probs = importance_sampling.weighted_average(samples[:,0]*samples[:,1],sigmas) \n",
    "covariance = expectation_samplex_sampley - posterior_mean[0]*posterior_mean[1]\n",
    "covariance"
   ]
  },
  {
   "cell_type": "code",
   "execution_count": 27,
   "id": "f10cc0f8",
   "metadata": {},
   "outputs": [
    {
     "name": "stdout",
     "output_type": "stream",
     "text": [
      "2.daphne Importance sampling: posterior mean slope 2.081 | variance slope 5.294e-02\n",
      "2.daphne Importance sampling: posterior mean bias -0.209 | variance bias 6.961e-01\n",
      "2.daphne Importance sampling: posterior covariance of slope and bias variance bias -1.800e-01\n"
     ]
    }
   ],
   "source": [
    "for result in [\n",
    "    \"{} Importance sampling: posterior mean slope {:1.3f} | variance slope {:1.3e}\".format(fname,posterior_mean[0],posterior_variance[0]),\n",
    "    \"{} Importance sampling: posterior mean bias {:1.3f} | variance bias {:1.3e}\".format(fname,posterior_mean[1],posterior_variance[1]),\n",
    "    \"{} Importance sampling: posterior covariance of slope and bias variance bias {:1.3e}\".format(fname,covariance),\n",
    "    \n",
    "]:\n",
    "    print(result)"
   ]
  },
  {
   "cell_type": "markdown",
   "id": "dbaea16a",
   "metadata": {},
   "source": [
    "Numpy contains it's own method for computing this, and we can check it agrees with our results (where things are spelt out a bit more for learning purposes)."
   ]
  },
  {
   "cell_type": "code",
   "execution_count": 28,
   "id": "20f50715",
   "metadata": {},
   "outputs": [
    {
     "data": {
      "text/plain": [
       "array([[ 0.05294064, -0.17999883],\n",
       "       [-0.17999883,  0.69608441]])"
      ]
     },
     "execution_count": 28,
     "metadata": {},
     "output_type": "execute_result"
    }
   ],
   "source": [
    "np.cov(samples.T,aweights=probs,ddof=0)"
   ]
  },
  {
   "cell_type": "markdown",
   "id": "9636c2fe",
   "metadata": {},
   "source": [
    "### MH Gibbs"
   ]
  },
  {
   "cell_type": "code",
   "execution_count": 162,
   "id": "756f2502",
   "metadata": {},
   "outputs": [
    {
     "data": {
      "text/plain": [
       "[{'observe-data': ['fn',\n",
       "   ['_', 'data', 'slope', 'bias'],\n",
       "   ['let',\n",
       "    ['xn', ['first', 'data']],\n",
       "    ['let',\n",
       "     ['yn', ['second', 'data']],\n",
       "     ['let',\n",
       "      ['zn', ['+', ['*', 'slope', 'xn'], 'bias']],\n",
       "      ['let',\n",
       "       ['dontcare9', ['observe', ['normal', 'zn', 1.0], 'yn']],\n",
       "       ['rest', ['rest', 'data']]]]]]]},\n",
       " {'V': ['observe3',\n",
       "   'observe6',\n",
       "   'observe4',\n",
       "   'observe7',\n",
       "   'sample2',\n",
       "   'sample1',\n",
       "   'observe8',\n",
       "   'observe5'],\n",
       "  'A': {'sample2': ['observe3',\n",
       "    'observe6',\n",
       "    'observe4',\n",
       "    'observe7',\n",
       "    'observe8',\n",
       "    'observe5'],\n",
       "   'sample1': ['observe3',\n",
       "    'observe6',\n",
       "    'observe4',\n",
       "    'observe7',\n",
       "    'observe8',\n",
       "    'observe5']},\n",
       "  'P': {'sample1': ['sample*', ['normal', 0.0, 10.0]],\n",
       "   'sample2': ['sample*', ['normal', 0.0, 10.0]],\n",
       "   'observe3': ['observe*',\n",
       "    ['normal', ['+', ['*', 'sample1', 1.0], 'sample2'], 1.0],\n",
       "    2.1],\n",
       "   'observe4': ['observe*',\n",
       "    ['normal', ['+', ['*', 'sample1', 2.0], 'sample2'], 1.0],\n",
       "    3.9],\n",
       "   'observe5': ['observe*',\n",
       "    ['normal', ['+', ['*', 'sample1', 3.0], 'sample2'], 1.0],\n",
       "    5.3],\n",
       "   'observe6': ['observe*',\n",
       "    ['normal', ['+', ['*', 'sample1', 4.0], 'sample2'], 1.0],\n",
       "    7.7],\n",
       "   'observe7': ['observe*',\n",
       "    ['normal', ['+', ['*', 'sample1', 5.0], 'sample2'], 1.0],\n",
       "    10.2],\n",
       "   'observe8': ['observe*',\n",
       "    ['normal', ['+', ['*', 'sample1', 6.0], 'sample2'], 1.0],\n",
       "    12.9]},\n",
       "  'Y': {'observe3': 2.1,\n",
       "   'observe4': 3.9,\n",
       "   'observe5': 5.3,\n",
       "   'observe6': 7.7,\n",
       "   'observe7': 10.2,\n",
       "   'observe8': 12.9}},\n",
       " ['vector', 'sample1', 'sample2']]"
      ]
     },
     "execution_count": 162,
     "metadata": {},
     "output_type": "execute_result"
    }
   ],
   "source": [
    "fname = '2.daphne' \n",
    "graph = graph_helper(fname)\n",
    "graph"
   ]
  },
  {
   "cell_type": "code",
   "execution_count": 163,
   "id": "46093a75",
   "metadata": {},
   "outputs": [
    {
     "name": "stdout",
     "output_type": "stream",
     "text": [
      "CPU times: user 489 ms, sys: 3.54 ms, total: 493 ms\n",
      "Wall time: 492 ms\n"
     ]
    }
   ],
   "source": [
    "%%time\n",
    "num_steps=100\n",
    "return_list, samples_whole_graph = mh_gibbs.mh_gibbs_wrapper(graph,num_steps)"
   ]
  },
  {
   "cell_type": "code",
   "execution_count": 164,
   "id": "215372fd",
   "metadata": {},
   "outputs": [],
   "source": [
    "samples = np.array([sample.tolist() for sample in return_list])"
   ]
  },
  {
   "cell_type": "code",
   "execution_count": 175,
   "id": "66d674be",
   "metadata": {},
   "outputs": [
    {
     "data": {
      "image/png": "[encoded data removed]",
      "text/plain": [
       "<Figure size 432x216 with 2 Axes>"
      ]
     },
     "metadata": {
      "needs_background": "light"
     },
     "output_type": "display_data"
    }
   ],
   "source": [
    "\n",
    "df = pd.DataFrame(samples)\n",
    "df.columns = ['slope','bias']\n",
    "\n",
    "tall = pd.melt(df)\n",
    "g = sns.FacetGrid(tall, col=\"variable\")\n",
    "g.map(sns.histplot, \"value\")\n",
    "\n",
    "plt.suptitle('MH Gibbs | {}'.format(fname))\n",
    "plt.subplots_adjust(top=0.8)\n"
   ]
  },
  {
   "cell_type": "code",
   "execution_count": 165,
   "id": "a73d52d9",
   "metadata": {},
   "outputs": [],
   "source": [
    "posterior_mean = samples.mean(0)\n",
    "cov_matrix = np.cov(samples.T,ddof=0)\n",
    "posterior_variance = samples.var(0)\n",
    "covariance = cov_matrix[0,1]\n",
    "assert np.isclose(cov_matrix[0,0],posterior_variance[0])\n",
    "assert np.isclose(cov_matrix[1,1],posterior_variance[1])"
   ]
  },
  {
   "cell_type": "code",
   "execution_count": 109,
   "id": "aaff4517",
   "metadata": {},
   "outputs": [
    {
     "name": "stdout",
     "output_type": "stream",
     "text": [
      "2.daphne Importance sampling: posterior mean slope 3.289 | variance slope 4.702e-02\n",
      "2.daphne Importance sampling: posterior mean bias -4.887 | variance bias 2.093e+00\n",
      "2.daphne Importance sampling: posterior covariance of slope and bias variance bias -7.547e-02\n"
     ]
    }
   ],
   "source": [
    "for result in [\n",
    "    \"{} Importance sampling: posterior mean slope {:1.3f} | variance slope {:1.3e}\".format(fname,posterior_mean[0],posterior_variance[0]),\n",
    "    \"{} Importance sampling: posterior mean bias {:1.3f} | variance bias {:1.3e}\".format(fname,posterior_mean[1],posterior_variance[1]),\n",
    "    \"{} Importance sampling: posterior covariance of slope and bias variance bias {:1.3e}\".format(fname,covariance),\n",
    "    \n",
    "]:\n",
    "    print(result)"
   ]
  },
  {
   "cell_type": "markdown",
   "id": "01e9b52f",
   "metadata": {},
   "source": [
    "## 3.daphne"
   ]
  },
  {
   "cell_type": "markdown",
   "id": "30ed6095",
   "metadata": {},
   "source": [
    "### Importance sampling"
   ]
  },
  {
   "cell_type": "code",
   "execution_count": 177,
   "id": "0338a3a8",
   "metadata": {},
   "outputs": [
    {
     "data": {
      "text/plain": [
       "[['let',\n",
       "  ['data', ['vector', 1.1, 2.1, 2.0, 1.9, 0.0, -0.1, -0.05]],\n",
       "  ['let',\n",
       "   ['likes',\n",
       "    ['vector',\n",
       "     ['let',\n",
       "      ['mu', ['sample', ['normal', 0.0, 10.0]]],\n",
       "      ['let',\n",
       "       ['sigma', ['sample', ['gamma', 1.0, 1.0]]],\n",
       "       ['normal', 'mu', 'sigma']]],\n",
       "     ['let',\n",
       "      ['mu', ['sample', ['normal', 0.0, 10.0]]],\n",
       "      ['let',\n",
       "       ['sigma', ['sample', ['gamma', 1.0, 1.0]]],\n",
       "       ['normal', 'mu', 'sigma']]],\n",
       "     ['let',\n",
       "      ['mu', ['sample', ['normal', 0.0, 10.0]]],\n",
       "      ['let',\n",
       "       ['sigma', ['sample', ['gamma', 1.0, 1.0]]],\n",
       "       ['normal', 'mu', 'sigma']]]]],\n",
       "   ['let',\n",
       "    ['pi', ['sample', ['dirichlet', ['vector', 1.0, 1.0, 1.0]]]],\n",
       "    ['let',\n",
       "     ['z-prior', ['discrete', 'pi']],\n",
       "     ['let',\n",
       "      ['z',\n",
       "       ['vector',\n",
       "        ['let',\n",
       "         ['y', ['get', 'data', 0]],\n",
       "         ['let',\n",
       "          ['z', ['sample', 'z-prior']],\n",
       "          ['let', ['_', ['observe', ['get', 'likes', 'z'], 'y']], 'z']]],\n",
       "        ['let',\n",
       "         ['y', ['get', 'data', 1]],\n",
       "         ['let',\n",
       "          ['z', ['sample', 'z-prior']],\n",
       "          ['let', ['_', ['observe', ['get', 'likes', 'z'], 'y']], 'z']]],\n",
       "        ['let',\n",
       "         ['y', ['get', 'data', 2]],\n",
       "         ['let',\n",
       "          ['z', ['sample', 'z-prior']],\n",
       "          ['let', ['_', ['observe', ['get', 'likes', 'z'], 'y']], 'z']]],\n",
       "        ['let',\n",
       "         ['y', ['get', 'data', 3]],\n",
       "         ['let',\n",
       "          ['z', ['sample', 'z-prior']],\n",
       "          ['let', ['_', ['observe', ['get', 'likes', 'z'], 'y']], 'z']]],\n",
       "        ['let',\n",
       "         ['y', ['get', 'data', 4]],\n",
       "         ['let',\n",
       "          ['z', ['sample', 'z-prior']],\n",
       "          ['let', ['_', ['observe', ['get', 'likes', 'z'], 'y']], 'z']]],\n",
       "        ['let',\n",
       "         ['y', ['get', 'data', 5]],\n",
       "         ['let',\n",
       "          ['z', ['sample', 'z-prior']],\n",
       "          ['let', ['_', ['observe', ['get', 'likes', 'z'], 'y']], 'z']]],\n",
       "        ['let',\n",
       "         ['y', ['get', 'data', 6]],\n",
       "         ['let',\n",
       "          ['z', ['sample', 'z-prior']],\n",
       "          ['let', ['_', ['observe', ['get', 'likes', 'z'], 'y']], 'z']]]]],\n",
       "      ['=', ['first', 'z'], ['second', 'z']]]]]]]]"
      ]
     },
     "execution_count": 177,
     "metadata": {},
     "output_type": "execute_result"
    }
   ],
   "source": [
    "fname = '3.daphne' \n",
    "ast = ast_helper(fname)\n",
    "ast"
   ]
  },
  {
   "cell_type": "code",
   "execution_count": 178,
   "id": "4d14d837",
   "metadata": {},
   "outputs": [
    {
     "name": "stdout",
     "output_type": "stream",
     "text": [
      "CPU times: user 506 ms, sys: 1.99 ms, total: 508 ms\n",
      "Wall time: 507 ms\n"
     ]
    }
   ],
   "source": [
    "%%time\n",
    "samples, sigmas = parse.take_samples(num_samples=100,ast=ast)\n"
   ]
  },
  {
   "cell_type": "code",
   "execution_count": 179,
   "id": "c5d8a194",
   "metadata": {},
   "outputs": [],
   "source": [
    "samples = np.array([sample.item() for sample in samples])"
   ]
  },
  {
   "cell_type": "code",
   "execution_count": 188,
   "id": "d9d54d0c",
   "metadata": {},
   "outputs": [
    {
     "data": {
      "text/plain": [
       "Text(0.5, 1.0, 'Importance sampling | 3.daphne')"
      ]
     },
     "execution_count": 188,
     "metadata": {},
     "output_type": "execute_result"
    },
    {
     "data": {
      "image/png": "[encoded data removed]",
      "text/plain": [
       "<Figure size 432x288 with 1 Axes>"
      ]
     },
     "metadata": {
      "needs_background": "light"
     },
     "output_type": "display_data"
    }
   ],
   "source": [
    "pd.Series(samples).astype(float).plot.hist()\n",
    "plt.xlabel('(= (first z) (second z))')\n",
    "plt.title('Importance sampling | {}'.format(fname))"
   ]
  },
  {
   "cell_type": "code",
   "execution_count": 96,
   "id": "92ee74e2",
   "metadata": {},
   "outputs": [],
   "source": [
    "posterior_mean, probs = importance_sampling.weighted_average(samples,sigmas)\n"
   ]
  },
  {
   "cell_type": "code",
   "execution_count": 97,
   "id": "a7e01acf",
   "metadata": {},
   "outputs": [
    {
     "data": {
      "text/plain": [
       "' Importance sampling: The posterior probability that the first and second datapoint are in the same cluster,i.e. the posterior probability that z[1] == z[2]: 0.109'"
      ]
     },
     "execution_count": 97,
     "metadata": {},
     "output_type": "execute_result"
    }
   ],
   "source": [
    "method = \"Importance sampling\"\n",
    "\n",
    "\"\"\" {}: The posterior probability that the first and second datapoint are in the same cluster,\\\n",
    "i.e. the posterior probability that z[1] == z[2]: {:0.3f}\\\n",
    "\"\"\".format(method,posterior_mean)"
   ]
  },
  {
   "cell_type": "markdown",
   "id": "da814a28",
   "metadata": {},
   "source": [
    "### MH Gibbs\n",
    "0.27 s / sample implies ~2.2k samples in 10 min"
   ]
  },
  {
   "cell_type": "code",
   "execution_count": 98,
   "id": "751d829e",
   "metadata": {},
   "outputs": [
    {
     "data": {
      "text/plain": [
       "<module 'mh_gibbs' from '/Users/gw/repos/prob_prog/hw/hw3/mh_gibbs.py'>"
      ]
     },
     "execution_count": 98,
     "metadata": {},
     "output_type": "execute_result"
    }
   ],
   "source": [
    "import graph_based_sampling\n",
    "importlib.reload(graph_based_sampling)\n",
    "importlib.reload(mh_gibbs)"
   ]
  },
  {
   "cell_type": "code",
   "execution_count": 189,
   "id": "0ca5b8d2",
   "metadata": {},
   "outputs": [
    {
     "data": {
      "text/plain": [
       "[{},\n",
       " {'V': ['sample5',\n",
       "   'sample0',\n",
       "   'observe18',\n",
       "   'observe12',\n",
       "   'sample17',\n",
       "   'sample7',\n",
       "   'sample9',\n",
       "   'sample15',\n",
       "   'sample19',\n",
       "   'sample6',\n",
       "   'observe14',\n",
       "   'observe10',\n",
       "   'sample13',\n",
       "   'sample4',\n",
       "   'sample2',\n",
       "   'sample1',\n",
       "   'observe8',\n",
       "   'sample3',\n",
       "   'sample11',\n",
       "   'observe16',\n",
       "   'observe20'],\n",
       "  'A': {'sample5': ['observe18',\n",
       "    'observe12',\n",
       "    'observe14',\n",
       "    'observe10',\n",
       "    'observe8',\n",
       "    'observe16',\n",
       "    'observe20'],\n",
       "   'sample0': ['observe18',\n",
       "    'observe12',\n",
       "    'observe14',\n",
       "    'observe10',\n",
       "    'observe8',\n",
       "    'observe16',\n",
       "    'observe20'],\n",
       "   'sample17': ['observe18'],\n",
       "   'sample7': ['observe8'],\n",
       "   'sample9': ['observe10'],\n",
       "   'sample15': ['observe16'],\n",
       "   'sample19': ['observe20'],\n",
       "   'sample6': ['sample17',\n",
       "    'sample7',\n",
       "    'sample9',\n",
       "    'sample15',\n",
       "    'sample19',\n",
       "    'sample13',\n",
       "    'sample11'],\n",
       "   'sample13': ['observe14'],\n",
       "   'sample4': ['observe18',\n",
       "    'observe12',\n",
       "    'observe14',\n",
       "    'observe10',\n",
       "    'observe8',\n",
       "    'observe16',\n",
       "    'observe20'],\n",
       "   'sample2': ['observe18',\n",
       "    'observe12',\n",
       "    'observe14',\n",
       "    'observe10',\n",
       "    'observe8',\n",
       "    'observe16',\n",
       "    'observe20'],\n",
       "   'sample1': ['observe18',\n",
       "    'observe12',\n",
       "    'observe14',\n",
       "    'observe10',\n",
       "    'observe8',\n",
       "    'observe16',\n",
       "    'observe20'],\n",
       "   'sample3': ['observe18',\n",
       "    'observe12',\n",
       "    'observe14',\n",
       "    'observe10',\n",
       "    'observe8',\n",
       "    'observe16',\n",
       "    'observe20'],\n",
       "   'sample11': ['observe12']},\n",
       "  'P': {'sample5': ['sample*', ['gamma', 1.0, 1.0]],\n",
       "   'sample0': ['sample*', ['normal', 0.0, 10.0]],\n",
       "   'observe18': ['observe*',\n",
       "    ['get',\n",
       "     ['vector',\n",
       "      ['normal', 'sample0', 'sample1'],\n",
       "      ['normal', 'sample2', 'sample3'],\n",
       "      ['normal', 'sample4', 'sample5']],\n",
       "     'sample17'],\n",
       "    -0.1],\n",
       "   'observe12': ['observe*',\n",
       "    ['get',\n",
       "     ['vector',\n",
       "      ['normal', 'sample0', 'sample1'],\n",
       "      ['normal', 'sample2', 'sample3'],\n",
       "      ['normal', 'sample4', 'sample5']],\n",
       "     'sample11'],\n",
       "    2.0],\n",
       "   'sample17': ['sample*', ['discrete', 'sample6']],\n",
       "   'sample7': ['sample*', ['discrete', 'sample6']],\n",
       "   'sample9': ['sample*', ['discrete', 'sample6']],\n",
       "   'sample15': ['sample*', ['discrete', 'sample6']],\n",
       "   'sample19': ['sample*', ['discrete', 'sample6']],\n",
       "   'sample6': ['sample*', ['dirichlet', ['vector', 1.0, 1.0, 1.0]]],\n",
       "   'observe14': ['observe*',\n",
       "    ['get',\n",
       "     ['vector',\n",
       "      ['normal', 'sample0', 'sample1'],\n",
       "      ['normal', 'sample2', 'sample3'],\n",
       "      ['normal', 'sample4', 'sample5']],\n",
       "     'sample13'],\n",
       "    1.9],\n",
       "   'observe10': ['observe*',\n",
       "    ['get',\n",
       "     ['vector',\n",
       "      ['normal', 'sample0', 'sample1'],\n",
       "      ['normal', 'sample2', 'sample3'],\n",
       "      ['normal', 'sample4', 'sample5']],\n",
       "     'sample9'],\n",
       "    2.1],\n",
       "   'sample13': ['sample*', ['discrete', 'sample6']],\n",
       "   'sample4': ['sample*', ['normal', 0.0, 10.0]],\n",
       "   'sample2': ['sample*', ['normal', 0.0, 10.0]],\n",
       "   'sample1': ['sample*', ['gamma', 1.0, 1.0]],\n",
       "   'observe8': ['observe*',\n",
       "    ['get',\n",
       "     ['vector',\n",
       "      ['normal', 'sample0', 'sample1'],\n",
       "      ['normal', 'sample2', 'sample3'],\n",
       "      ['normal', 'sample4', 'sample5']],\n",
       "     'sample7'],\n",
       "    1.1],\n",
       "   'sample3': ['sample*', ['gamma', 1.0, 1.0]],\n",
       "   'sample11': ['sample*', ['discrete', 'sample6']],\n",
       "   'observe16': ['observe*',\n",
       "    ['get',\n",
       "     ['vector',\n",
       "      ['normal', 'sample0', 'sample1'],\n",
       "      ['normal', 'sample2', 'sample3'],\n",
       "      ['normal', 'sample4', 'sample5']],\n",
       "     'sample15'],\n",
       "    0.0],\n",
       "   'observe20': ['observe*',\n",
       "    ['get',\n",
       "     ['vector',\n",
       "      ['normal', 'sample0', 'sample1'],\n",
       "      ['normal', 'sample2', 'sample3'],\n",
       "      ['normal', 'sample4', 'sample5']],\n",
       "     'sample19'],\n",
       "    -0.05]},\n",
       "  'Y': {'observe8': 1.1,\n",
       "   'observe10': 2.1,\n",
       "   'observe12': 2.0,\n",
       "   'observe14': 1.9,\n",
       "   'observe16': 0.0,\n",
       "   'observe18': -0.1,\n",
       "   'observe20': -0.05}},\n",
       " ['=', 'sample7', 'sample9']]"
      ]
     },
     "execution_count": 189,
     "metadata": {},
     "output_type": "execute_result"
    }
   ],
   "source": [
    "fname = '3.daphne' \n",
    "graph = graph_helper(fname)\n",
    "graph"
   ]
  },
  {
   "cell_type": "code",
   "execution_count": 190,
   "id": "dee9de8b",
   "metadata": {},
   "outputs": [
    {
     "name": "stdout",
     "output_type": "stream",
     "text": [
      "CPU times: user 2.76 s, sys: 4.49 ms, total: 2.77 s\n",
      "Wall time: 2.77 s\n"
     ]
    }
   ],
   "source": [
    "%%time\n",
    "return_list, samples_whole_graph = mh_gibbs.mh_gibbs_wrapper(graph,num_steps=10)"
   ]
  },
  {
   "cell_type": "code",
   "execution_count": 191,
   "id": "3c0e193d",
   "metadata": {},
   "outputs": [],
   "source": [
    "samples = np.array([sample.item() for sample in return_list])"
   ]
  },
  {
   "cell_type": "code",
   "execution_count": 192,
   "id": "14d22aef",
   "metadata": {},
   "outputs": [
    {
     "data": {
      "text/plain": [
       "Text(0.5, 1.0, 'Importance sampling | 3.daphne')"
      ]
     },
     "execution_count": 192,
     "metadata": {},
     "output_type": "execute_result"
    },
    {
     "data": {
      "image/png": "[encoded data removed]",
      "text/plain": [
       "<Figure size 432x288 with 1 Axes>"
      ]
     },
     "metadata": {
      "needs_background": "light"
     },
     "output_type": "display_data"
    }
   ],
   "source": [
    "pd.Series(samples).astype(float).plot.hist()\n",
    "plt.xlabel('(= (first z) (second z))')\n",
    "plt.title('MH Gibbs | {}'.format(fname))"
   ]
  },
  {
   "cell_type": "code",
   "execution_count": 102,
   "id": "608e8ee1",
   "metadata": {},
   "outputs": [],
   "source": [
    "posterior_mean = samples.mean(0)"
   ]
  },
  {
   "cell_type": "code",
   "execution_count": 103,
   "id": "d04e1343",
   "metadata": {},
   "outputs": [
    {
     "data": {
      "text/plain": [
       "' MH Gibbs: The posterior probability that the first and second datapoint are in the same cluster,i.e. the posterior probability that z[1] == z[2]: 0.455'"
      ]
     },
     "execution_count": 103,
     "metadata": {},
     "output_type": "execute_result"
    }
   ],
   "source": [
    "method = \"MH Gibbs\"\n",
    "\n",
    "\"\"\" {}: The posterior probability that the first and second datapoint are in the same cluster,\\\n",
    "i.e. the posterior probability that z[1] == z[2]: {:0.3f}\\\n",
    "\"\"\".format(method,posterior_mean)"
   ]
  },
  {
   "cell_type": "markdown",
   "id": "9f8065b4",
   "metadata": {},
   "source": [
    "## 4.daphne"
   ]
  },
  {
   "cell_type": "markdown",
   "id": "2d78f817",
   "metadata": {},
   "source": [
    "### Importance sampling"
   ]
  },
  {
   "cell_type": "code",
   "execution_count": 194,
   "id": "e03e3b85",
   "metadata": {},
   "outputs": [
    {
     "data": {
      "text/plain": [
       "[['let',\n",
       "  ['sprinkler', True],\n",
       "  ['let',\n",
       "   ['wet-grass', True],\n",
       "   ['let',\n",
       "    ['is-cloudy', ['sample', ['flip', 0.5]]],\n",
       "    ['let',\n",
       "     ['is-raining',\n",
       "      ['if',\n",
       "       ['=', 'is-cloudy', True],\n",
       "       ['sample', ['flip', 0.8]],\n",
       "       ['sample', ['flip', 0.2]]]],\n",
       "     ['let',\n",
       "      ['sprinkler-dist',\n",
       "       ['if', ['=', 'is-cloudy', True], ['flip', 0.1], ['flip', 0.5]]],\n",
       "      ['let',\n",
       "       ['wet-grass-dist',\n",
       "        ['if',\n",
       "         ['and', ['=', 'sprinkler', True], ['=', 'is-raining', True]],\n",
       "         ['flip', 0.99],\n",
       "         ['if',\n",
       "          ['and', ['=', 'sprinkler', False], ['=', 'is-raining', False]],\n",
       "          ['flip', 0.0],\n",
       "          ['if',\n",
       "           ['or', ['=', 'sprinkler', True], ['=', 'is-raining', True]],\n",
       "           ['flip', 0.9],\n",
       "           None]]]],\n",
       "       ['let',\n",
       "        ['dontcare0', ['observe', 'sprinkler-dist', 'sprinkler']],\n",
       "        ['let',\n",
       "         ['dontcare1', ['observe', 'wet-grass-dist', 'wet-grass']],\n",
       "         'is-raining']]]]]]]]]"
      ]
     },
     "execution_count": 194,
     "metadata": {},
     "output_type": "execute_result"
    }
   ],
   "source": [
    "fname = '4.daphne' \n",
    "ast = ast_helper(fname)\n",
    "ast"
   ]
  },
  {
   "cell_type": "code",
   "execution_count": 195,
   "id": "aece6802",
   "metadata": {},
   "outputs": [
    {
     "name": "stdout",
     "output_type": "stream",
     "text": [
      "CPU times: user 74.3 ms, sys: 1.83 ms, total: 76.2 ms\n",
      "Wall time: 75 ms\n"
     ]
    }
   ],
   "source": [
    "%%time\n",
    "num_samples=100\n",
    "samples,sigmas = parse.take_samples(num_samples,ast=ast)\n"
   ]
  },
  {
   "cell_type": "code",
   "execution_count": 196,
   "id": "ac9ed8d7",
   "metadata": {},
   "outputs": [],
   "source": [
    "samples = np.array([sample.item() for sample in samples])"
   ]
  },
  {
   "cell_type": "code",
   "execution_count": 198,
   "id": "d4a6e88c",
   "metadata": {},
   "outputs": [
    {
     "data": {
      "text/plain": [
       "Text(0.5, 1.0, 'Importance sampling | 4.daphne')"
      ]
     },
     "execution_count": 198,
     "metadata": {},
     "output_type": "execute_result"
    },
    {
     "data": {
      "image/png": "[encoded data removed]",
      "text/plain": [
       "<Figure size 432x288 with 1 Axes>"
      ]
     },
     "metadata": {
      "needs_background": "light"
     },
     "output_type": "display_data"
    }
   ],
   "source": [
    "pd.Series(samples).astype(float).plot.hist()\n",
    "plt.xlabel('is-raining')\n",
    "plt.title('Importance sampling | {}'.format(fname))"
   ]
  },
  {
   "cell_type": "code",
   "execution_count": 199,
   "id": "e09456ec",
   "metadata": {},
   "outputs": [
    {
     "data": {
      "text/plain": [
       "0.3333333472657166"
      ]
     },
     "execution_count": 199,
     "metadata": {},
     "output_type": "execute_result"
    }
   ],
   "source": [
    "posterior_mean, probs = importance_sampling.weighted_average(samples,sigmas)\n",
    "posterior_mean"
   ]
  },
  {
   "cell_type": "code",
   "execution_count": 144,
   "id": "8316acbb",
   "metadata": {},
   "outputs": [
    {
     "data": {
      "text/plain": [
       "'The posterior probability that it is raining, i.e. of “is-raining.”: 0.323'"
      ]
     },
     "execution_count": 144,
     "metadata": {},
     "output_type": "execute_result"
    }
   ],
   "source": [
    "\"\"\"The posterior probability that it is raining, i.e. of “is-raining.”: {:0.3f}\"\"\".format(posterior_mean)"
   ]
  },
  {
   "cell_type": "markdown",
   "id": "74870257",
   "metadata": {},
   "source": [
    "### MH Gibbs"
   ]
  },
  {
   "cell_type": "code",
   "execution_count": 200,
   "id": "df09fa16",
   "metadata": {},
   "outputs": [
    {
     "data": {
      "text/plain": [
       "[{},\n",
       " {'V': ['observe6', 'sample4', 'sample2', 'observe5', 'sample3'],\n",
       "  'A': {'sample2': ['observe6', 'observe5'],\n",
       "   'sample4': ['observe6'],\n",
       "   'sample3': ['observe6']},\n",
       "  'P': {'sample2': ['sample*', ['flip', 0.5]],\n",
       "   'sample3': ['sample*', ['flip', 0.8]],\n",
       "   'sample4': ['sample*', ['flip', 0.2]],\n",
       "   'observe5': ['observe*',\n",
       "    ['if', ['=', 'sample2', True], ['flip', 0.1], ['flip', 0.5]],\n",
       "    True],\n",
       "   'observe6': ['observe*',\n",
       "    ['if',\n",
       "     ['and',\n",
       "      True,\n",
       "      ['=', ['if', ['=', 'sample2', True], 'sample3', 'sample4'], True]],\n",
       "     ['flip', 0.99],\n",
       "     ['if',\n",
       "      ['and',\n",
       "       False,\n",
       "       ['=', ['if', ['=', 'sample2', True], 'sample3', 'sample4'], False]],\n",
       "      ['flip', 0.0],\n",
       "      ['if',\n",
       "       ['or',\n",
       "        True,\n",
       "        ['=', ['if', ['=', 'sample2', True], 'sample3', 'sample4'], True]],\n",
       "       ['flip', 0.9],\n",
       "       None]]],\n",
       "    True]},\n",
       "  'Y': {'observe5': True, 'observe6': True}},\n",
       " ['if', ['=', 'sample2', True], 'sample3', 'sample4']]"
      ]
     },
     "execution_count": 200,
     "metadata": {},
     "output_type": "execute_result"
    }
   ],
   "source": [
    "fname = '4.daphne' \n",
    "graph = graph_helper(fname)\n",
    "graph"
   ]
  },
  {
   "cell_type": "code",
   "execution_count": 201,
   "id": "7d8b2b45",
   "metadata": {},
   "outputs": [
    {
     "name": "stdout",
     "output_type": "stream",
     "text": [
      "CPU times: user 440 ms, sys: 2.4 ms, total: 442 ms\n",
      "Wall time: 441 ms\n"
     ]
    }
   ],
   "source": [
    "%%time\n",
    "num_steps=100\n",
    "return_list, samples_whole_graph = mh_gibbs.mh_gibbs_wrapper(graph,num_steps)"
   ]
  },
  {
   "cell_type": "code",
   "execution_count": 202,
   "id": "71e74ea8",
   "metadata": {},
   "outputs": [],
   "source": [
    "samples = np.array([sample.item() for sample in return_list])"
   ]
  },
  {
   "cell_type": "code",
   "execution_count": 203,
   "id": "d6b440cc",
   "metadata": {},
   "outputs": [
    {
     "data": {
      "text/plain": [
       "Text(0.5, 1.0, 'MH Gibbs | 4.daphne')"
      ]
     },
     "execution_count": 203,
     "metadata": {},
     "output_type": "execute_result"
    },
    {
     "data": {
      "image/png": "[encoded data removed]",
      "text/plain": [
       "<Figure size 432x288 with 1 Axes>"
      ]
     },
     "metadata": {
      "needs_background": "light"
     },
     "output_type": "display_data"
    }
   ],
   "source": [
    "pd.Series(samples).astype(float).plot.hist()\n",
    "plt.xlabel('is-raining')\n",
    "plt.title('MH Gibbs | {}'.format(fname))"
   ]
  },
  {
   "cell_type": "code",
   "execution_count": 204,
   "id": "faba6f6a",
   "metadata": {},
   "outputs": [],
   "source": [
    "posterior_mean = samples.mean()"
   ]
  },
  {
   "cell_type": "code",
   "execution_count": 205,
   "id": "fcdef00c",
   "metadata": {},
   "outputs": [
    {
     "data": {
      "text/plain": [
       "'The posterior probability that it is raining, i.e. of “is-raining.”: 0.257'"
      ]
     },
     "execution_count": 205,
     "metadata": {},
     "output_type": "execute_result"
    }
   ],
   "source": [
    "\"\"\"The posterior probability that it is raining, i.e. of “is-raining.”: {:0.3f}\"\"\".format(posterior_mean)"
   ]
  }
 ],
 "metadata": {
  "kernelspec": {
   "display_name": "Python 3 (ipykernel)",
   "language": "python",
   "name": "python3"
  },
  "language_info": {
   "codemirror_mode": {
    "name": "ipython",
    "version": 3
   },
   "file_extension": ".py",
   "mimetype": "text/x-python",
   "name": "python",
   "nbconvert_exporter": "python",
   "pygments_lexer": "ipython3",
   "version": "3.9.0"
  }
 },
 "nbformat": 4,
 "nbformat_minor": 5
}
