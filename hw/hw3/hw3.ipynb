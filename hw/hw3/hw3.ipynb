{
 "cells": [
  {
   "cell_type": "markdown",
   "id": "40404785",
   "metadata": {},
   "source": [
    "# Code snippets"
   ]
  },
  {
   "cell_type": "code",
   "execution_count": 1,
   "id": "50bac22a",
   "metadata": {},
   "outputs": [],
   "source": [
    "import torch\n",
    "import numpy as np\n",
    "import os, json\n",
    "import pandas as pd\n",
    "import matplotlib.pyplot as plt\n",
    "\n",
    "from evaluation_based_sampling import evaluate, evaluate_program\n",
    "from daphne import daphne\n",
    "\n",
    "from graph_based_sampling import sample_from_joint"
   ]
  },
  {
   "cell_type": "code",
   "execution_count": 2,
   "id": "6c7f5bb5",
   "metadata": {},
   "outputs": [],
   "source": [
    "from dill.source import getsource, getsourcelines\n"
   ]
  },
  {
   "cell_type": "markdown",
   "id": "3d9b112c",
   "metadata": {},
   "source": [
    "## Importance sampling\n",
    "* I modified the evaluator from hw2 to also return $\\sigma$, which gets accumulated from the `log_prob` of evaluating observes"
   ]
  },
  {
   "cell_type": "code",
   "execution_count": 3,
   "id": "847dae2a",
   "metadata": {},
   "outputs": [
    {
     "name": "stdout",
     "output_type": "stream",
     "text": [
      "0 def evaluate(e,sigma=0,local_env={},defn_d={},do_log=False,logger_string=''):\n",
      "1     # TODO: get local_env to evaluate values to tensors, not regular floats\n",
      "2     # remember to return evaluate (recursive)\n",
      "3     # everytime we call evaluate, we have to use local_env, otherwise it gets overwritten with the default {}\n",
      "4     # if do_log: logger.info('logger_string {}'.format(logger_string))\n",
      "5     if do_log: logger.info('ls {}'.format(logger_string))\n",
      "6     if do_log: logger.info('e {}, local_env {}, sigma {}'.format(e, local_env, sigma))\n",
      "7 \n",
      "8     # get first expression out of list or list of one\n",
      "9     if not isinstance(e,list) or len(e) == 1:\n",
      "10         if isinstance(e,list):\n",
      "11             e = e[0]\n",
      "12         if isinstance(e,bool):\n",
      "13             if do_log: logger.info('match case number: e {}, sigma {}'.format(e, sigma))\n",
      "14             return torch.tensor(e), sigma\n",
      "15         if isinstance(e, number):\n",
      "16             if do_log: logger.info('match case number: e {}, sigma {}'.format(e, sigma))\n",
      "17             return torch.tensor(float(e)), sigma\n",
      "18         elif isinstance(e,list):\n",
      "19             if do_log: logger.info('match case list: e {}, sigma {}'.format(e, sigma))\n",
      "20             return e, sigma\n",
      "21         elif e in list(primitives_d.keys()):\n",
      "22             if do_log: logger.info('match case primitives_d: e {}, sigma {}'.format(e, sigma))\n",
      "23             return e, sigma\n",
      "24         elif e in list(distributions_d.keys()):\n",
      "25             if do_log: logger.info('match case distributions_d: e {}, sigma {}'.format(e, sigma))\n",
      "26             return e, sigma\n",
      "27         elif torch.is_tensor(e):\n",
      "28             if do_log: logger.info('match case is_tensor: e {}, sigma {}'.format(e, sigma))\n",
      "29             return e, sigma\n",
      "30         elif e in local_env.keys():\n",
      "31             if do_log: logger.info('match case local_env: e {}, sigma {}'.format(e, sigma))\n",
      "32             if do_log: logger.info('match case local_env: local_env[e] {}'.format(local_env[e]))\n",
      "33             return local_env[e], sigma # TODO return evaluate?\n",
      "34         elif e in list(defn_d.keys()):\n",
      "35             if do_log: logger.info('match case defn_d: e {}, sigma {}'.format(e, sigma))\n",
      "36             return e, sigma\n",
      "37         elif isinstance(e,distribution_types):\n",
      "38             if do_log: logger.info('match case distribution: e {}, sigma {}'.format(e,sigma))\n",
      "39             return e, sigma\n",
      "40         else:\n",
      "41             assert False, 'case not matched'\n",
      "42     elif e[0] == 'sample':\n",
      "43         if do_log: logger.info('match case sample: e {}, sigma {}'.format(e,sigma))\n",
      "44         distribution, sigma = evaluate(e[1],sigma,local_env,defn_d,do_log=do_log)\n",
      "45         return distribution.sample(), sigma # match shape in number base case\n",
      "46     elif e[0] == 'observe':\n",
      "47         if do_log: logger.info('match case observe: e {}, sigma {}'.format(e,sigma))\n",
      "48         e1, e2 = e[1:]\n",
      "49         d1, sigma = evaluate(e1,sigma,local_env,defn_d,do_log=do_log)\n",
      "50         c2, sigma = evaluate(e2,sigma,local_env,defn_d,do_log=do_log)\n",
      "51         log_w =score(d1,c2)\n",
      "52         if do_log: logger.info('match case observe: d1 {}, c2 {}, log_w {}, sigma {}'.format(e,d1, c2, log_w, sigma))\n",
      "53         sigma += log_w\n",
      "54         return c2, sigma\n",
      "55     elif e[0] == 'let': \n",
      "56         if do_log: logger.info('match case let: e {}, sigma {}'.format(e, sigma))\n",
      "57         # let [v1 e1] e0\n",
      "58         # here \n",
      "59             # e[0] : \"let\"\n",
      "60             # e[1] : [v1, e1]\n",
      "61             # e[2] : e0\n",
      "62         # evaluates e1 to c1 and binds this value to e0\n",
      "63         # this means we update the context with old context plus {v1:c1}\n",
      "64         c1, sigma = evaluate(e[1][1],sigma,local_env,defn_d,do_log=do_log) # evaluates e1 to c1\n",
      "65         v1 = e[1][0]\n",
      "66         return evaluate(e[2], sigma, local_env = {**local_env,v1:c1},defn_d=defn_d,do_log=do_log)\n",
      "67     elif e[0] == 'if': # if e0 e1 e2\n",
      "68         if do_log: logger.info('match case if: e {}, sigma {}'.format(e, sigma))\n",
      "69         e1 = e[1]\n",
      "70         e2 = e[2]\n",
      "71         e3 = e[3]\n",
      "72         e1_prime, sigma = evaluate(e1,sigma,local_env,defn_d,do_log=do_log)\n",
      "73         if e1_prime:\n",
      "74             return evaluate(e2,sigma,local_env,defn_d,do_log=do_log)\n",
      "75         else:\n",
      "76             return evaluate(e3,sigma,local_env,defn_d,do_log=do_log) \n",
      "77 \n",
      "78     else:\n",
      "79         cs = []\n",
      "80         for ei in e:\n",
      "81             if do_log: logger.info('cycling through expressions: ei {}, sigma {}'.format(ei,sigma))\n",
      "82             c, sigma = evaluate(ei,sigma,local_env,defn_d,do_log=do_log)\n",
      "83             cs.append(c)\n",
      "84         if cs[0] in primitives_d:\n",
      "85             if do_log: logger.info('do case primitives_d: cs0 {}'.format(cs[0]))\n",
      "86             if do_log: logger.info('do case primitives_d: cs1 {}'.format(cs[1:]))\n",
      "87             if do_log: logger.info('do case primitives_d: primitives_d[cs[0]] {}'.format(primitives_d[cs[0]]))\n",
      "88             return primitives_d[cs[0]](cs[1:]), sigma\n",
      "89         elif cs[0] in distributions_d:\n",
      "90             if do_log: logger.info('do case distributions_d: cs0 {}'.format(cs[0]))\n",
      "91             return distributions_d[cs[0]](cs[1:]), sigma\n",
      "92         elif cs[0] in defn_d:\n",
      "93             if do_log: logger.info('do case defn: cs0  {}'.format(cs[0]))\n",
      "94             defn_function_li = defn_d[cs[0]]\n",
      "95             defn_function_args, defn_function_body = defn_function_li\n",
      "96             local_env_update = {key:value for key,value in zip(defn_function_args, cs[1:])}\n",
      "97             if do_log: logger.info('do case defn: update to local_env from defn_d {}'.format(local_env_update))\n",
      "98             return evaluate(defn_function_body,sigma,local_env = {**local_env, **local_env_update},defn_d=defn_d,do_log=do_log)\n",
      "99         else:\n",
      "100             assert False, 'not implemented'\n"
     ]
    }
   ],
   "source": [
    "for line_number, function_line in enumerate(getsourcelines(evaluate)[0]):\n",
    "    print(line_number, function_line,end='')"
   ]
  },
  {
   "cell_type": "markdown",
   "id": "0461378c",
   "metadata": {},
   "source": [
    "I also wrote my own score function. It handles boolean cases by converting them to "
   ]
  },
  {
   "cell_type": "code",
   "execution_count": 4,
   "id": "b35d1443",
   "metadata": {},
   "outputs": [
    {
     "name": "stdout",
     "output_type": "stream",
     "text": [
      "0 def score(distribution,c):\n",
      "1     \"\"\"Score pytorch distributions with .log_prob, but in a robust way for the type of c\n",
      "2     \"\"\"\n",
      "3     if isinstance(c,bool) or c.type() in ['torch.BoolTensor', 'torch.LongTensor']:\n",
      "4         log_w = distribution.log_prob(c.double())\n",
      "5     else:\n",
      "6         log_w = distribution.log_prob(c)\n",
      "7     return log_w\n"
     ]
    }
   ],
   "source": [
    "from evaluation_based_sampling import score\n",
    "for line_number, function_line in enumerate(getsourcelines(score)[0]):\n",
    "    print(line_number, function_line,end='')"
   ]
  },
  {
   "cell_type": "markdown",
   "id": "38f0c91d",
   "metadata": {},
   "source": [
    "I added a few more distributions and boolean operation primitives, for the problems in this assignment"
   ]
  },
  {
   "cell_type": "code",
   "execution_count": 5,
   "id": "701d2bcb",
   "metadata": {},
   "outputs": [
    {
     "name": "stdout",
     "output_type": "stream",
     "text": [
      "0 def score(distribution,c):\n",
      "1     \"\"\"Score pytorch distributions with .log_prob, but in a robust way for the type of c\n",
      "2     \"\"\"\n",
      "3     if isinstance(c,bool) or c.type() in ['torch.BoolTensor', 'torch.LongTensor']:\n",
      "4         log_w = distribution.log_prob(c.double())\n",
      "5     else:\n",
      "6         log_w = distribution.log_prob(c)\n",
      "7     return log_w\n"
     ]
    }
   ],
   "source": [
    "from evaluation_based_sampling import score\n",
    "for line_number, function_line in enumerate(getsourcelines(score)[0]):\n",
    "    print(line_number, function_line,end='')"
   ]
  },
  {
   "cell_type": "code",
   "execution_count": 6,
   "id": "cbc84bab",
   "metadata": {},
   "outputs": [
    {
     "name": "stdout",
     "output_type": "stream",
     "text": [
      "normal :\n",
      "0 def normal(mean_std):\n",
      "1     return two_arg_op_primitive(torch.distributions.Normal,mean_std)\n",
      "\n",
      "beta :\n",
      "0 def beta(alpha_beta):\n",
      "1     return two_arg_op_primitive(torch.distributions.Beta,alpha_beta)\n",
      "\n",
      "exponential :\n",
      "0 def exponential(lam):\n",
      "1     return one_arg_op_primitive(torch.distributions.Exponential,lam)\n",
      "\n",
      "uniform :\n",
      "0 def uniform(low_hi):\n",
      "1     return two_arg_op_primitive(torch.distributions.Uniform,low_hi)\n",
      "\n",
      "discrete :\n",
      "0 def discrete(prob_vector):\n",
      "1     return one_arg_op_primitive(torch.distributions.Categorical,prob_vector)\n",
      "\n",
      "flip :\n",
      "0 def flip(prob):\n",
      "1     return one_arg_op_primitive(torch.distributions.bernoulli.Bernoulli,prob)\n",
      "\n",
      "dirichlet :\n",
      "0 def dirichlet(concentration):\n",
      "1     return one_arg_op_primitive(torch.distributions.dirichlet.Dirichlet,concentration)\n",
      "\n",
      "gamma :\n",
      "0 def gamma(concentration_rate):\n",
      "1     return two_arg_op_primitive(torch.distributions.gamma.Gamma,concentration_rate)\n",
      "\n"
     ]
    }
   ],
   "source": [
    "from primitives import distributions_d\n",
    "for key in distributions_d.keys() :\n",
    "    print(key,':')\n",
    "    for line_number, function_line in enumerate(getsourcelines(distributions_d[key])[0]):\n",
    "        print(line_number, function_line,end='')\n",
    "    print()"
   ]
  },
  {
   "cell_type": "code",
   "execution_count": 7,
   "id": "bed85baf",
   "metadata": {},
   "outputs": [
    {
     "name": "stdout",
     "output_type": "stream",
     "text": [
      "and :\n",
      "0 def and_primitive(arg1_arg2):\n",
      "1     return two_arg_op_primitive(torch.logical_and,arg1_arg2)  \n",
      "\n",
      "or :\n",
      "0 def or_primitive(arg1_arg2):\n",
      "1     return two_arg_op_primitive(torch.logical_or,arg1_arg2)  \n",
      "\n",
      "> :\n",
      "0 def gt_primitive(consequent_alternative):\n",
      "1     return two_arg_op_primitive(torch.gt,consequent_alternative)\n",
      "\n",
      "< :\n",
      "0 def lt_primitive(consequent_alternative):\n",
      "1     return two_arg_op_primitive(torch.lt,consequent_alternative)\n",
      "\n",
      ">= :\n",
      "0 def ge_primitive(consequent_alternative):\n",
      "1     return two_arg_op_primitive(torch.ge,consequent_alternative)\n",
      "\n",
      "<= :\n",
      "0 def le_primitive(consequent_alternative):\n",
      "1     return two_arg_op_primitive(torch.le,consequent_alternative)\n",
      "\n",
      "= :\n",
      "0 def eq_primitive(consequent_alternative):\n",
      "1     return two_arg_op_primitive(torch.eq,consequent_alternative)\n",
      "\n"
     ]
    }
   ],
   "source": [
    "from primitives import primitives_d\n",
    "for key in ['and','or','>','<','>=','<=','='] :\n",
    "    print(key,':')\n",
    "    for line_number, function_line in enumerate(getsourcelines(primitives_d[key])[0]):\n",
    "        print(line_number, function_line,end='')\n",
    "    print()"
   ]
  },
  {
   "cell_type": "markdown",
   "id": "3efcc89c",
   "metadata": {},
   "source": [
    "## Problem 1"
   ]
  },
  {
   "cell_type": "code",
   "execution_count": 19,
   "id": "2e5f0722",
   "metadata": {},
   "outputs": [],
   "source": [
    "from load_helper import ast_helper, graph_helper\n"
   ]
  },
  {
   "cell_type": "markdown",
   "id": "22445cf0",
   "metadata": {},
   "source": [
    "### Importance sampling"
   ]
  },
  {
   "cell_type": "code",
   "execution_count": 9,
   "id": "465c8f8d",
   "metadata": {},
   "outputs": [
    {
     "data": {
      "text/plain": [
       "<module 'parse' from '/Users/gw/repos/prob_prog/hw/hw3/parse.py'>"
      ]
     },
     "execution_count": 9,
     "metadata": {},
     "output_type": "execute_result"
    }
   ],
   "source": [
    "import parse\n",
    "import importance_sampling\n",
    "import importlib\n",
    "importlib.reload(parse)"
   ]
  },
  {
   "cell_type": "code",
   "execution_count": 10,
   "id": "1b9fda44",
   "metadata": {},
   "outputs": [
    {
     "data": {
      "text/plain": [
       "[['let',\n",
       "  ['mu', ['sample', ['normal', 1, ['sqrt', 5]]]],\n",
       "  ['let',\n",
       "   ['sigma', ['sqrt', 2]],\n",
       "   ['let',\n",
       "    ['lik', ['normal', 'mu', 'sigma']],\n",
       "    ['let',\n",
       "     ['dontcare0', ['observe', 'lik', 8]],\n",
       "     ['let', ['dontcare1', ['observe', 'lik', 9]], 'mu']]]]]]"
      ]
     },
     "execution_count": 10,
     "metadata": {},
     "output_type": "execute_result"
    }
   ],
   "source": [
    "fname = '1.daphne' \n",
    "ast = ast_helper(fname)\n",
    "ast"
   ]
  },
  {
   "cell_type": "code",
   "execution_count": null,
   "id": "cf43153c",
   "metadata": {},
   "outputs": [],
   "source": [
    "%%time\n",
    "num_samples=100\n",
    "samples, sigmas = parse.take_samples(num_samples,ast)"
   ]
  },
  {
   "cell_type": "code",
   "execution_count": 11,
   "id": "cf71a0f9",
   "metadata": {},
   "outputs": [],
   "source": [
    "\n",
    "samples = np.array([sample.item() for sample in samples])"
   ]
  },
  {
   "cell_type": "code",
   "execution_count": 12,
   "id": "c5946ae1",
   "metadata": {},
   "outputs": [
    {
     "data": {
      "text/plain": [
       "Text(0.5, 0, 'mu')"
      ]
     },
     "execution_count": 12,
     "metadata": {},
     "output_type": "execute_result"
    },
    {
     "data": {
      "image/png": "[encoded data removed]",
      "text/plain": [
       "<Figure size 432x288 with 1 Axes>"
      ]
     },
     "metadata": {
      "needs_background": "light"
     },
     "output_type": "display_data"
    }
   ],
   "source": [
    "pd.Series(samples).plot.hist()\n",
    "plt.title('Problem {} \\n Importance sampling'.format(fname))\n",
    "plt.xlabel('mu')\n"
   ]
  },
  {
   "cell_type": "code",
   "execution_count": 13,
   "id": "cc1e47e7",
   "metadata": {},
   "outputs": [
    {
     "data": {
      "text/plain": [
       "7.258425321748714"
      ]
     },
     "execution_count": 13,
     "metadata": {},
     "output_type": "execute_result"
    }
   ],
   "source": [
    "posterior_mean, probs = importance_sampling.weighted_average(samples,sigmas)\n",
    "posterior_mean"
   ]
  },
  {
   "cell_type": "code",
   "execution_count": 14,
   "id": "b254608b",
   "metadata": {},
   "outputs": [],
   "source": [
    "expectation_samples_2, probs = importance_sampling.weighted_average(samples**2,sigmas) \n",
    "posterior_variance = expectation_samples_2 - posterior_mean**2"
   ]
  },
  {
   "cell_type": "code",
   "execution_count": 15,
   "id": "3e6939ab",
   "metadata": {},
   "outputs": [
    {
     "data": {
      "text/plain": [
       "'Importance sampling: posterior mean 7.258 | variance 1.959e-01'"
      ]
     },
     "execution_count": 15,
     "metadata": {},
     "output_type": "execute_result"
    }
   ],
   "source": [
    "\"Importance sampling: posterior mean of mu {:1.3f} | variance {:1.3e}\".format(posterior_mean,posterior_variance)"
   ]
  },
  {
   "cell_type": "markdown",
   "id": "4b6bf92f",
   "metadata": {},
   "source": [
    "### MH within Gibbs"
   ]
  },
  {
   "cell_type": "code",
   "execution_count": 43,
   "id": "4c664636",
   "metadata": {},
   "outputs": [
    {
     "data": {
      "text/plain": [
       "<module 'mh_gibbs' from '/Users/gw/repos/prob_prog/hw/hw3/mh_gibbs.py'>"
      ]
     },
     "execution_count": 43,
     "metadata": {},
     "output_type": "execute_result"
    }
   ],
   "source": [
    "import mh_gibbs \n",
    "importlib.reload(mh_gibbs)"
   ]
  },
  {
   "cell_type": "code",
   "execution_count": 123,
   "id": "183cc3a4",
   "metadata": {},
   "outputs": [
    {
     "data": {
      "text/plain": [
       "[{},\n",
       " {'V': ['observe3', 'observe4', 'sample2'],\n",
       "  'A': {'sample2': ['observe3', 'observe4']},\n",
       "  'P': {'sample2': ['sample*', ['normal', 1, ['sqrt', 5]]],\n",
       "   'observe3': ['observe*', ['normal', 'sample2', ['sqrt', 2]], 8],\n",
       "   'observe4': ['observe*', ['normal', 'sample2', ['sqrt', 2]], 9]},\n",
       "  'Y': {'observe3': 8, 'observe4': 9}},\n",
       " 'sample2']"
      ]
     },
     "execution_count": 123,
     "metadata": {},
     "output_type": "execute_result"
    }
   ],
   "source": [
    "fname = '1.daphne' \n",
    "graph = graph_helper(fname)\n",
    "graph"
   ]
  },
  {
   "cell_type": "code",
   "execution_count": 128,
   "id": "96c65231",
   "metadata": {},
   "outputs": [
    {
     "name": "stdout",
     "output_type": "stream",
     "text": [
      "CPU times: user 1.18 s, sys: 4.4 ms, total: 1.19 s\n",
      "Wall time: 1.19 s\n"
     ]
    }
   ],
   "source": [
    "%%time\n",
    "num_steps=1000\n",
    "return_list, samples_whole_graph = mh_gibbs.mh_gibbs_wrapper(graph,num_steps=num_steps)"
   ]
  },
  {
   "cell_type": "code",
   "execution_count": 129,
   "id": "6c0ec6d6",
   "metadata": {},
   "outputs": [],
   "source": [
    "samples = np.array([x.item() for x in return_list])"
   ]
  },
  {
   "cell_type": "code",
   "execution_count": 130,
   "id": "e2464cdd",
   "metadata": {},
   "outputs": [
    {
     "data": {
      "text/plain": [
       "Text(0.5, 0, 'mu')"
      ]
     },
     "execution_count": 130,
     "metadata": {},
     "output_type": "execute_result"
    },
    {
     "data": {
      "image/png": "[encoded data removed]",
      "text/plain": [
       "<Figure size 432x288 with 1 Axes>"
      ]
     },
     "metadata": {
      "needs_background": "light"
     },
     "output_type": "display_data"
    }
   ],
   "source": [
    "burn_in = int(0.1*num_steps)\n",
    "sr = pd.Series(samples[burn_in:])\n",
    "sr.plot.hist()\n",
    "sr.mean()\n",
    "plt.title('burn in {:} / {:} total steps \\n E[mu]={:1.2f}'.format(burn_in, len(samples),sr.mean()))\n",
    "plt.xlabel('mu')"
   ]
  },
  {
   "cell_type": "code",
   "execution_count": 131,
   "id": "ab58b2e7",
   "metadata": {},
   "outputs": [
    {
     "data": {
      "text/plain": [
       "'MH Gibbs: posterior mean of mu 6.934 | variance 2.950e-01'"
      ]
     },
     "execution_count": 131,
     "metadata": {},
     "output_type": "execute_result"
    }
   ],
   "source": [
    "\"MH Gibbs: posterior mean of mu {:1.3f} | variance {:1.3e}\".format(sr.mean(),sr.var())"
   ]
  },
  {
   "cell_type": "markdown",
   "id": "a40160c1",
   "metadata": {},
   "source": [
    "### Problem 2"
   ]
  },
  {
   "cell_type": "markdown",
   "id": "04c17011",
   "metadata": {},
   "source": [
    "### Importance sampling"
   ]
  },
  {
   "cell_type": "code",
   "execution_count": 22,
   "id": "debdb30f",
   "metadata": {},
   "outputs": [],
   "source": [
    "fname = '2.daphne' \n",
    "ast = ast_helper(fname)"
   ]
  },
  {
   "cell_type": "code",
   "execution_count": 23,
   "id": "e1cd17f4",
   "metadata": {},
   "outputs": [],
   "source": [
    "%%time\n",
    "samples, sigmas = parse.take_samples(num_samples=1000,ast=ast)\n"
   ]
  },
  {
   "cell_type": "code",
   "execution_count": null,
   "id": "4a77db3f",
   "metadata": {},
   "outputs": [],
   "source": [
    "samples = np.array([sample.tolist() for sample in samples])"
   ]
  },
  {
   "cell_type": "code",
   "execution_count": 24,
   "id": "4f0599fd",
   "metadata": {},
   "outputs": [
    {
     "data": {
      "text/plain": [
       "array([ 2.08057526, -0.20869776])"
      ]
     },
     "execution_count": 24,
     "metadata": {},
     "output_type": "execute_result"
    }
   ],
   "source": [
    "posterior_mean, probs = importance_sampling.weighted_average(samples,sigmas,reshape_probs=(-1,1),axis=0)\n",
    "posterior_mean"
   ]
  },
  {
   "cell_type": "code",
   "execution_count": 25,
   "id": "8b55fc4d",
   "metadata": {},
   "outputs": [
    {
     "data": {
      "text/plain": [
       "array([0.05294064, 0.69608441])"
      ]
     },
     "execution_count": 25,
     "metadata": {},
     "output_type": "execute_result"
    }
   ],
   "source": [
    "expectation_samples_2, probs = importance_sampling.weighted_average(samples**2,sigmas,reshape_probs=(-1,1),axis=0) \n",
    "posterior_variance = expectation_samples_2 - posterior_mean**2\n",
    "posterior_variance"
   ]
  },
  {
   "cell_type": "code",
   "execution_count": 26,
   "id": "068538f4",
   "metadata": {},
   "outputs": [
    {
     "data": {
      "text/plain": [
       "-0.17999883084024565"
      ]
     },
     "execution_count": 26,
     "metadata": {},
     "output_type": "execute_result"
    }
   ],
   "source": [
    "expectation_samplex_sampley, probs = importance_sampling.weighted_average(samples[:,0]*samples[:,1],sigmas) \n",
    "covariance = expectation_samplex_sampley - posterior_mean[0]*posterior_mean[1]\n",
    "covariance"
   ]
  },
  {
   "cell_type": "code",
   "execution_count": 27,
   "id": "90e6d7c7",
   "metadata": {},
   "outputs": [
    {
     "name": "stdout",
     "output_type": "stream",
     "text": [
      "2.daphne Importance sampling: posterior mean slope 2.081 | variance slope 5.294e-02\n",
      "2.daphne Importance sampling: posterior mean bias -0.209 | variance bias 6.961e-01\n",
      "2.daphne Importance sampling: posterior covariance of slope and bias variance bias -1.800e-01\n"
     ]
    }
   ],
   "source": [
    "for result in [\n",
    "    \"{} Importance sampling: posterior mean slope {:1.3f} | variance slope {:1.3e}\".format(fname,posterior_mean[0],posterior_variance[0]),\n",
    "    \"{} Importance sampling: posterior mean bias {:1.3f} | variance bias {:1.3e}\".format(fname,posterior_mean[1],posterior_variance[1]),\n",
    "    \"{} Importance sampling: posterior covariance of slope and bias variance bias {:1.3e}\".format(fname,covariance),\n",
    "    \n",
    "]:\n",
    "    print(result)"
   ]
  },
  {
   "cell_type": "markdown",
   "id": "acd3dd17",
   "metadata": {},
   "source": [
    "Numpy contains it's own method for computing this, and we can check it agrees with our results (where things are spelt out a bit more for learning purposes)."
   ]
  },
  {
   "cell_type": "code",
   "execution_count": 28,
   "id": "749f9f86",
   "metadata": {},
   "outputs": [
    {
     "data": {
      "text/plain": [
       "array([[ 0.05294064, -0.17999883],\n",
       "       [-0.17999883,  0.69608441]])"
      ]
     },
     "execution_count": 28,
     "metadata": {},
     "output_type": "execute_result"
    }
   ],
   "source": [
    "np.cov(samples.T,aweights=probs,ddof=0)"
   ]
  },
  {
   "cell_type": "markdown",
   "id": "54ff715c",
   "metadata": {},
   "source": [
    "### MH Gibbs"
   ]
  },
  {
   "cell_type": "code",
   "execution_count": 104,
   "id": "8702d387",
   "metadata": {},
   "outputs": [
    {
     "data": {
      "text/plain": [
       "[{'observe-data': ['fn',\n",
       "   ['_', 'data', 'slope', 'bias'],\n",
       "   ['let',\n",
       "    ['xn', ['first', 'data']],\n",
       "    ['let',\n",
       "     ['yn', ['second', 'data']],\n",
       "     ['let',\n",
       "      ['zn', ['+', ['*', 'slope', 'xn'], 'bias']],\n",
       "      ['let',\n",
       "       ['dontcare9', ['observe', ['normal', 'zn', 1.0], 'yn']],\n",
       "       ['rest', ['rest', 'data']]]]]]]},\n",
       " {'V': ['observe3',\n",
       "   'observe6',\n",
       "   'observe4',\n",
       "   'observe7',\n",
       "   'sample2',\n",
       "   'sample1',\n",
       "   'observe8',\n",
       "   'observe5'],\n",
       "  'A': {'sample2': ['observe3',\n",
       "    'observe6',\n",
       "    'observe4',\n",
       "    'observe7',\n",
       "    'observe8',\n",
       "    'observe5'],\n",
       "   'sample1': ['observe3',\n",
       "    'observe6',\n",
       "    'observe4',\n",
       "    'observe7',\n",
       "    'observe8',\n",
       "    'observe5']},\n",
       "  'P': {'sample1': ['sample*', ['normal', 0.0, 10.0]],\n",
       "   'sample2': ['sample*', ['normal', 0.0, 10.0]],\n",
       "   'observe3': ['observe*',\n",
       "    ['normal', ['+', ['*', 'sample1', 1.0], 'sample2'], 1.0],\n",
       "    2.1],\n",
       "   'observe4': ['observe*',\n",
       "    ['normal', ['+', ['*', 'sample1', 2.0], 'sample2'], 1.0],\n",
       "    3.9],\n",
       "   'observe5': ['observe*',\n",
       "    ['normal', ['+', ['*', 'sample1', 3.0], 'sample2'], 1.0],\n",
       "    5.3],\n",
       "   'observe6': ['observe*',\n",
       "    ['normal', ['+', ['*', 'sample1', 4.0], 'sample2'], 1.0],\n",
       "    7.7],\n",
       "   'observe7': ['observe*',\n",
       "    ['normal', ['+', ['*', 'sample1', 5.0], 'sample2'], 1.0],\n",
       "    10.2],\n",
       "   'observe8': ['observe*',\n",
       "    ['normal', ['+', ['*', 'sample1', 6.0], 'sample2'], 1.0],\n",
       "    12.9]},\n",
       "  'Y': {'observe3': 2.1,\n",
       "   'observe4': 3.9,\n",
       "   'observe5': 5.3,\n",
       "   'observe6': 7.7,\n",
       "   'observe7': 10.2,\n",
       "   'observe8': 12.9}},\n",
       " ['vector', 'sample1', 'sample2']]"
      ]
     },
     "execution_count": 104,
     "metadata": {},
     "output_type": "execute_result"
    }
   ],
   "source": [
    "fname = '2.daphne' \n",
    "graph = graph_helper(fname)\n",
    "graph"
   ]
  },
  {
   "cell_type": "code",
   "execution_count": 105,
   "id": "874c98d1",
   "metadata": {},
   "outputs": [
    {
     "name": "stdout",
     "output_type": "stream",
     "text": [
      "CPU times: user 469 ms, sys: 2.57 ms, total: 472 ms\n",
      "Wall time: 471 ms\n"
     ]
    }
   ],
   "source": [
    "%%time\n",
    "num_steps=100\n",
    "return_list, samples_whole_graph = mh_gibbs.mh_gibbs_wrapper(graph,num_steps)"
   ]
  },
  {
   "cell_type": "code",
   "execution_count": 107,
   "id": "6ccaea85",
   "metadata": {},
   "outputs": [],
   "source": [
    "samples = np.array([sample.tolist() for sample in return_list])"
   ]
  },
  {
   "cell_type": "code",
   "execution_count": 108,
   "id": "5af75e2f",
   "metadata": {},
   "outputs": [],
   "source": [
    "posterior_mean = samples.mean(0)\n",
    "cov_matrix = np.cov(samples.T,ddof=0)\n",
    "posterior_variance = samples.var(0)\n",
    "covariance = cov_matrix[0,1]\n",
    "assert np.isclose(cov_matrix[0,0],posterior_variance[0])\n",
    "assert np.isclose(cov_matrix[1,1],posterior_variance[1])"
   ]
  },
  {
   "cell_type": "code",
   "execution_count": 109,
   "id": "88dd00c3",
   "metadata": {},
   "outputs": [
    {
     "name": "stdout",
     "output_type": "stream",
     "text": [
      "2.daphne Importance sampling: posterior mean slope 3.289 | variance slope 4.702e-02\n",
      "2.daphne Importance sampling: posterior mean bias -4.887 | variance bias 2.093e+00\n",
      "2.daphne Importance sampling: posterior covariance of slope and bias variance bias -7.547e-02\n"
     ]
    }
   ],
   "source": [
    "for result in [\n",
    "    \"{} Importance sampling: posterior mean slope {:1.3f} | variance slope {:1.3e}\".format(fname,posterior_mean[0],posterior_variance[0]),\n",
    "    \"{} Importance sampling: posterior mean bias {:1.3f} | variance bias {:1.3e}\".format(fname,posterior_mean[1],posterior_variance[1]),\n",
    "    \"{} Importance sampling: posterior covariance of slope and bias variance bias {:1.3e}\".format(fname,covariance),\n",
    "    \n",
    "]:\n",
    "    print(result)"
   ]
  },
  {
   "cell_type": "markdown",
   "id": "d61edcbe",
   "metadata": {},
   "source": [
    "## 3.daphne"
   ]
  },
  {
   "cell_type": "markdown",
   "id": "2a55446f",
   "metadata": {},
   "source": [
    "### Importance sampling"
   ]
  },
  {
   "cell_type": "code",
   "execution_count": 93,
   "id": "99148a19",
   "metadata": {},
   "outputs": [
    {
     "data": {
      "text/plain": [
       "[['let',\n",
       "  ['data', ['vector', 1.1, 2.1, 2.0, 1.9, 0.0, -0.1, -0.05]],\n",
       "  ['let',\n",
       "   ['likes',\n",
       "    ['vector',\n",
       "     ['let',\n",
       "      ['mu', ['sample', ['normal', 0.0, 10.0]]],\n",
       "      ['let',\n",
       "       ['sigma', ['sample', ['gamma', 1.0, 1.0]]],\n",
       "       ['normal', 'mu', 'sigma']]],\n",
       "     ['let',\n",
       "      ['mu', ['sample', ['normal', 0.0, 10.0]]],\n",
       "      ['let',\n",
       "       ['sigma', ['sample', ['gamma', 1.0, 1.0]]],\n",
       "       ['normal', 'mu', 'sigma']]],\n",
       "     ['let',\n",
       "      ['mu', ['sample', ['normal', 0.0, 10.0]]],\n",
       "      ['let',\n",
       "       ['sigma', ['sample', ['gamma', 1.0, 1.0]]],\n",
       "       ['normal', 'mu', 'sigma']]]]],\n",
       "   ['let',\n",
       "    ['pi', ['sample', ['dirichlet', ['vector', 1.0, 1.0, 1.0]]]],\n",
       "    ['let',\n",
       "     ['z-prior', ['discrete', 'pi']],\n",
       "     ['let',\n",
       "      ['z',\n",
       "       ['vector',\n",
       "        ['let',\n",
       "         ['y', ['get', 'data', 0]],\n",
       "         ['let',\n",
       "          ['z', ['sample', 'z-prior']],\n",
       "          ['let', ['_', ['observe', ['get', 'likes', 'z'], 'y']], 'z']]],\n",
       "        ['let',\n",
       "         ['y', ['get', 'data', 1]],\n",
       "         ['let',\n",
       "          ['z', ['sample', 'z-prior']],\n",
       "          ['let', ['_', ['observe', ['get', 'likes', 'z'], 'y']], 'z']]],\n",
       "        ['let',\n",
       "         ['y', ['get', 'data', 2]],\n",
       "         ['let',\n",
       "          ['z', ['sample', 'z-prior']],\n",
       "          ['let', ['_', ['observe', ['get', 'likes', 'z'], 'y']], 'z']]],\n",
       "        ['let',\n",
       "         ['y', ['get', 'data', 3]],\n",
       "         ['let',\n",
       "          ['z', ['sample', 'z-prior']],\n",
       "          ['let', ['_', ['observe', ['get', 'likes', 'z'], 'y']], 'z']]],\n",
       "        ['let',\n",
       "         ['y', ['get', 'data', 4]],\n",
       "         ['let',\n",
       "          ['z', ['sample', 'z-prior']],\n",
       "          ['let', ['_', ['observe', ['get', 'likes', 'z'], 'y']], 'z']]],\n",
       "        ['let',\n",
       "         ['y', ['get', 'data', 5]],\n",
       "         ['let',\n",
       "          ['z', ['sample', 'z-prior']],\n",
       "          ['let', ['_', ['observe', ['get', 'likes', 'z'], 'y']], 'z']]],\n",
       "        ['let',\n",
       "         ['y', ['get', 'data', 6]],\n",
       "         ['let',\n",
       "          ['z', ['sample', 'z-prior']],\n",
       "          ['let', ['_', ['observe', ['get', 'likes', 'z'], 'y']], 'z']]]]],\n",
       "      ['=', ['first', 'z'], ['second', 'z']]]]]]]]"
      ]
     },
     "execution_count": 93,
     "metadata": {},
     "output_type": "execute_result"
    }
   ],
   "source": [
    "fname = '3.daphne' \n",
    "ast = ast_helper(fname)\n",
    "ast"
   ]
  },
  {
   "cell_type": "code",
   "execution_count": 94,
   "id": "45082491",
   "metadata": {},
   "outputs": [
    {
     "name": "stdout",
     "output_type": "stream",
     "text": [
      "CPU times: user 508 ms, sys: 2.14 ms, total: 510 ms\n",
      "Wall time: 509 ms\n"
     ]
    }
   ],
   "source": [
    "%%time\n",
    "samples, sigmas = parse.take_samples(num_samples=100,ast=ast)\n"
   ]
  },
  {
   "cell_type": "code",
   "execution_count": 95,
   "id": "c4f600c1",
   "metadata": {},
   "outputs": [],
   "source": [
    "samples = np.array([sample.item() for sample in samples])"
   ]
  },
  {
   "cell_type": "code",
   "execution_count": 96,
   "id": "f0880f7f",
   "metadata": {},
   "outputs": [],
   "source": [
    "posterior_mean, probs = importance_sampling.weighted_average(samples,sigmas)\n"
   ]
  },
  {
   "cell_type": "code",
   "execution_count": 97,
   "id": "7ed0e38b",
   "metadata": {},
   "outputs": [
    {
     "data": {
      "text/plain": [
       "' Importance sampling: The posterior probability that the first and second datapoint are in the same cluster,i.e. the posterior probability that z[1] == z[2]: 0.109'"
      ]
     },
     "execution_count": 97,
     "metadata": {},
     "output_type": "execute_result"
    }
   ],
   "source": [
    "method = \"Importance sampling\"\n",
    "\n",
    "\"\"\" {}: The posterior probability that the first and second datapoint are in the same cluster,\\\n",
    "i.e. the posterior probability that z[1] == z[2]: {:0.3f}\\\n",
    "\"\"\".format(method,posterior_mean)"
   ]
  },
  {
   "cell_type": "markdown",
   "id": "e6b758fe",
   "metadata": {},
   "source": [
    "### MH Gibbs\n",
    "0.27 s / sample implies ~2.2k samples in 10 min"
   ]
  },
  {
   "cell_type": "code",
   "execution_count": 98,
   "id": "89e73097",
   "metadata": {},
   "outputs": [
    {
     "data": {
      "text/plain": [
       "<module 'mh_gibbs' from '/Users/gw/repos/prob_prog/hw/hw3/mh_gibbs.py'>"
      ]
     },
     "execution_count": 98,
     "metadata": {},
     "output_type": "execute_result"
    }
   ],
   "source": [
    "import graph_based_sampling\n",
    "importlib.reload(graph_based_sampling)\n",
    "importlib.reload(mh_gibbs)"
   ]
  },
  {
   "cell_type": "code",
   "execution_count": 75,
   "id": "4a356d60",
   "metadata": {
    "collapsed": true
   },
   "outputs": [
    {
     "data": {
      "text/plain": [
       "[{},\n",
       " {'V': ['sample5',\n",
       "   'sample0',\n",
       "   'observe18',\n",
       "   'observe12',\n",
       "   'sample17',\n",
       "   'sample7',\n",
       "   'sample9',\n",
       "   'sample15',\n",
       "   'sample19',\n",
       "   'sample6',\n",
       "   'observe14',\n",
       "   'observe10',\n",
       "   'sample13',\n",
       "   'sample4',\n",
       "   'sample2',\n",
       "   'sample1',\n",
       "   'observe8',\n",
       "   'sample3',\n",
       "   'sample11',\n",
       "   'observe16',\n",
       "   'observe20'],\n",
       "  'A': {'sample5': ['observe18',\n",
       "    'observe12',\n",
       "    'observe14',\n",
       "    'observe10',\n",
       "    'observe8',\n",
       "    'observe16',\n",
       "    'observe20'],\n",
       "   'sample0': ['observe18',\n",
       "    'observe12',\n",
       "    'observe14',\n",
       "    'observe10',\n",
       "    'observe8',\n",
       "    'observe16',\n",
       "    'observe20'],\n",
       "   'sample17': ['observe18'],\n",
       "   'sample7': ['observe8'],\n",
       "   'sample9': ['observe10'],\n",
       "   'sample15': ['observe16'],\n",
       "   'sample19': ['observe20'],\n",
       "   'sample6': ['sample17',\n",
       "    'sample7',\n",
       "    'sample9',\n",
       "    'sample15',\n",
       "    'sample19',\n",
       "    'sample13',\n",
       "    'sample11'],\n",
       "   'sample13': ['observe14'],\n",
       "   'sample4': ['observe18',\n",
       "    'observe12',\n",
       "    'observe14',\n",
       "    'observe10',\n",
       "    'observe8',\n",
       "    'observe16',\n",
       "    'observe20'],\n",
       "   'sample2': ['observe18',\n",
       "    'observe12',\n",
       "    'observe14',\n",
       "    'observe10',\n",
       "    'observe8',\n",
       "    'observe16',\n",
       "    'observe20'],\n",
       "   'sample1': ['observe18',\n",
       "    'observe12',\n",
       "    'observe14',\n",
       "    'observe10',\n",
       "    'observe8',\n",
       "    'observe16',\n",
       "    'observe20'],\n",
       "   'sample3': ['observe18',\n",
       "    'observe12',\n",
       "    'observe14',\n",
       "    'observe10',\n",
       "    'observe8',\n",
       "    'observe16',\n",
       "    'observe20'],\n",
       "   'sample11': ['observe12']},\n",
       "  'P': {'sample5': ['sample*', ['gamma', 1.0, 1.0]],\n",
       "   'sample0': ['sample*', ['normal', 0.0, 10.0]],\n",
       "   'observe18': ['observe*',\n",
       "    ['get',\n",
       "     ['vector',\n",
       "      ['normal', 'sample0', 'sample1'],\n",
       "      ['normal', 'sample2', 'sample3'],\n",
       "      ['normal', 'sample4', 'sample5']],\n",
       "     'sample17'],\n",
       "    -0.1],\n",
       "   'observe12': ['observe*',\n",
       "    ['get',\n",
       "     ['vector',\n",
       "      ['normal', 'sample0', 'sample1'],\n",
       "      ['normal', 'sample2', 'sample3'],\n",
       "      ['normal', 'sample4', 'sample5']],\n",
       "     'sample11'],\n",
       "    2.0],\n",
       "   'sample17': ['sample*', ['discrete', 'sample6']],\n",
       "   'sample7': ['sample*', ['discrete', 'sample6']],\n",
       "   'sample9': ['sample*', ['discrete', 'sample6']],\n",
       "   'sample15': ['sample*', ['discrete', 'sample6']],\n",
       "   'sample19': ['sample*', ['discrete', 'sample6']],\n",
       "   'sample6': ['sample*', ['dirichlet', ['vector', 1.0, 1.0, 1.0]]],\n",
       "   'observe14': ['observe*',\n",
       "    ['get',\n",
       "     ['vector',\n",
       "      ['normal', 'sample0', 'sample1'],\n",
       "      ['normal', 'sample2', 'sample3'],\n",
       "      ['normal', 'sample4', 'sample5']],\n",
       "     'sample13'],\n",
       "    1.9],\n",
       "   'observe10': ['observe*',\n",
       "    ['get',\n",
       "     ['vector',\n",
       "      ['normal', 'sample0', 'sample1'],\n",
       "      ['normal', 'sample2', 'sample3'],\n",
       "      ['normal', 'sample4', 'sample5']],\n",
       "     'sample9'],\n",
       "    2.1],\n",
       "   'sample13': ['sample*', ['discrete', 'sample6']],\n",
       "   'sample4': ['sample*', ['normal', 0.0, 10.0]],\n",
       "   'sample2': ['sample*', ['normal', 0.0, 10.0]],\n",
       "   'sample1': ['sample*', ['gamma', 1.0, 1.0]],\n",
       "   'observe8': ['observe*',\n",
       "    ['get',\n",
       "     ['vector',\n",
       "      ['normal', 'sample0', 'sample1'],\n",
       "      ['normal', 'sample2', 'sample3'],\n",
       "      ['normal', 'sample4', 'sample5']],\n",
       "     'sample7'],\n",
       "    1.1],\n",
       "   'sample3': ['sample*', ['gamma', 1.0, 1.0]],\n",
       "   'sample11': ['sample*', ['discrete', 'sample6']],\n",
       "   'observe16': ['observe*',\n",
       "    ['get',\n",
       "     ['vector',\n",
       "      ['normal', 'sample0', 'sample1'],\n",
       "      ['normal', 'sample2', 'sample3'],\n",
       "      ['normal', 'sample4', 'sample5']],\n",
       "     'sample15'],\n",
       "    0.0],\n",
       "   'observe20': ['observe*',\n",
       "    ['get',\n",
       "     ['vector',\n",
       "      ['normal', 'sample0', 'sample1'],\n",
       "      ['normal', 'sample2', 'sample3'],\n",
       "      ['normal', 'sample4', 'sample5']],\n",
       "     'sample19'],\n",
       "    -0.05]},\n",
       "  'Y': {'observe8': 1.1,\n",
       "   'observe10': 2.1,\n",
       "   'observe12': 2.0,\n",
       "   'observe14': 1.9,\n",
       "   'observe16': 0.0,\n",
       "   'observe18': -0.1,\n",
       "   'observe20': -0.05}},\n",
       " ['=', 'sample7', 'sample9']]"
      ]
     },
     "execution_count": 75,
     "metadata": {},
     "output_type": "execute_result"
    }
   ],
   "source": [
    "fname = '3.daphne' \n",
    "graph = graph_helper(fname)\n",
    "graph"
   ]
  },
  {
   "cell_type": "code",
   "execution_count": 99,
   "id": "e00c883d",
   "metadata": {},
   "outputs": [
    {
     "name": "stdout",
     "output_type": "stream",
     "text": [
      "CPU times: user 2.76 s, sys: 4.62 ms, total: 2.77 s\n",
      "Wall time: 2.77 s\n"
     ]
    }
   ],
   "source": [
    "%%time\n",
    "return_list, samples_whole_graph = mh_gibbs.mh_gibbs_wrapper(graph,num_steps=10)"
   ]
  },
  {
   "cell_type": "code",
   "execution_count": 101,
   "id": "9445774f",
   "metadata": {},
   "outputs": [],
   "source": [
    "samples = np.array([sample.item() for sample in return_list])"
   ]
  },
  {
   "cell_type": "code",
   "execution_count": 102,
   "id": "fe62289f",
   "metadata": {},
   "outputs": [],
   "source": [
    "posterior_mean = samples.mean(0)"
   ]
  },
  {
   "cell_type": "code",
   "execution_count": 103,
   "id": "6ff5e679",
   "metadata": {},
   "outputs": [
    {
     "data": {
      "text/plain": [
       "' MH Gibbs: The posterior probability that the first and second datapoint are in the same cluster,i.e. the posterior probability that z[1] == z[2]: 0.455'"
      ]
     },
     "execution_count": 103,
     "metadata": {},
     "output_type": "execute_result"
    }
   ],
   "source": [
    "method = \"MH Gibbs\"\n",
    "\n",
    "\"\"\" {}: The posterior probability that the first and second datapoint are in the same cluster,\\\n",
    "i.e. the posterior probability that z[1] == z[2]: {:0.3f}\\\n",
    "\"\"\".format(method,posterior_mean)"
   ]
  },
  {
   "cell_type": "markdown",
   "id": "38cd7858",
   "metadata": {},
   "source": [
    "## 4.daphne"
   ]
  },
  {
   "cell_type": "markdown",
   "id": "4a3f54ef",
   "metadata": {},
   "source": [
    "### Importance sampling"
   ]
  },
  {
   "cell_type": "code",
   "execution_count": 140,
   "id": "066e5dc5",
   "metadata": {},
   "outputs": [
    {
     "data": {
      "text/plain": [
       "[['let',\n",
       "  ['sprinkler', True],\n",
       "  ['let',\n",
       "   ['wet-grass', True],\n",
       "   ['let',\n",
       "    ['is-cloudy', ['sample', ['flip', 0.5]]],\n",
       "    ['let',\n",
       "     ['is-raining',\n",
       "      ['if',\n",
       "       ['=', 'is-cloudy', True],\n",
       "       ['sample', ['flip', 0.8]],\n",
       "       ['sample', ['flip', 0.2]]]],\n",
       "     ['let',\n",
       "      ['sprinkler-dist',\n",
       "       ['if', ['=', 'is-cloudy', True], ['flip', 0.1], ['flip', 0.5]]],\n",
       "      ['let',\n",
       "       ['wet-grass-dist',\n",
       "        ['if',\n",
       "         ['and', ['=', 'sprinkler', True], ['=', 'is-raining', True]],\n",
       "         ['flip', 0.99],\n",
       "         ['if',\n",
       "          ['and', ['=', 'sprinkler', False], ['=', 'is-raining', False]],\n",
       "          ['flip', 0.0],\n",
       "          ['if',\n",
       "           ['or', ['=', 'sprinkler', True], ['=', 'is-raining', True]],\n",
       "           ['flip', 0.9],\n",
       "           None]]]],\n",
       "       ['let',\n",
       "        ['dontcare0', ['observe', 'sprinkler-dist', 'sprinkler']],\n",
       "        ['let',\n",
       "         ['dontcare1', ['observe', 'wet-grass-dist', 'wet-grass']],\n",
       "         'is-raining']]]]]]]]]"
      ]
     },
     "execution_count": 140,
     "metadata": {},
     "output_type": "execute_result"
    }
   ],
   "source": [
    "fname = '4.daphne' \n",
    "ast = ast_helper(fname)\n",
    "ast"
   ]
  },
  {
   "cell_type": "code",
   "execution_count": 141,
   "id": "d1231ff9",
   "metadata": {},
   "outputs": [
    {
     "name": "stdout",
     "output_type": "stream",
     "text": [
      "CPU times: user 6.88 s, sys: 13.7 ms, total: 6.9 s\n",
      "Wall time: 6.9 s\n"
     ]
    }
   ],
   "source": [
    "%%time\n",
    "num_samples=10000\n",
    "samples,sigmas = parse.take_samples(num_samples,ast=ast)\n"
   ]
  },
  {
   "cell_type": "code",
   "execution_count": 142,
   "id": "f945d37e",
   "metadata": {},
   "outputs": [],
   "source": [
    "samples = np.array([sample.item() for sample in samples])"
   ]
  },
  {
   "cell_type": "code",
   "execution_count": 143,
   "id": "fcd9b5b7",
   "metadata": {},
   "outputs": [
    {
     "data": {
      "text/plain": [
       "0.32295811796018536"
      ]
     },
     "execution_count": 143,
     "metadata": {},
     "output_type": "execute_result"
    }
   ],
   "source": [
    "posterior_mean, probs = importance_sampling.weighted_average(samples,sigmas)\n",
    "posterior_mean"
   ]
  },
  {
   "cell_type": "code",
   "execution_count": 144,
   "id": "bcd32a3b",
   "metadata": {},
   "outputs": [
    {
     "data": {
      "text/plain": [
       "'The posterior probability that it is raining, i.e. of “is-raining.”: 0.323'"
      ]
     },
     "execution_count": 144,
     "metadata": {},
     "output_type": "execute_result"
    }
   ],
   "source": [
    "\"\"\"The posterior probability that it is raining, i.e. of “is-raining.”: {:0.3f}\"\"\".format(posterior_mean)"
   ]
  },
  {
   "cell_type": "markdown",
   "id": "deab0a8d",
   "metadata": {},
   "source": [
    "### MH Gibbs"
   ]
  },
  {
   "cell_type": "code",
   "execution_count": 145,
   "id": "a80616ee",
   "metadata": {},
   "outputs": [
    {
     "data": {
      "text/plain": [
       "[{},\n",
       " {'V': ['observe6', 'sample4', 'sample2', 'observe5', 'sample3'],\n",
       "  'A': {'sample2': ['observe6', 'observe5'],\n",
       "   'sample4': ['observe6'],\n",
       "   'sample3': ['observe6']},\n",
       "  'P': {'sample2': ['sample*', ['flip', 0.5]],\n",
       "   'sample3': ['sample*', ['flip', 0.8]],\n",
       "   'sample4': ['sample*', ['flip', 0.2]],\n",
       "   'observe5': ['observe*',\n",
       "    ['if', ['=', 'sample2', True], ['flip', 0.1], ['flip', 0.5]],\n",
       "    True],\n",
       "   'observe6': ['observe*',\n",
       "    ['if',\n",
       "     ['and',\n",
       "      True,\n",
       "      ['=', ['if', ['=', 'sample2', True], 'sample3', 'sample4'], True]],\n",
       "     ['flip', 0.99],\n",
       "     ['if',\n",
       "      ['and',\n",
       "       False,\n",
       "       ['=', ['if', ['=', 'sample2', True], 'sample3', 'sample4'], False]],\n",
       "      ['flip', 0.0],\n",
       "      ['if',\n",
       "       ['or',\n",
       "        True,\n",
       "        ['=', ['if', ['=', 'sample2', True], 'sample3', 'sample4'], True]],\n",
       "       ['flip', 0.9],\n",
       "       None]]],\n",
       "    True]},\n",
       "  'Y': {'observe5': True, 'observe6': True}},\n",
       " ['if', ['=', 'sample2', True], 'sample3', 'sample4']]"
      ]
     },
     "execution_count": 145,
     "metadata": {},
     "output_type": "execute_result"
    }
   ],
   "source": [
    "fname = '4.daphne' \n",
    "graph = graph_helper(fname)\n",
    "graph"
   ]
  },
  {
   "cell_type": "code",
   "execution_count": null,
   "id": "0db8b8b0",
   "metadata": {},
   "outputs": [],
   "source": [
    "%%time\n",
    "num_steps=10000\n",
    "return_list, samples_whole_graph = mh_gibbs.mh_gibbs_wrapper(graph,num_steps)"
   ]
  },
  {
   "cell_type": "code",
   "execution_count": null,
   "id": "edb9c4f5",
   "metadata": {},
   "outputs": [],
   "source": [
    "samples = np.array([sample.item() for sample in return_list])"
   ]
  },
  {
   "cell_type": "code",
   "execution_count": null,
   "id": "c8bf0273",
   "metadata": {},
   "outputs": [],
   "source": [
    "posterior_mean = samples.mean()"
   ]
  },
  {
   "cell_type": "code",
   "execution_count": null,
   "id": "ffb2a67c",
   "metadata": {},
   "outputs": [],
   "source": [
    "\"\"\"The posterior probability that it is raining, i.e. of “is-raining.”: {:0.3f}\"\"\".format(posterior_mean)"
   ]
  }
 ],
 "metadata": {
  "kernelspec": {
   "display_name": "Python 3 (ipykernel)",
   "language": "python",
   "name": "python3"
  },
  "language_info": {
   "codemirror_mode": {
    "name": "ipython",
    "version": 3
   },
   "file_extension": ".py",
   "mimetype": "text/x-python",
   "name": "python",
   "nbconvert_exporter": "python",
   "pygments_lexer": "ipython3",
   "version": "3.9.0"
  }
 },
 "nbformat": 4,
 "nbformat_minor": 5
}
