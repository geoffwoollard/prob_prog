{
 "cells": [
  {
   "cell_type": "code",
   "execution_count": 1,
   "id": "eb107b9d",
   "metadata": {},
   "outputs": [],
   "source": [
    "import torch\n",
    "import numpy as np\n",
    "import os, json\n",
    "import pandas as pd\n",
    "import matplotlib.pyplot as plt\n",
    "import seaborn as sns\n",
    "\n",
    "from evaluation_based_sampling import evaluate, evaluate_program\n",
    "from daphne import daphne\n",
    "\n",
    "from graph_based_sampling import sample_from_joint"
   ]
  },
  {
   "cell_type": "markdown",
   "id": "8059e149",
   "metadata": {},
   "source": [
    "## Problem 3"
   ]
  },
  {
   "cell_type": "code",
   "execution_count": 2,
   "id": "99f05b42",
   "metadata": {},
   "outputs": [],
   "source": [
    "from load_helper import ast_helper, graph_helper"
   ]
  },
  {
   "cell_type": "markdown",
   "id": "8fbcddd6",
   "metadata": {},
   "source": [
    "### Importance sampling\n",
    "* 10k samples in 1.59s implies 384k samples in 10 min\n",
    "* 1k samples in 5.29s implies 113k samples in 10 min"
   ]
  },
  {
   "cell_type": "code",
   "execution_count": 3,
   "id": "bdc34c3b",
   "metadata": {},
   "outputs": [],
   "source": [
    "import parse\n",
    "import importance_sampling"
   ]
  },
  {
   "cell_type": "code",
   "execution_count": 4,
   "id": "0338a3a8",
   "metadata": {},
   "outputs": [
    {
     "data": {
      "text/plain": [
       "[['let',\n",
       "  ['data', ['vector', 1.1, 2.1, 2.0, 1.9, 0.0, -0.1, -0.05]],\n",
       "  ['let',\n",
       "   ['likes',\n",
       "    ['vector',\n",
       "     ['let',\n",
       "      ['mu', ['sample', ['normal', 0.0, 10.0]]],\n",
       "      ['let',\n",
       "       ['sigma', ['sample', ['gamma', 1.0, 1.0]]],\n",
       "       ['normal', 'mu', 'sigma']]],\n",
       "     ['let',\n",
       "      ['mu', ['sample', ['normal', 0.0, 10.0]]],\n",
       "      ['let',\n",
       "       ['sigma', ['sample', ['gamma', 1.0, 1.0]]],\n",
       "       ['normal', 'mu', 'sigma']]],\n",
       "     ['let',\n",
       "      ['mu', ['sample', ['normal', 0.0, 10.0]]],\n",
       "      ['let',\n",
       "       ['sigma', ['sample', ['gamma', 1.0, 1.0]]],\n",
       "       ['normal', 'mu', 'sigma']]]]],\n",
       "   ['let',\n",
       "    ['pi', ['sample', ['dirichlet', ['vector', 1.0, 1.0, 1.0]]]],\n",
       "    ['let',\n",
       "     ['z-prior', ['discrete', 'pi']],\n",
       "     ['let',\n",
       "      ['z',\n",
       "       ['vector',\n",
       "        ['let',\n",
       "         ['y', ['get', 'data', 0]],\n",
       "         ['let',\n",
       "          ['z', ['sample', 'z-prior']],\n",
       "          ['let', ['_', ['observe', ['get', 'likes', 'z'], 'y']], 'z']]],\n",
       "        ['let',\n",
       "         ['y', ['get', 'data', 1]],\n",
       "         ['let',\n",
       "          ['z', ['sample', 'z-prior']],\n",
       "          ['let', ['_', ['observe', ['get', 'likes', 'z'], 'y']], 'z']]],\n",
       "        ['let',\n",
       "         ['y', ['get', 'data', 2]],\n",
       "         ['let',\n",
       "          ['z', ['sample', 'z-prior']],\n",
       "          ['let', ['_', ['observe', ['get', 'likes', 'z'], 'y']], 'z']]],\n",
       "        ['let',\n",
       "         ['y', ['get', 'data', 3]],\n",
       "         ['let',\n",
       "          ['z', ['sample', 'z-prior']],\n",
       "          ['let', ['_', ['observe', ['get', 'likes', 'z'], 'y']], 'z']]],\n",
       "        ['let',\n",
       "         ['y', ['get', 'data', 4]],\n",
       "         ['let',\n",
       "          ['z', ['sample', 'z-prior']],\n",
       "          ['let', ['_', ['observe', ['get', 'likes', 'z'], 'y']], 'z']]],\n",
       "        ['let',\n",
       "         ['y', ['get', 'data', 5]],\n",
       "         ['let',\n",
       "          ['z', ['sample', 'z-prior']],\n",
       "          ['let', ['_', ['observe', ['get', 'likes', 'z'], 'y']], 'z']]],\n",
       "        ['let',\n",
       "         ['y', ['get', 'data', 6]],\n",
       "         ['let',\n",
       "          ['z', ['sample', 'z-prior']],\n",
       "          ['let', ['_', ['observe', ['get', 'likes', 'z'], 'y']], 'z']]]]],\n",
       "      ['=', ['first', 'z'], ['second', 'z']]]]]]]]"
      ]
     },
     "execution_count": 4,
     "metadata": {},
     "output_type": "execute_result"
    }
   ],
   "source": [
    "fname = '3.daphne' \n",
    "ast = ast_helper(fname)\n",
    "ast"
   ]
  },
  {
   "cell_type": "code",
   "execution_count": 36,
   "id": "4d14d837",
   "metadata": {},
   "outputs": [
    {
     "name": "stdout",
     "output_type": "stream",
     "text": [
      "CPU times: user 10min 7s, sys: 1.91 s, total: 10min 9s\n",
      "Wall time: 10min 11s\n"
     ]
    }
   ],
   "source": [
    "%%time\n",
    "num_samples=113000\n",
    "samples, sigmas = parse.take_samples(num_samples,ast=ast)"
   ]
  },
  {
   "cell_type": "code",
   "execution_count": 37,
   "id": "c5d8a194",
   "metadata": {},
   "outputs": [],
   "source": [
    "samples = np.array([sample.item() for sample in samples])"
   ]
  },
  {
   "cell_type": "code",
   "execution_count": 38,
   "id": "92ee74e2",
   "metadata": {},
   "outputs": [],
   "source": [
    "posterior_mean, probs = importance_sampling.weighted_average(samples,sigmas)"
   ]
  },
  {
   "cell_type": "code",
   "execution_count": 39,
   "id": "d9d54d0c",
   "metadata": {},
   "outputs": [
    {
     "data": {
      "text/plain": [
       "Text(0, 0.5, 'Counts')"
      ]
     },
     "execution_count": 39,
     "metadata": {},
     "output_type": "execute_result"
    },
    {
     "data": {
      "image/png": "[encoded data removed]",
      "text/plain": [
       "<Figure size 432x288 with 1 Axes>"
      ]
     },
     "metadata": {
      "needs_background": "light"
     },
     "output_type": "display_data"
    }
   ],
   "source": [
    "_ = plt.hist(samples.astype(int), weights=probs, bins=2)\n",
    "plt.xlabel('(= (first z) (second z))')\n",
    "plt.title('Problem {} \\n Importance sampling \\n importance sampling weighted counts from proposal'.format(fname))\n",
    "plt.xticks([0,1],[\"False\",\"True\"])\n",
    "plt.ylabel('Counts')"
   ]
  },
  {
   "cell_type": "code",
   "execution_count": 40,
   "id": "a7e01acf",
   "metadata": {},
   "outputs": [
    {
     "data": {
      "text/plain": [
       "' Importance sampling: The posterior probability that the first and second datapoint are in the same cluster,i.e. the posterior probability that z[1] == z[2]: 0.806'"
      ]
     },
     "execution_count": 40,
     "metadata": {},
     "output_type": "execute_result"
    }
   ],
   "source": [
    "method = \"Importance sampling\"\n",
    "\n",
    "\"\"\" {}: The posterior probability that the first and second datapoint are in the same cluster,\\\n",
    "i.e. the posterior probability that z[1] == z[2]: {:0.3f}\\\n",
    "\"\"\".format(method,posterior_mean)"
   ]
  },
  {
   "cell_type": "markdown",
   "id": "da814a28",
   "metadata": {},
   "source": [
    "### MH Gibbs\n",
    "0.27 s / sample implies ~2.2k samples in 10 min\n",
    "0.1k in 30.3s implies 1.98k in 10 min\n",
    "\n",
    "My code is slow, perhaps because of some internal logging and so the burn in needs to be quite large compared with the total run. But the relatively long burn in is justified by the joint increasing."
   ]
  },
  {
   "cell_type": "code",
   "execution_count": 3,
   "id": "751d829e",
   "metadata": {},
   "outputs": [],
   "source": [
    "import graph_based_sampling\n",
    "import mh_gibbs\n",
    "from hmc import compute_log_joint_prob"
   ]
  },
  {
   "cell_type": "code",
   "execution_count": 4,
   "id": "0ca5b8d2",
   "metadata": {},
   "outputs": [
    {
     "data": {
      "text/plain": [
       "[{},\n",
       " {'V': ['sample5',\n",
       "   'sample0',\n",
       "   'observe18',\n",
       "   'observe12',\n",
       "   'sample17',\n",
       "   'sample7',\n",
       "   'sample9',\n",
       "   'sample15',\n",
       "   'sample19',\n",
       "   'sample6',\n",
       "   'observe14',\n",
       "   'observe10',\n",
       "   'sample13',\n",
       "   'sample4',\n",
       "   'sample2',\n",
       "   'sample1',\n",
       "   'observe8',\n",
       "   'sample3',\n",
       "   'sample11',\n",
       "   'observe16',\n",
       "   'observe20'],\n",
       "  'A': {'sample5': ['observe18',\n",
       "    'observe12',\n",
       "    'observe14',\n",
       "    'observe10',\n",
       "    'observe8',\n",
       "    'observe16',\n",
       "    'observe20'],\n",
       "   'sample0': ['observe18',\n",
       "    'observe12',\n",
       "    'observe14',\n",
       "    'observe10',\n",
       "    'observe8',\n",
       "    'observe16',\n",
       "    'observe20'],\n",
       "   'sample17': ['observe18'],\n",
       "   'sample7': ['observe8'],\n",
       "   'sample9': ['observe10'],\n",
       "   'sample15': ['observe16'],\n",
       "   'sample19': ['observe20'],\n",
       "   'sample6': ['sample17',\n",
       "    'sample7',\n",
       "    'sample9',\n",
       "    'sample15',\n",
       "    'sample19',\n",
       "    'sample13',\n",
       "    'sample11'],\n",
       "   'sample13': ['observe14'],\n",
       "   'sample4': ['observe18',\n",
       "    'observe12',\n",
       "    'observe14',\n",
       "    'observe10',\n",
       "    'observe8',\n",
       "    'observe16',\n",
       "    'observe20'],\n",
       "   'sample2': ['observe18',\n",
       "    'observe12',\n",
       "    'observe14',\n",
       "    'observe10',\n",
       "    'observe8',\n",
       "    'observe16',\n",
       "    'observe20'],\n",
       "   'sample1': ['observe18',\n",
       "    'observe12',\n",
       "    'observe14',\n",
       "    'observe10',\n",
       "    'observe8',\n",
       "    'observe16',\n",
       "    'observe20'],\n",
       "   'sample3': ['observe18',\n",
       "    'observe12',\n",
       "    'observe14',\n",
       "    'observe10',\n",
       "    'observe8',\n",
       "    'observe16',\n",
       "    'observe20'],\n",
       "   'sample11': ['observe12']},\n",
       "  'P': {'sample5': ['sample*', ['gamma', 1.0, 1.0]],\n",
       "   'sample0': ['sample*', ['normal', 0.0, 10.0]],\n",
       "   'observe18': ['observe*',\n",
       "    ['get',\n",
       "     ['vector',\n",
       "      ['normal', 'sample0', 'sample1'],\n",
       "      ['normal', 'sample2', 'sample3'],\n",
       "      ['normal', 'sample4', 'sample5']],\n",
       "     'sample17'],\n",
       "    -0.1],\n",
       "   'observe12': ['observe*',\n",
       "    ['get',\n",
       "     ['vector',\n",
       "      ['normal', 'sample0', 'sample1'],\n",
       "      ['normal', 'sample2', 'sample3'],\n",
       "      ['normal', 'sample4', 'sample5']],\n",
       "     'sample11'],\n",
       "    2.0],\n",
       "   'sample17': ['sample*', ['discrete', 'sample6']],\n",
       "   'sample7': ['sample*', ['discrete', 'sample6']],\n",
       "   'sample9': ['sample*', ['discrete', 'sample6']],\n",
       "   'sample15': ['sample*', ['discrete', 'sample6']],\n",
       "   'sample19': ['sample*', ['discrete', 'sample6']],\n",
       "   'sample6': ['sample*', ['dirichlet', ['vector', 1.0, 1.0, 1.0]]],\n",
       "   'observe14': ['observe*',\n",
       "    ['get',\n",
       "     ['vector',\n",
       "      ['normal', 'sample0', 'sample1'],\n",
       "      ['normal', 'sample2', 'sample3'],\n",
       "      ['normal', 'sample4', 'sample5']],\n",
       "     'sample13'],\n",
       "    1.9],\n",
       "   'observe10': ['observe*',\n",
       "    ['get',\n",
       "     ['vector',\n",
       "      ['normal', 'sample0', 'sample1'],\n",
       "      ['normal', 'sample2', 'sample3'],\n",
       "      ['normal', 'sample4', 'sample5']],\n",
       "     'sample9'],\n",
       "    2.1],\n",
       "   'sample13': ['sample*', ['discrete', 'sample6']],\n",
       "   'sample4': ['sample*', ['normal', 0.0, 10.0]],\n",
       "   'sample2': ['sample*', ['normal', 0.0, 10.0]],\n",
       "   'sample1': ['sample*', ['gamma', 1.0, 1.0]],\n",
       "   'observe8': ['observe*',\n",
       "    ['get',\n",
       "     ['vector',\n",
       "      ['normal', 'sample0', 'sample1'],\n",
       "      ['normal', 'sample2', 'sample3'],\n",
       "      ['normal', 'sample4', 'sample5']],\n",
       "     'sample7'],\n",
       "    1.1],\n",
       "   'sample3': ['sample*', ['gamma', 1.0, 1.0]],\n",
       "   'sample11': ['sample*', ['discrete', 'sample6']],\n",
       "   'observe16': ['observe*',\n",
       "    ['get',\n",
       "     ['vector',\n",
       "      ['normal', 'sample0', 'sample1'],\n",
       "      ['normal', 'sample2', 'sample3'],\n",
       "      ['normal', 'sample4', 'sample5']],\n",
       "     'sample15'],\n",
       "    0.0],\n",
       "   'observe20': ['observe*',\n",
       "    ['get',\n",
       "     ['vector',\n",
       "      ['normal', 'sample0', 'sample1'],\n",
       "      ['normal', 'sample2', 'sample3'],\n",
       "      ['normal', 'sample4', 'sample5']],\n",
       "     'sample19'],\n",
       "    -0.05]},\n",
       "  'Y': {'observe8': 1.1,\n",
       "   'observe10': 2.1,\n",
       "   'observe12': 2.0,\n",
       "   'observe14': 1.9,\n",
       "   'observe16': 0.0,\n",
       "   'observe18': -0.1,\n",
       "   'observe20': -0.05}},\n",
       " ['=', 'sample7', 'sample9']]"
      ]
     },
     "execution_count": 4,
     "metadata": {},
     "output_type": "execute_result"
    }
   ],
   "source": [
    "fname = '3.daphne' \n",
    "graph = graph_helper(fname)\n",
    "graph"
   ]
  },
  {
   "cell_type": "code",
   "execution_count": 7,
   "id": "dee9de8b",
   "metadata": {},
   "outputs": [
    {
     "name": "stdout",
     "output_type": "stream",
     "text": [
      "CPU times: user 1h 38min 30s, sys: 30.1 s, total: 1h 39min\n",
      "Wall time: 2h 7min 20s\n"
     ]
    }
   ],
   "source": [
    "%%time\n",
    "num_steps=19800 # 30s / 10 so 16.5 hrs?\n",
    "return_list, samples_whole_graph = mh_gibbs.mh_gibbs_wrapper(graph,num_steps)"
   ]
  },
  {
   "cell_type": "code",
   "execution_count": 8,
   "id": "3c0e193d",
   "metadata": {},
   "outputs": [],
   "source": [
    "samples = np.array([sample.item() for sample in return_list])"
   ]
  },
  {
   "cell_type": "code",
   "execution_count": 50,
   "id": "14d22aef",
   "metadata": {},
   "outputs": [
    {
     "data": {
      "text/plain": [
       "Text(0.5, 1.0, 'MH Gibbs | 3.daphne')"
      ]
     },
     "execution_count": 50,
     "metadata": {},
     "output_type": "execute_result"
    },
    {
     "data": {
      "image/png": "[encoded data removed]",
      "text/plain": [
       "<Figure size 432x288 with 1 Axes>"
      ]
     },
     "metadata": {
      "needs_background": "light"
     },
     "output_type": "display_data"
    }
   ],
   "source": [
    "burn_in = 100#int(0.01*num_steps)\n",
    "pd.Series(samples[burn_in:]).astype(float).plot.hist()\n",
    "plt.xlabel('(= (first z) (second z))')\n",
    "plt.title('MH Gibbs | {}'.format(fname))"
   ]
  },
  {
   "cell_type": "code",
   "execution_count": 51,
   "id": "608e8ee1",
   "metadata": {},
   "outputs": [],
   "source": [
    "posterior_mean = samples[burn_in:].mean(0)"
   ]
  },
  {
   "cell_type": "code",
   "execution_count": 52,
   "id": "d04e1343",
   "metadata": {},
   "outputs": [
    {
     "data": {
      "text/plain": [
       "' MH Gibbs: The posterior probability that the first and second datapoint are in the same cluster,i.e. the posterior probability that z[1] == z[2]: 0.707'"
      ]
     },
     "execution_count": 52,
     "metadata": {},
     "output_type": "execute_result"
    }
   ],
   "source": [
    "method = \"MH Gibbs\"\n",
    "\n",
    "\"\"\" {}: The posterior probability that the first and second datapoint are in the same cluster,\\\n",
    "i.e. the posterior probability that z[1] == z[2]: {:0.3f}\\\n",
    "\"\"\".format(method,posterior_mean)"
   ]
  },
  {
   "cell_type": "code",
   "execution_count": 56,
   "id": "20d1525f",
   "metadata": {},
   "outputs": [
    {
     "data": {
      "text/plain": [
       "0.0715499751589289"
      ]
     },
     "execution_count": 56,
     "metadata": {},
     "output_type": "execute_result"
    }
   ],
   "source": [
    "gt = .660\n",
    "(posterior_mean - gt) / gt"
   ]
  },
  {
   "cell_type": "code",
   "execution_count": 13,
   "id": "1d85e347",
   "metadata": {},
   "outputs": [
    {
     "data": {
      "text/plain": [
       "Text(0.5, 1.0, '3.daphne | MH Gibbs \\n Sample trace')"
      ]
     },
     "execution_count": 13,
     "metadata": {},
     "output_type": "execute_result"
    },
    {
     "data": {
      "image/png": "[encoded data removed]",
      "text/plain": [
       "<Figure size 432x288 with 1 Axes>"
      ]
     },
     "metadata": {
      "needs_background": "light"
     },
     "output_type": "display_data"
    }
   ],
   "source": [
    "pd.Series(samples).astype(int).plot()\n",
    "plt.xlabel('Iteration')\n",
    "plt.ylabel('z[1] == z[2]')\n",
    "plt.title('{} | MH Gibbs \\n Sample trace'.format(fname))"
   ]
  },
  {
   "cell_type": "code",
   "execution_count": 14,
   "id": "dc992f74",
   "metadata": {},
   "outputs": [],
   "source": [
    "G = graph[1]\n",
    "Y = G['Y']\n",
    "Y = {key:evaluate([value])[0] for key,value in Y.items()}\n",
    "P = G['P']"
   ]
  },
  {
   "cell_type": "code",
   "execution_count": 15,
   "id": "533e4b6f",
   "metadata": {},
   "outputs": [],
   "source": [
    "#%%time\n",
    "size = len(samples_whole_graph)\n",
    "jll = np.zeros(size)\n",
    "for idx in range(size):\n",
    "    jll[idx] = compute_log_joint_prob(samples_whole_graph[idx],Y,P)"
   ]
  },
  {
   "cell_type": "code",
   "execution_count": 16,
   "id": "d4dd8cf9",
   "metadata": {},
   "outputs": [
    {
     "data": {
      "text/plain": [
       "Text(0.5, 1.0, '3.daphne | MH Gibbs \\n Joint density')"
      ]
     },
     "execution_count": 16,
     "metadata": {},
     "output_type": "execute_result"
    },
    {
     "data": {
      "image/png": "[encoded data removed]",
      "text/plain": [
       "<Figure size 432x288 with 1 Axes>"
      ]
     },
     "metadata": {
      "needs_background": "light"
     },
     "output_type": "display_data"
    }
   ],
   "source": [
    "pd.Series(jll).plot()\n",
    "plt.xlabel('Iteration (t)')\n",
    "plt.ylabel(r'$-\\log p(X=x_t,Y=y_t)$')\n",
    "plt.title('{} | MH Gibbs \\n Joint density'.format(fname))"
   ]
  }
 ],
 "metadata": {
  "kernelspec": {
   "display_name": "Python 3 (ipykernel)",
   "language": "python",
   "name": "python3"
  },
  "language_info": {
   "codemirror_mode": {
    "name": "ipython",
    "version": 3
   },
   "file_extension": ".py",
   "mimetype": "text/x-python",
   "name": "python",
   "nbconvert_exporter": "python",
   "pygments_lexer": "ipython3",
   "version": "3.9.0"
  }
 },
 "nbformat": 4,
 "nbformat_minor": 5
}
