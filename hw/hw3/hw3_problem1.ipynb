{
 "cells": [
  {
   "cell_type": "code",
   "execution_count": 1,
   "id": "eb107b9d",
   "metadata": {},
   "outputs": [],
   "source": [
    "import torch\n",
    "import numpy as np\n",
    "import os, json\n",
    "import pandas as pd\n",
    "import matplotlib.pyplot as plt\n",
    "import seaborn as sns\n",
    "import importlib\n",
    "\n",
    "from evaluation_based_sampling import evaluate, evaluate_program\n",
    "from daphne import daphne\n",
    "\n",
    "from graph_based_sampling import sample_from_joint"
   ]
  },
  {
   "cell_type": "markdown",
   "id": "8059e149",
   "metadata": {},
   "source": [
    "## Problem 1"
   ]
  },
  {
   "cell_type": "code",
   "execution_count": 2,
   "id": "99f05b42",
   "metadata": {},
   "outputs": [],
   "source": [
    "from load_helper import ast_helper, graph_helper"
   ]
  },
  {
   "cell_type": "markdown",
   "id": "8fbcddd6",
   "metadata": {},
   "source": [
    "### Importance sampling\n",
    "10k in 3.34s implies 1.7e6 in 10 min"
   ]
  },
  {
   "cell_type": "code",
   "execution_count": 3,
   "id": "bdc34c3b",
   "metadata": {},
   "outputs": [
    {
     "data": {
      "text/plain": [
       "<module 'parse' from '/Users/gw/repos/prob_prog/hw/hw3/parse.py'>"
      ]
     },
     "execution_count": 3,
     "metadata": {},
     "output_type": "execute_result"
    }
   ],
   "source": [
    "import parse\n",
    "import importance_sampling\n",
    "import importlib\n",
    "importlib.reload(parse)"
   ]
  },
  {
   "cell_type": "code",
   "execution_count": 35,
   "id": "e2d5fff4",
   "metadata": {},
   "outputs": [
    {
     "data": {
      "text/plain": [
       "[['let',\n",
       "  ['mu', ['sample', ['normal', 1, ['sqrt', 5]]]],\n",
       "  ['let',\n",
       "   ['sigma', ['sqrt', 2]],\n",
       "   ['let',\n",
       "    ['lik', ['normal', 'mu', 'sigma']],\n",
       "    ['let',\n",
       "     ['dontcare0', ['observe', 'lik', 8]],\n",
       "     ['let', ['dontcare1', ['observe', 'lik', 9]], 'mu']]]]]]"
      ]
     },
     "execution_count": 35,
     "metadata": {},
     "output_type": "execute_result"
    }
   ],
   "source": [
    "fname = '1.daphne' \n",
    "ast = ast_helper(fname)\n",
    "ast"
   ]
  },
  {
   "cell_type": "code",
   "execution_count": 53,
   "id": "e839ecf1",
   "metadata": {},
   "outputs": [
    {
     "name": "stdout",
     "output_type": "stream",
     "text": [
      "CPU times: user 10min 27s, sys: 3.59 s, total: 10min 31s\n",
      "Wall time: 10min 32s\n"
     ]
    }
   ],
   "source": [
    "%%time\n",
    "num_samples=1790000\n",
    "samples, sigmas = parse.take_samples(num_samples,ast)\n"
   ]
  },
  {
   "cell_type": "code",
   "execution_count": 54,
   "id": "341fe6cd",
   "metadata": {},
   "outputs": [],
   "source": [
    "samples = np.array([sample.item() for sample in samples])"
   ]
  },
  {
   "cell_type": "code",
   "execution_count": 55,
   "id": "2fe08f2a",
   "metadata": {},
   "outputs": [
    {
     "data": {
      "text/plain": [
       "7.2549860583141825"
      ]
     },
     "execution_count": 55,
     "metadata": {},
     "output_type": "execute_result"
    }
   ],
   "source": [
    "posterior_mean, probs = importance_sampling.weighted_average(samples,sigmas)\n",
    "posterior_mean"
   ]
  },
  {
   "cell_type": "code",
   "execution_count": 60,
   "id": "f952bbb9",
   "metadata": {},
   "outputs": [
    {
     "data": {
      "text/plain": [
       "Text(0, 0.5, '(weighted) Counts')"
      ]
     },
     "execution_count": 60,
     "metadata": {},
     "output_type": "execute_result"
    },
    {
     "data": {
      "image/png": "[encoded data removed]",
      "text/plain": [
       "<Figure size 432x288 with 1 Axes>"
      ]
     },
     "metadata": {
      "needs_background": "light"
     },
     "output_type": "display_data"
    }
   ],
   "source": [
    "# pd.Series(samples).plot.hist()\n",
    "_ = plt.hist(samples, weights=probs, bins=100)\n",
    "plt.title('Problem {} \\n Importance sampling \\n importance sampling weighted counts from proposal'.format(fname))\n",
    "plt.xlabel('mu')\n",
    "plt.ylabel('(weighted) Counts')\n"
   ]
  },
  {
   "cell_type": "code",
   "execution_count": 57,
   "id": "b8c59fe6",
   "metadata": {},
   "outputs": [],
   "source": [
    "expectation_samples_2, probs = importance_sampling.weighted_average(samples**2,sigmas) \n",
    "posterior_variance = expectation_samples_2 - posterior_mean**2"
   ]
  },
  {
   "cell_type": "code",
   "execution_count": 58,
   "id": "1fff7d74",
   "metadata": {},
   "outputs": [
    {
     "data": {
      "text/plain": [
       "'Importance sampling: posterior mean of mu 7.255 | variance 8.292e-01'"
      ]
     },
     "execution_count": 58,
     "metadata": {},
     "output_type": "execute_result"
    }
   ],
   "source": [
    "\"Importance sampling: posterior mean of mu {:1.3f} | variance {:1.3e}\".format(posterior_mean,posterior_variance)"
   ]
  },
  {
   "cell_type": "markdown",
   "id": "a589d96f",
   "metadata": {},
   "source": [
    "### MH within Gibbs\n",
    "5k in 5.58s implies 537k samples in 10 min"
   ]
  },
  {
   "cell_type": "code",
   "execution_count": 11,
   "id": "01bd1ae2",
   "metadata": {},
   "outputs": [
    {
     "data": {
      "text/plain": [
       "<module 'mh_gibbs' from '/Users/gw/repos/prob_prog/hw/hw3/mh_gibbs.py'>"
      ]
     },
     "execution_count": 11,
     "metadata": {},
     "output_type": "execute_result"
    }
   ],
   "source": [
    "import mh_gibbs \n",
    "from hmc import compute_log_joint_prob\n",
    "importlib.reload(mh_gibbs)"
   ]
  },
  {
   "cell_type": "code",
   "execution_count": 12,
   "id": "979c9bac",
   "metadata": {},
   "outputs": [
    {
     "data": {
      "text/plain": [
       "[{},\n",
       " {'V': ['observe3', 'observe4', 'sample2'],\n",
       "  'A': {'sample2': ['observe3', 'observe4']},\n",
       "  'P': {'sample2': ['sample*', ['normal', 1, ['sqrt', 5]]],\n",
       "   'observe3': ['observe*', ['normal', 'sample2', ['sqrt', 2]], 8],\n",
       "   'observe4': ['observe*', ['normal', 'sample2', ['sqrt', 2]], 9]},\n",
       "  'Y': {'observe3': 8, 'observe4': 9}},\n",
       " 'sample2']"
      ]
     },
     "execution_count": 12,
     "metadata": {},
     "output_type": "execute_result"
    }
   ],
   "source": [
    "fname = '1.daphne' \n",
    "graph = graph_helper(fname)\n",
    "graph"
   ]
  },
  {
   "cell_type": "code",
   "execution_count": 13,
   "id": "8dc023ec",
   "metadata": {},
   "outputs": [
    {
     "name": "stdout",
     "output_type": "stream",
     "text": [
      "CPU times: user 9min 48s, sys: 2.11 s, total: 9min 51s\n",
      "Wall time: 9min 54s\n"
     ]
    }
   ],
   "source": [
    "%%time\n",
    "num_steps=537000\n",
    "return_list, samples_whole_graph = mh_gibbs.mh_gibbs_wrapper(graph,num_steps=num_steps)"
   ]
  },
  {
   "cell_type": "code",
   "execution_count": 14,
   "id": "045f671c",
   "metadata": {},
   "outputs": [],
   "source": [
    "samples = np.array([x.item() for x in return_list])"
   ]
  },
  {
   "cell_type": "code",
   "execution_count": 15,
   "id": "047ad612",
   "metadata": {},
   "outputs": [
    {
     "data": {
      "text/plain": [
       "Text(0.5, 0, 'mu')"
      ]
     },
     "execution_count": 15,
     "metadata": {},
     "output_type": "execute_result"
    },
    {
     "data": {
      "image/png": "[encoded data removed]",
      "text/plain": [
       "<Figure size 432x288 with 1 Axes>"
      ]
     },
     "metadata": {
      "needs_background": "light"
     },
     "output_type": "display_data"
    }
   ],
   "source": [
    "burn_in = int(0.01*num_steps)\n",
    "sr = pd.Series(samples[burn_in:])\n",
    "sr.plot.hist()\n",
    "sr.mean()\n",
    "plt.title('burn in {:} / {:} total steps \\n E[mu]={:1.2f}'.format(burn_in, len(samples),sr.mean()))\n",
    "plt.xlabel('mu')"
   ]
  },
  {
   "cell_type": "code",
   "execution_count": 16,
   "id": "a04a636f",
   "metadata": {},
   "outputs": [
    {
     "data": {
      "text/plain": [
       "'MH Gibbs: posterior mean of mu 7.310 | variance 8.421e-01'"
      ]
     },
     "execution_count": 16,
     "metadata": {},
     "output_type": "execute_result"
    }
   ],
   "source": [
    "\"MH Gibbs: posterior mean of mu {:1.3f} | variance {:1.3e}\".format(sr.mean(),sr.var())"
   ]
  },
  {
   "cell_type": "code",
   "execution_count": 17,
   "id": "193bbc8d",
   "metadata": {},
   "outputs": [
    {
     "data": {
      "text/plain": [
       "Text(0.5, 1.0, '1.daphne | MH Gibbs \\n Sample trace')"
      ]
     },
     "execution_count": 17,
     "metadata": {},
     "output_type": "execute_result"
    },
    {
     "data": {
      "image/png": "[encoded data removed]",
      "text/plain": [
       "<Figure size 432x288 with 1 Axes>"
      ]
     },
     "metadata": {
      "needs_background": "light"
     },
     "output_type": "display_data"
    }
   ],
   "source": [
    "pd.Series(samples).plot()\n",
    "plt.xlabel('Iteration')\n",
    "plt.ylabel('mu')\n",
    "plt.title('{} | MH Gibbs \\n Sample trace'.format(fname))"
   ]
  },
  {
   "cell_type": "code",
   "execution_count": 18,
   "id": "04f715a9",
   "metadata": {},
   "outputs": [],
   "source": [
    "G = graph[1]\n",
    "Y = G['Y']\n",
    "Y = {key:evaluate([value])[0] for key,value in Y.items()}\n",
    "P = G['P']"
   ]
  },
  {
   "cell_type": "code",
   "execution_count": 19,
   "id": "3ec8808c",
   "metadata": {},
   "outputs": [],
   "source": [
    "size = len(samples_whole_graph)\n",
    "jll = np.zeros(size)\n",
    "for idx in range(size):\n",
    "    jll[idx] = compute_log_joint_prob(samples_whole_graph[idx],Y,P)"
   ]
  },
  {
   "cell_type": "code",
   "execution_count": 20,
   "id": "d0b5d9c8",
   "metadata": {},
   "outputs": [
    {
     "data": {
      "text/plain": [
       "Text(0.5, 1.0, '1.daphne | MH Gibbs \\n Joint density')"
      ]
     },
     "execution_count": 20,
     "metadata": {},
     "output_type": "execute_result"
    },
    {
     "data": {
      "image/png": "[encoded data removed]",
      "text/plain": [
       "<Figure size 432x288 with 1 Axes>"
      ]
     },
     "metadata": {
      "needs_background": "light"
     },
     "output_type": "display_data"
    }
   ],
   "source": [
    "pd.Series(jll).plot()\n",
    "plt.xlabel('Iteration (t)')\n",
    "plt.ylabel(r'$-\\log p(X=x_t,Y=y_t)$')\n",
    "plt.title('{} | MH Gibbs \\n Joint density'.format(fname))"
   ]
  },
  {
   "cell_type": "markdown",
   "id": "79d95bdd",
   "metadata": {},
   "source": [
    "### HMC\n",
    "5k samples in 41.4 s implies 72k in 10 min"
   ]
  },
  {
   "cell_type": "code",
   "execution_count": 61,
   "id": "cc319761",
   "metadata": {},
   "outputs": [],
   "source": [
    "fname = '1.daphne' \n",
    "graph = graph_helper(fname)"
   ]
  },
  {
   "cell_type": "code",
   "execution_count": 62,
   "id": "c649e680",
   "metadata": {},
   "outputs": [],
   "source": [
    "import hmc\n",
    "importlib.reload(hmc)\n",
    "from hmc import hmc_wrapper"
   ]
  },
  {
   "cell_type": "code",
   "execution_count": null,
   "id": "5f29926e",
   "metadata": {},
   "outputs": [],
   "source": [
    "%%time\n",
    "num_samples=72000\n",
    "return_list, samples_whole_graph = hmc_wrapper(graph,num_samples,T=20,epsilon=0.1)"
   ]
  },
  {
   "cell_type": "code",
   "execution_count": null,
   "id": "d3b2f13a",
   "metadata": {},
   "outputs": [],
   "source": [
    "samples = np.array([x.item() for x in return_list])"
   ]
  },
  {
   "cell_type": "code",
   "execution_count": null,
   "id": "ceea0e0a",
   "metadata": {},
   "outputs": [],
   "source": [
    "burn_in = int(0.01*num_samples) # ~500 from inspecting joint density plot, with given hyper params T, epsilon, M\n",
    "sr = pd.Series(samples[burn_in:])\n",
    "sr.plot.hist()\n",
    "sr.mean()\n",
    "plt.title('{} | HMC \\n {:} total steps \\n E[mu]={:1.2f}'.format(fname,len(samples),sr.mean()))\n",
    "plt.xlabel('mu')"
   ]
  },
  {
   "cell_type": "code",
   "execution_count": null,
   "id": "29e0ab58",
   "metadata": {},
   "outputs": [],
   "source": [
    "\"HMC: posterior mean of mu {:1.3f} | variance {:1.3e}\".format(sr.mean(),sr.var())"
   ]
  },
  {
   "cell_type": "code",
   "execution_count": null,
   "id": "d8f83724",
   "metadata": {},
   "outputs": [],
   "source": [
    "pd.Series(samples).plot()\n",
    "plt.xlabel('Iteration')\n",
    "plt.ylabel('mu')\n",
    "plt.title('{} | HMC \\n Sample trace'.format(fname))"
   ]
  },
  {
   "cell_type": "code",
   "execution_count": null,
   "id": "d654397a",
   "metadata": {},
   "outputs": [],
   "source": [
    "size = len(samples_whole_graph)\n",
    "jll = np.zeros(size)\n",
    "for idx in range(size):\n",
    "    jll[idx] = compute_log_joint_prob(samples_whole_graph[idx],Y,P)"
   ]
  },
  {
   "cell_type": "code",
   "execution_count": null,
   "id": "9dfe94bf",
   "metadata": {},
   "outputs": [],
   "source": [
    "pd.Series(jll).plot()\n",
    "plt.xlabel('Iteration (t)')\n",
    "plt.ylabel(r'$-\\log p(X=x_t,Y=y_t)$')\n",
    "plt.title('{} | HMC \\n Joint density'.format(fname))"
   ]
  }
 ],
 "metadata": {
  "kernelspec": {
   "display_name": "Python 3 (ipykernel)",
   "language": "python",
   "name": "python3"
  },
  "language_info": {
   "codemirror_mode": {
    "name": "ipython",
    "version": 3
   },
   "file_extension": ".py",
   "mimetype": "text/x-python",
   "name": "python",
   "nbconvert_exporter": "python",
   "pygments_lexer": "ipython3",
   "version": "3.9.0"
  }
 },
 "nbformat": 4,
 "nbformat_minor": 5
}
