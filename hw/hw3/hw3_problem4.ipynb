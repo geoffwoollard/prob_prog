{
 "cells": [
  {
   "cell_type": "code",
   "execution_count": 1,
   "id": "eb107b9d",
   "metadata": {},
   "outputs": [],
   "source": [
    "import torch\n",
    "import numpy as np\n",
    "import os, json\n",
    "import pandas as pd\n",
    "import matplotlib.pyplot as plt\n",
    "import seaborn as sns\n",
    "import importlib\n",
    "\n",
    "from evaluation_based_sampling import evaluate, evaluate_program\n",
    "from daphne import daphne\n",
    "\n",
    "from graph_based_sampling import sample_from_joint"
   ]
  },
  {
   "cell_type": "markdown",
   "id": "8059e149",
   "metadata": {},
   "source": [
    "## Problem 4"
   ]
  },
  {
   "cell_type": "code",
   "execution_count": 2,
   "id": "99f05b42",
   "metadata": {},
   "outputs": [],
   "source": [
    "from load_helper import ast_helper, graph_helper"
   ]
  },
  {
   "cell_type": "markdown",
   "id": "2d78f817",
   "metadata": {},
   "source": [
    "### Importance sampling\n",
    "* 10k samples in 6.82s implies 879k samples in 10 min"
   ]
  },
  {
   "cell_type": "code",
   "execution_count": 3,
   "id": "bdc34c3b",
   "metadata": {},
   "outputs": [],
   "source": [
    "import parse\n",
    "import importance_sampling\n",
    "import importlib\n"
   ]
  },
  {
   "cell_type": "code",
   "execution_count": 4,
   "id": "e03e3b85",
   "metadata": {},
   "outputs": [
    {
     "data": {
      "text/plain": [
       "[['let',\n",
       "  ['sprinkler', True],\n",
       "  ['let',\n",
       "   ['wet-grass', True],\n",
       "   ['let',\n",
       "    ['is-cloudy', ['sample', ['flip', 0.5]]],\n",
       "    ['let',\n",
       "     ['is-raining',\n",
       "      ['if',\n",
       "       ['=', 'is-cloudy', True],\n",
       "       ['sample', ['flip', 0.8]],\n",
       "       ['sample', ['flip', 0.2]]]],\n",
       "     ['let',\n",
       "      ['sprinkler-dist',\n",
       "       ['if', ['=', 'is-cloudy', True], ['flip', 0.1], ['flip', 0.5]]],\n",
       "      ['let',\n",
       "       ['wet-grass-dist',\n",
       "        ['if',\n",
       "         ['and', ['=', 'sprinkler', True], ['=', 'is-raining', True]],\n",
       "         ['flip', 0.99],\n",
       "         ['if',\n",
       "          ['and', ['=', 'sprinkler', False], ['=', 'is-raining', False]],\n",
       "          ['flip', 0.0],\n",
       "          ['if',\n",
       "           ['or', ['=', 'sprinkler', True], ['=', 'is-raining', True]],\n",
       "           ['flip', 0.9],\n",
       "           None]]]],\n",
       "       ['let',\n",
       "        ['dontcare0', ['observe', 'sprinkler-dist', 'sprinkler']],\n",
       "        ['let',\n",
       "         ['dontcare1', ['observe', 'wet-grass-dist', 'wet-grass']],\n",
       "         'is-raining']]]]]]]]]"
      ]
     },
     "execution_count": 4,
     "metadata": {},
     "output_type": "execute_result"
    }
   ],
   "source": [
    "fname = '4.daphne' \n",
    "ast = ast_helper(fname)\n",
    "ast"
   ]
  },
  {
   "cell_type": "code",
   "execution_count": null,
   "id": "aece6802",
   "metadata": {},
   "outputs": [],
   "source": [
    "%%time\n",
    "num_samples=879000\n",
    "samples,sigmas = parse.take_samples(num_samples,ast=ast)\n"
   ]
  },
  {
   "cell_type": "code",
   "execution_count": null,
   "id": "ac9ed8d7",
   "metadata": {},
   "outputs": [],
   "source": [
    "samples = np.array([sample.item() for sample in samples])"
   ]
  },
  {
   "cell_type": "code",
   "execution_count": null,
   "id": "e09456ec",
   "metadata": {},
   "outputs": [],
   "source": [
    "posterior_mean, probs = importance_sampling.weighted_average(samples,sigmas)\n",
    "posterior_mean"
   ]
  },
  {
   "cell_type": "code",
   "execution_count": null,
   "id": "d4a6e88c",
   "metadata": {},
   "outputs": [],
   "source": [
    "_ = plt.hist(samples.astype(int), weights=probs, bins=2)\n",
    "plt.xlabel('is-raining')\n",
    "plt.title('Problem {} \\n Importance sampling \\n importance sampling weighted counts from proposal'.format(fname))\n",
    "plt.xticks([0,1],[\"False\",\"True\"])\n",
    "plt.ylabel('Counts')"
   ]
  },
  {
   "cell_type": "code",
   "execution_count": null,
   "id": "8316acbb",
   "metadata": {},
   "outputs": [],
   "source": [
    "\"\"\"The posterior probability that it is raining, i.e. of “is-raining.”: {:0.3f}\"\"\".format(posterior_mean)"
   ]
  },
  {
   "cell_type": "markdown",
   "id": "74870257",
   "metadata": {},
   "source": [
    "### MH Gibbs\n",
    "2k samples in 8.55s implies 140k samples in 10 min"
   ]
  },
  {
   "cell_type": "code",
   "execution_count": 10,
   "id": "65ffbeba",
   "metadata": {},
   "outputs": [],
   "source": [
    "import graph_based_sampling\n",
    "import mh_gibbs\n",
    "from hmc import compute_log_joint_prob"
   ]
  },
  {
   "cell_type": "code",
   "execution_count": 11,
   "id": "df09fa16",
   "metadata": {},
   "outputs": [
    {
     "data": {
      "text/plain": [
       "[{},\n",
       " {'V': ['observe6', 'sample4', 'sample2', 'observe5', 'sample3'],\n",
       "  'A': {'sample2': ['observe6', 'observe5'],\n",
       "   'sample4': ['observe6'],\n",
       "   'sample3': ['observe6']},\n",
       "  'P': {'sample2': ['sample*', ['flip', 0.5]],\n",
       "   'sample3': ['sample*', ['flip', 0.8]],\n",
       "   'sample4': ['sample*', ['flip', 0.2]],\n",
       "   'observe5': ['observe*',\n",
       "    ['if', ['=', 'sample2', True], ['flip', 0.1], ['flip', 0.5]],\n",
       "    True],\n",
       "   'observe6': ['observe*',\n",
       "    ['if',\n",
       "     ['and',\n",
       "      True,\n",
       "      ['=', ['if', ['=', 'sample2', True], 'sample3', 'sample4'], True]],\n",
       "     ['flip', 0.99],\n",
       "     ['if',\n",
       "      ['and',\n",
       "       False,\n",
       "       ['=', ['if', ['=', 'sample2', True], 'sample3', 'sample4'], False]],\n",
       "      ['flip', 0.0],\n",
       "      ['if',\n",
       "       ['or',\n",
       "        True,\n",
       "        ['=', ['if', ['=', 'sample2', True], 'sample3', 'sample4'], True]],\n",
       "       ['flip', 0.9],\n",
       "       None]]],\n",
       "    True]},\n",
       "  'Y': {'observe5': True, 'observe6': True}},\n",
       " ['if', ['=', 'sample2', True], 'sample3', 'sample4']]"
      ]
     },
     "execution_count": 11,
     "metadata": {},
     "output_type": "execute_result"
    }
   ],
   "source": [
    "fname = '4.daphne' \n",
    "graph = graph_helper(fname)\n",
    "graph"
   ]
  },
  {
   "cell_type": "code",
   "execution_count": 12,
   "id": "7d8b2b45",
   "metadata": {},
   "outputs": [
    {
     "name": "stdout",
     "output_type": "stream",
     "text": [
      "CPU times: user 10min, sys: 1.78 s, total: 10min 2s\n",
      "Wall time: 37min 17s\n"
     ]
    }
   ],
   "source": [
    "%%time\n",
    "num_steps=140000\n",
    "return_list, samples_whole_graph = mh_gibbs.mh_gibbs_wrapper(graph,num_steps)"
   ]
  },
  {
   "cell_type": "code",
   "execution_count": 13,
   "id": "71e74ea8",
   "metadata": {},
   "outputs": [],
   "source": [
    "samples = np.array([sample.item() for sample in return_list])"
   ]
  },
  {
   "cell_type": "code",
   "execution_count": 14,
   "id": "d6b440cc",
   "metadata": {},
   "outputs": [
    {
     "data": {
      "text/plain": [
       "Text(0.5, 1.0, 'MH Gibbs | 4.daphne')"
      ]
     },
     "execution_count": 14,
     "metadata": {},
     "output_type": "execute_result"
    },
    {
     "data": {
      "image/png": "[encoded data removed]",
      "text/plain": [
       "<Figure size 432x288 with 1 Axes>"
      ]
     },
     "metadata": {
      "needs_background": "light"
     },
     "output_type": "display_data"
    }
   ],
   "source": [
    "burn_in = int(0.01*num_steps)\n",
    "pd.Series(samples[burn_in:]).astype(float).plot.hist()\n",
    "plt.xlabel('is-raining')\n",
    "plt.title('MH Gibbs | {}'.format(fname))"
   ]
  },
  {
   "cell_type": "code",
   "execution_count": 15,
   "id": "faba6f6a",
   "metadata": {},
   "outputs": [],
   "source": [
    "posterior_mean = samples[burn_in:].mean(0)"
   ]
  },
  {
   "cell_type": "code",
   "execution_count": 16,
   "id": "fcdef00c",
   "metadata": {},
   "outputs": [
    {
     "data": {
      "text/plain": [
       "'The posterior probability that it is raining, i.e. of “is-raining.”: 0.321'"
      ]
     },
     "execution_count": 16,
     "metadata": {},
     "output_type": "execute_result"
    }
   ],
   "source": [
    "\"\"\"The posterior probability that it is raining, i.e. of “is-raining.”: {:0.3f}\"\"\".format(posterior_mean)"
   ]
  },
  {
   "cell_type": "code",
   "execution_count": 17,
   "id": "090b444a",
   "metadata": {},
   "outputs": [
    {
     "data": {
      "text/plain": [
       "Text(0.5, 1.0, '4.daphne | MH Gibbs \\n Sample trace')"
      ]
     },
     "execution_count": 17,
     "metadata": {},
     "output_type": "execute_result"
    },
    {
     "data": {
      "image/png": "[encoded data removed]",
      "text/plain": [
       "<Figure size 432x288 with 1 Axes>"
      ]
     },
     "metadata": {
      "needs_background": "light"
     },
     "output_type": "display_data"
    }
   ],
   "source": [
    "pd.Series(samples).astype(int).plot()\n",
    "plt.xlabel('Iteration')\n",
    "plt.ylabel('is-raining')\n",
    "plt.title('{} | MH Gibbs \\n Sample trace'.format(fname))"
   ]
  },
  {
   "cell_type": "code",
   "execution_count": 18,
   "id": "c45e2c98",
   "metadata": {},
   "outputs": [],
   "source": [
    "G = graph[1]\n",
    "Y = G['Y']\n",
    "Y = {key:evaluate([value])[0] for key,value in Y.items()}\n",
    "P = G['P']"
   ]
  },
  {
   "cell_type": "code",
   "execution_count": 19,
   "id": "8b6387a7",
   "metadata": {},
   "outputs": [],
   "source": [
    "size = len(samples_whole_graph)\n",
    "jll = np.zeros(size)\n",
    "for idx in range(size):\n",
    "    jll[idx] = compute_log_joint_prob(samples_whole_graph[idx],Y,P)"
   ]
  },
  {
   "cell_type": "code",
   "execution_count": 20,
   "id": "712221a3",
   "metadata": {},
   "outputs": [
    {
     "data": {
      "text/plain": [
       "Text(0.5, 1.0, '4.daphne | MH Gibbs \\n Joint density')"
      ]
     },
     "execution_count": 20,
     "metadata": {},
     "output_type": "execute_result"
    },
    {
     "data": {
      "image/png": "[encoded data removed]",
      "text/plain": [
       "<Figure size 432x288 with 1 Axes>"
      ]
     },
     "metadata": {
      "needs_background": "light"
     },
     "output_type": "display_data"
    }
   ],
   "source": [
    "pd.Series(jll).plot()\n",
    "plt.xlabel('Iteration (t)')\n",
    "plt.ylabel(r'$-\\log p(X=x_t,Y=y_t)$')\n",
    "plt.title('{} | MH Gibbs \\n Joint density'.format(fname))"
   ]
  }
 ],
 "metadata": {
  "kernelspec": {
   "display_name": "Python 3 (ipykernel)",
   "language": "python",
   "name": "python3"
  },
  "language_info": {
   "codemirror_mode": {
    "name": "ipython",
    "version": 3
   },
   "file_extension": ".py",
   "mimetype": "text/x-python",
   "name": "python",
   "nbconvert_exporter": "python",
   "pygments_lexer": "ipython3",
   "version": "3.9.0"
  }
 },
 "nbformat": 4,
 "nbformat_minor": 5
}
