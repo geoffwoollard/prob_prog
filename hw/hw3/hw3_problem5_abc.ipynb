{
 "cells": [
  {
   "cell_type": "code",
   "execution_count": 1,
   "id": "eb107b9d",
   "metadata": {},
   "outputs": [],
   "source": [
    "import torch\n",
    "import numpy as np\n",
    "import os, json\n",
    "import pandas as pd\n",
    "import matplotlib.pyplot as plt\n",
    "import seaborn as sns\n",
    "import importlib\n",
    "\n",
    "from evaluation_based_sampling import evaluate, evaluate_program\n",
    "from daphne import daphne\n",
    "\n",
    "from graph_based_sampling import sample_from_joint"
   ]
  },
  {
   "cell_type": "markdown",
   "id": "8059e149",
   "metadata": {},
   "source": [
    "## Problem 5\n",
    "I approach this problem with approximate Baysean computation. Relaxing the dirac into a normal. This is inspired by the definition of the dirac as a normal pdf in the limit of the variance going to zero. \n",
    "  * Khuri, A. I. (2004). Applications of Dirac’s delta function in statistics. International Journal of Mathematical Education in Science and Technology, 35(2), 185–195. http://doi.org/10.1080/00207390310001638313\n",
    "\n",
    "I set the variance of the normal to $0.1^2$ more detailed study could be done showing the behaviour as a function of the variance. At $\\sigma^2 <= 0.03^2$ I encoutered errors in HMC, likely caused by things going to infinity (log_prob scoring was out of distribution, and it is normal... ?)\n",
    "\n",
    "## Comments on ABC for this problem\n",
    "There are really only one degree of freedom for this problem, since when one value is fixed, the other must be seven minus it, to be compatible with the observe statement `(observe (dirac (+ x y)) 7)`. So there is only one variance, and no covariance. In the ABC approximation however, we only strictly enforce that $x + y = 7$ and thus we get a covariance of x and y.\n",
    "\n",
    "Any $x+y=7$ is compatible with the observe, and this \"manifold\" is the line. The ABC makes this line have non-zero measure.\n",
    "\n",
    "Another way to do this problem, would be to incorporate the observe into the program, and replace y with 7-x somehow to enforce the constraint. \n",
    "\n",
    "## Comparison of IS, MH Gibbs & HMC\n",
    "* IS. has high variance, but gets reasonable means of near 3.5\n",
    "* Gibbs is still and so can't update very well. It is exploring along a very narrow ridge, instead of along the line. x and y should be updated together as a block. The problem is very stiff (the dicar makes it initifely stiff).\n",
    "* HMC has variance near IS. We can see from the joint that it is converging with iterations gradually."
   ]
  },
  {
   "cell_type": "markdown",
   "id": "2c95e5bb",
   "metadata": {},
   "source": [
    "## Error trace \n",
    "for normal that is too narrow (intentionally put below)\n",
    "\n",
    "```python\n",
    "---------------------------------------------------------------------------\n",
    "ValueError                                Traceback (most recent call last)\n",
    "/var/folders/bg/cb0cr7ls61352lhy50167r0c0000gn/T/ipykernel_58709/4110678344.py in <module>\n",
    "      1 num_samples=28000//10\n",
    "----> 2 return_list, samples_whole_graph = hmc_wrapper(graph,num_samples,T=40,epsilon=0.1)\n",
    "\n",
    "~/repos/prob_prog/hw/hw3/hmc.py in hmc_wrapper(graph, num_samples, T, epsilon, M)\n",
    "     33         # include kinetic and potential energy functions\n",
    "     34         # MC acceptance criteria\n",
    "---> 35     samples_whole_graph = hmc_algo20(X0,num_samples,T,epsilon,M,Y,P,X_vertex_names_to_idx_d)\n",
    "     36 \n",
    "     37     # evaluate samples (on whatever function, here the return of the program) as needed\n",
    "\n",
    "~/repos/prob_prog/hw/hw3/hmc.py in hmc_algo20(X0, num_samples, T, epsilon, M, Y, P, X_vertex_names_to_idx_d)\n",
    "     56     for s in range(num_samples):\n",
    "     57         R_s = normal_R_reuse.sample()\n",
    "---> 58         R_p, X_p = leapfrog(copy.deepcopy(X_s),copy.deepcopy(R_s),T,epsilon,Y,P,X_vertex_names_to_idx_d)\n",
    "     59         # X_p, R_p = leapfrog(X_s,R_s,T,epsilon,X_vertex_names_to_idx_d)\n",
    "     60             # copy X_s?\n",
    "\n",
    "~/repos/prob_prog/hw/hw3/hmc.py in leapfrog(X0, R0, T, epsilon, Y, P, X_vertex_names_to_idx_d)\n",
    "     83         # TODO: save all in loop instead of overwriting to visualize\n",
    "     84         X_t = add_dict_to_tensor(X_t,epsilon*R_t,X_vertex_names_to_idx_d)\n",
    "---> 85         R_t = R_t - epsilon*grad_U(X_t,Y,P,X_vertex_names_to_idx_d)\n",
    "     86     X_T = add_dict_to_tensor(X_t,epsilon*R_t,X_vertex_names_to_idx_d)\n",
    "     87     R_T = R_t - epsilon_2*grad_U(X_T,Y,P,X_vertex_names_to_idx_d)\n",
    "\n",
    "~/repos/prob_prog/hw/hw3/hmc.py in grad_U(X, Y, P, X_vertex_names_to_idx_d)\n",
    "    112     return vector of gradients\n",
    "    113     \"\"\"\n",
    "--> 114     energy_U = compute_U(X,Y,P)\n",
    "    115 \n",
    "    116     # Zero the gradients.\n",
    "\n",
    "~/repos/prob_prog/hw/hw3/hmc.py in compute_U(X, Y, P)\n",
    "    177 \n",
    "    178 def compute_U(X,Y,P):\n",
    "--> 179     energy_U = -compute_log_joint_prob(X,Y,P)\n",
    "    180     return energy_U\n",
    "    181 \n",
    "\n",
    "~/repos/prob_prog/hw/hw3/hmc.py in compute_log_joint_prob(X, Y, P)\n",
    "    167         e = P[X_vertex][1]\n",
    "    168         distribution = evaluate(e,local_env=X)[0]\n",
    "--> 169         log_prob += score(distribution,X[X_vertex])\n",
    "    170     for Y_vertex in Y.keys():\n",
    "    171         e = P[Y_vertex][1]\n",
    "\n",
    "~/repos/prob_prog/hw/hw3/evaluation_based_sampling.py in score(distribution, c)\n",
    "     55         log_w = distribution.log_prob(c.double())\n",
    "     56     else:\n",
    "---> 57         log_w = distribution.log_prob(c)\n",
    "     58     return log_w\n",
    "     59 \n",
    "\n",
    "~/miniconda2/envs/prob_prog/lib/python3.9/site-packages/torch/distributions/normal.py in log_prob(self, value)\n",
    "     71     def log_prob(self, value):\n",
    "     72         if self._validate_args:\n",
    "---> 73             self._validate_sample(value)\n",
    "     74         # compute the variance\n",
    "     75         var = (self.scale ** 2)\n",
    "\n",
    "~/miniconda2/envs/prob_prog/lib/python3.9/site-packages/torch/distributions/distribution.py in _validate_sample(self, value)\n",
    "    275         assert support is not None\n",
    "    276         if not support.check(value).all():\n",
    "--> 277             raise ValueError('The value argument must be within the support')\n",
    "    278 \n",
    "    279     def _get_checked_instance(self, cls, _instance=None):\n",
    "\n",
    "ValueError: The value argument must be within the support\n",
    "```"
   ]
  },
  {
   "cell_type": "code",
   "execution_count": 2,
   "id": "99f05b42",
   "metadata": {},
   "outputs": [],
   "source": [
    "from load_helper import ast_helper, graph_helper"
   ]
  },
  {
   "cell_type": "markdown",
   "id": "8fbcddd6",
   "metadata": {},
   "source": [
    "### Importance sampling\n",
    "30k in 10s implies 1.698 million"
   ]
  },
  {
   "cell_type": "code",
   "execution_count": 3,
   "id": "bdc34c3b",
   "metadata": {},
   "outputs": [
    {
     "data": {
      "text/plain": [
       "<module 'parse' from '/Users/gw/repos/prob_prog/hw/hw3/parse.py'>"
      ]
     },
     "execution_count": 3,
     "metadata": {},
     "output_type": "execute_result"
    }
   ],
   "source": [
    "import parse\n",
    "import importance_sampling\n",
    "import importlib\n",
    "importlib.reload(parse)"
   ]
  },
  {
   "cell_type": "code",
   "execution_count": 4,
   "id": "37c23b01",
   "metadata": {},
   "outputs": [
    {
     "data": {
      "text/plain": [
       "[['let',\n",
       "  ['x', ['sample', ['normal', 0, 10]]],\n",
       "  ['let',\n",
       "   ['y', ['sample', ['normal', 0, 10]]],\n",
       "   ['let',\n",
       "    ['dontcare0', ['observe', ['normal', ['+', 'x', 'y'], 0.09], 7]],\n",
       "    ['vector', 'x', 'y']]]]]"
      ]
     },
     "execution_count": 4,
     "metadata": {},
     "output_type": "execute_result"
    }
   ],
   "source": [
    "fname = '5_abc.daphne' \n",
    "ast = ast_helper(fname)\n",
    "ast"
   ]
  },
  {
   "cell_type": "code",
   "execution_count": 5,
   "id": "094bfc7e",
   "metadata": {},
   "outputs": [
    {
     "name": "stdout",
     "output_type": "stream",
     "text": [
      "CPU times: user 9min 37s, sys: 2.48 s, total: 9min 40s\n",
      "Wall time: 9min 40s\n"
     ]
    }
   ],
   "source": [
    "%%time\n",
    "num_samples=int(1.698e6)\n",
    "samples, sigmas = parse.take_samples(num_samples,ast=ast)\n",
    "samples = np.array([sample.tolist() for sample in samples])"
   ]
  },
  {
   "cell_type": "code",
   "execution_count": 6,
   "id": "872f5a74",
   "metadata": {},
   "outputs": [
    {
     "data": {
      "text/plain": [
       "array([3.53386895, 3.46580443])"
      ]
     },
     "execution_count": 6,
     "metadata": {},
     "output_type": "execute_result"
    }
   ],
   "source": [
    "posterior_mean, probs = importance_sampling.weighted_average(samples,sigmas,reshape_probs=(-1,1),axis=0)\n",
    "posterior_mean"
   ]
  },
  {
   "cell_type": "code",
   "execution_count": 7,
   "id": "c1e5d3c2",
   "metadata": {},
   "outputs": [
    {
     "data": {
      "text/plain": [
       "Text(0.5, 0, 'slope')"
      ]
     },
     "execution_count": 7,
     "metadata": {},
     "output_type": "execute_result"
    },
    {
     "data": {
      "image/png": "[encoded data removed]",
      "text/plain": [
       "<Figure size 432x288 with 1 Axes>"
      ]
     },
     "metadata": {
      "needs_background": "light"
     },
     "output_type": "display_data"
    }
   ],
   "source": [
    "counts_bins = np.histogram(samples[:,0], weights=probs[:,0], bins=500)\n",
    "counts, bins = counts_bins[0], counts_bins[1]\n",
    "idx = (counts > counts.max()*0.005)\n",
    "plt.bar(bins[1:][idx],counts[idx])\n",
    "plt.title('Problem {} \\n Importance sampling \\n importance sampling weighted counts from proposal'.format(fname))\n",
    "plt.ylabel('Counts')\n",
    "plt.xlabel('slope')"
   ]
  },
  {
   "cell_type": "code",
   "execution_count": 8,
   "id": "64cd0931",
   "metadata": {},
   "outputs": [
    {
     "data": {
      "text/plain": [
       "Text(0.5, 0, 'bias')"
      ]
     },
     "execution_count": 8,
     "metadata": {},
     "output_type": "execute_result"
    },
    {
     "data": {
      "image/png": "[encoded data removed]",
      "text/plain": [
       "<Figure size 432x288 with 1 Axes>"
      ]
     },
     "metadata": {
      "needs_background": "light"
     },
     "output_type": "display_data"
    }
   ],
   "source": [
    "counts_bins = np.histogram(samples[:,1], weights=probs[:,0], bins=500)\n",
    "counts, bins = counts_bins[0], counts_bins[1]\n",
    "idx = (counts > counts.max()*0.005)\n",
    "plt.bar(bins[1:][idx],counts[idx])\n",
    "plt.title('Problem {} \\n Importance sampling \\n importance sampling weighted counts from proposal'.format(fname))\n",
    "plt.ylabel('Counts')\n",
    "plt.xlabel('bias')"
   ]
  },
  {
   "cell_type": "code",
   "execution_count": 9,
   "id": "0aabba18",
   "metadata": {},
   "outputs": [
    {
     "data": {
      "text/plain": [
       "array([49.98343282, 49.98004001])"
      ]
     },
     "execution_count": 9,
     "metadata": {},
     "output_type": "execute_result"
    }
   ],
   "source": [
    "expectation_samples_2, probs = importance_sampling.weighted_average(samples**2,sigmas,reshape_probs=(-1,1),axis=0) \n",
    "posterior_variance = expectation_samples_2 - posterior_mean**2\n",
    "posterior_variance"
   ]
  },
  {
   "cell_type": "code",
   "execution_count": 10,
   "id": "304329c1",
   "metadata": {},
   "outputs": [
    {
     "data": {
      "text/plain": [
       "-49.9777814630405"
      ]
     },
     "execution_count": 10,
     "metadata": {},
     "output_type": "execute_result"
    }
   ],
   "source": [
    "expectation_samplex_sampley, probs = importance_sampling.weighted_average(samples[:,0]*samples[:,1],sigmas) \n",
    "covariance = expectation_samplex_sampley - posterior_mean[0]*posterior_mean[1]\n",
    "covariance"
   ]
  },
  {
   "cell_type": "code",
   "execution_count": 11,
   "id": "f10cc0f8",
   "metadata": {},
   "outputs": [
    {
     "name": "stdout",
     "output_type": "stream",
     "text": [
      "5_abc.daphne Importance sampling: posterior mean slope 3.534 | variance slope 4.998e+01\n",
      "5_abc.daphne Importance sampling: posterior mean bias 3.466 | variance bias 4.998e+01\n",
      "5_abc.daphne Importance sampling: posterior covariance of slope and bias variance bias -4.998e+01\n"
     ]
    }
   ],
   "source": [
    "for result in [\n",
    "    \"{} Importance sampling: posterior mean slope {:1.3f} | variance slope {:1.3e}\".format(fname,posterior_mean[0],posterior_variance[0]),\n",
    "    \"{} Importance sampling: posterior mean bias {:1.3f} | variance bias {:1.3e}\".format(fname,posterior_mean[1],posterior_variance[1]),\n",
    "    \"{} Importance sampling: posterior covariance of slope and bias variance bias {:1.3e}\".format(fname,covariance),\n",
    "    \n",
    "]:\n",
    "    print(result)"
   ]
  },
  {
   "cell_type": "markdown",
   "id": "dbaea16a",
   "metadata": {},
   "source": [
    "Numpy contains it's own method for computing this, and we can check it agrees with our results (where things are spelt out a bit more for learning purposes)."
   ]
  },
  {
   "cell_type": "code",
   "execution_count": 12,
   "id": "20f50715",
   "metadata": {},
   "outputs": [
    {
     "data": {
      "text/plain": [
       "array([[ 49.98343282, -49.97778146],\n",
       "       [-49.97778146,  49.98004001]])"
      ]
     },
     "execution_count": 12,
     "metadata": {},
     "output_type": "execute_result"
    }
   ],
   "source": [
    "np.cov(samples.T,aweights=probs,ddof=0)"
   ]
  },
  {
   "cell_type": "markdown",
   "id": "9636c2fe",
   "metadata": {},
   "source": [
    "### MH Gibbs\n",
    "14k in 22.8s implies 368k in 10 min"
   ]
  },
  {
   "cell_type": "code",
   "execution_count": 13,
   "id": "01bd1ae2",
   "metadata": {},
   "outputs": [
    {
     "data": {
      "text/plain": [
       "<module 'mh_gibbs' from '/Users/gw/repos/prob_prog/hw/hw3/mh_gibbs.py'>"
      ]
     },
     "execution_count": 13,
     "metadata": {},
     "output_type": "execute_result"
    }
   ],
   "source": [
    "import mh_gibbs \n",
    "from hmc import hmc_wrapper, compute_log_joint_prob\n",
    "importlib.reload(mh_gibbs)"
   ]
  },
  {
   "cell_type": "code",
   "execution_count": 14,
   "id": "756f2502",
   "metadata": {},
   "outputs": [
    {
     "data": {
      "text/plain": [
       "[{},\n",
       " {'V': ['observe3', 'sample2', 'sample1'],\n",
       "  'A': {'sample2': ['observe3'], 'sample1': ['observe3']},\n",
       "  'P': {'sample1': ['sample*', ['normal', 0, 10]],\n",
       "   'sample2': ['sample*', ['normal', 0, 10]],\n",
       "   'observe3': ['observe*', ['normal', ['+', 'sample1', 'sample2'], 0.09], 7]},\n",
       "  'Y': {'observe3': 7}},\n",
       " ['vector', 'sample1', 'sample2']]"
      ]
     },
     "execution_count": 14,
     "metadata": {},
     "output_type": "execute_result"
    }
   ],
   "source": [
    "fname = '5_abc.daphne' \n",
    "graph = graph_helper(fname)\n",
    "graph"
   ]
  },
  {
   "cell_type": "code",
   "execution_count": 15,
   "id": "46093a75",
   "metadata": {},
   "outputs": [
    {
     "name": "stdout",
     "output_type": "stream",
     "text": [
      "CPU times: user 9min 48s, sys: 1.51 s, total: 9min 49s\n",
      "Wall time: 9min 50s\n"
     ]
    }
   ],
   "source": [
    "%%time\n",
    "num_steps=368000\n",
    "return_list, samples_whole_graph = mh_gibbs.mh_gibbs_wrapper(graph,num_steps)\n",
    "samples = np.array([sample.tolist() for sample in return_list])"
   ]
  },
  {
   "cell_type": "code",
   "execution_count": 16,
   "id": "215372fd",
   "metadata": {},
   "outputs": [],
   "source": [
    "samples = np.array([sample.tolist() for sample in return_list])"
   ]
  },
  {
   "cell_type": "code",
   "execution_count": 17,
   "id": "005dcfdf",
   "metadata": {},
   "outputs": [
    {
     "data": {
      "image/png": "[encoded data removed]",
      "text/plain": [
       "<Figure size 432x216 with 2 Axes>"
      ]
     },
     "metadata": {
      "needs_background": "light"
     },
     "output_type": "display_data"
    }
   ],
   "source": [
    "burn_in = int(0.01*num_steps)\n",
    "df = pd.DataFrame(samples[burn_in:])\n",
    "df.columns = ['x','y']\n",
    "df['iteration'] = df.index\n",
    "tall = pd.melt(df, id_vars='iteration')\n",
    "\n",
    "g = sns.FacetGrid(tall, col=\"variable\")\n",
    "g.map(sns.histplot, \"value\")\n",
    "\n",
    "plt.suptitle('MH Gibbs | {}'.format(fname))\n",
    "plt.subplots_adjust(top=0.8)"
   ]
  },
  {
   "cell_type": "code",
   "execution_count": 18,
   "id": "a73d52d9",
   "metadata": {},
   "outputs": [],
   "source": [
    "posterior_mean = samples[burn_in:].mean(0)\n",
    "cov_matrix = np.cov(samples[burn_in:].T,ddof=0)\n",
    "posterior_variance = samples[burn_in:].var(0)\n",
    "covariance = cov_matrix[0,1]\n",
    "assert np.isclose(cov_matrix[0,0],posterior_variance[0])\n",
    "assert np.isclose(cov_matrix[1,1],posterior_variance[1])"
   ]
  },
  {
   "cell_type": "code",
   "execution_count": 19,
   "id": "aaff4517",
   "metadata": {},
   "outputs": [
    {
     "name": "stdout",
     "output_type": "stream",
     "text": [
      "5_abc.daphne MH Gibbs: posterior mean slope -2.343 | variance slope 3.465e+00\n",
      "5_abc.daphne MH Gibbs: posterior mean bias 9.342 | variance bias 3.465e+00\n",
      "5_abc.daphne MH Gibbs: posterior covariance of slope and bias variance bias -3.461e+00\n"
     ]
    }
   ],
   "source": [
    "for result in [\n",
    "    \"{} MH Gibbs: posterior mean slope {:1.3f} | variance slope {:1.3e}\".format(fname,posterior_mean[0],posterior_variance[0]),\n",
    "    \"{} MH Gibbs: posterior mean bias {:1.3f} | variance bias {:1.3e}\".format(fname,posterior_mean[1],posterior_variance[1]),\n",
    "    \"{} MH Gibbs: posterior covariance of slope and bias variance bias {:1.3e}\".format(fname,covariance),\n",
    "    \n",
    "]:\n",
    "    print(result)"
   ]
  },
  {
   "cell_type": "code",
   "execution_count": 20,
   "id": "9b865467",
   "metadata": {},
   "outputs": [
    {
     "data": {
      "text/plain": [
       "Text(0.5, 0.98, '5_abc.daphne | MH Gibbs \\n Sample trace')"
      ]
     },
     "execution_count": 20,
     "metadata": {},
     "output_type": "execute_result"
    },
    {
     "data": {
      "image/png": "[encoded data removed]",
      "text/plain": [
       "<Figure size 432x216 with 2 Axes>"
      ]
     },
     "metadata": {
      "needs_background": "light"
     },
     "output_type": "display_data"
    }
   ],
   "source": [
    "g = sns.FacetGrid(tall, col=\"variable\")\n",
    "g.map(plt.plot, \"iteration\",\"value\")\n",
    "\n",
    "plt.suptitle('MH Gibbs | {}'.format(fname))\n",
    "plt.subplots_adjust(top=0.75)\n",
    "plt.suptitle('{} | MH Gibbs \\n Sample trace'.format(fname))"
   ]
  },
  {
   "cell_type": "code",
   "execution_count": 21,
   "id": "6000d846",
   "metadata": {},
   "outputs": [],
   "source": [
    "G = graph[1]\n",
    "Y = G['Y']\n",
    "Y = {key:evaluate([value])[0] for key,value in Y.items()}\n",
    "P = G['P']"
   ]
  },
  {
   "cell_type": "code",
   "execution_count": 22,
   "id": "1b977329",
   "metadata": {},
   "outputs": [],
   "source": [
    "size = len(samples_whole_graph)\n",
    "jll = np.zeros(size)\n",
    "for idx in range(size):\n",
    "    jll[idx] = compute_log_joint_prob(samples_whole_graph[idx],Y,P)"
   ]
  },
  {
   "cell_type": "code",
   "execution_count": 23,
   "id": "1b99607e",
   "metadata": {},
   "outputs": [
    {
     "data": {
      "text/plain": [
       "Text(0.5, 1.0, '5_abc.daphne | MH Gibbs \\n Joint density')"
      ]
     },
     "execution_count": 23,
     "metadata": {},
     "output_type": "execute_result"
    },
    {
     "data": {
      "image/png": "[encoded data removed]",
      "text/plain": [
       "<Figure size 432x288 with 1 Axes>"
      ]
     },
     "metadata": {
      "needs_background": "light"
     },
     "output_type": "display_data"
    }
   ],
   "source": [
    "pd.Series(jll).plot()\n",
    "plt.xlabel('Iteration (t)')\n",
    "plt.ylabel(r'$-\\log p(X=x_t,Y=y_t)$')\n",
    "plt.title('{} | MH Gibbs \\n Joint density'.format(fname))"
   ]
  },
  {
   "cell_type": "markdown",
   "id": "fe1bc64b",
   "metadata": {},
   "source": [
    "### HMC\n",
    "* 0.56k in 16.2s implies 20.7k in 10 min"
   ]
  },
  {
   "cell_type": "code",
   "execution_count": 24,
   "id": "0aacbf3d",
   "metadata": {},
   "outputs": [
    {
     "data": {
      "text/plain": [
       "[{},\n",
       " {'V': ['observe3', 'sample2', 'sample1'],\n",
       "  'A': {'sample2': ['observe3'], 'sample1': ['observe3']},\n",
       "  'P': {'sample1': ['sample*', ['normal', 0, 10]],\n",
       "   'sample2': ['sample*', ['normal', 0, 10]],\n",
       "   'observe3': ['observe*', ['normal', ['+', 'sample1', 'sample2'], 0.09], 7]},\n",
       "  'Y': {'observe3': 7}},\n",
       " ['vector', 'sample1', 'sample2']]"
      ]
     },
     "execution_count": 24,
     "metadata": {},
     "output_type": "execute_result"
    }
   ],
   "source": [
    "fname = '5_abc.daphne' \n",
    "graph = graph_helper(fname)\n",
    "graph"
   ]
  },
  {
   "cell_type": "code",
   "execution_count": 25,
   "id": "ff5fb554",
   "metadata": {},
   "outputs": [],
   "source": [
    "import hmc\n",
    "importlib.reload(hmc)\n",
    "from hmc import hmc_wrapper"
   ]
  },
  {
   "cell_type": "code",
   "execution_count": 26,
   "id": "fefb1ce1",
   "metadata": {},
   "outputs": [
    {
     "name": "stdout",
     "output_type": "stream",
     "text": [
      "CPU times: user 9min 40s, sys: 1.46 s, total: 9min 42s\n",
      "Wall time: 9min 43s\n"
     ]
    }
   ],
   "source": [
    "%%time\n",
    "num_samples=20700\n",
    "return_list, samples_whole_graph = hmc_wrapper(graph,num_samples,T=40,epsilon=0.1)"
   ]
  },
  {
   "cell_type": "code",
   "execution_count": 27,
   "id": "d3d31a1f",
   "metadata": {},
   "outputs": [],
   "source": [
    "samples = np.array([sample.tolist() for sample in return_list])"
   ]
  },
  {
   "cell_type": "code",
   "execution_count": 28,
   "id": "cefb11a4",
   "metadata": {},
   "outputs": [
    {
     "data": {
      "image/png": "[encoded data removed]",
      "text/plain": [
       "<Figure size 432x216 with 2 Axes>"
      ]
     },
     "metadata": {
      "needs_background": "light"
     },
     "output_type": "display_data"
    }
   ],
   "source": [
    "burn_in = int(0.01*num_samples)\n",
    "df = pd.DataFrame(samples[burn_in:])\n",
    "df.columns = ['x','y']\n",
    "df['iteration'] = df.index\n",
    "tall = pd.melt(df, id_vars='iteration')\n",
    "\n",
    "g = sns.FacetGrid(tall, col=\"variable\")\n",
    "g.map(sns.histplot, \"value\")\n",
    "\n",
    "plt.suptitle('HMC | {}'.format(fname))\n",
    "plt.subplots_adjust(top=0.8)\n"
   ]
  },
  {
   "cell_type": "code",
   "execution_count": 29,
   "id": "de1b0ea2",
   "metadata": {},
   "outputs": [],
   "source": [
    "posterior_mean = samples[burn_in:].mean(0)\n",
    "cov_matrix = np.cov(samples[burn_in:].T,ddof=0)\n",
    "posterior_variance = samples[burn_in:].var(0)\n",
    "covariance = cov_matrix[0,1]\n",
    "assert np.isclose(cov_matrix[0,0],posterior_variance[0])\n",
    "assert np.isclose(cov_matrix[1,1],posterior_variance[1])"
   ]
  },
  {
   "cell_type": "code",
   "execution_count": 30,
   "id": "d494e1c7",
   "metadata": {},
   "outputs": [
    {
     "name": "stdout",
     "output_type": "stream",
     "text": [
      "5_abc.daphne HMC: posterior mean slope 3.279 | variance slope 4.787e+01\n",
      "5_abc.daphne HMC: posterior mean bias 3.721 | variance bias 4.788e+01\n",
      "5_abc.daphne HMC: posterior covariance of slope and bias variance bias -4.739e+01\n"
     ]
    }
   ],
   "source": [
    "for result in [\n",
    "    \"{} HMC: posterior mean slope {:1.3f} | variance slope {:1.3e}\".format(fname,posterior_mean[0],posterior_variance[0]),\n",
    "    \"{} HMC: posterior mean bias {:1.3f} | variance bias {:1.3e}\".format(fname,posterior_mean[1],posterior_variance[1]),\n",
    "    \"{} HMC: posterior covariance of slope and bias variance bias {:1.3e}\".format(fname,covariance),\n",
    "    \n",
    "]:\n",
    "    print(result)"
   ]
  },
  {
   "cell_type": "code",
   "execution_count": 31,
   "id": "c351fc43",
   "metadata": {},
   "outputs": [
    {
     "data": {
      "text/plain": [
       "Text(0.5, 0.98, '5_abc.daphne | HMC \\n Sample trace')"
      ]
     },
     "execution_count": 31,
     "metadata": {},
     "output_type": "execute_result"
    },
    {
     "data": {
      "image/png": "[encoded data removed]",
      "text/plain": [
       "<Figure size 432x216 with 2 Axes>"
      ]
     },
     "metadata": {
      "needs_background": "light"
     },
     "output_type": "display_data"
    }
   ],
   "source": [
    "g = sns.FacetGrid(tall, col=\"variable\")\n",
    "g.map(plt.plot, \"iteration\",\"value\")\n",
    "\n",
    "plt.suptitle('HMC | {}'.format(fname))\n",
    "plt.subplots_adjust(top=0.75)\n",
    "plt.suptitle('{} | HMC \\n Sample trace'.format(fname))"
   ]
  },
  {
   "cell_type": "code",
   "execution_count": 32,
   "id": "24d15104",
   "metadata": {},
   "outputs": [],
   "source": [
    "G = graph[1]\n",
    "Y = G['Y']\n",
    "Y = {key:evaluate([value])[0] for key,value in Y.items()}\n",
    "P = G['P']"
   ]
  },
  {
   "cell_type": "code",
   "execution_count": 33,
   "id": "c37a188f",
   "metadata": {},
   "outputs": [],
   "source": [
    "size = len(samples_whole_graph)\n",
    "jll = np.zeros(size)\n",
    "for idx in range(size):\n",
    "    jll[idx] = compute_log_joint_prob(samples_whole_graph[idx],Y,P)"
   ]
  },
  {
   "cell_type": "code",
   "execution_count": 34,
   "id": "5fd64574",
   "metadata": {},
   "outputs": [
    {
     "data": {
      "text/plain": [
       "Text(0.5, 1.0, '5_abc.daphne | HMC \\n Joint density')"
      ]
     },
     "execution_count": 34,
     "metadata": {},
     "output_type": "execute_result"
    },
    {
     "data": {
      "image/png": "[encoded data removed]",
      "text/plain": [
       "<Figure size 432x288 with 1 Axes>"
      ]
     },
     "metadata": {
      "needs_background": "light"
     },
     "output_type": "display_data"
    }
   ],
   "source": [
    "pd.Series(jll).plot()\n",
    "plt.xlabel('Iteration (t)')\n",
    "plt.ylabel(r'$-\\log p(X=x_t,Y=y_t)$')\n",
    "plt.title('{} | HMC \\n Joint density'.format(fname))"
   ]
  }
 ],
 "metadata": {
  "kernelspec": {
   "display_name": "Python 3 (ipykernel)",
   "language": "python",
   "name": "python3"
  },
  "language_info": {
   "codemirror_mode": {
    "name": "ipython",
    "version": 3
   },
   "file_extension": ".py",
   "mimetype": "text/x-python",
   "name": "python",
   "nbconvert_exporter": "python",
   "pygments_lexer": "ipython3",
   "version": "3.9.0"
  }
 },
 "nbformat": 4,
 "nbformat_minor": 5
}
