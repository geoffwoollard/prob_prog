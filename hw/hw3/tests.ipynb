{
 "cells": [
  {
   "cell_type": "markdown",
   "id": "986f9df0",
   "metadata": {},
   "source": [
    "# tests\n",
    "* use double quotes \" instead of single quote '\n",
    "* don't end float with ., but .0 "
   ]
  },
  {
   "cell_type": "code",
   "execution_count": null,
   "id": "02152e86",
   "metadata": {},
   "outputs": [],
   "source": [
    "from tests import load_truth, is_tol"
   ]
  },
  {
   "cell_type": "code",
   "execution_count": null,
   "id": "67979aa4",
   "metadata": {},
   "outputs": [],
   "source": [
    "desugared_ast_json_fname = '/Users/gw/repos/prob_prog/hw/hw3/tests/mat-mul_mat-transpose.json'\n",
    "import os\n",
    "import json\n",
    "if os.path.isfile(desugared_ast_json_fname):\n",
    "    with open(desugared_ast_json_fname) as f:\n",
    "        ast = json.load(f)\n",
    "truth = load_truth(desugared_ast_json_fname.replace('.json','_truth.json'))\n",
    "ret = evaluate(ast[0])\n",
    "assert(is_tol(ret, truth))"
   ]
  },
  {
   "cell_type": "markdown",
   "id": "ed35090c",
   "metadata": {},
   "source": [
    "# develop test"
   ]
  },
  {
   "cell_type": "code",
   "execution_count": 1,
   "id": "778dfc29",
   "metadata": {},
   "outputs": [],
   "source": [
    "from evaluation_based_sampling import evaluate"
   ]
  },
  {
   "cell_type": "markdown",
   "id": "e1d530b7",
   "metadata": {},
   "source": [
    "## flip"
   ]
  },
  {
   "cell_type": "code",
   "execution_count": 13,
   "id": "86bcc53d",
   "metadata": {},
   "outputs": [
    {
     "data": {
      "text/plain": [
       "tensor(0.)"
      ]
     },
     "execution_count": 13,
     "metadata": {},
     "output_type": "execute_result"
    }
   ],
   "source": [
    "evaluate(['flip',.5])"
   ]
  },
  {
   "cell_type": "code",
   "execution_count": null,
   "id": "8ba92904",
   "metadata": {},
   "outputs": [],
   "source": []
  },
  {
   "cell_type": "code",
   "execution_count": null,
   "id": "c1cc5880",
   "metadata": {},
   "outputs": [],
   "source": [
    "import torch\n",
    "torch.bernoulli(torch.tensor(0.5))"
   ]
  },
  {
   "cell_type": "markdown",
   "id": "952cb1c5",
   "metadata": {},
   "source": [
    "## mat-mul"
   ]
  },
  {
   "cell_type": "code",
   "execution_count": null,
   "id": "b20a400a",
   "metadata": {},
   "outputs": [],
   "source": [
    "evaluate(['mat-mul',\n",
    "          ['vector',['vector',1,2],['vector',3,4]],\n",
    "          ['vector',['vector',10,20],['vector',30,40]]\n",
    "         ],do_log=True)"
   ]
  }
 ],
 "metadata": {
  "kernelspec": {
   "display_name": "Python 3 (ipykernel)",
   "language": "python",
   "name": "python3"
  },
  "language_info": {
   "codemirror_mode": {
    "name": "ipython",
    "version": 3
   },
   "file_extension": ".py",
   "mimetype": "text/x-python",
   "name": "python",
   "nbconvert_exporter": "python",
   "pygments_lexer": "ipython3",
   "version": "3.9.0"
  }
 },
 "nbformat": 4,
 "nbformat_minor": 5
}
