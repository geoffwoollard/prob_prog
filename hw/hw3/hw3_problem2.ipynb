{
 "cells": [
  {
   "cell_type": "code",
   "execution_count": 1,
   "id": "eb107b9d",
   "metadata": {},
   "outputs": [],
   "source": [
    "import torch\n",
    "import numpy as np\n",
    "import os, json\n",
    "import pandas as pd\n",
    "import matplotlib.pyplot as plt\n",
    "import seaborn as sns\n",
    "import importlib\n",
    "\n",
    "from evaluation_based_sampling import evaluate, evaluate_program\n",
    "from daphne import daphne\n",
    "\n",
    "from graph_based_sampling import sample_from_joint"
   ]
  },
  {
   "cell_type": "markdown",
   "id": "8059e149",
   "metadata": {},
   "source": [
    "## Problem 2\n",
    "10k samples in 1.59s implies 384k samples"
   ]
  },
  {
   "cell_type": "code",
   "execution_count": 2,
   "id": "99f05b42",
   "metadata": {},
   "outputs": [],
   "source": [
    "from load_helper import ast_helper, graph_helper"
   ]
  },
  {
   "cell_type": "markdown",
   "id": "8fbcddd6",
   "metadata": {},
   "source": [
    "### Importance sampling"
   ]
  },
  {
   "cell_type": "code",
   "execution_count": 3,
   "id": "bdc34c3b",
   "metadata": {},
   "outputs": [
    {
     "data": {
      "text/plain": [
       "<module 'parse' from '/Users/gw/repos/prob_prog/hw/hw3/parse.py'>"
      ]
     },
     "execution_count": 3,
     "metadata": {},
     "output_type": "execute_result"
    }
   ],
   "source": [
    "import parse\n",
    "import importance_sampling\n",
    "import importlib\n",
    "importlib.reload(parse)"
   ]
  },
  {
   "cell_type": "code",
   "execution_count": 52,
   "id": "37c23b01",
   "metadata": {},
   "outputs": [],
   "source": [
    "fname = '2.daphne' \n",
    "ast = ast_helper(fname)"
   ]
  },
  {
   "cell_type": "code",
   "execution_count": 53,
   "id": "094bfc7e",
   "metadata": {},
   "outputs": [
    {
     "name": "stdout",
     "output_type": "stream",
     "text": [
      "CPU times: user 10min 28s, sys: 918 ms, total: 10min 29s\n",
      "Wall time: 10min 29s\n"
     ]
    }
   ],
   "source": [
    "%%time\n",
    "num_samples=384000\n",
    "samples, sigmas = parse.take_samples(num_samples,ast=ast)\n"
   ]
  },
  {
   "cell_type": "code",
   "execution_count": 54,
   "id": "68d4e07b",
   "metadata": {},
   "outputs": [],
   "source": [
    "samples = np.array([sample.tolist() for sample in samples])\n",
    "\n",
    "# df = pd.DataFrame(samples)\n",
    "# df.columns = ['slope','bias']\n",
    "\n",
    "# tall = pd.melt(df)\n",
    "# g = sns.FacetGrid(tall, col=\"variable\")\n",
    "# g.map(sns.histplot, \"value\")\n",
    "\n",
    "# plt.suptitle('Importance sampling | {}'.format(fname))\n",
    "# plt.subplots_adjust(top=0.8)"
   ]
  },
  {
   "cell_type": "code",
   "execution_count": 55,
   "id": "872f5a74",
   "metadata": {},
   "outputs": [
    {
     "data": {
      "text/plain": [
       "array([ 2.15895652, -0.53834023])"
      ]
     },
     "execution_count": 55,
     "metadata": {},
     "output_type": "execute_result"
    }
   ],
   "source": [
    "posterior_mean, probs = importance_sampling.weighted_average(samples,sigmas,reshape_probs=(-1,1),axis=0)\n",
    "posterior_mean"
   ]
  },
  {
   "cell_type": "code",
   "execution_count": 106,
   "id": "a18c3cde",
   "metadata": {},
   "outputs": [
    {
     "data": {
      "text/plain": [
       "Text(0.5, 0, 'slope')"
      ]
     },
     "execution_count": 106,
     "metadata": {},
     "output_type": "execute_result"
    },
    {
     "data": {
      "image/png": "[encoded data removed]",
      "text/plain": [
       "<Figure size 432x288 with 1 Axes>"
      ]
     },
     "metadata": {
      "needs_background": "light"
     },
     "output_type": "display_data"
    }
   ],
   "source": [
    "# _ = plt.hist(samples[:,0], weights=probs, bins=100)\n",
    "counts_bins = np.histogram(samples[:,0], weights=probs, bins=500)\n",
    "counts, bins = counts_bins[0], counts_bins[1]\n",
    "idx = (counts > counts.max()*0.005)\n",
    "plt.bar(bins[1:][idx],counts[idx])\n",
    "plt.title('Problem {} \\n Importance sampling \\n importance sampling weighted counts from proposal'.format(fname))\n",
    "plt.ylabel('Counts')\n",
    "plt.xlabel('slope')"
   ]
  },
  {
   "cell_type": "code",
   "execution_count": 104,
   "id": "5353d86a",
   "metadata": {},
   "outputs": [
    {
     "data": {
      "text/plain": [
       "Text(0.5, 0, 'bias')"
      ]
     },
     "execution_count": 104,
     "metadata": {},
     "output_type": "execute_result"
    },
    {
     "data": {
      "image/png": "[encoded data removed]",
      "text/plain": [
       "<Figure size 432x288 with 1 Axes>"
      ]
     },
     "metadata": {
      "needs_background": "light"
     },
     "output_type": "display_data"
    }
   ],
   "source": [
    "counts_bins = np.histogram(samples[:,1], weights=probs, bins=500)\n",
    "counts, bins = counts_bins[0], counts_bins[1]\n",
    "idx = (counts > counts.max()*0.005)\n",
    "plt.bar(bins[1:][idx],counts[idx])\n",
    "plt.title('Problem {} \\n Importance sampling \\n importance sampling weighted counts from proposal'.format(fname))\n",
    "plt.ylabel('Counts')\n",
    "plt.xlabel('bias')"
   ]
  },
  {
   "cell_type": "code",
   "execution_count": 58,
   "id": "0aabba18",
   "metadata": {},
   "outputs": [
    {
     "data": {
      "text/plain": [
       "array([0.05376331, 0.79199928])"
      ]
     },
     "execution_count": 58,
     "metadata": {},
     "output_type": "execute_result"
    }
   ],
   "source": [
    "expectation_samples_2, probs = importance_sampling.weighted_average(samples**2,sigmas,reshape_probs=(-1,1),axis=0) \n",
    "posterior_variance = expectation_samples_2 - posterior_mean**2\n",
    "posterior_variance"
   ]
  },
  {
   "cell_type": "code",
   "execution_count": 59,
   "id": "304329c1",
   "metadata": {},
   "outputs": [
    {
     "data": {
      "text/plain": [
       "-0.18463132614140898"
      ]
     },
     "execution_count": 59,
     "metadata": {},
     "output_type": "execute_result"
    }
   ],
   "source": [
    "expectation_samplex_sampley, probs = importance_sampling.weighted_average(samples[:,0]*samples[:,1],sigmas) \n",
    "covariance = expectation_samplex_sampley - posterior_mean[0]*posterior_mean[1]\n",
    "covariance"
   ]
  },
  {
   "cell_type": "code",
   "execution_count": 60,
   "id": "f10cc0f8",
   "metadata": {},
   "outputs": [
    {
     "name": "stdout",
     "output_type": "stream",
     "text": [
      "2.daphne Importance sampling: posterior mean slope 2.159 | variance slope 5.376e-02\n",
      "2.daphne Importance sampling: posterior mean bias -0.538 | variance bias 7.920e-01\n",
      "2.daphne Importance sampling: posterior covariance of slope and bias variance bias -1.846e-01\n"
     ]
    }
   ],
   "source": [
    "for result in [\n",
    "    \"{} Importance sampling: posterior mean slope {:1.3f} | variance slope {:1.3e}\".format(fname,posterior_mean[0],posterior_variance[0]),\n",
    "    \"{} Importance sampling: posterior mean bias {:1.3f} | variance bias {:1.3e}\".format(fname,posterior_mean[1],posterior_variance[1]),\n",
    "    \"{} Importance sampling: posterior covariance of slope and bias variance bias {:1.3e}\".format(fname,covariance),\n",
    "    \n",
    "]:\n",
    "    print(result)"
   ]
  },
  {
   "cell_type": "markdown",
   "id": "dbaea16a",
   "metadata": {},
   "source": [
    "Numpy contains it's own method for computing this, and we can check it agrees with our results (where things are spelt out a bit more for learning purposes)."
   ]
  },
  {
   "cell_type": "code",
   "execution_count": 61,
   "id": "20f50715",
   "metadata": {},
   "outputs": [
    {
     "data": {
      "text/plain": [
       "array([[ 0.05376331, -0.18463133],\n",
       "       [-0.18463133,  0.79199928]])"
      ]
     },
     "execution_count": 61,
     "metadata": {},
     "output_type": "execute_result"
    }
   ],
   "source": [
    "np.cov(samples.T,aweights=probs,ddof=0)"
   ]
  },
  {
   "cell_type": "markdown",
   "id": "9636c2fe",
   "metadata": {},
   "source": [
    "### MH Gibbs\n",
    "5k samples in 21.3s implies 140k samples in 10 min"
   ]
  },
  {
   "cell_type": "code",
   "execution_count": 12,
   "id": "01bd1ae2",
   "metadata": {},
   "outputs": [
    {
     "data": {
      "text/plain": [
       "<module 'mh_gibbs' from '/Users/gw/repos/prob_prog/hw/hw3/mh_gibbs.py'>"
      ]
     },
     "execution_count": 12,
     "metadata": {},
     "output_type": "execute_result"
    }
   ],
   "source": [
    "import mh_gibbs \n",
    "from hmc import hmc_wrapper, compute_log_joint_prob\n",
    "importlib.reload(mh_gibbs)"
   ]
  },
  {
   "cell_type": "code",
   "execution_count": 13,
   "id": "756f2502",
   "metadata": {},
   "outputs": [
    {
     "data": {
      "text/plain": [
       "[{'observe-data': ['fn',\n",
       "   ['_', 'data', 'slope', 'bias'],\n",
       "   ['let',\n",
       "    ['xn', ['first', 'data']],\n",
       "    ['let',\n",
       "     ['yn', ['second', 'data']],\n",
       "     ['let',\n",
       "      ['zn', ['+', ['*', 'slope', 'xn'], 'bias']],\n",
       "      ['let',\n",
       "       ['dontcare9', ['observe', ['normal', 'zn', 1.0], 'yn']],\n",
       "       ['rest', ['rest', 'data']]]]]]]},\n",
       " {'V': ['observe3',\n",
       "   'observe6',\n",
       "   'observe4',\n",
       "   'observe7',\n",
       "   'sample2',\n",
       "   'sample1',\n",
       "   'observe8',\n",
       "   'observe5'],\n",
       "  'A': {'sample2': ['observe3',\n",
       "    'observe6',\n",
       "    'observe4',\n",
       "    'observe7',\n",
       "    'observe8',\n",
       "    'observe5'],\n",
       "   'sample1': ['observe3',\n",
       "    'observe6',\n",
       "    'observe4',\n",
       "    'observe7',\n",
       "    'observe8',\n",
       "    'observe5']},\n",
       "  'P': {'sample1': ['sample*', ['normal', 0.0, 10.0]],\n",
       "   'sample2': ['sample*', ['normal', 0.0, 10.0]],\n",
       "   'observe3': ['observe*',\n",
       "    ['normal', ['+', ['*', 'sample1', 1.0], 'sample2'], 1.0],\n",
       "    2.1],\n",
       "   'observe4': ['observe*',\n",
       "    ['normal', ['+', ['*', 'sample1', 2.0], 'sample2'], 1.0],\n",
       "    3.9],\n",
       "   'observe5': ['observe*',\n",
       "    ['normal', ['+', ['*', 'sample1', 3.0], 'sample2'], 1.0],\n",
       "    5.3],\n",
       "   'observe6': ['observe*',\n",
       "    ['normal', ['+', ['*', 'sample1', 4.0], 'sample2'], 1.0],\n",
       "    7.7],\n",
       "   'observe7': ['observe*',\n",
       "    ['normal', ['+', ['*', 'sample1', 5.0], 'sample2'], 1.0],\n",
       "    10.2],\n",
       "   'observe8': ['observe*',\n",
       "    ['normal', ['+', ['*', 'sample1', 6.0], 'sample2'], 1.0],\n",
       "    12.9]},\n",
       "  'Y': {'observe3': 2.1,\n",
       "   'observe4': 3.9,\n",
       "   'observe5': 5.3,\n",
       "   'observe6': 7.7,\n",
       "   'observe7': 10.2,\n",
       "   'observe8': 12.9}},\n",
       " ['vector', 'sample1', 'sample2']]"
      ]
     },
     "execution_count": 13,
     "metadata": {},
     "output_type": "execute_result"
    }
   ],
   "source": [
    "fname = '2.daphne' \n",
    "graph = graph_helper(fname)\n",
    "graph"
   ]
  },
  {
   "cell_type": "code",
   "execution_count": 14,
   "id": "46093a75",
   "metadata": {},
   "outputs": [
    {
     "name": "stdout",
     "output_type": "stream",
     "text": [
      "CPU times: user 10min 14s, sys: 2.36 s, total: 10min 16s\n",
      "Wall time: 10min 20s\n"
     ]
    }
   ],
   "source": [
    "%%time\n",
    "num_steps=140000\n",
    "return_list, samples_whole_graph = mh_gibbs.mh_gibbs_wrapper(graph,num_steps)"
   ]
  },
  {
   "cell_type": "code",
   "execution_count": 15,
   "id": "215372fd",
   "metadata": {},
   "outputs": [],
   "source": [
    "samples = np.array([sample.tolist() for sample in return_list])\n"
   ]
  },
  {
   "cell_type": "code",
   "execution_count": 16,
   "id": "b8b393b6",
   "metadata": {},
   "outputs": [
    {
     "data": {
      "image/png": "[encoded data removed]",
      "text/plain": [
       "<Figure size 432x216 with 2 Axes>"
      ]
     },
     "metadata": {
      "needs_background": "light"
     },
     "output_type": "display_data"
    }
   ],
   "source": [
    "burn_in = int(0.01*num_steps)\n",
    "df = pd.DataFrame(samples[burn_in:])\n",
    "df.columns = ['slope','bias']\n",
    "df['iteration'] = df.index\n",
    "tall = pd.melt(df, id_vars='iteration')\n",
    "\n",
    "g = sns.FacetGrid(tall, col=\"variable\")\n",
    "g.map(sns.histplot, \"value\")\n",
    "\n",
    "plt.suptitle('MH Gibbs | {}'.format(fname))\n",
    "plt.subplots_adjust(top=0.8)"
   ]
  },
  {
   "cell_type": "code",
   "execution_count": 17,
   "id": "a73d52d9",
   "metadata": {},
   "outputs": [],
   "source": [
    "posterior_mean = samples[burn_in:].mean(0)\n",
    "cov_matrix = np.cov(samples[burn_in:].T,ddof=0)\n",
    "posterior_variance = samples[burn_in:].var(0)\n",
    "covariance = cov_matrix[0,1]\n",
    "assert np.isclose(cov_matrix[0,0],posterior_variance[0])\n",
    "assert np.isclose(cov_matrix[1,1],posterior_variance[1])"
   ]
  },
  {
   "cell_type": "code",
   "execution_count": 18,
   "id": "aaff4517",
   "metadata": {},
   "outputs": [
    {
     "name": "stdout",
     "output_type": "stream",
     "text": [
      "2.daphne MH Gibbs: posterior mean slope 2.149 | variance slope 5.918e-02\n",
      "2.daphne MH Gibbs: posterior mean bias -0.515 | variance bias 8.965e-01\n",
      "2.daphne MH Gibbs: posterior covariance of slope and bias variance bias -2.070e-01\n"
     ]
    }
   ],
   "source": [
    "for result in [\n",
    "    \"{} MH Gibbs: posterior mean slope {:1.3f} | variance slope {:1.3e}\".format(fname,posterior_mean[0],posterior_variance[0]),\n",
    "    \"{} MH Gibbs: posterior mean bias {:1.3f} | variance bias {:1.3e}\".format(fname,posterior_mean[1],posterior_variance[1]),\n",
    "    \"{} MH Gibbs: posterior covariance of slope and bias variance bias {:1.3e}\".format(fname,covariance),\n",
    "    \n",
    "]:\n",
    "    print(result)"
   ]
  },
  {
   "cell_type": "code",
   "execution_count": 19,
   "id": "eef9f94d",
   "metadata": {},
   "outputs": [
    {
     "data": {
      "text/plain": [
       "Text(0.5, 0.98, '2.daphne | MH Gibbs \\n Sample trace')"
      ]
     },
     "execution_count": 19,
     "metadata": {},
     "output_type": "execute_result"
    },
    {
     "data": {
      "image/png": "[encoded data removed]",
      "text/plain": [
       "<Figure size 432x216 with 2 Axes>"
      ]
     },
     "metadata": {
      "needs_background": "light"
     },
     "output_type": "display_data"
    }
   ],
   "source": [
    "g = sns.FacetGrid(tall, col=\"variable\")\n",
    "g.map(plt.plot, \"iteration\",\"value\")\n",
    "\n",
    "plt.suptitle('MH Gibbs | {}'.format(fname))\n",
    "plt.subplots_adjust(top=0.75)\n",
    "plt.suptitle('{} | MH Gibbs \\n Sample trace'.format(fname))"
   ]
  },
  {
   "cell_type": "code",
   "execution_count": 20,
   "id": "52ee17d2",
   "metadata": {},
   "outputs": [],
   "source": [
    "G = graph[1]\n",
    "Y = G['Y']\n",
    "Y = {key:evaluate([value])[0] for key,value in Y.items()}\n",
    "P = G['P']"
   ]
  },
  {
   "cell_type": "code",
   "execution_count": 21,
   "id": "1b977329",
   "metadata": {},
   "outputs": [],
   "source": [
    "size = len(samples_whole_graph)\n",
    "jll = np.zeros(size)\n",
    "for idx in range(size):\n",
    "    jll[idx] = compute_log_joint_prob(samples_whole_graph[idx],Y,P)"
   ]
  },
  {
   "cell_type": "code",
   "execution_count": 22,
   "id": "1b99607e",
   "metadata": {},
   "outputs": [
    {
     "data": {
      "text/plain": [
       "Text(0.5, 1.0, '2.daphne | MH Gibbs \\n Joint density')"
      ]
     },
     "execution_count": 22,
     "metadata": {},
     "output_type": "execute_result"
    },
    {
     "data": {
      "image/png": "[encoded data removed]",
      "text/plain": [
       "<Figure size 432x288 with 1 Axes>"
      ]
     },
     "metadata": {
      "needs_background": "light"
     },
     "output_type": "display_data"
    }
   ],
   "source": [
    "pd.Series(jll).plot()\n",
    "plt.xlabel('Iteration (t)')\n",
    "plt.ylabel(r'$-\\log p(X=x_t,Y=y_t)$')\n",
    "plt.title('{} | MH Gibbs \\n Joint density'.format(fname))"
   ]
  },
  {
   "cell_type": "markdown",
   "id": "fe1bc64b",
   "metadata": {},
   "source": [
    "### HMC\n",
    "4.2s/ 200 samples implies 28.5k samples in 10 min \n",
    "1k samples in 21.3 s implies 28k samples"
   ]
  },
  {
   "cell_type": "code",
   "execution_count": 107,
   "id": "0aacbf3d",
   "metadata": {},
   "outputs": [],
   "source": [
    "fname = '2.daphne' \n",
    "graph = graph_helper(fname)"
   ]
  },
  {
   "cell_type": "code",
   "execution_count": 108,
   "id": "ff5fb554",
   "metadata": {},
   "outputs": [],
   "source": [
    "import hmc\n",
    "importlib.reload(hmc)\n",
    "from hmc import hmc_wrapper"
   ]
  },
  {
   "cell_type": "code",
   "execution_count": null,
   "id": "fefb1ce1",
   "metadata": {},
   "outputs": [],
   "source": [
    "%%time\n",
    "num_samples=28000//10\n",
    "return_list, samples_whole_graph = hmc_wrapper(graph,num_samples,T=10,epsilon=0.01)"
   ]
  },
  {
   "cell_type": "code",
   "execution_count": null,
   "id": "d3d31a1f",
   "metadata": {},
   "outputs": [],
   "source": [
    "samples = np.array([sample.tolist() for sample in return_list])"
   ]
  },
  {
   "cell_type": "code",
   "execution_count": null,
   "id": "95e38b14",
   "metadata": {},
   "outputs": [],
   "source": [
    "burn_in = int(0.01*num_samples)\n",
    "df = pd.DataFrame(samples[burn_in:])\n",
    "df.columns = ['slope','bias']\n",
    "df['iteration'] = df.index\n",
    "tall = pd.melt(df, id_vars='iteration')\n",
    "\n",
    "g = sns.FacetGrid(tall, col=\"variable\")\n",
    "g.map(sns.histplot, \"value\")\n",
    "\n",
    "plt.suptitle('HMC | {}'.format(fname))\n",
    "plt.subplots_adjust(top=0.8)\n"
   ]
  },
  {
   "cell_type": "code",
   "execution_count": null,
   "id": "fa3cd237",
   "metadata": {},
   "outputs": [],
   "source": [
    "posterior_mean = samples[burn_in:].mean(0)\n",
    "cov_matrix = np.cov(samples[burn_in:].T,ddof=0)\n",
    "posterior_variance = samples[burn_in:].var(0)\n",
    "covariance = cov_matrix[0,1]\n",
    "assert np.isclose(cov_matrix[0,0],posterior_variance[0])\n",
    "assert np.isclose(cov_matrix[1,1],posterior_variance[1])"
   ]
  },
  {
   "cell_type": "code",
   "execution_count": null,
   "id": "e8ee1755",
   "metadata": {},
   "outputs": [],
   "source": [
    "for result in [\n",
    "    \"{} HMC: posterior mean slope {:1.3f} | variance slope {:1.3e}\".format(fname,posterior_mean[0],posterior_variance[0]),\n",
    "    \"{} HMC: posterior mean bias {:1.3f} | variance bias {:1.3e}\".format(fname,posterior_mean[1],posterior_variance[1]),\n",
    "    \"{} HMC: posterior covariance of slope and bias variance bias {:1.3e}\".format(fname,covariance),\n",
    "    \n",
    "]:\n",
    "    print(result)"
   ]
  },
  {
   "cell_type": "code",
   "execution_count": null,
   "id": "c9b2a76f",
   "metadata": {},
   "outputs": [],
   "source": [
    "g = sns.FacetGrid(tall, col=\"variable\")\n",
    "g.map(plt.plot, \"iteration\",\"value\")\n",
    "\n",
    "plt.suptitle('HMC | {}'.format(fname))\n",
    "plt.subplots_adjust(top=0.75)\n",
    "plt.suptitle('{} | HMC \\n Sample trace'.format(fname))"
   ]
  },
  {
   "cell_type": "code",
   "execution_count": null,
   "id": "c694a4b5",
   "metadata": {},
   "outputs": [],
   "source": [
    "G = graph[1]\n",
    "Y = G['Y']\n",
    "Y = {key:evaluate([value])[0] for key,value in Y.items()}\n",
    "P = G['P']"
   ]
  },
  {
   "cell_type": "code",
   "execution_count": null,
   "id": "f4cd347b",
   "metadata": {},
   "outputs": [],
   "source": [
    "size = len(samples_whole_graph)\n",
    "jll = np.zeros(size)\n",
    "for idx in range(size):\n",
    "    jll[idx] = compute_log_joint_prob(samples_whole_graph[idx],Y,P)"
   ]
  },
  {
   "cell_type": "code",
   "execution_count": null,
   "id": "11a325ce",
   "metadata": {},
   "outputs": [],
   "source": [
    "pd.Series(jll).plot()\n",
    "plt.xlabel('Iteration (t)')\n",
    "plt.ylabel(r'$-\\log p(X=x_t,Y=y_t)$')\n",
    "plt.title('{} | HMC \\n Joint density'.format(fname))"
   ]
  }
 ],
 "metadata": {
  "kernelspec": {
   "display_name": "Python 3 (ipykernel)",
   "language": "python",
   "name": "python3"
  },
  "language_info": {
   "codemirror_mode": {
    "name": "ipython",
    "version": 3
   },
   "file_extension": ".py",
   "mimetype": "text/x-python",
   "name": "python",
   "nbconvert_exporter": "python",
   "pygments_lexer": "ipython3",
   "version": "3.9.0"
  }
 },
 "nbformat": 4,
 "nbformat_minor": 5
}
