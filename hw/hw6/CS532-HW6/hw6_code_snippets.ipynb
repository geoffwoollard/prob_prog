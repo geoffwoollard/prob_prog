{
 "cells": [
  {
   "cell_type": "markdown",
   "id": "4076cd44",
   "metadata": {},
   "source": [
    "# HW6\n",
    "Geoffrey Woollard\n",
    "\n",
    "My code lives in the repo https://github.com/geoffwoollard/prob_prog"
   ]
  },
  {
   "cell_type": "markdown",
   "id": "894d87a3",
   "metadata": {},
   "source": [
    "# Acknowledgments\n",
    "\n",
    "* discussions with Jordan Lovrod, Ilias Karimalis, Gaurav Bhatt\n",
    "* [starter code](https://github.com/MasoudMo/cpsc532w_hw/blob/master/HW6/smc.py) for `smc.resample_particles` and `smc.SMC` from Masoud Mokhtari"
   ]
  },
  {
   "cell_type": "code",
   "execution_count": 1,
   "id": "1bcf388c",
   "metadata": {},
   "outputs": [],
   "source": [
    "from dill.source import getsource, getsourcelines"
   ]
  },
  {
   "cell_type": "code",
   "execution_count": 2,
   "id": "3156f507",
   "metadata": {},
   "outputs": [
    {
     "name": "stdout",
     "output_type": "stream",
     "text": [
      "0 def resample_particles(particles, log_weights):\n",
      "1     \"\"\"\n",
      "2     Eq. 4.24 in course textbook (https://arxiv.org/abs/1809.10756v2, pp. 122)\n",
      "3     See Algorithm 15 in the course textbook, section 6.7 Sequantial Monte Carlo, p. 176\n",
      "4     \"\"\"\n",
      "5     log_weights = tensor(log_weights)\n",
      "6     n_particles = log_weights.size().numel()\n",
      "7     \n",
      "8     unnormalized_particle_weights = torch.exp(log_weights).detach().numpy()\n",
      "9 \n",
      "10     particle_idxs = np.random.choice(\n",
      "11         a=range(n_particles),\n",
      "12         size=n_particles,\n",
      "13         p=unnormalized_particle_weights/unnormalized_particle_weights.sum(),\n",
      "14         replace=True,\n",
      "15         )\n",
      "16     #print('particle_idxs',particle_idxs)\n",
      "17 \n",
      "18     new_particles = []\n",
      "19     for idx in range(n_particles):\n",
      "20         new_particles.append(particles[particle_idxs[idx]]) # TODO: copy?\n",
      "21 \n",
      "22     log_Z = np.log(np.sum(unnormalized_particle_weights)/n_particles)\n",
      "23     return log_Z, new_particles\n",
      "\n",
      "0 def SMC(n_particles, exp,do_log=False):\n",
      "1 \n",
      "2     particles = []\n",
      "3     weights = []\n",
      "4     logZs = []\n",
      "5     output = lambda x: x\n",
      "6 \n",
      "7     for i in range(n_particles):\n",
      "8 \n",
      "9         res = evaluate(exp, env=None)('addr_start', output)\n",
      "10         logW = 0.\n",
      "11 \n",
      "12 \n",
      "13         particles.append(res)\n",
      "14         weights.append(logW)\n",
      "15 \n",
      "16     #can't be done after the first step, under the address transform, so this should be fine:\n",
      "17     done = False\n",
      "18     smc_cnter = 0\n",
      "19     while not done:\n",
      "20         if do_log: print('In SMC step {}, Zs: '.format(smc_cnter), logZs)\n",
      "21         for i in range(n_particles): #Even though this can be parallelized, we run it serially\n",
      "22             res = run_until_observe_or_end(particles[i]) # particle i at next breakbpoint\n",
      "23             if 'done' in res[2]: #this checks if the calculation is done\n",
      "24                 particles[i] = res[0]\n",
      "25                 if i == 0:\n",
      "26                     done = True  #and enforces everything to be the same as the first particle\n",
      "27                     address = ''\n",
      "28                 else:\n",
      "29                     if not done: # triggered when i=0 was not done and i>0 was done\n",
      "30                         raise RuntimeError('Failed SMC, finished one calculation before the other')\n",
      "31             else:\n",
      "32                 #TODO: check particle addresses, and get weights and continuations\n",
      "33                 particles[i] = res\n",
      "34                 cont, args, sigma = res\n",
      "35                 assert 'observe' == sigma['type']\n",
      "36                 weights[i] = sigma['distribution'].log_prob(sigma['observed_constant'])\n",
      "37 \n",
      "38                  # check particle addresses\n",
      "39                 if i == 0:\n",
      "40                     break_point_address = sigma['address']\n",
      "41                 else:\n",
      "42                     if sigma['address'] != break_point_address:\n",
      "43                         assert False, 'particles at different break points'\n",
      "44 \n",
      "45 \n",
      "46 \n",
      "47         if not done:\n",
      "48             #resample and keep track of logZs\n",
      "49             logZn, particles = resample_particles(particles, weights)\n",
      "50             logZs.append(logZn)\n",
      "51         smc_cnter += 1\n",
      "52     logZ = sum(logZs)\n",
      "53     return logZ, particles\n",
      "\n"
     ]
    }
   ],
   "source": [
    "from smc import resample_particles, SMC\n",
    "\n",
    "list_of_programs = [resample_particles, SMC]\n",
    "\n",
    "for program in list_of_programs:\n",
    "    for line_number, function_line in enumerate(getsourcelines(program)[0]):\n",
    "        print(line_number, function_line,end='')\n",
    "    print()"
   ]
  }
 ],
 "metadata": {
  "kernelspec": {
   "display_name": "Python 3 (ipykernel)",
   "language": "python",
   "name": "python3"
  },
  "language_info": {
   "codemirror_mode": {
    "name": "ipython",
    "version": 3
   },
   "file_extension": ".py",
   "mimetype": "text/x-python",
   "name": "python",
   "nbconvert_exporter": "python",
   "pygments_lexer": "ipython3",
   "version": "3.9.0"
  }
 },
 "nbformat": 4,
 "nbformat_minor": 5
}
