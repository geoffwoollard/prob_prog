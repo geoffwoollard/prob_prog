{
 "cells": [
  {
   "cell_type": "markdown",
   "id": "86abcfa0",
   "metadata": {},
   "source": [
    "# Tests"
   ]
  },
  {
   "cell_type": "code",
   "execution_count": null,
   "id": "99b069cb",
   "metadata": {},
   "outputs": [],
   "source": [
    "import importlib\n",
    "import evaluator\n",
    "importlib.reload(evaluator)\n",
    "\n",
    "evaluator.run_deterministic_tests(use_cache=True)\n",
    "# evaluator.run_probabilistic_tests(use_cache=True)"
   ]
  },
  {
   "cell_type": "markdown",
   "id": "3e557a9e",
   "metadata": {},
   "source": [
    "# Programs"
   ]
  },
  {
   "cell_type": "code",
   "execution_count": 70,
   "id": "99178ce6",
   "metadata": {},
   "outputs": [
    {
     "name": "stdout",
     "output_type": "stream",
     "text": [
      "(let [mu (sample (normal 1 (sqrt 5)))\r\n",
      "           sigma (sqrt 2)\r\n",
      "           lik (normal mu sigma)]\r\n",
      "       (observe lik 8)\r\n",
      "       (observe lik 9)\r\n",
      "       mu)"
     ]
    }
   ],
   "source": [
    "from daphne import daphne\n",
    "import os, json\n",
    "\n",
    "def ast_helper(fname,directory):\n",
    "    sugared_fname = '../prob_prog/hw/hw6/CS532-HW6/{}/{}'.format(directory,fname)\n",
    "    desugared_ast_json_fname = '/Users/gw/repos/prob_prog/' + sugared_fname.replace('.daphne','.json')\n",
    "    if os.path.isfile(desugared_ast_json_fname):\n",
    "        with open(desugared_ast_json_fname) as f:\n",
    "            ast = json.load(f)\n",
    "    else:\n",
    "        #note: the sugared path that goes into daphne desugar should be with respect to the daphne path!\n",
    "        ast = daphne(['desugar-hoppl-cps', '-i', sugared_fname]) \n",
    "\n",
    "        with open(desugared_ast_json_fname, 'w') as f:\n",
    "            json.dump(ast, f)\n",
    "    return ast\n",
    "\n",
    "i=4\n",
    "fname = '{}.daphne'.format(i)\n",
    "exp = ast_helper(fname,directory='programs')\n",
    "%cat programs/4.daphne"
   ]
  },
  {
   "cell_type": "code",
   "execution_count": null,
   "id": "dc83f2ca",
   "metadata": {},
   "outputs": [],
   "source": [
    "from evaluator import evaluate, sample_from_prior"
   ]
  },
  {
   "cell_type": "code",
   "execution_count": null,
   "id": "34d08f5d",
   "metadata": {},
   "outputs": [],
   "source": [
    "sample_from_prior(exp)"
   ]
  },
  {
   "cell_type": "code",
   "execution_count": null,
   "id": "978bd2f3",
   "metadata": {},
   "outputs": [],
   "source": [
    "output = lambda x: x\n",
    "res =  evaluate(exp, env=None)('addr_start', output)\n",
    "cont, args, sigma = res\n",
    "res"
   ]
  },
  {
   "cell_type": "code",
   "execution_count": null,
   "id": "cfe91062",
   "metadata": {},
   "outputs": [],
   "source": [
    "cont, args, sigma = res\n",
    "res = cont(*args)\n",
    "res, type(res)\n"
   ]
  },
  {
   "cell_type": "markdown",
   "id": "904ed620",
   "metadata": {},
   "source": [
    "# Importance sampling"
   ]
  },
  {
   "cell_type": "code",
   "execution_count": 67,
   "id": "04d581a5",
   "metadata": {},
   "outputs": [
    {
     "name": "stdout",
     "output_type": "stream",
     "text": [
      "\n",
      "\n",
      "\n",
      "Sample of prior of program 1: 329\n",
      "covariance:  10136.326214381439\n",
      "posterior mean: [100.27679]\n",
      "\n",
      "\n",
      "\n",
      "Sample of prior of program 2: 0.7192243337631226\n",
      "covariance:  0.8215114511659168\n",
      "posterior mean: [7.228802]\n",
      "\n",
      "\n",
      "\n",
      "Sample of prior of program 3: tensor([1, 2, 2, 0, 1, 2, 2, 2, 2, 1, 0, 1, 2, 2, 2, 2, 2])\n",
      "covariance:  [[ 6.23066341e-01  2.00989827e-01 -1.81050433e-02 -1.65233088e-02\n",
      "  -1.34005430e-03 -2.97007979e-02 -2.54959391e-02 -1.81702169e-02\n",
      "   1.23129709e-02 -1.84960769e-01 -3.12095056e-02 -3.13152619e-02\n",
      "   6.20650097e-02  3.61935019e-02 -7.35044954e-04 -4.09876390e-02\n",
      "   7.94255037e-02]\n",
      " [ 2.00989827e-01  6.50417323e-01  4.71642744e-02  4.23439449e-02\n",
      "   3.13351602e-04 -4.11443381e-02 -6.25577110e-02 -3.90557418e-04\n",
      "  -1.54502784e-02 -2.26365346e-01 -1.21253991e-02 -8.61383717e-02\n",
      "   4.97445048e-03  2.43736806e-02  7.62757319e-02 -6.23329955e-02\n",
      "   8.97188891e-02]\n",
      " [-1.81050433e-02  4.71642744e-02  3.14683410e-01  1.43065055e-01\n",
      "  -3.91723602e-04  3.33573734e-02  1.29129921e-02 -7.10212536e-04\n",
      "   1.44847533e-02  2.98666882e-04 -6.15223903e-03 -4.62244610e-02\n",
      "   4.51043167e-02  6.23206916e-02 -1.33685841e-02  1.32432903e-02\n",
      "   6.65002756e-02]\n",
      " [-1.65233088e-02  4.23439449e-02  1.43065055e-01  5.85679949e-01\n",
      "   4.83780887e-03  6.13669909e-03  3.41304401e-03  3.10150489e-02\n",
      "  -5.66358885e-02  1.33136594e-01  1.48525390e-02 -9.62678058e-02\n",
      "   5.68469504e-02  5.99381094e-02 -4.76821377e-02 -4.04371345e-02\n",
      "   7.02983477e-02]\n",
      " [-1.34005430e-03  3.13351602e-04 -3.91723602e-04  4.83780887e-03\n",
      "   1.83434814e-02  6.25627218e-03 -2.04758321e-03 -2.63934810e-03\n",
      "  -1.41566694e-03 -2.38336282e-04 -5.05001578e-04  1.18186940e-03\n",
      "  -2.04430893e-03 -1.58996492e-04 -1.11416522e-03 -2.45038491e-03\n",
      "  -3.61626851e-03]\n",
      " [-2.97007979e-02 -4.11443381e-02  3.33573734e-02  6.13669909e-03\n",
      "   6.25627218e-03  6.18424763e-01  4.24548941e-02  3.62945828e-02\n",
      "   1.71580435e-02 -4.92730461e-02  4.33371246e-03 -2.34794635e-02\n",
      "  -3.04906670e-02  1.51491306e-02 -3.52912703e-04 -9.52486486e-03\n",
      "  -3.53295070e-03]\n",
      " [-2.54959391e-02 -6.25577110e-02  1.29129921e-02  3.41304401e-03\n",
      "  -2.04758321e-03  4.24548941e-02  2.95279697e-01  4.71106770e-02\n",
      "  -9.79387279e-03 -2.59472941e-03 -2.15416499e-02  1.90989169e-02\n",
      "   1.53291383e-02  1.75297576e-03  1.17003569e-02  1.70593141e-02\n",
      "   1.72006106e-02]\n",
      " [-1.81702169e-02 -3.90557418e-04 -7.10212536e-04  3.10150489e-02\n",
      "  -2.63934810e-03  3.62945828e-02  4.71106770e-02  2.91364703e-01\n",
      "   1.07348919e-01  4.03639575e-02 -2.07383884e-02 -6.46531070e-02\n",
      "   2.43295640e-03 -6.72023619e-03 -2.24149608e-03 -3.46999180e-02\n",
      "   1.38371024e-02]\n",
      " [ 1.23129709e-02 -1.54502784e-02  1.44847533e-02 -5.66358885e-02\n",
      "  -1.41566694e-03  1.71580435e-02 -9.79387279e-03  1.07348919e-01\n",
      "   4.00132076e-01 -4.81395277e-02 -2.21706017e-02 -6.78986055e-02\n",
      "   7.72820163e-03 -7.02279067e-03 -8.30715074e-03 -3.02977509e-02\n",
      "   4.85310245e-03]\n",
      " [-1.84960769e-01 -2.26365346e-01  2.98666882e-04  1.33136594e-01\n",
      "  -2.38336282e-04 -4.92730461e-02 -2.59472941e-03  4.03639575e-02\n",
      "  -4.81395277e-02  8.83877416e-01 -7.97643740e-03  8.76335843e-02\n",
      "  -4.30728892e-02  6.78274857e-02 -4.91933377e-02  9.95830183e-02\n",
      "  -1.42371634e-01]\n",
      " [-3.12095056e-02 -1.21253991e-02 -6.15223903e-03  1.48525390e-02\n",
      "  -5.05001578e-04  4.33371246e-03 -2.15416499e-02 -2.07383884e-02\n",
      "  -2.21706017e-02 -7.97643740e-03  3.29905584e-01  2.50516346e-02\n",
      "  -2.31180219e-02  1.60618768e-03  7.50185824e-04 -1.81155535e-02\n",
      "  -3.73508922e-02]\n",
      " [-3.13152619e-02 -8.61383717e-02 -4.62244610e-02 -9.62678058e-02\n",
      "   1.18186940e-03 -2.34794635e-02  1.90989169e-02 -6.46531070e-02\n",
      "  -6.78986055e-02  8.76335843e-02  2.50516346e-02  5.64737194e-01\n",
      "   7.19325396e-02 -3.52813690e-03 -5.14966249e-04  2.57178831e-02\n",
      "  -6.98308979e-02]\n",
      " [ 6.20650097e-02  4.97445048e-03  4.51043167e-02  5.68469504e-02\n",
      "  -2.04430893e-03 -3.04906670e-02  1.53291383e-02  2.43295640e-03\n",
      "   7.72820163e-03 -4.30728892e-02 -2.31180219e-02  7.19325396e-02\n",
      "   3.48460113e-01  8.30174075e-02  3.00820094e-02  2.24109138e-02\n",
      "  -5.91389855e-03]\n",
      " [ 3.61935019e-02  2.43736806e-02  6.23206916e-02  5.99381094e-02\n",
      "  -1.58996492e-04  1.51491306e-02  1.75297576e-03 -6.72023619e-03\n",
      "  -7.02279067e-03  6.78274857e-02  1.60618768e-03 -3.52813690e-03\n",
      "   8.30174075e-02  3.80251859e-01  5.69587955e-02  2.85363324e-03\n",
      "  -7.19237559e-02]\n",
      " [-7.35044954e-04  7.62757319e-02 -1.33685841e-02 -4.76821377e-02\n",
      "  -1.11416522e-03 -3.52912703e-04  1.17003569e-02 -2.24149608e-03\n",
      "  -8.30715074e-03 -4.91933377e-02  7.50185824e-04 -5.14966249e-04\n",
      "   3.00820094e-02  5.69587955e-02  2.99451145e-01  7.92670510e-02\n",
      "   1.60142377e-02]\n",
      " [-4.09876390e-02 -6.23329955e-02  1.32432903e-02 -4.04371345e-02\n",
      "  -2.45038491e-03 -9.52486486e-03  1.70593141e-02 -3.46999180e-02\n",
      "  -3.02977509e-02  9.95830183e-02 -1.81155535e-02  2.57178831e-02\n",
      "   2.24109138e-02  2.85363324e-03  7.92670510e-02  4.20358815e-01\n",
      "   1.71813078e-01]\n",
      " [ 7.94255037e-02  8.97188891e-02  6.65002756e-02  7.02983477e-02\n",
      "  -3.61626851e-03 -3.53295070e-03  1.72006106e-02  1.38371024e-02\n",
      "   4.85310245e-03 -1.42371634e-01 -3.73508922e-02 -6.98308979e-02\n",
      "  -5.91389855e-03 -7.19237559e-02  1.60142377e-02  1.71813078e-01\n",
      "   7.12934689e-01]]\n",
      "posterior mean: [1.5319946  1.5547674  1.7098908  1.4710035  1.0183778  1.3853832\n",
      " 1.7599168  1.7430742  1.6866918  1.2280873  0.17841981 1.599764\n",
      " 1.7429208  1.6662378  1.6963766  1.6200405  1.0945902 ]\n",
      "\n",
      "\n",
      "\n",
      "Sample of prior of program 4: 2.3895440101623535\n",
      "covariance:  0.7891136847056954\n",
      "posterior mean: [7.2648787]\n"
     ]
    }
   ],
   "source": [
    "%%bash\n",
    "python importance_sampling.py"
   ]
  },
  {
   "cell_type": "markdown",
   "id": "5f837402",
   "metadata": {},
   "source": [
    "## develop"
   ]
  },
  {
   "cell_type": "code",
   "execution_count": 22,
   "id": "560b7329",
   "metadata": {},
   "outputs": [],
   "source": [
    "from torch import tensor\n",
    "import torch\n",
    "from evaluator import evaluate"
   ]
  },
  {
   "cell_type": "code",
   "execution_count": 98,
   "id": "b1e26e22",
   "metadata": {},
   "outputs": [],
   "source": [
    "output = lambda x: x\n",
    "res =  evaluate(exp, env=None)('addr_start', output)"
   ]
  },
  {
   "cell_type": "code",
   "execution_count": 5,
   "id": "61b12c0e",
   "metadata": {},
   "outputs": [],
   "source": [
    "logW = tensor(0.0)\n",
    "while type(res) is tuple:\n",
    "    cont, args, sigma = res\n",
    "    if sigma['type'] == 'observe':\n",
    "        distribution = sigma['distribution']\n",
    "        observed_constant = sigma['observed_constant']\n",
    "        logW += distribution.log_prob(sigma['observed_constant'])\n",
    "        \n",
    "    res = cont(*args)"
   ]
  },
  {
   "cell_type": "code",
   "execution_count": 72,
   "id": "eb60d5f7",
   "metadata": {},
   "outputs": [
    {
     "data": {
      "text/plain": [
       "(tensor(-55.5383, grad_fn=<AddBackward0>), tensor(-1.7842))"
      ]
     },
     "execution_count": 72,
     "metadata": {},
     "output_type": "execute_result"
    }
   ],
   "source": [
    "def get_IS_sample(exp):\n",
    "    #init calc:\n",
    "    output = lambda x: x\n",
    "    res =  evaluate(exp, env=None)('addr_start', output)\n",
    "    #TODO : hint, \"get_sample_from_prior\" as a basis for your solution\n",
    "\n",
    "    logW = tensor(0.0)\n",
    "    while type(res) is tuple:\n",
    "        cont, args, sigma = res\n",
    "        if sigma['type'] == 'observe':\n",
    "            distribution = sigma['distribution']\n",
    "            observed_constant = sigma['observed_constant']\n",
    "            logW += distribution.log_prob(sigma['observed_constant']).item()\n",
    "        res = cont(*args)\n",
    "        \n",
    "    return logW, res\n",
    "\n",
    "logW, res = get_IS_sample(exp)\n",
    "logW, res"
   ]
  },
  {
   "cell_type": "code",
   "execution_count": 73,
   "id": "8bba4dd4",
   "metadata": {},
   "outputs": [],
   "source": [
    "num_samples = 10000\n",
    "\n",
    "log_weights = []\n",
    "values = []\n",
    "for i in range(num_samples):\n",
    "    logW, sample = get_IS_sample(exp)\n",
    "    log_weights.append(logW)\n",
    "    values.append(sample)\n"
   ]
  },
  {
   "cell_type": "code",
   "execution_count": 74,
   "id": "9688cdba",
   "metadata": {},
   "outputs": [
    {
     "data": {
      "text/plain": [
       "tensor([-62.8138, -33.0696, -33.2654,  ..., -25.6846, -50.9490, -19.4317])"
      ]
     },
     "execution_count": 74,
     "metadata": {},
     "output_type": "execute_result"
    }
   ],
   "source": [
    "log_weights = tensor(log_weights)\n",
    "log_weights"
   ]
  },
  {
   "cell_type": "code",
   "execution_count": 35,
   "id": "eef121fe",
   "metadata": {},
   "outputs": [
    {
     "data": {
      "text/plain": [
       "tensor([[ 2.7904],\n",
       "        [-1.1711],\n",
       "        [ 0.3792]])"
      ]
     },
     "execution_count": 35,
     "metadata": {},
     "output_type": "execute_result"
    }
   ],
   "source": [
    "values = torch.stack(values)\n",
    "values = values.reshape((values.shape[0],values.size().numel()//values.shape[0]))\n",
    "values"
   ]
  },
  {
   "cell_type": "code",
   "execution_count": 52,
   "id": "be8c5800",
   "metadata": {},
   "outputs": [
    {
     "data": {
      "text/plain": [
       "tensor(-20.0542, dtype=torch.float64)"
      ]
     },
     "execution_count": 52,
     "metadata": {},
     "output_type": "execute_result"
    }
   ],
   "source": [
    "log_Z = torch.logsumexp(log_weights,0) - torch.log(torch.tensor(log_weights.shape[0],dtype=float))\n",
    "log_Z"
   ]
  },
  {
   "cell_type": "code",
   "execution_count": 50,
   "id": "1012361a",
   "metadata": {},
   "outputs": [
    {
     "data": {
      "text/plain": [
       "tensor(0.0986)"
      ]
     },
     "execution_count": 50,
     "metadata": {},
     "output_type": "execute_result"
    }
   ],
   "source": [
    "torch.logsumexp(tensor([-1.,-1.,-1.]),0) # converts log_probs to probs, then sums, then logs https://pytorch.org/docs/stable/generated/torch.logsumexp.html\n",
    "# the product sum of the probs in log space. ie joint prob of iid pieces\n",
    "\n"
   ]
  },
  {
   "cell_type": "code",
   "execution_count": 54,
   "id": "e9e197cd",
   "metadata": {},
   "outputs": [
    {
     "data": {
      "text/plain": [
       "array([[ 8.3713150e+00],\n",
       "       [-2.0643113e-13],\n",
       "       [ 6.5225954e-08]], dtype=float32)"
      ]
     },
     "execution_count": 54,
     "metadata": {},
     "output_type": "execute_result"
    }
   ],
   "source": [
    "log_norm_weights = log_weights - log_Z\n",
    "weights = torch.exp(log_norm_weights).detach().numpy()\n",
    "weighted_samples = (torch.exp(log_norm_weights).reshape((-1,1))*values.float()).detach().numpy()\n",
    "weighted_samples"
   ]
  },
  {
   "cell_type": "markdown",
   "id": "6f10b7e0",
   "metadata": {},
   "source": [
    "# SMC"
   ]
  },
  {
   "cell_type": "code",
   "execution_count": 152,
   "id": "965f1924",
   "metadata": {},
   "outputs": [
    {
     "data": {
      "text/plain": [
       "<module 'smc' from '/Users/gw/repos/prob_prog/hw/hw6/CS532-HW6/smc.py'>"
      ]
     },
     "execution_count": 152,
     "metadata": {},
     "output_type": "execute_result"
    }
   ],
   "source": [
    "import smc\n",
    "import importlib\n",
    "importlib.reload(smc)"
   ]
  },
  {
   "cell_type": "code",
   "execution_count": null,
   "id": "4f265d68",
   "metadata": {},
   "outputs": [
    {
     "name": "stdout",
     "output_type": "stream",
     "text": [
      "In SMC step 0, Zs:  []\n"
     ]
    }
   ],
   "source": [
    "%%time\n",
    "logZ, particles = smc.SMC(100000,exp)"
   ]
  },
  {
   "cell_type": "code",
   "execution_count": null,
   "id": "08ac703c",
   "metadata": {},
   "outputs": [],
   "source": [
    "samples_array = np.array([sample.item() for sample in particles])\n",
    "samples_array.mean(), samples_array.var()"
   ]
  },
  {
   "cell_type": "code",
   "execution_count": null,
   "id": "a129ab11",
   "metadata": {},
   "outputs": [],
   "source": []
  },
  {
   "cell_type": "markdown",
   "id": "f7ba417b",
   "metadata": {},
   "source": [
    "## develop"
   ]
  },
  {
   "cell_type": "code",
   "execution_count": 89,
   "id": "d3b3a514",
   "metadata": {},
   "outputs": [
    {
     "data": {
      "text/plain": [
       "array([3215, 7634, 1280, ...,  188, 6755, 5700])"
      ]
     },
     "execution_count": 89,
     "metadata": {},
     "output_type": "execute_result"
    }
   ],
   "source": [
    "import numpy as np"
   ]
  },
  {
   "cell_type": "code",
   "execution_count": 90,
   "id": "29ffea93",
   "metadata": {},
   "outputs": [
    {
     "name": "stderr",
     "output_type": "stream",
     "text": [
      "/var/folders/bg/cb0cr7ls61352lhy50167r0c0000gn/T/ipykernel_4547/222294140.py:1: UserWarning: To copy construct from a tensor, it is recommended to use sourceTensor.clone().detach() or sourceTensor.clone().detach().requires_grad_(True), rather than torch.tensor(sourceTensor).\n",
      "  log_weights = tensor(log_weights)\n"
     ]
    }
   ],
   "source": [
    "n_particles = log_weights.size().numel()\n",
    "log_weights = tensor(log_weights)\n",
    "log_Z = torch.logsumexp(log_weights,0) #- torch.log(torch.tensor(log_weights.shape[0],dtype=float)) # second piece normalizes to num_samples, instead of one (1)?\n",
    "log_norm_weights = log_weights - log_Z\n",
    "particle_weights = torch.exp(log_norm_weights).detach().numpy()\n",
    "assert np.isclose(weights.sum(),1)\n",
    "particle_idxs = np.random.choice(a=range(n_particles),\n",
    "                 size=n_particles,\n",
    "                 p=weights,\n",
    "                replace=True)\n",
    "\n",
    "new_particles = []\n",
    "for idx in range(n_particles):\n",
    "    new_particles[idx] = particles[particle_idxs[idx]]\n",
    "    \n",
    "    \n",
    "    "
   ]
  },
  {
   "cell_type": "code",
   "execution_count": 96,
   "id": "4d6bedaa",
   "metadata": {},
   "outputs": [],
   "source": [
    "from smc import run_until_observe_or_end"
   ]
  },
  {
   "cell_type": "code",
   "execution_count": 100,
   "id": "a051c941",
   "metadata": {},
   "outputs": [
    {
     "data": {
      "text/plain": [
       "(<evaluator.Procedure at 0x1373912e0>,\n",
       " [tensor(8)],\n",
       " {'type': 'observe',\n",
       "  'address': 'addr_start_2_3_4_8',\n",
       "  'distribution': Normal(loc: -1.3790202140808105, scale: 1.4142135381698608),\n",
       "  'observed_constant': tensor(8)})"
      ]
     },
     "execution_count": 100,
     "metadata": {},
     "output_type": "execute_result"
    }
   ],
   "source": [
    "res = run_until_observe_or_end(res)\n",
    "cont, args, sigma = res\n",
    "res"
   ]
  },
  {
   "cell_type": "code",
   "execution_count": 107,
   "id": "96b2c259",
   "metadata": {},
   "outputs": [
    {
     "data": {
      "text/plain": [
       "(<evaluator.Procedure at 0x1373912e0>,\n",
       " [tensor(8)],\n",
       " {'type': 'observe',\n",
       "  'address': 'addr_start_2_3_4_8',\n",
       "  'distribution': Normal(loc: -1.3790202140808105, scale: 1.4142135381698608),\n",
       "  'observed_constant': tensor(8)})"
      ]
     },
     "execution_count": 107,
     "metadata": {},
     "output_type": "execute_result"
    }
   ],
   "source": [
    "res"
   ]
  },
  {
   "cell_type": "code",
   "execution_count": 102,
   "id": "bc24e7b5",
   "metadata": {},
   "outputs": [
    {
     "data": {
      "text/plain": [
       "-23.257019"
      ]
     },
     "execution_count": 102,
     "metadata": {},
     "output_type": "execute_result"
    }
   ],
   "source": [
    "weights[i] = sigma['distribution'].log_prob(sigma['observed_constant'])\n",
    "weights[i]"
   ]
  },
  {
   "cell_type": "code",
   "execution_count": 110,
   "id": "4e0d783c",
   "metadata": {},
   "outputs": [
    {
     "data": {
      "text/plain": [
       "6"
      ]
     },
     "execution_count": 110,
     "metadata": {},
     "output_type": "execute_result"
    }
   ],
   "source": [
    "sum([1,2,3])"
   ]
  }
 ],
 "metadata": {
  "kernelspec": {
   "display_name": "Python 3 (ipykernel)",
   "language": "python",
   "name": "python3"
  },
  "language_info": {
   "codemirror_mode": {
    "name": "ipython",
    "version": 3
   },
   "file_extension": ".py",
   "mimetype": "text/x-python",
   "name": "python",
   "nbconvert_exporter": "python",
   "pygments_lexer": "ipython3",
   "version": "3.9.0"
  }
 },
 "nbformat": 4,
 "nbformat_minor": 5
}
