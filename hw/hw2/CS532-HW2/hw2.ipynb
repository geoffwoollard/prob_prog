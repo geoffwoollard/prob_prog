{
 "cells": [
  {
   "cell_type": "code",
   "execution_count": 53,
   "id": "a0cddd82",
   "metadata": {},
   "outputs": [
    {
     "name": "stdout",
     "output_type": "stream",
     "text": [
      "/Users/gw/repos/prob_prog/hw/hw2/CS532-HW2\n"
     ]
    }
   ],
   "source": [
    "import torch\n",
    "%cd /Users/gw/repos/prob_prog/hw/hw2/CS532-HW2/\n",
    "from tests import is_tol"
   ]
  },
  {
   "cell_type": "code",
   "execution_count": 35,
   "id": "c3168b8b",
   "metadata": {},
   "outputs": [],
   "source": [
    "two_arg_primitives = {\n",
    "    '+':torch.add,\n",
    "    '-':torch.subtract,\n",
    "    '*':torch.multiply,\n",
    "    '/':torch.divide\n",
    "    }\n",
    "one_arg_primitives = {\n",
    "    'sqrt':torch.sqrt\n",
    "}"
   ]
  },
  {
   "cell_type": "code",
   "execution_count": 4,
   "id": "b8d6c168",
   "metadata": {},
   "outputs": [],
   "source": [
    "from daphne import daphne\n",
    "from tests import is_tol, run_prob_test,load_truth\n"
   ]
  },
  {
   "cell_type": "code",
   "execution_count": 66,
   "id": "ce8f58fd",
   "metadata": {},
   "outputs": [
    {
     "name": "stdout",
     "output_type": "stream",
     "text": [
      "/Users/gw/repos/daphne\n"
     ]
    }
   ],
   "source": [
    "%cd /Users/gw/repos/daphne\n",
    "for i in range(1,14):\n",
    "    fname = '../prob_prog/hw/hw2/CS532-HW2/programs/tests/deterministic/test_{}.daphne'.format(i)\n",
    "    ast = daphne(['desugar', '-i', fname])\n",
    "    with open(fname.replace('.daphne','.json'), 'w') as f:\n",
    "        json.dump(ast, f)"
   ]
  },
  {
   "cell_type": "code",
   "execution_count": 71,
   "id": "bdfd107f",
   "metadata": {},
   "outputs": [],
   "source": [
    "def base_case(e,s,l):\n",
    "    if e[0] in two_arg_primitives.keys():\n",
    "        e0,arg1,arg2 = e\n",
    "        E = two_arg_primitives[e0](make_tensor(arg1),make_tensor(arg2))\n",
    "    elif e[0] in one_arg_primitives.keys():\n",
    "        e0,arg1 = e\n",
    "        E = one_arg_primitives[e0](make_tensor(arg1))\n",
    "    return E,s"
   ]
  },
  {
   "cell_type": "code",
   "execution_count": 44,
   "id": "5697728f",
   "metadata": {},
   "outputs": [],
   "source": [
    "def make_tensor(v):\n",
    "    return torch.tensor(v)"
   ]
  },
  {
   "cell_type": "code",
   "execution_count": 64,
   "id": "f5c0703d",
   "metadata": {},
   "outputs": [
    {
     "data": {
      "text/plain": [
       "True"
      ]
     },
     "execution_count": 64,
     "metadata": {},
     "output_type": "execute_result"
    }
   ],
   "source": [
    "is_tol(base_case(e,1,1)[0],1.4142136)\n"
   ]
  },
  {
   "cell_type": "code",
   "execution_count": 85,
   "id": "de006b00",
   "metadata": {},
   "outputs": [],
   "source": [
    "with open('/Users/gw/repos/prob_prog/hw/hw2/CS532-HW2/programs/tests/deterministic/test_1.json') as f:\n",
    "  ast = json.load(f)"
   ]
  },
  {
   "cell_type": "code",
   "execution_count": 72,
   "id": "daa6b907",
   "metadata": {},
   "outputs": [
    {
     "data": {
      "text/plain": [
       "(tensor(7), 1)"
      ]
     },
     "execution_count": 72,
     "metadata": {},
     "output_type": "execute_result"
    }
   ],
   "source": [
    "e=data[0]\n",
    "s,l=1,1\n",
    "base_case(e,s,l)"
   ]
  },
  {
   "cell_type": "code",
   "execution_count": 90,
   "id": "f25a58cf",
   "metadata": {},
   "outputs": [],
   "source": [
    "def evaluate_program(ast):\n",
    "    \"\"\"Evaluate a program as desugared by daphne, generate a sample from the prior\n",
    "    Args:\n",
    "        ast: json FOPPL program\n",
    "    Returns: sample from the prior of ast\n",
    "    \"\"\"\n",
    "\n",
    "    # constants\n",
    "    s,l = {},{}\n",
    "    c = set(one_arg_primitives.keys()).union(set(two_arg_primitives.keys()))\n",
    "    e = ast[0]\n",
    "    \n",
    "    if e[0] in c:\n",
    "        E,s = base_case(e,s,l)\n",
    "        return E,s\n",
    "\n",
    "    return None"
   ]
  },
  {
   "cell_type": "code",
   "execution_count": 92,
   "id": "9e742070",
   "metadata": {},
   "outputs": [],
   "source": [
    "ret, sig = evaluate_program(ast)"
   ]
  },
  {
   "cell_type": "code",
   "execution_count": 103,
   "id": "28141d4d",
   "metadata": {},
   "outputs": [],
   "source": [
    "def run_deterministic_tests():\n",
    "    \n",
    "    for i in [1,2]:\n",
    "        #note: this path should be with respect to the daphne path!\n",
    "        ast = daphne(['desugar', '-i', '../prob_prog/hw/hw2/CS532-HW2/programs/tests/deterministic/test_{}.daphne'.format(i)])\n",
    "        truth = load_truth('../prob_prog/hw/hw2/CS532-HW2/programs/tests/deterministic/test_{}.truth'.format(i))\n",
    "        ret, sig = evaluate_program(ast)\n",
    "        try:\n",
    "            assert(is_tol(ret, truth))\n",
    "        except AssertionError:\n",
    "            raise AssertionError('return value {} is not equal to truth {} for exp {}'.format(ret,truth,ast))\n",
    "        \n",
    "        print('Test %i passed'%i)\n",
    "        \n",
    "    print('All deterministic tests passed')\n"
   ]
  },
  {
   "cell_type": "code",
   "execution_count": 104,
   "id": "08df4478",
   "metadata": {},
   "outputs": [
    {
     "name": "stdout",
     "output_type": "stream",
     "text": [
      "/Users/gw/repos/daphne\n",
      "Test 1 passed\n",
      "Test 2 passed\n",
      "All deterministic tests passed\n"
     ]
    }
   ],
   "source": [
    "%cd /Users/gw/repos/daphne\n",
    "run_deterministic_tests()"
   ]
  },
  {
   "cell_type": "code",
   "execution_count": 100,
   "id": "7d98ba0c",
   "metadata": {},
   "outputs": [
    {
     "name": "stdout",
     "output_type": "stream",
     "text": [
      "arithmetic_circuit.daphne  \u001b[34mhomework2\u001b[m\u001b[m/\r\n",
      "convolution.daphne\r\n"
     ]
    }
   ],
   "source": [
    "%pwd\n",
    "%ls programs\n",
    "#/tests/deterministic/test_1.truth"
   ]
  }
 ],
 "metadata": {
  "kernelspec": {
   "display_name": "Python 3 (ipykernel)",
   "language": "python",
   "name": "python3"
  },
  "language_info": {
   "codemirror_mode": {
    "name": "ipython",
    "version": 3
   },
   "file_extension": ".py",
   "mimetype": "text/x-python",
   "name": "python",
   "nbconvert_exporter": "python",
   "pygments_lexer": "ipython3",
   "version": "3.9.7"
  }
 },
 "nbformat": 4,
 "nbformat_minor": 5
}
